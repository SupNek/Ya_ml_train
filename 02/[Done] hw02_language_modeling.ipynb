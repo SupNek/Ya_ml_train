{
 "cells": [
  {
   "cell_type": "markdown",
   "metadata": {
    "id": "iRaPexR5V-8w"
   },
   "source": [
    "## Домашнее задание №2\n",
    "### Генерация поэзии с помощью нейронных сетей: шаг 1\n",
    "##### Автор: [Радослав Нейчев](https://www.linkedin.com/in/radoslav-neychev/), @neychev\n",
    "\n",
    "Ваша основная задача: научиться генерироват стихи с помощью простой рекуррентной нейронной сети (Vanilla RNN). В качестве корпуса текстов для обучения будет выступать роман в стихах \"Евгений Онегин\" Александра Сергеевича Пушкина."
   ]
  },
  {
   "cell_type": "code",
   "execution_count": 7,
   "metadata": {
    "id": "pcnd9WUoV-8y"
   },
   "outputs": [],
   "source": [
    "# do not change the code in the block below\n",
    "# __________start of block__________\n",
    "import string\n",
    "import os\n",
    "from random import sample\n",
    "import random\n",
    "import numpy as np\n",
    "import torch, torch.nn as nn\n",
    "import torch.nn.functional as F\n",
    "\n",
    "from IPython.display import clear_output\n",
    "\n",
    "import matplotlib.pyplot as plt\n",
    "# %matplotlib inline\n",
    "# __________end of block__________"
   ]
  },
  {
   "cell_type": "code",
   "execution_count": 8,
   "metadata": {
    "id": "KZuGrTFfV-8z"
   },
   "outputs": [
    {
     "name": "stdout",
     "output_type": "stream",
     "text": [
      "cuda device is available\n"
     ]
    }
   ],
   "source": [
    "# do not change the code in the block below\n",
    "# __________start of block__________\n",
    "device = torch.device(\"cuda\") if torch.cuda.is_available() else torch.device(\"cpu\")\n",
    "print(\"{} device is available\".format(device))\n",
    "# __________end of block__________"
   ]
  },
  {
   "cell_type": "markdown",
   "metadata": {
    "id": "MPenWOy01Ooa",
    "outputId": "a92e8e33-e009-4bd4-ac12-3b1b5e1cd3f2"
   },
   "source": [
    "#### 1. Загрузка данных."
   ]
  },
  {
   "cell_type": "code",
   "execution_count": 9,
   "metadata": {
    "id": "b27KtdMRV-80"
   },
   "outputs": [],
   "source": [
    "# do not change the code in the block below\n",
    "# __________start of block__________\n",
    "# !wget https://raw.githubusercontent.com/neychev/small_DL_repo/master/datasets/onegin.txt\n",
    "\n",
    "with open('onegin.txt', 'r') as iofile:\n",
    "    text = iofile.readlines()\n",
    "\n",
    "text = \"\".join([x.replace('\\t\\t', '').lower() for x in text])\n",
    "# __________end of block__________"
   ]
  },
  {
   "cell_type": "markdown",
   "metadata": {
    "id": "XQYpmGfR_gJ8"
   },
   "source": [
    "#### 2. Построение словаря и предобработка текста\n",
    "В данном задании требуется построить языковую модель на уровне символов. Приведем весь текст к нижнему регистру и построим словарь из всех символов в доступном корпусе текстов. Также добавим токен `<sos>`."
   ]
  },
  {
   "cell_type": "code",
   "execution_count": 10,
   "metadata": {
    "id": "-czZZCmaV-80"
   },
   "outputs": [
    {
     "name": "stdout",
     "output_type": "stream",
     "text": [
      "Seems fine!\n"
     ]
    }
   ],
   "source": [
    "# do not change the code in the block below\n",
    "# __________start of block__________\n",
    "tokens = sorted(set(text.lower())) + [\"<sos>\"]\n",
    "num_tokens = len(tokens)\n",
    "\n",
    "assert num_tokens == 84, \"Check the tokenization process\"\n",
    "\n",
    "token_to_idx = {x: idx for idx, x in enumerate(tokens)}\n",
    "idx_to_token = {idx: x for idx, x in enumerate(tokens)}\n",
    "\n",
    "assert len(tokens) == len(token_to_idx), \"Mapping should be unique\"\n",
    "\n",
    "print(\"Seems fine!\")\n",
    "\n",
    "\n",
    "text_encoded = [token_to_idx[x] for x in text]\n",
    "# __________end of block__________"
   ]
  },
  {
   "cell_type": "markdown",
   "metadata": {
    "id": "NtpPP5ALV-80"
   },
   "source": [
    "__Ваша задача__: обучить классическую рекуррентную нейронную сеть (Vanilla RNN) предсказывать следующий символ на полученном корпусе текстов и сгенерировать последовательность длины 100 для фиксированной начальной фразы.\n",
    "\n",
    "Вы можете воспользоваться кодом с занятие №6 или же обратиться к следующим ссылкам:\n",
    "* Замечательная статья за авторством Andrej Karpathy об использовании RNN: [link](http://karpathy.github.io/2015/05/21/rnn-effectiveness/)\n",
    "* Пример char-rnn от Andrej Karpathy: [github repo](https://github.com/karpathy/char-rnn)\n",
    "* Замечательный пример генерации поэзии Шекспира: [github repo](https://github.com/spro/practical-pytorch/blob/master/char-rnn-generation/char-rnn-generation.ipynb)\n",
    "\n",
    "Данное задание является достаточно творческим. Не страшно, если поначалу оно вызывает затруднения. Последняя ссылка в списке выше может быть особенно полезна в данном случае.\n",
    "\n",
    "Далее для вашего удобства реализована функция, которая генерирует случайный батч размера `batch_size` из строк длиной `seq_length`. Вы можете использовать его при обучении модели."
   ]
  },
  {
   "cell_type": "code",
   "execution_count": 12,
   "metadata": {},
   "outputs": [
    {
     "name": "stdout",
     "output_type": "stream",
     "text": [
      "tensor([48, 64, 62, 73])\n"
     ]
    }
   ],
   "source": [
    "# Вспомогательная функция превращающая строку в числа\n",
    "def char_tensor(string):\n",
    "    tensor = torch.zeros(len(string)).long()\n",
    "    for c in range(len(string)):\n",
    "        tensor[c] = tokens.index(string[c])\n",
    "    return tensor\n",
    "\n",
    "print(char_tensor('гусь'))"
   ]
  },
  {
   "cell_type": "markdown",
   "metadata": {
    "id": "Rwxzu4n4V-81"
   },
   "source": [
    "Далее вам предстоит написать код для обучения модели и генерации текста."
   ]
  },
  {
   "cell_type": "code",
   "execution_count": 13,
   "metadata": {
    "id": "KUC_tEkwV-81"
   },
   "outputs": [],
   "source": [
    "import torch\n",
    "import torch.nn as nn\n",
    "from torch.autograd import Variable\n",
    "\n",
    "class RNN(nn.Module):\n",
    "    def __init__(self, input_size, hidden_size, output_size, n_layers=1):\n",
    "        super(RNN, self).__init__()\n",
    "        self.input_size = input_size\n",
    "        self.hidden_size = hidden_size\n",
    "        self.output_size = output_size\n",
    "        self.n_layers = n_layers\n",
    "        \n",
    "        self.encoder = nn.Embedding(input_size, hidden_size) # входное кодирование слов\n",
    "        self.gru = nn.GRU(hidden_size, hidden_size, n_layers) # собственно рекуррентный слой\n",
    "        self.decoder = nn.Linear(hidden_size, output_size) # линейный выход\n",
    "    \n",
    "    def forward(self, input, hidden):\n",
    "        input = self.encoder(input.view(1, -1)) # закодировали вход\n",
    "        output, hidden = self.gru(input.view(1, 1, -1), hidden) # работа рекуррнтеого слоя\n",
    "        output = self.decoder(output.view(1, -1)) # выход\n",
    "        return output, hidden\n",
    "\n",
    "    def init_hidden(self):\n",
    "        return Variable(torch.zeros(self.n_layers, 1, self.hidden_size))"
   ]
  },
  {
   "cell_type": "code",
   "execution_count": 14,
   "metadata": {},
   "outputs": [
    {
     "name": "stdout",
     "output_type": "stream",
     "text": [
      " признаться не хотим.\n",
      "уж небо осенью дышало,\n",
      "уж реже солнышко блистало,\n",
      "короче становился день,\n",
      "лесов\n"
     ]
    }
   ],
   "source": [
    "chunk_len = 100\n",
    "text_len = len(text)\n",
    "\n",
    "\n",
    "def random_chunk():\n",
    "    start_index = random.randint(0, text_len - chunk_len)\n",
    "    end_index = start_index + chunk_len + 1\n",
    "    return text[start_index:end_index]\n",
    "\n",
    "\n",
    "print(random_chunk())"
   ]
  },
  {
   "cell_type": "code",
   "execution_count": 15,
   "metadata": {},
   "outputs": [],
   "source": [
    "def random_training_set():    \n",
    "    chunk = random_chunk()\n",
    "    inp = char_tensor(chunk[:-1])\n",
    "    target = char_tensor(chunk[1:])\n",
    "    return inp, target"
   ]
  },
  {
   "cell_type": "code",
   "execution_count": 16,
   "metadata": {},
   "outputs": [],
   "source": [
    "def evaluate(prime_str='а', predict_len=100, temperature=0.8):\n",
    "    hidden = decoder.init_hidden() # decoder - наша модель, ее переменная будет позже\n",
    "    prime_input = char_tensor(prime_str) # кодируем входную строку\n",
    "    predicted = prime_str # начало выходной строки\n",
    "    predict_len -= len(prime_str)\n",
    "    # Используем входную строку для задания hidden state\n",
    "    for p in range(len(prime_str) - 1):\n",
    "        _, hidden = decoder(prime_input[p], hidden)\n",
    "    inp = prime_input[-1]\n",
    "    \n",
    "    for p in range(predict_len):\n",
    "        output, hidden = decoder(inp, hidden)\n",
    "        \n",
    "        # Sample from the network as a multinomial distribution\n",
    "        output_dist = output.data.view(-1).div(temperature).exp()\n",
    "        top_i = torch.multinomial(output_dist, 1)[0]\n",
    "        \n",
    "        # Add predicted character to string and use as next input\n",
    "        predicted_char = tokens[top_i]\n",
    "        predicted += predicted_char\n",
    "        inp = char_tensor(predicted_char)\n",
    "\n",
    "    return predicted"
   ]
  },
  {
   "cell_type": "markdown",
   "metadata": {
    "id": "Q1mQtbbCV-83"
   },
   "source": [
    "В качестве иллюстрации ниже доступен график значений функции потерь, построенный в ходе обучения авторской сети (сам код для ее обучения вам и предстоит написать)."
   ]
  },
  {
   "cell_type": "code",
   "execution_count": 17,
   "metadata": {
    "id": "IU_upwLHV-83",
    "outputId": "de8d04c5-9016-40ce-ad5b-e6e4e943851b"
   },
   "outputs": [],
   "source": [
    "import time, math\n",
    "\n",
    "def time_since(since):\n",
    "    s = time.time() - since\n",
    "    m = math.floor(s / 60)\n",
    "    s -= m * 60\n",
    "    return '%dm %ds' % (m, s)"
   ]
  },
  {
   "cell_type": "markdown",
   "metadata": {},
   "source": [
    "Основная функция обучения"
   ]
  },
  {
   "cell_type": "code",
   "execution_count": 18,
   "metadata": {},
   "outputs": [],
   "source": [
    "def train(inp, target):\n",
    "    hidden = decoder.init_hidden()\n",
    "    decoder.zero_grad()\n",
    "    loss = 0\n",
    "\n",
    "    for c in range(chunk_len):\n",
    "        output, hidden = decoder(inp[c], hidden)\n",
    "        # print(output, target)\n",
    "        loss += criterion(output.squeeze(0), target[c]) # в исходной статье ошибочка, тут надо вытянуть в строку\n",
    "\n",
    "    loss.backward()\n",
    "    decoder_optimizer.step()\n",
    "\n",
    "    return loss.item() / chunk_len"
   ]
  },
  {
   "cell_type": "code",
   "execution_count": 19,
   "metadata": {},
   "outputs": [],
   "source": [
    "a, b = random_training_set()"
   ]
  },
  {
   "cell_type": "code",
   "execution_count": 20,
   "metadata": {},
   "outputs": [],
   "source": [
    "n_epochs = 2000\n",
    "print_every = 100\n",
    "plot_every = 10\n",
    "hidden_size = 100\n",
    "n_layers = 1\n",
    "lr = 0.005\n",
    "n_characters = len(tokens)\n",
    "all_losses = []\n",
    "decoder = RNN(n_characters, hidden_size, n_characters, n_layers) # собственно наша модель\n",
    "decoder_optimizer = torch.optim.Adam(decoder.parameters(), lr=lr) # оптимищатор\n",
    "criterion = nn.CrossEntropyLoss()"
   ]
  },
  {
   "cell_type": "code",
   "execution_count": 22,
   "metadata": {},
   "outputs": [
    {
     "name": "stdout",
     "output_type": "stream",
     "text": [
      "[0m 3s (100 5%) 2.1667]\n",
      " мой дядя самых честных правился\n",
      "же сербений,\n",
      "серязнит. сердцях вам бедворилу»\n",
      "ез не все их их посня \n",
      "\n",
      "[0m 7s (200 10%) 1.9126]\n",
      " мой дядя самых честных правилений,\n",
      "в веретоский сердце зерод;\n",
      "в дево нежно всё тотонейся седца,\n",
      "дох \n",
      "\n",
      "[0m 11s (300 15%) 2.0646]\n",
      " мой дядя самых честных правил прогдуши,\n",
      "но в драсталов, первы;\n",
      "здрастках вдевалы в нежный разомное  \n",
      "\n",
      "[0m 15s (400 20%) 2.1633]\n",
      " мой дядя самых честных правила.\n",
      "пристой зиги дитенья\n",
      "слегу передом увела,\n",
      "про вет шев перси счадом\n",
      " \n",
      "\n",
      "[0m 19s (500 25%) 2.1153]\n",
      " мой дядя самых честных правил:\n",
      "оти в то жела внив,\n",
      "и праведям от этом,\n",
      "за бедно с уж он вретел.\n",
      "уро \n",
      "\n",
      "[0m 23s (600 30%) 2.0594]\n",
      " мой дядя самых честных правилет.\n",
      "\n",
      "\n",
      "vii\n",
      "\n",
      "за забыт. не листаю,\n",
      "тружу жени данье,\n",
      "коло нах бездоком ми \n",
      "\n",
      "[0m 27s (700 35%) 2.3058]\n",
      " мой дядя самых честных правильного робокровой\n",
      "чугокали люблю в не давили\n",
      "быть чели мучно моленьем и \n",
      "\n",
      "[0m 31s (800 40%) 2.2948]\n",
      " мой дядя самых честных правилинык я восекориле;\n",
      "черное старенье\n",
      "мложет отворить\n",
      "осне по мутной в с  \n",
      "\n",
      "[0m 36s (900 45%) 1.9585]\n",
      " мой дядя самых честных правила,\n",
      "покленков от же сердце моей\n",
      "в сердце счаса мой,\n",
      "сталавенно хожилые  \n",
      "\n",
      "[0m 39s (1000 50%) 1.9931]\n",
      " мой дядя самых честных правила…\n",
      "слушаке сталью шельный\n",
      "стараду керия вам сней вид таем он мирой\n",
      "то  \n",
      "\n",
      "[0m 43s (1100 55%) 2.1701]\n",
      " мой дядя самых честных правила\n",
      "хобоя обаробе летво,\n",
      "вас объял в томного думакорат.\n",
      "кро судь давнят  \n",
      "\n",
      "[0m 47s (1200 60%) 2.0478]\n",
      " мой дядя самых честных правил простальной,\n",
      "холодой, посталить, стиность\n",
      "хоть я первый доборо.\n",
      "посла \n",
      "\n",
      "[0m 51s (1300 65%) 2.0628]\n",
      " мой дядя самых честных правил,\n",
      "окроит, зопь буду,\n",
      "и вот утрезы жель и,\n",
      "когда мой стостальный, в отв \n",
      "\n",
      "[0m 55s (1400 70%) 2.1060]\n",
      " мой дядя самых честных правились бедала всё вадно,\n",
      "хоть мердиныт забим помил новой\n",
      "что чеменьем сто \n",
      "\n",
      "[0m 58s (1500 75%) 2.2438]\n",
      " мой дядя самых честных правило,\n",
      "вора страстей, не веторов на берейся страстый ней клепоранобились и \n",
      "\n",
      "[1m 3s (1600 80%) 1.9088]\n",
      " мой дядя самых честных правило\n",
      "и должны забана,\n",
      "к не онее зало всегда\n",
      "праденье стайка писы довец\n",
      "ещ \n",
      "\n",
      "[1m 6s (1700 85%) 2.3119]\n",
      " мой дядя самых честных правила,\n",
      "какак двать свое друзьям\n",
      "семно маровин котованье\n",
      "ей дво жуманья ста \n",
      "\n",
      "[1m 10s (1800 90%) 1.8953]\n",
      " мой дядя самых честных правил и догленьх ссовет\n",
      "пошет, что слав и старина,\n",
      "будкне потольконец,\n",
      "беже \n",
      "\n",
      "[1m 14s (1900 95%) 1.9213]\n",
      " мой дядя самых честных правила сней удражно,\n",
      "его ризкосов изда, давно, хадный,\n",
      "сонял так, хоть забо \n",
      "\n",
      "[1m 18s (2000 100%) 2.1561]\n",
      " мой дядя самых честных правил свет макакарит» —\n",
      "«то – вельных приль мог мой дыкруги\n",
      "снеги млодных о \n",
      "\n"
     ]
    }
   ],
   "source": [
    "start = time.time()\n",
    "loss_avg = 0\n",
    "\n",
    "for epoch in range(1, n_epochs + 1):\n",
    "    loss = train(*random_training_set()) # обучаем модель на сгенерированном батче       \n",
    "    loss_avg += loss\n",
    "\n",
    "    if epoch % print_every == 0:\n",
    "        print('[%s (%d %d%%) %.4f]' % (time_since(start), epoch, epoch / n_epochs * 100, loss))\n",
    "        print(evaluate(' мой дядя самых честных правил', 100), '\\n')\n",
    "\n",
    "    if epoch % plot_every == 0:\n",
    "        all_losses.append(loss_avg / plot_every)\n",
    "        loss_avg = 0"
   ]
  },
  {
   "cell_type": "code",
   "execution_count": 31,
   "metadata": {},
   "outputs": [
    {
     "data": {
      "text/plain": [
       "[<matplotlib.lines.Line2D at 0x7fc9d57cfbc0>]"
      ]
     },
     "execution_count": 31,
     "metadata": {},
     "output_type": "execute_result"
    },
    {
     "data": {
      "image/png": "[encoded data removed]",
      "text/plain": [
       "<Figure size 640x480 with 1 Axes>"
      ]
     },
     "metadata": {},
     "output_type": "display_data"
    }
   ],
   "source": [
    "import matplotlib.pyplot as plt\n",
    "import matplotlib.ticker as ticker\n",
    "# %matplotlib inline\n",
    "\n",
    "plt.figure()\n",
    "plt.plot(all_losses)"
   ]
  },
  {
   "cell_type": "markdown",
   "metadata": {
    "id": "nArTAJKHV-83"
   },
   "source": [
    "Шаблон функции `generate_sample` также доступен ниже. Вы можете как дозаполнить его, так и написать свою собственную функцию с нуля. Не забывайте, что все примеры в обучающей выборке начинались с токена `<sos>`."
   ]
  },
  {
   "cell_type": "code",
   "execution_count": 129,
   "metadata": {},
   "outputs": [
    {
     "name": "stdout",
     "output_type": "stream",
     "text": [
      " мой дядя самых честных правил привым\n",
      "глоходит немоею чури,\n",
      "и давичтом, не блежался, что напожет,\n",
      "соною с мальмы привы проров,\n",
      "он взданным ногла вы поборы,\n",
      "возила ты что он онегин,\n",
      "сметрев и что я ни дус\n",
      "ей столес, ничевы жежной,\n",
      "и нежен для ее ты любви;\n",
      "постать нас но госто не даснно.\n",
      "и надое, радосятся, голновые,\n",
      "уж коту спетратные и,\n",
      "мой, что двна след,\n",
      "в замоль не старины заред\n",
      "разумиться, ни ей?\n",
      "и слуша было виду вдохной.\n",
      "\n",
      "\n",
      "\n",
      "xvii\n",
      "\n",
      "ему славым тремяться страснноменный родов\n",
      "мадет е медлись по \n",
      "\n"
     ]
    }
   ],
   "source": [
    "print(evaluate(' мой дядя самых честных правил', 500), '\\n')"
   ]
  },
  {
   "cell_type": "markdown",
   "metadata": {
    "id": "xKGAWQ2TV-83"
   },
   "source": [
    "Пример текста сгенерированного обученной моделью доступен ниже. Не страшно, что в тексте много несуществующих слов. Используемая модель очень проста: это простая классическая RNN."
   ]
  },
  {
   "cell_type": "code",
   "execution_count": null,
   "metadata": {
    "id": "aP6TfoM0V-83",
    "outputId": "b780d079-f508-489b-e4f3-cfaa829b7650"
   },
   "outputs": [
    {
     "name": "stdout",
     "output_type": "stream",
     "text": [
      "<sos> мой дядя самых честных правилас;\n",
      "\n",
      "\n",
      "\n",
      "xiv\n",
      "\n",
      "но как потокой.\n",
      "\n",
      "\n",
      "\n",
      "xii\n",
      "\n",
      "«я свобред не словавран в скорей,\n",
      "для с посвялесь мне моловой,\n",
      "те ты,\n",
      "перегиной в тям праздной\n",
      "и привезут перваю вся вновся сквозь ти стала сблился,\n",
      "и старый свимарной таня обратель любова не когда и нет волностье нежной\n",
      "тишен,\n",
      "перестоком.\n",
      "«поже постаничив очествы\n",
      "в и старько забаньем и заковенью,\n",
      "ее своя моднать наводушта;\n",
      "какой нет поли своем горозный и быле и, законно он ходушних недважный плая\n",
      "с за стра.\n",
      "\n",
      "\n",
      "\n",
      "xvii\n",
      "\n",
      "\n",
      "\n",
      "\n",
      "xxvi\n",
      "\n",
      "все \n"
     ]
    }
   ],
   "source": [
    "print(\n",
    "    generate_sample(\n",
    "        model, \" мой дядя самых честных правил\", max_length=500, temperature=0.8\n",
    "    )\n",
    ")"
   ]
  },
  {
   "cell_type": "markdown",
   "metadata": {
    "id": "LxTN0xZTV-83"
   },
   "source": [
    "### Сдача задания\n",
    "Сгенерируйте десять последовательностей длиной 500, используя строку ' мой дядя самых честных правил'. Температуру для генерации выберите самостоятельно на основании визуального качества генериуремого текста. Не забудьте удалить все технические токены в случае их наличия.\n",
    "\n",
    "Сгенерированную последовательность сохрание в переменную `generated_phrase` и сдайте сгенерированный ниже файл в контест."
   ]
  },
  {
   "cell_type": "code",
   "execution_count": 24,
   "metadata": {
    "id": "SR6iu8ybV-84"
   },
   "outputs": [],
   "source": [
    "seed_phrase = \" мой дядя самых честных правил\""
   ]
  },
  {
   "cell_type": "code",
   "execution_count": 25,
   "metadata": {
    "id": "2hG5FsE1V-84"
   },
   "outputs": [],
   "source": [
    "generated_phrases = [evaluate(seed_phrase, 500) for _ in range(10)]\n",
    "\n",
    "# For example:\n",
    "\n",
    "# generated_phrases = [\n",
    "#     generate_sample(\n",
    "#         model,\n",
    "#         ' мой дядя самых честных правил',\n",
    "#         max_length=500,\n",
    "#         temperature=1.\n",
    "#     ).replace('<sos>', '')\n",
    "#     for _ in range(10)\n",
    "# ]"
   ]
  },
  {
   "cell_type": "code",
   "execution_count": 30,
   "metadata": {
    "id": "s-pIdGTXV-84"
   },
   "outputs": [
    {
     "name": "stdout",
     "output_type": "stream",
     "text": [
      "File saved to `submission_dict.json`\n"
     ]
    }
   ],
   "source": [
    "# do not change the code in the block below\n",
    "# __________start of block__________\n",
    "\n",
    "import json\n",
    "if 'generated_phrases' not in locals():\n",
    "    raise ValueError(\"Please, save generated phrases to `generated_phrases` variable\")\n",
    "\n",
    "for phrase in generated_phrases:\n",
    "\n",
    "    if not isinstance(phrase, str):\n",
    "        raise ValueError(\"The generated phrase should be a string\")\n",
    "\n",
    "    if len(phrase) != 500:\n",
    "        raise ValueError(\"The `generated_phrase` length should be equal to 500\")\n",
    "\n",
    "    assert all([x in set(tokens) for x in set(list(phrase))]), 'Unknown tokens detected, check your submission!'\n",
    "    \n",
    "\n",
    "submission_dict = {\n",
    "    'token_to_idx': token_to_idx,\n",
    "    'generated_phrases': generated_phrases\n",
    "}\n",
    "\n",
    "with open('submission_dict.json', 'w') as iofile:\n",
    "    json.dump(submission_dict, iofile)\n",
    "print('File saved to `submission_dict.json`')\n",
    "# __________end of block__________"
   ]
  },
  {
   "cell_type": "markdown",
   "metadata": {
    "id": "kjUIdAq4V-84"
   },
   "source": [
    "На этом задание завершено. Поздравляем!"
   ]
  }
 ],
 "metadata": {
  "accelerator": "GPU",
  "anaconda-cloud": {},
  "colab": {
   "name": "NLP HW Lab01_Poetry_generation.v5.ipynb",
   "provenance": []
  },
  "kernelspec": {
   "display_name": "Python 3 (ipykernel)",
   "language": "python",
   "name": "python3"
  },
  "language_info": {
   "codemirror_mode": {
    "name": "ipython",
    "version": 3
   },
   "file_extension": ".py",
   "mimetype": "text/x-python",
   "name": "python",
   "nbconvert_exporter": "python",
   "pygments_lexer": "ipython3",
   "version": "3.12.4"
  }
 },
 "nbformat": 4,
 "nbformat_minor": 4
}
