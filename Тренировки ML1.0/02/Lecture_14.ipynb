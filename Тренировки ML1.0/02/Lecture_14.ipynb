{
 "cells": [
  {
   "cell_type": "markdown",
   "metadata": {
    "id": "k1882OtCbMPl"
   },
   "source": [
    "# Python-1, лекция 14\n",
    "\n",
    "**Лектор:** Петров Тимур"
   ]
  },
  {
   "cell_type": "markdown",
   "metadata": {
    "id": "gMkzsR17NPs_"
   },
   "source": [
    "## HTTP и иже с ним"
   ]
  },
  {
   "cell_type": "markdown",
   "metadata": {
    "id": "55D0cqkeNIxf"
   },
   "source": [
    "Теперь приступим к новым вещам, а именно - к вебом и взаимодействием с ним!"
   ]
  },
  {
   "cell_type": "markdown",
   "metadata": {
    "id": "dPc9h44RNhKW"
   },
   "source": [
    "![](https://www.thebozho.com/wp-content/uploads/2017/04/Free-Open-Internet.jpg)"
   ]
  },
  {
   "cell_type": "markdown",
   "metadata": {
    "id": "hQayFiceOrqX"
   },
   "source": [
    "Давайте начнем просто с того, что же такое HTTP? В переводе это HyperText Transfer Protocol, или же протокол для передачи т.н. HyperText (гиепртекст - это текст с наличием ссылок для перехода на другие странички, изи)\n",
    "\n",
    "Что в таком случае https, который мы сейчас везде видим? Это тот же HTTP, но еще и S (secure) - данные передаются не просто открыто, а через протокол шифрования [TLS](https://habr.com/ru/post/258285/) (не будет вдаваться в подробности, как оно работает, речь не про это)\n",
    "\n",
    "По сути своей, это модель \"клиент-сервер\". Клиент дает запрос, сервер отвечает, еще запрос, еще ответ etc хоть до бесконечности. Выглядит максимально просто и понятно\n",
    "\n",
    "К примеру, когда вы заходите на сайт, вы отправляете запрос по типу \"покажи сайт\". Сервер такой: \"Держи\". Потом тыкаете на ссылку, опять запрос etc\n",
    "\n"
   ]
  },
  {
   "cell_type": "markdown",
   "metadata": {
    "id": "utjc-VbjQmcd"
   },
   "source": [
    "Что происходит при открытии сайта?\n",
    "\n",
    "Например, вы заходите в [питон](https://python.org/). Что необходимо сделать для этого браузеру?\n",
    "\n",
    "Браузер отправляет запрос на сервер, который расположен по адресу python.org. Удивительно, но это можно сделать даже без браузера (кто бы мог подумать)"
   ]
  },
  {
   "cell_type": "code",
   "execution_count": 1,
   "metadata": {
    "id": "M4JfXCpkMwZ3"
   },
   "outputs": [
    {
     "name": "stdout",
     "output_type": "stream",
     "text": [
      "/bin/bash: line 1: brew: command not found\n",
      "Trying 151.101.64.223...\n",
      "Connected to python.org.\n",
      "Escape character is '^]'.\n",
      "^C\n",
      "Connection closed by foreign host.\n"
     ]
    }
   ],
   "source": [
    "# !brew install telnet\n",
    "# !telnet python.org 80 # утилита, которая осуществляет запрос как клиентская часть"
   ]
  },
  {
   "cell_type": "markdown",
   "metadata": {
    "id": "JDNRJVPoVLTC"
   },
   "source": [
    "Подсоединились, теперь нам надо отправлять запросы, чтобы получать какие-то ответы. Как выглядят запросы в HTTP?\n",
    "\n",
    "На самом деле тут все достаточно просто. Любой запрос в HTTP выглядит следующим образом:\n",
    "\n",
    "```\n",
    "Метод URI HTTP/1.1\\n\n",
    "Host: hostname\\n\n",
    "\\n\n",
    "\n",
    "```\n",
    "\n",
    "* Метод - собственно операция, которую хотим осуществить\n",
    "\n",
    "* URI - путь до документа/страницы, которая нам нужна\n",
    "\n",
    "* HTTP/1.1 - указываем версию HTTP\n",
    "\n",
    "* hostname - название хоста (так как удалённый сервер не обладает никакой информацией о том, какой именно адрес использовался для соединения, то его надо указывать)\n",
    "\n",
    "На самом деле можно указывать также дополнительные параметры (например, какой у нас User-Agent (браузер) etc)"
   ]
  },
  {
   "cell_type": "markdown",
   "metadata": {
    "id": "TJsGKgTHZoxU"
   },
   "source": [
    "Что мы всегда видим в качестве ответа? В первую очередь строку следующего вида:\n",
    "\n",
    "```\n",
    "HTTP/1.1 Код Пояснение\n",
    "```\n",
    "\n",
    "* HTTP/1.1 - версия HTTP\n",
    "\n",
    "* Код - [код выполнения запроса](https://developer.mozilla.org/ru/docs/Web/HTTP/Status)\n",
    "\n",
    "Вот наши любимые:\n",
    "\n",
    "1. 200 - все ок\n",
    "\n",
    "2. 4** - вы лохи (сюда относится и 403, 404 - запрещено/не найдено)\n",
    "\n",
    "3. 5** - мы лохи\n",
    "\n",
    "* Пояснение - название кода ответа (типа OK, Not Found etc)\n"
   ]
  },
  {
   "cell_type": "markdown",
   "metadata": {
    "id": "BPUOrM8oa0YZ"
   },
   "source": [
    "Какие есть основные методы для HTTP?\n",
    "\n",
    "* GET - получи инфу\n",
    "\n",
    "* POST - запость инфу\n",
    "\n",
    "* PUT - обнови инфу\n",
    "\n",
    "* DELETE - удали инфу\n",
    "\n",
    "Если вы решили, что можно взять и тогда удалить Python, то вот нет. Единственное, что обязан обрабатывать веб-сервер - это GET. Остального может не быть (и тогда сервер вас просто не поймет). А еще могут быть всякие другие методы"
   ]
  },
  {
   "cell_type": "markdown",
   "metadata": {
    "id": "idLiCpmiii2q"
   },
   "source": [
    "Понятное дело, что для этого должна быть какая-нибудь удобная библиотека (а не тупо telnet, в который еще как-то странно надо передавать данные). Для этого есть requests!"
   ]
  },
  {
   "cell_type": "markdown",
   "metadata": {
    "id": "rNekr0RvisFN"
   },
   "source": [
    "## Requests"
   ]
  },
  {
   "cell_type": "markdown",
   "metadata": {
    "id": "jQ7PpKu6udNS"
   },
   "source": [
    "[Requests](https://requests.readthedocs.io/en/latest/api/) - это отличная библиотека для работы с подключениями к сайту. Давайте разбираться на примерах:"
   ]
  },
  {
   "cell_type": "code",
   "execution_count": null,
   "metadata": {
    "colab": {
     "base_uri": "https://localhost:8080/"
    },
    "id": "HvhDc0lqumTX",
    "outputId": "51124fbb-89f0-419b-9926-eaf8db4a9d19"
   },
   "outputs": [],
   "source": [
    "import requests\n",
    "\n",
    "requests.get('https://api.github.com') #аналогия get, получаем ответ"
   ]
  },
  {
   "cell_type": "markdown",
   "metadata": {
    "id": "CKpspR-NvFm7"
   },
   "source": [
    "Какие атрибуты есть у get?"
   ]
  },
  {
   "cell_type": "code",
   "execution_count": 3,
   "metadata": {
    "colab": {
     "base_uri": "https://localhost:8080/"
    },
    "id": "Tc7i0bd2u_UR",
    "outputId": "c68f3873-bbeb-4143-d22d-57c5c1151f8d"
   },
   "outputs": [
    {
     "name": "stdout",
     "output_type": "stream",
     "text": [
      "200 OK\n",
      "------------------------------\n",
      "Date : Fri, 06 Sep 2024 12:53:16 GMT\n",
      "Content-Type : application/json; charset=utf-8\n",
      "Cache-Control : public, max-age=60, s-maxage=60\n",
      "Vary : Accept,Accept-Encoding, Accept, X-Requested-With\n",
      "ETag : W/\"4f825cc84e1c733059d46e76e6df9db557ae5254f9625dfe8e1b09499c449438\"\n",
      "X-GitHub-Media-Type : github.v3; format=json\n",
      "x-github-api-version-selected : 2022-11-28\n",
      "Access-Control-Expose-Headers : ETag, Link, Location, Retry-After, X-GitHub-OTP, X-RateLimit-Limit, X-RateLimit-Remaining, X-RateLimit-Used, X-RateLimit-Resource, X-RateLimit-Reset, X-OAuth-Scopes, X-Accepted-OAuth-Scopes, X-Poll-Interval, X-GitHub-Media-Type, X-GitHub-SSO, X-GitHub-Request-Id, Deprecation, Sunset\n",
      "Access-Control-Allow-Origin : *\n",
      "Strict-Transport-Security : max-age=31536000; includeSubdomains; preload\n",
      "X-Frame-Options : deny\n",
      "X-Content-Type-Options : nosniff\n",
      "X-XSS-Protection : 0\n",
      "Referrer-Policy : origin-when-cross-origin, strict-origin-when-cross-origin\n",
      "Content-Security-Policy : default-src 'none'\n",
      "Content-Encoding : gzip\n",
      "Server : github.com\n",
      "X-RateLimit-Limit : 60\n",
      "X-RateLimit-Remaining : 58\n",
      "X-RateLimit-Reset : 1725630796\n",
      "X-RateLimit-Resource : core\n",
      "X-RateLimit-Used : 2\n",
      "Accept-Ranges : bytes\n",
      "Content-Length : 510\n",
      "X-GitHub-Request-Id : EC04:282F11:38C05A8:3988BF0:66DAFB3C\n",
      "------------------------------\n",
      "utf-8\n",
      "------------------------------\n",
      "{\"current_user_url\":\"https://api.github.com/user\",\"current_user_authorizations_html_url\":\"https://github.com/settings/connections/applications{/client_id}\",\"authorizations_url\":\"https://api.github.com/authorizations\",\"code_search_url\":\"https://api.github.com/search/code?q={query}{&page,per_page,sort,order}\",\"commit_search_url\":\"https://api.github.com/search/commits?q={query}{&page,per_page,sort,order}\",\"emails_url\":\"https://api.github.com/user/emails\",\"emojis_url\":\"https://api.github.com/emojis\",\"events_url\":\"https://api.github.com/events\",\"feeds_url\":\"https://api.github.com/feeds\",\"followers_url\":\"https://api.github.com/user/followers\",\"following_url\":\"https://api.github.com/user/following{/target}\",\"gists_url\":\"https://api.github.com/gists{/gist_id}\",\"hub_url\":\"https://api.github.com/hub\",\"issue_search_url\":\"https://api.github.com/search/issues?q={query}{&page,per_page,sort,order}\",\"issues_url\":\"https://api.github.com/issues\",\"keys_url\":\"https://api.github.com/user/keys\",\"label_search_url\":\"https://api.github.com/search/labels?q={query}&repository_id={repository_id}{&page,per_page}\",\"notifications_url\":\"https://api.github.com/notifications\",\"organization_url\":\"https://api.github.com/orgs/{org}\",\"organization_repositories_url\":\"https://api.github.com/orgs/{org}/repos{?type,page,per_page,sort}\",\"organization_teams_url\":\"https://api.github.com/orgs/{org}/teams\",\"public_gists_url\":\"https://api.github.com/gists/public\",\"rate_limit_url\":\"https://api.github.com/rate_limit\",\"repository_url\":\"https://api.github.com/repos/{owner}/{repo}\",\"repository_search_url\":\"https://api.github.com/search/repositories?q={query}{&page,per_page,sort,order}\",\"current_user_repositories_url\":\"https://api.github.com/user/repos{?type,page,per_page,sort}\",\"starred_url\":\"https://api.github.com/user/starred{/owner}{/repo}\",\"starred_gists_url\":\"https://api.github.com/gists/starred\",\"topic_search_url\":\"https://api.github.com/search/topics?q={query}{&page,per_page}\",\"user_url\":\"https://api.github.com/users/{user}\",\"user_organizations_url\":\"https://api.github.com/user/orgs\",\"user_repositories_url\":\"https://api.github.com/users/{user}/repos{?type,page,per_page,sort}\",\"user_search_url\":\"https://api.github.com/search/users?q={query}{&page,per_page,sort,order}\"}\n",
      "------------------------------\n",
      "https://api.github.com/\n",
      "------------------------------\n",
      "{'current_user_url': 'https://api.github.com/user', 'current_user_authorizations_html_url': 'https://github.com/settings/connections/applications{/client_id}', 'authorizations_url': 'https://api.github.com/authorizations', 'code_search_url': 'https://api.github.com/search/code?q={query}{&page,per_page,sort,order}', 'commit_search_url': 'https://api.github.com/search/commits?q={query}{&page,per_page,sort,order}', 'emails_url': 'https://api.github.com/user/emails', 'emojis_url': 'https://api.github.com/emojis', 'events_url': 'https://api.github.com/events', 'feeds_url': 'https://api.github.com/feeds', 'followers_url': 'https://api.github.com/user/followers', 'following_url': 'https://api.github.com/user/following{/target}', 'gists_url': 'https://api.github.com/gists{/gist_id}', 'hub_url': 'https://api.github.com/hub', 'issue_search_url': 'https://api.github.com/search/issues?q={query}{&page,per_page,sort,order}', 'issues_url': 'https://api.github.com/issues', 'keys_url': 'https://api.github.com/user/keys', 'label_search_url': 'https://api.github.com/search/labels?q={query}&repository_id={repository_id}{&page,per_page}', 'notifications_url': 'https://api.github.com/notifications', 'organization_url': 'https://api.github.com/orgs/{org}', 'organization_repositories_url': 'https://api.github.com/orgs/{org}/repos{?type,page,per_page,sort}', 'organization_teams_url': 'https://api.github.com/orgs/{org}/teams', 'public_gists_url': 'https://api.github.com/gists/public', 'rate_limit_url': 'https://api.github.com/rate_limit', 'repository_url': 'https://api.github.com/repos/{owner}/{repo}', 'repository_search_url': 'https://api.github.com/search/repositories?q={query}{&page,per_page,sort,order}', 'current_user_repositories_url': 'https://api.github.com/user/repos{?type,page,per_page,sort}', 'starred_url': 'https://api.github.com/user/starred{/owner}{/repo}', 'starred_gists_url': 'https://api.github.com/gists/starred', 'topic_search_url': 'https://api.github.com/search/topics?q={query}{&page,per_page}', 'user_url': 'https://api.github.com/users/{user}', 'user_organizations_url': 'https://api.github.com/user/orgs', 'user_repositories_url': 'https://api.github.com/users/{user}/repos{?type,page,per_page,sort}', 'user_search_url': 'https://api.github.com/search/users?q={query}{&page,per_page,sort,order}'}\n"
     ]
    }
   ],
   "source": [
    "r = requests.get('https://api.github.com')\n",
    "print(r.status_code, r.reason) # статус ответа (200 - все ОК)\n",
    "print('-' * 30)\n",
    "for i in r.headers.items(): # информация\n",
    "    print(i[0], ':', i[1])\n",
    "print('-' * 30)\n",
    "print(r.encoding)\n",
    "print('-' * 30)\n",
    "print(r.text) # что вывели (тело) (в чистом виде можно с помощью .content, text сразу декодирует)\n",
    "print('-' * 30)\n",
    "print(r.url) # где находимся\n",
    "print('-' * 30)\n",
    "print(r.json()) # и можно сразу в виде json"
   ]
  },
  {
   "cell_type": "markdown",
   "metadata": {
    "id": "EjkkfYTHGRDh"
   },
   "source": [
    "Иногда мы хотим делать get не просто по сайту, а еще передавать какие-нибудь параметры. Давайте попробуем:"
   ]
  },
  {
   "cell_type": "code",
   "execution_count": 4,
   "metadata": {
    "colab": {
     "base_uri": "https://localhost:8080/"
    },
    "id": "qBWsszISGWqy",
    "outputId": "75be1d06-f92d-4ac4-c794-23caf2bb9ed2"
   },
   "outputs": [
    {
     "name": "stdout",
     "output_type": "stream",
     "text": [
      "Repository name: deep-learning-with-python-notebooks\n",
      "Repository description: Jupyter notebooks for the code samples of the book \"Deep Learning with Python\"\n"
     ]
    }
   ],
   "source": [
    "response = requests.get(\n",
    "    'https://api.github.com/search/repositories',\n",
    "    params={'q': 'Deep_Python'}, #делаем поиск с помощью параметра q https://docs.github.com/en/rest/search\n",
    ")\n",
    "\n",
    "# Анализ некоторых атрибутов местонахождения запросов\n",
    "json_response = response.json()\n",
    "repository = json_response['items'][0]\n",
    "print(f'Repository name: {repository[\"name\"]}')\n",
    "print(f'Repository description: {repository[\"description\"]}')"
   ]
  },
  {
   "cell_type": "code",
   "execution_count": 5,
   "metadata": {
    "colab": {
     "base_uri": "https://localhost:8080/"
    },
    "id": "Ihju2CpKG7zR",
    "outputId": "1c404058-6458-40c9-897c-39d91ab43eb3"
   },
   "outputs": [
    {
     "name": "stdout",
     "output_type": "stream",
     "text": [
      "16\n"
     ]
    }
   ],
   "source": [
    "for i in range(len(json_response['items'])):\n",
    "    if json_response['items'][i]['name'] == 'Deep_Python':\n",
    "        print(i)"
   ]
  },
  {
   "cell_type": "code",
   "execution_count": 6,
   "metadata": {
    "colab": {
     "base_uri": "https://localhost:8080/"
    },
    "id": "RkkhEk0OHe4j",
    "outputId": "a8f5e382-4410-4f8c-ea6c-bc92983408e1"
   },
   "outputs": [
    {
     "data": {
      "text/plain": [
       "{'id': 145148726,\n",
       " 'node_id': 'MDEwOlJlcG9zaXRvcnkxNDUxNDg3MjY=',\n",
       " 'name': 'MachineLearningNotebooks',\n",
       " 'full_name': 'Azure/MachineLearningNotebooks',\n",
       " 'private': False,\n",
       " 'owner': {'login': 'Azure',\n",
       "  'id': 6844498,\n",
       "  'node_id': 'MDEyOk9yZ2FuaXphdGlvbjY4NDQ0OTg=',\n",
       "  'avatar_url': 'https://avatars.githubusercontent.com/u/6844498?v=4',\n",
       "  'gravatar_id': '',\n",
       "  'url': 'https://api.github.com/users/Azure',\n",
       "  'html_url': 'https://github.com/Azure',\n",
       "  'followers_url': 'https://api.github.com/users/Azure/followers',\n",
       "  'following_url': 'https://api.github.com/users/Azure/following{/other_user}',\n",
       "  'gists_url': 'https://api.github.com/users/Azure/gists{/gist_id}',\n",
       "  'starred_url': 'https://api.github.com/users/Azure/starred{/owner}{/repo}',\n",
       "  'subscriptions_url': 'https://api.github.com/users/Azure/subscriptions',\n",
       "  'organizations_url': 'https://api.github.com/users/Azure/orgs',\n",
       "  'repos_url': 'https://api.github.com/users/Azure/repos',\n",
       "  'events_url': 'https://api.github.com/users/Azure/events{/privacy}',\n",
       "  'received_events_url': 'https://api.github.com/users/Azure/received_events',\n",
       "  'type': 'Organization',\n",
       "  'site_admin': False},\n",
       " 'html_url': 'https://github.com/Azure/MachineLearningNotebooks',\n",
       " 'description': 'Python notebooks with ML and deep learning examples with Azure Machine Learning Python SDK | Microsoft',\n",
       " 'fork': False,\n",
       " 'url': 'https://api.github.com/repos/Azure/MachineLearningNotebooks',\n",
       " 'forks_url': 'https://api.github.com/repos/Azure/MachineLearningNotebooks/forks',\n",
       " 'keys_url': 'https://api.github.com/repos/Azure/MachineLearningNotebooks/keys{/key_id}',\n",
       " 'collaborators_url': 'https://api.github.com/repos/Azure/MachineLearningNotebooks/collaborators{/collaborator}',\n",
       " 'teams_url': 'https://api.github.com/repos/Azure/MachineLearningNotebooks/teams',\n",
       " 'hooks_url': 'https://api.github.com/repos/Azure/MachineLearningNotebooks/hooks',\n",
       " 'issue_events_url': 'https://api.github.com/repos/Azure/MachineLearningNotebooks/issues/events{/number}',\n",
       " 'events_url': 'https://api.github.com/repos/Azure/MachineLearningNotebooks/events',\n",
       " 'assignees_url': 'https://api.github.com/repos/Azure/MachineLearningNotebooks/assignees{/user}',\n",
       " 'branches_url': 'https://api.github.com/repos/Azure/MachineLearningNotebooks/branches{/branch}',\n",
       " 'tags_url': 'https://api.github.com/repos/Azure/MachineLearningNotebooks/tags',\n",
       " 'blobs_url': 'https://api.github.com/repos/Azure/MachineLearningNotebooks/git/blobs{/sha}',\n",
       " 'git_tags_url': 'https://api.github.com/repos/Azure/MachineLearningNotebooks/git/tags{/sha}',\n",
       " 'git_refs_url': 'https://api.github.com/repos/Azure/MachineLearningNotebooks/git/refs{/sha}',\n",
       " 'trees_url': 'https://api.github.com/repos/Azure/MachineLearningNotebooks/git/trees{/sha}',\n",
       " 'statuses_url': 'https://api.github.com/repos/Azure/MachineLearningNotebooks/statuses/{sha}',\n",
       " 'languages_url': 'https://api.github.com/repos/Azure/MachineLearningNotebooks/languages',\n",
       " 'stargazers_url': 'https://api.github.com/repos/Azure/MachineLearningNotebooks/stargazers',\n",
       " 'contributors_url': 'https://api.github.com/repos/Azure/MachineLearningNotebooks/contributors',\n",
       " 'subscribers_url': 'https://api.github.com/repos/Azure/MachineLearningNotebooks/subscribers',\n",
       " 'subscription_url': 'https://api.github.com/repos/Azure/MachineLearningNotebooks/subscription',\n",
       " 'commits_url': 'https://api.github.com/repos/Azure/MachineLearningNotebooks/commits{/sha}',\n",
       " 'git_commits_url': 'https://api.github.com/repos/Azure/MachineLearningNotebooks/git/commits{/sha}',\n",
       " 'comments_url': 'https://api.github.com/repos/Azure/MachineLearningNotebooks/comments{/number}',\n",
       " 'issue_comment_url': 'https://api.github.com/repos/Azure/MachineLearningNotebooks/issues/comments{/number}',\n",
       " 'contents_url': 'https://api.github.com/repos/Azure/MachineLearningNotebooks/contents/{+path}',\n",
       " 'compare_url': 'https://api.github.com/repos/Azure/MachineLearningNotebooks/compare/{base}...{head}',\n",
       " 'merges_url': 'https://api.github.com/repos/Azure/MachineLearningNotebooks/merges',\n",
       " 'archive_url': 'https://api.github.com/repos/Azure/MachineLearningNotebooks/{archive_format}{/ref}',\n",
       " 'downloads_url': 'https://api.github.com/repos/Azure/MachineLearningNotebooks/downloads',\n",
       " 'issues_url': 'https://api.github.com/repos/Azure/MachineLearningNotebooks/issues{/number}',\n",
       " 'pulls_url': 'https://api.github.com/repos/Azure/MachineLearningNotebooks/pulls{/number}',\n",
       " 'milestones_url': 'https://api.github.com/repos/Azure/MachineLearningNotebooks/milestones{/number}',\n",
       " 'notifications_url': 'https://api.github.com/repos/Azure/MachineLearningNotebooks/notifications{?since,all,participating}',\n",
       " 'labels_url': 'https://api.github.com/repos/Azure/MachineLearningNotebooks/labels{/name}',\n",
       " 'releases_url': 'https://api.github.com/repos/Azure/MachineLearningNotebooks/releases{/id}',\n",
       " 'deployments_url': 'https://api.github.com/repos/Azure/MachineLearningNotebooks/deployments',\n",
       " 'created_at': '2018-08-17T17:29:14Z',\n",
       " 'updated_at': '2024-09-06T01:13:50Z',\n",
       " 'pushed_at': '2024-08-08T15:36:05Z',\n",
       " 'git_url': 'git://github.com/Azure/MachineLearningNotebooks.git',\n",
       " 'ssh_url': 'git@github.com:Azure/MachineLearningNotebooks.git',\n",
       " 'clone_url': 'https://github.com/Azure/MachineLearningNotebooks.git',\n",
       " 'svn_url': 'https://github.com/Azure/MachineLearningNotebooks',\n",
       " 'homepage': 'https://docs.microsoft.com/azure/machine-learning/service/',\n",
       " 'size': 78323,\n",
       " 'stargazers_count': 4063,\n",
       " 'watchers_count': 4063,\n",
       " 'language': 'Jupyter Notebook',\n",
       " 'has_issues': True,\n",
       " 'has_projects': False,\n",
       " 'has_downloads': True,\n",
       " 'has_wiki': False,\n",
       " 'has_pages': False,\n",
       " 'has_discussions': False,\n",
       " 'forks_count': 2509,\n",
       " 'mirror_url': None,\n",
       " 'archived': False,\n",
       " 'disabled': False,\n",
       " 'open_issues_count': 391,\n",
       " 'license': {'key': 'mit',\n",
       "  'name': 'MIT License',\n",
       "  'spdx_id': 'MIT',\n",
       "  'url': 'https://api.github.com/licenses/mit',\n",
       "  'node_id': 'MDc6TGljZW5zZTEz'},\n",
       " 'allow_forking': True,\n",
       " 'is_template': False,\n",
       " 'web_commit_signoff_required': False,\n",
       " 'topics': ['azure',\n",
       "  'azure-machine-learning',\n",
       "  'azure-ml',\n",
       "  'azureml',\n",
       "  'data-science',\n",
       "  'deep-learning',\n",
       "  'machine-learning',\n",
       "  'notebook'],\n",
       " 'visibility': 'public',\n",
       " 'forks': 2509,\n",
       " 'open_issues': 391,\n",
       " 'watchers': 4063,\n",
       " 'default_branch': 'master',\n",
       " 'score': 1.0}"
      ]
     },
     "execution_count": 6,
     "metadata": {},
     "output_type": "execute_result"
    }
   ],
   "source": [
    "json_response['items'][12]"
   ]
  },
  {
   "cell_type": "markdown",
   "metadata": {
    "id": "A_Tnem8PHs4I"
   },
   "source": [
    "Какие есть функции?\n",
    "\n",
    "Есть самый основные для HTTP-протокола:"
   ]
  },
  {
   "cell_type": "code",
   "execution_count": 7,
   "metadata": {
    "colab": {
     "base_uri": "https://localhost:8080/"
    },
    "id": "N5HBJ6ZOHwy5",
    "outputId": "76b141cf-ad22-4cb3-a9f0-48d4a2c9fb3d"
   },
   "outputs": [
    {
     "data": {
      "text/plain": [
       "<Response [200]>"
      ]
     },
     "execution_count": 7,
     "metadata": {},
     "output_type": "execute_result"
    }
   ],
   "source": [
    "requests.post('https://httpbin.org/post', data={'key':'value'}) #запостить инфу\n",
    "requests.put('https://httpbin.org/put', data={'key':'value'}) #полная замена инфы (придется указать все, что даже не меняется)\n",
    "requests.delete('https://httpbin.org/delete') #удалить инфу\n",
    "requests.head('https://httpbin.org/get') #получить информацию без тела\n",
    "requests.patch('https://httpbin.org/patch', data={'key':'value'}) #замена инфы, но без указания того, что не надо заменять"
   ]
  },
  {
   "cell_type": "markdown",
   "metadata": {
    "id": "Lq7fyeyoI1ox"
   },
   "source": [
    "Иногда для того, чтобы получить доступ, надо сделать авторизацию (аутентификацию), для этого внутри requests есть"
   ]
  },
  {
   "cell_type": "code",
   "execution_count": 8,
   "metadata": {
    "colab": {
     "base_uri": "https://localhost:8080/"
    },
    "id": "Qmebvq4UJKds",
    "outputId": "4f0f2f92-b00a-4ed4-ee8a-8770a0416036"
   },
   "outputs": [
    {
     "ename": "KeyboardInterrupt",
     "evalue": "Interrupted by user",
     "output_type": "error",
     "traceback": [
      "\u001b[0;31m---------------------------------------------------------------------------\u001b[0m",
      "\u001b[0;31mKeyboardInterrupt\u001b[0m                         Traceback (most recent call last)",
      "Cell \u001b[0;32mIn[8], line 6\u001b[0m\n\u001b[1;32m      1\u001b[0m \u001b[38;5;28;01mfrom\u001b[39;00m \u001b[38;5;21;01mrequests\u001b[39;00m\u001b[38;5;21;01m.\u001b[39;00m\u001b[38;5;21;01mauth\u001b[39;00m \u001b[38;5;28;01mimport\u001b[39;00m HTTPBasicAuth \u001b[38;5;66;03m#самый простой способ аутентификации, почти везде принимается\u001b[39;00m\n\u001b[1;32m      2\u001b[0m \u001b[38;5;28;01mfrom\u001b[39;00m \u001b[38;5;21;01mgetpass\u001b[39;00m \u001b[38;5;28;01mimport\u001b[39;00m getpass \u001b[38;5;66;03m#библиотека из 2 функций: запрос пароля и запрос пользователя\u001b[39;00m\n\u001b[1;32m      4\u001b[0m requests\u001b[38;5;241m.\u001b[39mget(\n\u001b[1;32m      5\u001b[0m      \u001b[38;5;124m'\u001b[39m\u001b[38;5;124mhttps://api.github.com/user\u001b[39m\u001b[38;5;124m'\u001b[39m,\n\u001b[0;32m----> 6\u001b[0m      auth\u001b[38;5;241m=\u001b[39mHTTPBasicAuth(\u001b[38;5;124m'\u001b[39m\u001b[38;5;124muser\u001b[39m\u001b[38;5;124m'\u001b[39m, getpass())\n\u001b[1;32m      7\u001b[0m )\n",
      "File \u001b[0;32m~/miniconda3/envs/ml/lib/python3.12/site-packages/ipykernel/kernelbase.py:1245\u001b[0m, in \u001b[0;36mKernel.getpass\u001b[0;34m(self, prompt, stream)\u001b[0m\n\u001b[1;32m   1238\u001b[0m     \u001b[38;5;28;01mimport\u001b[39;00m \u001b[38;5;21;01mwarnings\u001b[39;00m\n\u001b[1;32m   1240\u001b[0m     warnings\u001b[38;5;241m.\u001b[39mwarn(\n\u001b[1;32m   1241\u001b[0m         \u001b[38;5;124m\"\u001b[39m\u001b[38;5;124mThe `stream` parameter of `getpass.getpass` will have no effect when using ipykernel\u001b[39m\u001b[38;5;124m\"\u001b[39m,\n\u001b[1;32m   1242\u001b[0m         \u001b[38;5;167;01mUserWarning\u001b[39;00m,\n\u001b[1;32m   1243\u001b[0m         stacklevel\u001b[38;5;241m=\u001b[39m\u001b[38;5;241m2\u001b[39m,\n\u001b[1;32m   1244\u001b[0m     )\n\u001b[0;32m-> 1245\u001b[0m \u001b[38;5;28;01mreturn\u001b[39;00m \u001b[38;5;28mself\u001b[39m\u001b[38;5;241m.\u001b[39m_input_request(\n\u001b[1;32m   1246\u001b[0m     prompt,\n\u001b[1;32m   1247\u001b[0m     \u001b[38;5;28mself\u001b[39m\u001b[38;5;241m.\u001b[39m_parent_ident[\u001b[38;5;124m\"\u001b[39m\u001b[38;5;124mshell\u001b[39m\u001b[38;5;124m\"\u001b[39m],\n\u001b[1;32m   1248\u001b[0m     \u001b[38;5;28mself\u001b[39m\u001b[38;5;241m.\u001b[39mget_parent(\u001b[38;5;124m\"\u001b[39m\u001b[38;5;124mshell\u001b[39m\u001b[38;5;124m\"\u001b[39m),\n\u001b[1;32m   1249\u001b[0m     password\u001b[38;5;241m=\u001b[39m\u001b[38;5;28;01mTrue\u001b[39;00m,\n\u001b[1;32m   1250\u001b[0m )\n",
      "File \u001b[0;32m~/miniconda3/envs/ml/lib/python3.12/site-packages/ipykernel/kernelbase.py:1305\u001b[0m, in \u001b[0;36mKernel._input_request\u001b[0;34m(self, prompt, ident, parent, password)\u001b[0m\n\u001b[1;32m   1302\u001b[0m \u001b[38;5;28;01mexcept\u001b[39;00m \u001b[38;5;167;01mKeyboardInterrupt\u001b[39;00m:\n\u001b[1;32m   1303\u001b[0m     \u001b[38;5;66;03m# re-raise KeyboardInterrupt, to truncate traceback\u001b[39;00m\n\u001b[1;32m   1304\u001b[0m     msg \u001b[38;5;241m=\u001b[39m \u001b[38;5;124m\"\u001b[39m\u001b[38;5;124mInterrupted by user\u001b[39m\u001b[38;5;124m\"\u001b[39m\n\u001b[0;32m-> 1305\u001b[0m     \u001b[38;5;28;01mraise\u001b[39;00m \u001b[38;5;167;01mKeyboardInterrupt\u001b[39;00m(msg) \u001b[38;5;28;01mfrom\u001b[39;00m \u001b[38;5;28;01mNone\u001b[39;00m\n\u001b[1;32m   1306\u001b[0m \u001b[38;5;28;01mexcept\u001b[39;00m \u001b[38;5;167;01mException\u001b[39;00m:\n\u001b[1;32m   1307\u001b[0m     \u001b[38;5;28mself\u001b[39m\u001b[38;5;241m.\u001b[39mlog\u001b[38;5;241m.\u001b[39mwarning(\u001b[38;5;124m\"\u001b[39m\u001b[38;5;124mInvalid Message:\u001b[39m\u001b[38;5;124m\"\u001b[39m, exc_info\u001b[38;5;241m=\u001b[39m\u001b[38;5;28;01mTrue\u001b[39;00m)\n",
      "\u001b[0;31mKeyboardInterrupt\u001b[0m: Interrupted by user"
     ]
    }
   ],
   "source": [
    "from requests.auth import HTTPBasicAuth #самый простой способ аутентификации, почти везде принимается\n",
    "from getpass import getpass #библиотека из 2 функций: запрос пароля и запрос пользователя\n",
    "\n",
    "requests.get(\n",
    "     'https://api.github.com/user',\n",
    "     auth=HTTPBasicAuth('user', getpass())\n",
    ")"
   ]
  },
  {
   "cell_type": "markdown",
   "metadata": {
    "id": "_F0uOIbsJ0YQ"
   },
   "source": [
    "Давайте себе представим ситуацию: сервер подвис! Что же делать, наш код будет сидеть и ждать, а такого мы не хотим. Внутри requests можно задать время ожидания, который мы используем"
   ]
  },
  {
   "cell_type": "code",
   "execution_count": null,
   "metadata": {
    "colab": {
     "base_uri": "https://localhost:8080/"
    },
    "id": "pglh36qgJ_hz",
    "outputId": "5a5f75ae-cbfa-4c59-8cdb-eee0d3ff4ac2"
   },
   "outputs": [],
   "source": [
    "from requests.exceptions import Timeout\n",
    "\n",
    "try:\n",
    "    response = requests.get('https://api.github.com', timeout=1) #устанавливаем максимальный timeout, если не случилось, то он бросает Timeout\n",
    "except Timeout:\n",
    "    print('The request timed out')\n",
    "else:\n",
    "    print('The request did not time out')"
   ]
  },
  {
   "cell_type": "markdown",
   "metadata": {
    "id": "tKcFZSsDKUl3"
   },
   "source": [
    "И последнее, что мы сегодня разберем, так это Session. Что это такое?\n",
    "\n",
    "Сессия - это возможность сделать несколько обращений, при этом сохранив общие параметры, которые вам нужны (ну, например, если у вас вдруг везде одинаковый логин-пароль, можно его сохранить и использовать для нескольких вызовов)"
   ]
  },
  {
   "cell_type": "code",
   "execution_count": null,
   "metadata": {
    "colab": {
     "base_uri": "https://localhost:8080/"
    },
    "id": "cV1D2MJwKfLK",
    "outputId": "1835b948-c0c4-4892-caed-bea13b2e7f55"
   },
   "outputs": [],
   "source": [
    "with requests.Session() as session:\n",
    "    session.auth = ('username', getpass())\n",
    "    session.headers.update({'one': 'true'})\n",
    "    print(session.headers)\n",
    "    response = session.get('https://api.github.com')\n",
    "\n",
    "print(response.headers)\n",
    "print(response.json())"
   ]
  },
  {
   "cell_type": "markdown",
   "metadata": {
    "id": "gHMHY1ueXeIA"
   },
   "source": [
    "## BeautifulSoup4\n",
    "\n",
    "И начнем с самого простого: парсинг обычных html страниц. Для этого есть прекрасная бибилотека [BeautifulSoup4](https://beautiful-soup-4.readthedocs.io/en/latest/)\n",
    "\n",
    "И в качестве примера возьмем вики нашего факультета)"
   ]
  },
  {
   "cell_type": "markdown",
   "metadata": {
    "id": "ErUlK60mqnA3"
   },
   "source": [
    "### Основы"
   ]
  },
  {
   "cell_type": "code",
   "execution_count": null,
   "metadata": {
    "colab": {
     "base_uri": "https://localhost:8080/",
     "height": 150
    },
    "id": "gfcFHRWuZBhu",
    "outputId": "f23742ce-eb57-4636-db46-70cdddbc4c6c"
   },
   "outputs": [],
   "source": [
    "import requests\n",
    "\n",
    "r = requests.get('http://wiki.cs.hse.ru/Заглавная_страница')\n",
    "page = r.content.decode(\"utf-8\")\n",
    "page ##выглядит как каша какая-то"
   ]
  },
  {
   "cell_type": "code",
   "execution_count": null,
   "metadata": {
    "id": "2KV5oaSbYmgt"
   },
   "outputs": [],
   "source": [
    "from bs4 import BeautifulSoup\n",
    "\n",
    "soup = BeautifulSoup(page, 'html.parser') # указываем парсер\n",
    "print(soup.prettify()) # выглядит уже более структурно"
   ]
  },
  {
   "cell_type": "markdown",
   "metadata": {
    "id": "ykHLySeqaoGN"
   },
   "source": [
    "Здесь есть аргумент parser, что это такое? Внутри BeautifulSoup есть несколько различных парсеров, которые можно использовать (в зависимости сложности документа)\n",
    "\n",
    "* html.parser - самый простой и достаточно быстрй парсер, включенный уже внутри BS (чаще всего ничего более не требуется для HTML-документов), а еще он менее строгий к документу (то есть игнорирует всякую фигню)\n",
    "\n",
    "* lxml - парсер из другой бибилотеки (тоже в разделе про XML)\n",
    "\n",
    "* xml - парсер для XML документов (про них позже)\n",
    "\n",
    "* html5lib - парсит как реальный веб-браузер это делает (но его еще отдельно надо установить, работает медленно), очень строгий к формату"
   ]
  },
  {
   "cell_type": "markdown",
   "metadata": {
    "id": "Oa1SDEyMbyXf"
   },
   "source": [
    "Базово, что мы хотим от парсера? Ходить по тэгам и вытягивать оттуда информацию. В каком-то смысле для этого не требуется знать HTML-язык разметки, но в качестве общего ознакомления почитать про [тэги](https://developer.mozilla.org/ru/docs/Web/HTML) следует\n",
    "\n",
    "Давайте вытянем название странички:"
   ]
  },
  {
   "cell_type": "code",
   "execution_count": null,
   "metadata": {
    "colab": {
     "base_uri": "https://localhost:8080/"
    },
    "id": "007CWk5NcEZP",
    "outputId": "996ed73a-d532-4ae2-e5bf-76953c80053b"
   },
   "outputs": [],
   "source": [
    "print(soup.title) #навигация идет по названиям тэгов, например, здесь взяли тэг title\n",
    "print(soup.title.name) # получили название тэга\n",
    "print(soup.title.string) # получили текст внутри тэга - бинго!"
   ]
  },
  {
   "cell_type": "markdown",
   "metadata": {
    "id": "X_zyTQNtmFx4"
   },
   "source": [
    "А теперь давайте разбираться вообще в структуре HTML-странички в целом:\n",
    "\n",
    "- Все, что находится внутри < и > - это тэг. Тэг сам по себе задает различные действия (например, < a > - это ссылка, < h1 > - заголовок первого уровня, самый большой)\n",
    "\n",
    "Все, что внутри тэга - это его контент, то есть то, к чему относится данный тэг. А также у тэга могут быть свои аттрибуты\n",
    "\n",
    "На примере:\n",
    "\n",
    "```\n",
    "        <p>\n",
    "         <a href=\"/%D0%9B%D0%B8%D0%BD%D0%B5%D0%B9%D0%BD%D0%B0%D1%8F_%D0%B0%D0%BB%D0%B3%D0%B5%D0%B1%D1%80%D0%B0_%D0%B8_%D0%B3%D0%B5%D0%BE%D0%BC%D0%B5%D1%82%D1%80%D0%B8%D1%8F_%D0%BD%D0%B0_%D0%9F%D0%9C%D0%98_2022/2023_(%D0%BF%D0%B8%D0%BB%D0%BE%D1%82%D0%BD%D1%8B%D0%B9_%D0%BF%D0%BE%D1%82%D0%BE%D0%BA)\" title=\"Линейная алгебра и геометрия на ПМИ 2022/2023 (пилотный поток)\">\n",
    "          Линейная алгебра и геометрия (пилотный поток)\n",
    "         </a>\n",
    "        </p>\n",
    "```\n",
    "\n",
    "Что видим? Тэг p - абзац, тэг a - ссылка. То есть получаем абзац с текстом \"Линейная алгебра и геометрия (пилотный поток)\", на котором лежит ссылка с адресом href\n",
    "\n",
    "Внутри тэга a есть два аттрибута: href и title (ссылка и название)"
   ]
  },
  {
   "cell_type": "markdown",
   "metadata": {
    "id": "Je4n64c-ol7H"
   },
   "source": [
    "![](https://younghtml5studynote.files.wordpress.com/2011/12/1.jpg)\n"
   ]
  },
  {
   "cell_type": "markdown",
   "metadata": {
    "id": "AbiOGBeMnrDE"
   },
   "source": [
    "Базово внутри любого HTML-документа есть head, body и footer. (Вообще такие тэги появились только в HTML-5, раньше делали просто div)\n",
    "\n",
    "- **Head** - заглавие (где указывается название сайта, а так же отрисовки, стиль, скрипты etc)\n",
    "\n",
    "- **Body** - основное тело документа, где лежит вся информация\n",
    "\n",
    "- **Footer** - это все, что находится внизу. Многие не любят делать footer отдельно, а тупо вгоняют его в body, выделяя отдельно место (с помощью div)\n",
    "\n",
    "Также скрипты могут встречаться в любом случае, если надо что-то подятнуть\n",
    "\n",
    "Это вот такая база для понимания, как страница устроена"
   ]
  },
  {
   "cell_type": "markdown",
   "metadata": {
    "id": "GgFpJIQWpDvY"
   },
   "source": [
    "Нас, наверное, не очень интересует header и footer, так как хотим доставать основную информацию. Давайте по коду определим, где находится то, что нам нужно.\n",
    "\n",
    "Оно находится внутри ```<div id=\"bodyContent\"> ```. Давайте туда и перейдем"
   ]
  },
  {
   "cell_type": "code",
   "execution_count": 11,
   "metadata": {
    "id": "Zs2AHEPnp5lq"
   },
   "outputs": [],
   "source": [
    "root = soup.find(id=\"bodyContent\") #с помощью функции find можно искать необходимые тэги, id.\n",
    "# Если какой-то более сложный атрибут, то можно передать через словарь attrs"
   ]
  },
  {
   "cell_type": "markdown",
   "metadata": {
    "id": "8XNYG2UGqicJ"
   },
   "source": [
    "### Ищем данные"
   ]
  },
  {
   "cell_type": "markdown",
   "metadata": {
    "id": "6NRE97zFcgSN"
   },
   "source": [
    "Давайте теперь вытянем все названия второго уровня с сайта (то есть это на сайте будет \"Курсы за 2022/23 год\", \"Курсы в рамках проекта Data Culture\" etc)\n",
    "\n",
    "Все они находятся в тэгах < h2 >. Значит надо найти все такие тэги и вывести текст!\n",
    "\n",
    "Для этого есть функция ```find_all```"
   ]
  },
  {
   "cell_type": "code",
   "execution_count": 12,
   "metadata": {
    "colab": {
     "base_uri": "https://localhost:8080/"
    },
    "id": "SIz21_gOdEzM",
    "outputId": "ec85390c-9ccc-4579-f141-bfde9f813964"
   },
   "outputs": [
    {
     "data": {
      "text/plain": [
       "[<span class=\"mw-headline\" id=\".D0.9A.D1.83.D1.80.D1.81.D1.8B_.D0.B7.D0.B0_2024.2F25_.D1.83.D1.87.D0.B5.D0.B1.D0.BD.D1.8B.D0.B9_.D0.B3.D0.BE.D0.B4\"><span id=\"bachelors\">Курсы за 2024/25 учебный год</span></span>]"
      ]
     },
     "execution_count": 12,
     "metadata": {},
     "output_type": "execute_result"
    }
   ],
   "source": [
    "root.find_all('h2')[0].contents #Вывели самый первый такой, но при этом он еще в какой-то мишуре в виде span"
   ]
  },
  {
   "cell_type": "code",
   "execution_count": 13,
   "metadata": {
    "colab": {
     "base_uri": "https://localhost:8080/"
    },
    "id": "2bRBnKUEda_q",
    "outputId": "7c66066e-5d99-4765-c9cb-b65bf016bc48"
   },
   "outputs": [
    {
     "data": {
      "text/plain": [
       "'Курсы за 2024/25 учебный год'"
      ]
     },
     "execution_count": 13,
     "metadata": {},
     "output_type": "execute_result"
    }
   ],
   "source": [
    "root.find_all('h2')[0].span.string # Хопа, прошли по span и вывели сам текст!"
   ]
  },
  {
   "cell_type": "code",
   "execution_count": 14,
   "metadata": {
    "colab": {
     "base_uri": "https://localhost:8080/"
    },
    "id": "DflkhxBXd31r",
    "outputId": "b8797beb-ab4f-4ac5-ed34-a97ba2802f3c"
   },
   "outputs": [
    {
     "data": {
      "text/plain": [
       "[<h2><span class=\"mw-headline\" id=\".D0.9A.D1.83.D1.80.D1.81.D1.8B_.D0.B7.D0.B0_2024.2F25_.D1.83.D1.87.D0.B5.D0.B1.D0.BD.D1.8B.D0.B9_.D0.B3.D0.BE.D0.B4\"><span id=\"bachelors\">Курсы за 2024/25 учебный год</span></span></h2>,\n",
       " <h2><span class=\"mw-headline\" id=\".D0.9A.D1.83.D1.80.D1.81.D1.8B_.D0.B2_.D1.80.D0.B0.D0.BC.D0.BA.D0.B0.D1.85_.D0.BF.D1.80.D0.BE.D0.B5.D0.BA.D1.82.D0.B0_Data_Culture\"><span id=\"DataCulture\">Курсы в рамках проекта <a class=\"external text\" href=\"https://www.hse.ru/dataculture/\" rel=\"nofollow\">Data Culture</a></span></span></h2>,\n",
       " <h2><span class=\"mw-headline\" id=\".D0.9A.D1.83.D1.80.D1.81.D1.8B_.D0.BC.D0.B0.D0.B3.D0.B8.D1.81.D1.82.D1.80.D0.B0.D1.82.D1.83.D1.80.D1.8B_.D0.A4.D0.9A.D0.9D\"><span id=\"masters\">Курсы магистратуры ФКН</span></span></h2>,\n",
       " <h2><span class=\"mw-headline\" id=\".D0.9A.D1.83.D1.80.D1.81.D1.8B_.D0.B4.D1.80.D1.83.D0.B3.D0.B8.D1.85_.D1.84.D0.B0.D0.BA.D1.83.D0.BB.D1.8C.D1.82.D0.B5.D1.82.D0.BE.D0.B2\"><span id=\"other\">Курсы других факультетов</span></span></h2>,\n",
       " <h2><span class=\"mw-headline\" id=\".D0.9A.D1.83.D1.80.D1.81.D1.8B_.D0.B7.D0.B0_2023.2F24_.D1.83.D1.87.D0.B5.D0.B1.D0.BD.D1.8B.D0.B9_.D0.B3.D0.BE.D0.B4\">Курсы за 2023/24 учебный год</span></h2>,\n",
       " <h2><span class=\"mw-headline\" id=\".D0.9A.D1.83.D1.80.D1.81.D1.8B_.D0.B2_.D1.80.D0.B0.D0.BC.D0.BA.D0.B0.D1.85_.D0.BF.D1.80.D0.BE.D0.B5.D0.BA.D1.82.D0.B0_Data_Culture_2\">Курсы в рамках проекта <a class=\"external text\" href=\"https://www.hse.ru/dataculture/\" rel=\"nofollow\">Data Culture</a></span></h2>,\n",
       " <h2><span class=\"mw-headline\" id=\".D0.9A.D1.83.D1.80.D1.81.D1.8B_.D0.BC.D0.B0.D0.B3.D0.B8.D1.81.D1.82.D1.80.D0.B0.D1.82.D1.83.D1.80.D1.8B_.D0.A4.D0.9A.D0.9D_2\">Курсы магистратуры ФКН</span></h2>,\n",
       " <h2><span class=\"mw-headline\" id=\".D0.9A.D1.83.D1.80.D1.81.D1.8B_.D0.B4.D1.80.D1.83.D0.B3.D0.B8.D1.85_.D1.84.D0.B0.D0.BA.D1.83.D0.BB.D1.8C.D1.82.D0.B5.D1.82.D0.BE.D0.B2_2\">Курсы других факультетов</span></h2>,\n",
       " <h2><span class=\"mw-headline\" id=\".D0.A4.D0.B0.D0.BA.D1.83.D0.BB.D1.8C.D1.82.D0.B0.D1.82.D0.B8.D0.B2.D1.8B\">Факультативы</span></h2>]"
      ]
     },
     "execution_count": 14,
     "metadata": {},
     "output_type": "execute_result"
    }
   ],
   "source": [
    "root.find_all('h2') # Вытянули все значения, осталось проитерироваться и достать все"
   ]
  },
  {
   "cell_type": "code",
   "execution_count": 15,
   "metadata": {
    "colab": {
     "base_uri": "https://localhost:8080/"
    },
    "id": "90lha17ueSIb",
    "outputId": "5df315f7-71af-4338-fd0e-b5c03647ebd5"
   },
   "outputs": [
    {
     "name": "stdout",
     "output_type": "stream",
     "text": [
      "[<span id=\"bachelors\">Курсы за 2024/25 учебный год</span>]\n",
      "[<span id=\"DataCulture\">Курсы в рамках проекта <a class=\"external text\" href=\"https://www.hse.ru/dataculture/\" rel=\"nofollow\">Data Culture</a></span>]\n",
      "[<span id=\"masters\">Курсы магистратуры ФКН</span>]\n",
      "[<span id=\"other\">Курсы других факультетов</span>]\n",
      "['Курсы за 2023/24 учебный год']\n",
      "['Курсы в рамках проекта ', <a class=\"external text\" href=\"https://www.hse.ru/dataculture/\" rel=\"nofollow\">Data Culture</a>]\n",
      "['Курсы магистратуры ФКН']\n",
      "['Курсы других факультетов']\n",
      "['Факультативы']\n"
     ]
    }
   ],
   "source": [
    "for k in root.find_all('h2'):\n",
    "    print(k.span.contents) # Почему берем именно contents? Потому что если внутри есть еще один тэг, то это дополнительно дробление (a)"
   ]
  },
  {
   "cell_type": "markdown",
   "metadata": {
    "id": "NSE3MId2hKJY"
   },
   "source": [
    "В чем проблема? Так в том, что тут еще есть ссылки, из которых надо тоже все это вытягивать:"
   ]
  },
  {
   "cell_type": "code",
   "execution_count": 16,
   "metadata": {
    "colab": {
     "base_uri": "https://localhost:8080/"
    },
    "id": "MPigc7QphQkz",
    "outputId": "25481490-a9e1-4919-9e7b-7e60a9538b66"
   },
   "outputs": [
    {
     "name": "stdout",
     "output_type": "stream",
     "text": [
      "Курсы за 2024/25 учебный год\n"
     ]
    },
    {
     "ename": "TypeError",
     "evalue": "can only concatenate str (not \"Tag\") to str",
     "output_type": "error",
     "traceback": [
      "\u001b[0;31m---------------------------------------------------------------------------\u001b[0m",
      "\u001b[0;31mTypeError\u001b[0m                                 Traceback (most recent call last)",
      "Cell \u001b[0;32mIn[16], line 4\u001b[0m\n\u001b[1;32m      2\u001b[0m res \u001b[38;5;241m=\u001b[39m \u001b[38;5;124m\"\u001b[39m\u001b[38;5;124m\"\u001b[39m\n\u001b[1;32m      3\u001b[0m \u001b[38;5;28;01mif\u001b[39;00m k\u001b[38;5;241m.\u001b[39ma \u001b[38;5;129;01mis\u001b[39;00m \u001b[38;5;129;01mnot\u001b[39;00m \u001b[38;5;28;01mNone\u001b[39;00m:\n\u001b[0;32m----> 4\u001b[0m     res \u001b[38;5;241m+\u001b[39m\u001b[38;5;241m=\u001b[39m k\u001b[38;5;241m.\u001b[39mspan\u001b[38;5;241m.\u001b[39mcontents[\u001b[38;5;241m0\u001b[39m]\n\u001b[1;32m      5\u001b[0m     res \u001b[38;5;241m+\u001b[39m\u001b[38;5;241m=\u001b[39m k\u001b[38;5;241m.\u001b[39mspan\u001b[38;5;241m.\u001b[39ma\u001b[38;5;241m.\u001b[39mstring\n\u001b[1;32m      6\u001b[0m \u001b[38;5;28;01melse\u001b[39;00m:\n",
      "\u001b[0;31mTypeError\u001b[0m: can only concatenate str (not \"Tag\") to str"
     ]
    }
   ],
   "source": [
    "for k in root.find_all('h2'):\n",
    "    res = \"\"\n",
    "    if k.a is not None:\n",
    "        res += k.span.contents[0]\n",
    "        res += k.span.a.string\n",
    "    else:\n",
    "        res += k.span.string\n",
    "    print(res)"
   ]
  },
  {
   "cell_type": "markdown",
   "metadata": {
    "id": "8j8LM8ufrNaJ"
   },
   "source": [
    "### Поиск текста и ссылок"
   ]
  },
  {
   "cell_type": "markdown",
   "metadata": {
    "id": "7n7HPVWViN3e"
   },
   "source": [
    "Ура, получилось! Чуть-чуть глиномесно, но представьте делать это совсем руками...\n",
    "\n",
    "Хорошо, допустим, что теперь мы хотим просто получить весь текст с сайта, как бы сделать?"
   ]
  },
  {
   "cell_type": "code",
   "execution_count": 17,
   "metadata": {
    "colab": {
     "base_uri": "https://localhost:8080/"
    },
    "id": "cARVQtbar--D",
    "outputId": "add15183-ddb1-41fb-af60-a2a1754b5730"
   },
   "outputs": [
    {
     "name": "stdout",
     "output_type": "stream",
     "text": [
      "<generator object PageElement.stripped_strings at 0x7fd8ec6572a0>\n",
      "<generator object Tag._all_strings at 0x7fd8ec480d60>\n"
     ]
    }
   ],
   "source": [
    "print(root.stripped_strings) # получаем генератор, который очищает от тэгов и внутри них ищет текст\n",
    "print(root.strings)"
   ]
  },
  {
   "cell_type": "markdown",
   "metadata": {
    "id": "ng3AqPtcsWfk"
   },
   "source": [
    "В чем разница?"
   ]
  },
  {
   "cell_type": "code",
   "execution_count": 20,
   "metadata": {
    "colab": {
     "base_uri": "https://localhost:8080/"
    },
    "id": "k1L9S626sYbl",
    "outputId": "b6b23a94-6395-4260-c249-9daaf1169d21"
   },
   "outputs": [
    {
     "name": "stdout",
     "output_type": "stream",
     "text": [
      "\n",
      "\n"
     ]
    }
   ],
   "source": [
    "print(next(root.stripped_strings)) # убирает всякие переносы строк, табуляицю etc\n",
    "print(next(root.strings))"
   ]
  },
  {
   "cell_type": "markdown",
   "metadata": {
    "id": "U7g2X1y_yrKA"
   },
   "source": [
    "Давайте теперь все напечатаем:"
   ]
  },
  {
   "cell_type": "code",
   "execution_count": null,
   "metadata": {},
   "outputs": [],
   "source": [
    "import requests\n",
    "from bs4 import BeautifulSoup\n",
    "\n",
    "website = input()\n",
    "line = input()\n",
    "\n",
    "r = requests.get('http://wiki.cs.hse.ru/Заглавная_страница')\n",
    "page = r.content.decode(\"utf-8\")\n",
    "\n",
    "\n",
    "soup = BeautifulSoup(page, 'html.parser') # указываем парсер\n",
    "for text in root.stripped_strings:\n",
    "    print(text)"
   ]
  },
  {
   "cell_type": "code",
   "execution_count": 21,
   "metadata": {
    "id": "X2yeRFWhyu1b"
   },
   "outputs": [
    {
     "name": "stdout",
     "output_type": "stream",
     "text": [
      "Материал из Wiki - Факультет компьютерных наук\n",
      "(перенаправлено с «\n",
      "Заглавная страница\n",
      "»)\n",
      "Перейти к:\n",
      "навигация\n",
      ",\n",
      "поиск\n",
      "Учебные курсы факультета компьютерных наук\n",
      "Навигация\n",
      "Курсы бакалавриата ФКН\n",
      "ПМИ\n",
      "·\n",
      "ПИ\n",
      "·\n",
      "ПАД\n",
      "·\n",
      "КНАД\n",
      "·\n",
      "ДРИП\n",
      "·\n",
      "майноры и факультативы\n",
      "Курсы в рамках проекта Data Culture\n",
      "·\n",
      "Курсы магистратуры ФКН\n",
      "·\n",
      "Курсы других факультетов\n",
      "·\n",
      "Архив\n",
      "Курсы за 2024/25 учебный год\n",
      "1 курс\n",
      "2 курс\n",
      "3 курс\n",
      "4 курс\n",
      "майноры и факультативы\n",
      "ПМИ\n",
      "М+\n",
      "Линейная алгебра и геометрия (пилотный поток)\n",
      "Математический анализ-1 (пилотный поток)\n",
      "Дискретная математика (пилотный поток)\n",
      "Алгебра (пилотный поток)\n",
      "Теория чисел (пилотный поток)\n",
      "М\n",
      "Линейная алгебра и геометрия (основной поток)\n",
      "Математический анализ-1 (ПМИ основной поток)\n",
      "Математический анализ-1 (ЭАД)\n",
      "Дискретная математика (ПМИ основной поток)\n",
      "Дискретная математика (ЭАД+СмолГУ)\n",
      "Алгебра (основной поток)\n",
      "Теория чисел (основной поток)\n",
      "П+\n",
      "Алгоритмы и структуры данных (пилотный поток)\n",
      "П\n",
      "Язык программирования Python 2024/25 (основной поток)\n",
      "Алгоритмы и структуры данных 1 (основной поток) (4 модуль) 2024/2025\n",
      "М+\n",
      "Математическая статистика (пилотный поток)\n",
      "Теория вероятностей (пилотный поток)\n",
      "Математический анализ - 2 (пилотный поток)\n",
      "М\n",
      "Математическая статистика (основной поток)\n",
      "Теория вероятностей (основной поток)\n",
      "Математический анализ - 2 (основной поток) ПМИ и ЭАД\n",
      "П+ и П\n",
      "Архитектура компьютеров и операционные системы\n",
      "Алгоритмы и структуры данных - 2\n",
      "Инструменты промышленной разработки 2024/2025\n",
      "1 из 3:\n",
      "Язык программирования C++ (углубленный курс)\n",
      "Продвинутый Python\n",
      "Язык программирования Rust 2024/25\n",
      "2 из 5:\n",
      "Дискретная математика - 2 (ПМИ) 2024/25\n",
      "Дифференциальные уравнения (ПМИ) 2024/25\n",
      "Основы матричных вычислений 2024/25\n",
      "Комплексный анализ 2024/25\n",
      "Функциональный анализ 2024/25\n",
      "Машинное обучение 1\n",
      "Operation Research and Game Theory\n",
      "Statistical Learning Theory\n",
      "Функциональное программирование\n",
      "Основы тензорных вычислений\n",
      "Введение в глубинное обучение 24/25\n",
      "Математическое моделирование 2024/25\n",
      "Моделирование временных рядов 2024/25\n",
      "Теория чисел и криптография\n",
      "Методы оптимизации\n",
      "Уравнения с частными производными (2024-2025)\n",
      "Алгоритмы во внешней памяти\n",
      "Рекомендательные системы\n",
      "Машинное обучение в прикладных задачах\n",
      "ПМИ / МОП\n",
      "Машинное обучение 2\n",
      "Прикладная статистика в машинном обучении 24/25\n",
      "Стохастический анализ (весна 2025)\n",
      "НИС Машинное обучение и приложения 3 курс\n",
      "Глубинное обучение 1 24/25\n",
      "Методы оптимизации в машинном обучении 2023/24\n",
      "ПМИ / РС\n",
      "Компьютерные сети\n",
      "Сервис-ориентированные архитектуры\n",
      "НИС Распределенные системы\n",
      "Распределенные системы\n",
      "Database Systems 2024/25\n",
      "ПМИ / ТИ\n",
      "Theory of Computation\n",
      "НИС Теоретическая информатика\n",
      "Комбинаторные конструкции в теоретической информатике\n",
      "[ ВКР]\n",
      "Случайные процессы (зима 2024)\n",
      "Функциональное программирование\n",
      "Промышленное программирование на Haskell\n",
      "Основы тензорных вычислений\n",
      "Генеративные модели на основе диффузии\n",
      "Глубинное обучение в обработке звука\n",
      "Глубинное обучение для текстовых данных\n",
      "Методы предобучения без учителя\n",
      "Символьные вычисления\n",
      "Эффективные системы глубинного обучения\n",
      "Теория и практика онлайн-экспериментов\n",
      "Децентрализованные системы\n",
      "Введение в дифференциальную геометрию\n",
      "Дизайн систем\n",
      "Типы в языках программирования\n",
      "Алгоритмы во внешней памяти\n",
      "ПМИ / МОП\n",
      "НИС Машинное обучение и приложения 4 курс\n",
      "Глубинное обучение 2\n",
      "Глубинное обучение в анализе графовых данных\n",
      "Машинное обучение для больших данных\n",
      "ПМИ / РС\n",
      "НИС Распределенные системы 2\n",
      "ПМИ / ТИ\n",
      "A Theorist's Toolkit, AMI\n",
      "Односторонние функции и их применения\n",
      "Теория информации\n",
      "Выпуклое программирование и аппроксимационные алгоритмы\n",
      "НИС Теоретическая информатика\n",
      "Биоинформатика 1 год 2024/25\n",
      "Биоинформатика 2 год 2024/25\n",
      "Основы глубинного обучения (майнор ИАД)\n",
      "Введение в программирование 24/25. Python (майнор ИАД)\n",
      "Основы машинного обучения (майнор ИАД)\n",
      "Прикладные задачи анализа данных (майнор ИАД))\n",
      "Криптография на решётках 24/25\n",
      "ПИ\n",
      "Дискретная математика\n",
      "Алгебра\n",
      "Математический анализ\n",
      "Алгоритмы и структуры данных на ПИ\n",
      "Теория вероятностей и математическая статистика\n",
      "НИС Методы и алгоритмы защиты информации\n",
      "Принципы статического анализа исходного кода\n",
      "ПАД\n",
      "Algebra (DSBA)\n",
      "Calculus (DSBA)\n",
      "English (DSBA)\n",
      "LAaG (DSBA)\n",
      "Discrete Mathematics (DSBA)\n",
      "Python Programming (DSBA)\n",
      "C++ Programming Language (DSBA)\n",
      "Law DSBA 2024/25\n",
      "Introduction to Economics DSBA 2024/25\n",
      "Discrete Mathematics 2 (DSBA)\n",
      "Business and Management in Global Context 24/25\n",
      "Calculus-2 2024/25\n",
      "Algorithms and Data Structures\n",
      "Probability and Statistics (DSBA) 2024/25\n",
      "Introduction to Micro and Macroeconomics DSBA 2024/2025\n",
      "Differential Equations 2024/25\n",
      "Computer Architecture and Operating Systems\n",
      "Time series and stochastic processes 2024-25\n",
      "Elements of Econometrics 2024-2025\n",
      "Business Analytics and Financial Engineering 2024-2025\n",
      "Machine learning 1 DSBA 2024/2025\n",
      "Databases 2024/25\n",
      "Optimisation methods 2024/25\n",
      "Research Seminar \"Data Science in scientific\"\n",
      "Research Seminar \"Data Analysis in Finance 1\"\n",
      "Financial Engineering 2024-2025\n",
      "Sociology of financial behaviour DSBA 2024/25\n",
      "Financial Economics DSBA 2024/25\n",
      "Philosophy of artificial intelligence DSBA 2024/25\n",
      "Introduction to the Study of Language for Computer Scientists\n",
      "Statistics for Market Research 2023-24\n",
      "Decision Making Strategy 2023-2024\n",
      "Asset Pricing and Financial Markets 2023-2024\n",
      "Core management concepts\n",
      "Machine learning 2 DSBA 2024/2025\n",
      "Research Seminar \"Mathematical and Computational Engineering in Science and Business 2\"\n",
      "Research Seminar \"Data Analysis in Finance 2\"\n",
      "Research Seminar \"Data Analysis in the Natural Sciences\"\n",
      "Research Seminar \"Risk-Management\"\n",
      "Quantitative finance DSBA 2024/25\n",
      "Agile Basics: Product Management and Teamwork\n",
      "КНАД\n",
      "Дискретная математика КНАД 24/25\n",
      "Математический анализ КНАД 24/25\n",
      "Линейная алгебра КНАД 24/25\n",
      "Программирование на Python КНАД 24/25\n",
      "Алгоритмы и структуры данных - 1 2024/2025 2 модуль (ЭАД КНАД ВСН)\n",
      "Алгоритмы и структуры данных - 1 2024/2025 4 модуль (ЭАД КНАД ВСН)\n",
      "Python для сбора и анализа данных КНАД 24/25\n",
      "Программирование на С++ КНАД 24/25\n",
      "Инструменты промышленной разработки\n",
      "Алгебра\n",
      "Математический анализ -- 2\n",
      "Алгоритмы и структуры данных 2\n",
      "Теория вероятностей\n",
      "Архитектура Компьютера и Операционные Системы\n",
      "Математическая статистика\n",
      "Численные методы\n",
      "ДРИП\n",
      "Дискретная математика (ДРИП)\n",
      "Курсы в рамках проекта\n",
      "Data Culture\n",
      "Осенний семестр\n",
      "Весенний семестр\n",
      "Курсы магистратуры ФКН\n",
      "Mathematical foundations of probability theory\n",
      "Math of Machine Learning, MML\n",
      "1 year\n",
      "Курсы других факультетов\n",
      "Дисциплина\n",
      "Курс\n",
      "Период\n",
      "Data Science for Economics 2024\n",
      "icef, 3-4 year\n",
      "1-2 module\n",
      "Stochastic Calculus Fall 2024\n",
      "icef, master 1 year\n",
      "2 module\n",
      "Архив\n",
      "Курсы за 2023/24 учебный год\n",
      "1 курс\n",
      "2 курс\n",
      "3 курс\n",
      "4 курс\n",
      "майноры и факультативы\n",
      "ПМИ\n",
      "М+\n",
      "Линейная алгебра и геометрия (пилотный поток)\n",
      "Математический анализ-1 (пилотный поток)\n",
      "Дискретная математика (пилотный поток)\n",
      "Алгебра (пилотный поток)\n",
      "Теория чисел (пилотный поток)\n",
      "М\n",
      "Линейная алгебра и геометрия (основной поток)\n",
      "Математический анализ-1 (ПМИ основной поток)\n",
      "Математический анализ-1 (ЭАД)\n",
      "Дискретная математика (ПМИ основной поток)\n",
      "Дискретная математика (ЭАД)\n",
      "Алгебра (основной поток)\n",
      "Теория чисел (основной поток)\n",
      "П+\n",
      "Алгоритмы и структуры данных (пилотный поток)\n",
      "П\n",
      "Язык программирования Python 2023/24 (основной поток)\n",
      "Алгоритмы и структуры данных 1 (основной поток) (4 модуль) 2023/2024\n",
      "М+\n",
      "Математическая статистика (пилотный поток)\n",
      "Теория вероятностей (пилотный поток)\n",
      "Математический анализ - 2 (пилотный поток)\n",
      "М\n",
      "Математическая статистика (основной поток)\n",
      "Теория вероятностей (основной поток)\n",
      "Математический анализ - 2 (основной поток) ПМИ и ЭАД\n",
      "П+ и П\n",
      "Архитектура компьютеров и операционные системы\n",
      "Алгоритмы и структуры данных - 2\n",
      "Инструменты промышленной разработки 2022/2023\n",
      "1 из 3:\n",
      "Язык программирования C++ (углубленный курс)\n",
      "Продвинутый Python\n",
      "Язык программирования Rust 2023/24\n",
      "2 из 5:\n",
      "Дискретная математика - 2 (ПМИ) 2023/24\n",
      "Дифференциальные уравнения (ПМИ) 2023/24\n",
      "Основы матричных вычислений 2023/24\n",
      "Комплексный анализ 2023/24\n",
      "Функциональный анализ 2023/24\n",
      "Машинное обучение 1\n",
      "Operation Research and Game Theory\n",
      "Statistical Learning Theory\n",
      "Функциональное программирование\n",
      "Основы тензорных вычислений\n",
      "Введение в глубинное обучение 23/24\n",
      "Математическое моделирование 2023/24\n",
      "Моделирование временных рядов 2023/24\n",
      "Теория чисел и криптография\n",
      "Методы оптимизации\n",
      "Уравнения с частными производными (2023-2024)\n",
      "Алгоритмы во внешней памяти\n",
      "Рекомендательные системы\n",
      "Машинное обучение в прикладных задачах\n",
      "ПМИ / МОП\n",
      "Машинное обучение 2\n",
      "Прикладная статистика в машинном обучении 23/24\n",
      "Стохастический анализ (весна 2024)\n",
      "НИС Машинное обучение и приложения 3 курс\n",
      "Глубинное обучение 1 23/24\n",
      "Методы оптимизации в машинном обучении 2023/24\n",
      "ПМИ / РС\n",
      "Компьютерные сети\n",
      "Сервис-ориентированные архитектуры\n",
      "НИС Распределенные системы\n",
      "Распределенные системы\n",
      "Database Systems 2023/24\n",
      "ПМИ / ТИ\n",
      "Theory of Computation\n",
      "НИС Теоретическая информатика\n",
      "Комбинаторные конструкции в теоретической информатике\n",
      "[ ВКР]\n",
      "Случайные процессы (зима 2023)\n",
      "Функциональное программирование\n",
      "Промышленное программирование на Haskell\n",
      "Основы тензорных вычислений\n",
      "Глубинное обучение в обработке звука\n",
      "Глубинное обучение для текстовых данных\n",
      "Методы предобучения без учителя\n",
      "Символьные вычисления\n",
      "Эффективные системы глубинного обучения\n",
      "Теория и практика онлайн-экспериментов\n",
      "Децентрализованные системы\n",
      "Введение в дифференциальную геометрию\n",
      "Дизайн систем\n",
      "Типы в языках программирования\n",
      "Алгоритмы во внешней памяти\n",
      "ПМИ / МОП\n",
      "НИС Машинное обучение и приложения 4 курс\n",
      "Глубинное обучение\n",
      "Глубинное обучение в анализе графовых данных\n",
      "Машинное обучение для больших данных\n",
      "ПМИ / РС\n",
      "НИС Распределенные системы 2\n",
      "ПМИ / ТИ\n",
      "A Theorist's Toolkit, AMI\n",
      "Односторонние функции и их применения\n",
      "Теория информации\n",
      "Выпуклое программирование и аппроксимационные алгоритмы\n",
      "НИС Теоретическая информатика\n",
      "Биоинформатика 1 год 2023/24\n",
      "Биоинформатика 2 год 2023/24\n",
      "Основы глубинного обучения (майнор ИАД)\n",
      "Генеративные модели на основе ODE и SDE\n",
      "Введение в программирование 23/24. Python (майнор ИАД)\n",
      "Основы машинного обучения (майнор ИАД)\n",
      "Прикладные задачи анализа данных (майнор ИАД))\n",
      "Криптография на решётках 23/24\n",
      "ПИ\n",
      "Дискретная математика\n",
      "Алгебра\n",
      "Математический анализ\n",
      "Алгоритмы и структуры данных на ПИ\n",
      "Теория вероятностей и математическая статистика\n",
      "НИС Методы и алгоритмы защиты информации\n",
      "Принципы статического анализа исходного кода\n",
      "ПАД\n",
      "Algebra (DSBA)\n",
      "Calculus (DSBA)\n",
      "English (DSBA)\n",
      "LAaG (DSBA)\n",
      "Discrete Mathematics (DSBA)\n",
      "Python Programming (DSBA)\n",
      "C++ Programming Language (DSBA)\n",
      "Law DSBA 2023/24\n",
      "Introduction to Economics DSBA 2023/24\n",
      "Discrete Mathematics 2 (DSBA)\n",
      "Business and Management in Global Context 23/24\n",
      "Calculus-2 2023/24\n",
      "Algorithms and Data Structures\n",
      "Probability and Statistics (DSBA) 2023/24\n",
      "Introduction to Micro and Macroeconomics DSBA 2022/2023\n",
      "Differential Equations 2023/24\n",
      "Computer Architecture and Operating Systems\n",
      "Time series and stochastic processes 2023-24\n",
      "Elements of Econometrics\n",
      "Business Analytics and Financial Engineering 2023-2024\n",
      "Machine learning 1 DSBA 2023/2024\n",
      "Databases 2023/24\n",
      "Optimisation methods 2023/24\n",
      "Research Seminar \"Data Science in scientific\"\n",
      "Research Seminar \"Data Analysis in Finance 1\"\n",
      "Financial Engineering 2023-2024\n",
      "Sociology of financial behaviour DSBA 2023/24\n",
      "Financial Economics DSBA 2023/24\n",
      "Philosophy of artificial intelligence DSBA 2023/24\n",
      "Introduction to the Study of Language for Computer Scientists\n",
      "Statistics for Market Research 2023-24\n",
      "Decision Making Strategy 2023-2024\n",
      "Asset Pricing and Financial Markets 2023-2024\n",
      "Core management concepts\n",
      "Machine learning 2 DSBA 2023/2024\n",
      "Research Seminar \"Mathematical and Computational Engineering in Science and Business 2\"\n",
      "Research Seminar \"Data Analysis in Finance 2\"\n",
      "Research Seminar \"Data Analysis in the Natural Sciences\"\n",
      "Research Seminar \"Risk-Management\"\n",
      "Quantitative finance DSBA 2023/24\n",
      "Agile Basics: Product Management and Teamwork\n",
      "КНАД\n",
      "Дискретная математика КНАД 23/24\n",
      "Математический анализ КНАД 23/24\n",
      "Линейная алгебра КНАД 23/24\n",
      "Программирование на Python КНАД 23/24\n",
      "Алгоритмы и структуры данных - 1 2023/2024 2 модуль (ЭАД КНАД ВСН)\n",
      "Алгоритмы и структуры данных - 1 2023/2024 4 модуль (ЭАД КНАД ВСН)\n",
      "Python для сбора и анализа данных КНАД 23/24\n",
      "Программирование на С++ КНАД 23/24\n",
      "Инструменты промышленной разработки\n",
      "Алгебра\n",
      "Математический анализ -- 2\n",
      "Алгоритмы и структуры данных 2\n",
      "Теория вероятностей\n",
      "Архитектура Компьютера и Операционные Системы\n",
      "Математическая статистика\n",
      "Численные методы\n",
      "Курсы в рамках проекта\n",
      "Data Culture\n",
      "Осенний семестр\n",
      "Весенний семестр\n",
      "Основы Python для юристов 23/24\n",
      "(2 курс, 1-2 модуль)\n",
      "Цифровая грамотность для журналистов\n",
      "(1 курс, 1-2 модуль)\n",
      "Цифровая грамотность для медиакоммуникаций\n",
      "(1 курс, 1-2 модуль)\n",
      "Основы Python для дизайнеров 23/24\n",
      "(2 курс, 3-4 модуль)\n",
      "Основы Python для политологов 23/24\n",
      "(1 курс, 3-4 модуль)\n",
      "Основы Python для ГМУ 23/24\n",
      "(1 курс, 3-4 модуль)\n",
      "Основы Python для ОП Актер и ОП Кинопроизводство 23/24\n",
      "(2 курс, 3 модуль)\n",
      "Программирование на Python для ОП Экономический анализ 23/24\n",
      "(2 курс, 3 модуль)\n",
      "Программирование на Python для международных отношений 23/24\n",
      "(2 курс, 3 модуль)\n",
      "Основы Python для социологов 23/24\n",
      "(1 курс, 4 модуль)\n",
      "Программирование на языке Python_РиСО/Стратегия и продюсирование в коммуникациях_23/24\n",
      "(2 курс, 3 модуль)\n",
      "Машинное обучение_МатФак_23/24\n",
      "Курсы магистратуры ФКН\n",
      "НИС Теоретическая информатика\n",
      "СКН\n",
      "Рекомендательные системы\n",
      "ФТИАД\n",
      "2 year\n",
      "Mathematical foundations of probability theory\n",
      "Math of Machine Learning, MML\n",
      "1 year\n",
      "Markov Chains\n",
      "Markov Chains, MML\n",
      "1 year\n",
      "Reinforcement Learning\n",
      "Math of Machine Learning, MML\n",
      "2 year\n",
      "Theoretical computer science\n",
      "PhD\n",
      "1 year\n",
      "Курсы других факультетов\n",
      "Дисциплина\n",
      "Курс\n",
      "Период\n",
      "Эконометрика ип 2024-25\n",
      "фэн, 3 курс\n",
      "1-4 модуль\n",
      "Эконометрика ип 2023-24\n",
      "фэн, 3 курс\n",
      "1-4 модуль\n",
      "Теория вероятностей и математическая статистика 2023-24\n",
      "фэн, 2 курс\n",
      "1-4 модуль\n",
      "Data Science for Economists, fall 2023\n",
      "icef, 3-4 year\n",
      "1-2 modules\n",
      "Stochastic Calculus, fall 2023\n",
      "icef, master 1 year\n",
      "2 module\n",
      "Факультативы\n",
      "Дисциплина\n",
      "Период\n",
      "Эллиптические функции\n",
      "1-2 модуль\n",
      "Архив до 2022/23 учебного года включительно\n",
      "Wiki ФКН/Архив\n",
      "Источник — «\n",
      "http://wiki.cs.hse.ru/index.php?title=Wiki_ФКН&oldid=85870\n",
      "»\n"
     ]
    }
   ],
   "source": [
    "for text in root.stripped_strings:\n",
    "    print(text)"
   ]
  },
  {
   "cell_type": "markdown",
   "metadata": {
    "id": "ZmVeZjvuy9Sv"
   },
   "source": [
    "А теперь хотим найти ссылки - достаточн частая задача.\n",
    "\n",
    "Ссылки (кликабельные) всегда находятся в тэге a. Поэтому давайте икать в них атрибут href (который задает ссылку)\n",
    "\n",
    "Внутри любого тэга можно достать атрибут с помощью get():"
   ]
  },
  {
   "cell_type": "code",
   "execution_count": 22,
   "metadata": {
    "id": "aHTZlccYj9uV"
   },
   "outputs": [
    {
     "name": "stdout",
     "output_type": "stream",
     "text": [
      "/index.php?title=%D0%97%D0%B0%D0%B3%D0%BB%D0%B0%D0%B2%D0%BD%D0%B0%D1%8F_%D1%81%D1%82%D1%80%D0%B0%D0%BD%D0%B8%D1%86%D0%B0&redirect=no\n",
      "#mw-navigation\n",
      "#p-search\n",
      "#bachelors\n",
      "#AMI\n",
      "#SE\n",
      "#DSBA\n",
      "#compds\n",
      "#DRIP\n",
      "#electives\n",
      "#DataCulture\n",
      "#masters\n",
      "#other\n",
      "#archive\n",
      "/%D0%9B%D0%B8%D0%BD%D0%B5%D0%B9%D0%BD%D0%B0%D1%8F_%D0%B0%D0%BB%D0%B3%D0%B5%D0%B1%D1%80%D0%B0_%D0%B8_%D0%B3%D0%B5%D0%BE%D0%BC%D0%B5%D1%82%D1%80%D0%B8%D1%8F_%D0%BD%D0%B0_%D0%9F%D0%9C%D0%98_2024/2025_(%D0%BF%D0%B8%D0%BB%D0%BE%D1%82%D0%BD%D1%8B%D0%B9_%D0%BF%D0%BE%D1%82%D0%BE%D0%BA)\n",
      "/index.php?title=%D0%9C%D0%B0%D1%82%D0%B5%D0%BC%D0%B0%D1%82%D0%B8%D1%87%D0%B5%D1%81%D0%BA%D0%B8%D0%B9_%D0%B0%D0%BD%D0%B0%D0%BB%D0%B8%D0%B7_1_2024/25_(%D0%BF%D0%B8%D0%BB%D0%BE%D1%82%D0%BD%D1%8B%D0%B9_%D0%BF%D0%BE%D1%82%D0%BE%D0%BA)&action=edit&redlink=1\n",
      "/index.php?title=%D0%94%D0%B8%D1%81%D0%BA%D1%80%D0%B5%D1%82%D0%BD%D0%B0%D1%8F_%D0%BC%D0%B0%D1%82%D0%B5%D0%BC%D0%B0%D1%82%D0%B8%D0%BA%D0%B0_%D0%BD%D0%B0_%D0%9F%D0%9C%D0%98_2024/25_(%D0%BF%D0%B8%D0%BB%D0%BE%D1%82%D0%BD%D1%8B%D0%B9_%D0%BF%D0%BE%D1%82%D0%BE%D0%BA)&action=edit&redlink=1\n",
      "/index.php?title=%D0%90%D0%BB%D0%B3%D0%B5%D0%B1%D1%80%D0%B0_%D0%BD%D0%B0_%D0%9F%D0%9C%D0%98_2024/2025_(%D0%BF%D0%B8%D0%BB%D0%BE%D1%82%D0%BD%D1%8B%D0%B9_%D0%BF%D0%BE%D1%82%D0%BE%D0%BA)&action=edit&redlink=1\n",
      "/index.php?title=%D0%A2%D0%B5%D0%BE%D1%80%D0%B8%D1%8F_%D1%87%D0%B8%D1%81%D0%B5%D0%BB_(%D0%BF%D0%B8%D0%BB%D0%BE%D1%82%D0%BD%D1%8B%D0%B9_%D0%BF%D0%BE%D1%82%D0%BE%D0%BA)_2024/25&action=edit&redlink=1\n",
      "/%D0%9B%D0%B8%D0%BD%D0%B5%D0%B9%D0%BD%D0%B0%D1%8F_%D0%B0%D0%BB%D0%B3%D0%B5%D0%B1%D1%80%D0%B0_%D0%B8_%D0%B3%D0%B5%D0%BE%D0%BC%D0%B5%D1%82%D1%80%D0%B8%D1%8F_%D0%BD%D0%B0_%D0%9F%D0%9C%D0%98_2024/2025_(%D0%BE%D1%81%D0%BD%D0%BE%D0%B2%D0%BD%D0%BE%D0%B9_%D0%BF%D0%BE%D1%82%D0%BE%D0%BA)\n",
      "/%D0%9C%D0%B0%D1%82%D0%B5%D0%BC%D0%B0%D1%82%D0%B8%D1%87%D0%B5%D1%81%D0%BA%D0%B8%D0%B9_%D0%B0%D0%BD%D0%B0%D0%BB%D0%B8%D0%B7_1_2024/25_(%D0%BE%D1%81%D0%BD%D0%BE%D0%B2%D0%BD%D0%BE%D0%B9_%D0%BF%D0%BE%D1%82%D0%BE%D0%BA)\n",
      "/%D0%9C%D0%B0%D1%82%D0%B5%D0%BC%D0%B0%D1%82%D0%B8%D1%87%D0%B5%D1%81%D0%BA%D0%B8%D0%B9_%D0%B0%D0%BD%D0%B0%D0%BB%D0%B8%D0%B7_1_2024/25_(%D0%BE%D1%81%D0%BD%D0%BE%D0%B2%D0%BD%D0%BE%D0%B9_%D0%BF%D0%BE%D1%82%D0%BE%D0%BA)_%D0%AD%D0%90%D0%94\n",
      "/DM1PMIbase-2024-25\n",
      "/DM1EAD-2024-25\n",
      "/index.php?title=%D0%90%D0%BB%D0%B3%D0%B5%D0%B1%D1%80%D0%B0_%D0%BD%D0%B0_%D0%9F%D0%9C%D0%98_2024/2025_(%D0%BE%D1%81%D0%BD%D0%BE%D0%B2%D0%BD%D0%BE%D0%B9_%D0%BF%D0%BE%D1%82%D0%BE%D0%BA)&action=edit&redlink=1\n",
      "/index.php?title=%D0%A2%D0%B5%D0%BE%D1%80%D0%B8%D1%8F_%D1%87%D0%B8%D1%81%D0%B5%D0%BB_(%D0%BE%D1%81%D0%BD%D0%BE%D0%B2%D0%BD%D0%BE%D0%B9_%D0%BF%D0%BE%D1%82%D0%BE%D0%BA)_2024/25&action=edit&redlink=1\n",
      "/index.php?title=%D0%90%D0%BB%D0%B3%D0%BE%D1%80%D0%B8%D1%82%D0%BC%D1%8B_%D0%B8_%D1%81%D1%82%D1%80%D1%83%D0%BA%D1%82%D1%83%D1%80%D1%8B_%D0%B4%D0%B0%D0%BD%D0%BD%D1%8B%D1%85_%D0%BF%D0%B8%D0%BB%D0%BE%D1%82%D0%BD%D1%8B%D0%B9_%D0%BF%D0%BE%D1%82%D0%BE%D0%BA_2024/2025&action=edit&redlink=1\n",
      "/%D0%AF%D0%B7%D1%8B%D0%BA_%D0%BF%D1%80%D0%BE%D0%B3%D1%80%D0%B0%D0%BC%D0%BC%D0%B8%D1%80%D0%BE%D0%B2%D0%B0%D0%BD%D0%B8%D1%8F_Python_2024/25_(%D0%BE%D1%81%D0%BD%D0%BE%D0%B2%D0%BD%D0%BE%D0%B9_%D0%BF%D0%BE%D1%82%D0%BE%D0%BA)\n",
      "/index.php?title=%D0%90%D0%BB%D0%B3%D0%BE%D1%80%D0%B8%D1%82%D0%BC%D1%8B_%D0%B8_%D1%81%D1%82%D1%80%D1%83%D0%BA%D1%82%D1%83%D1%80%D1%8B_%D0%B4%D0%B0%D0%BD%D0%BD%D1%8B%D1%85_1_(%D0%BE%D1%81%D0%BD%D0%BE%D0%B2%D0%BD%D0%BE%D0%B9_%D0%BF%D0%BE%D1%82%D0%BE%D0%BA)_(4_%D0%BC%D0%BE%D0%B4%D1%83%D0%BB%D1%8C)_2024/2025&action=edit&redlink=1\n",
      "/index.php?title=%D0%9C%D0%B0%D1%82%D0%B5%D0%BC%D0%B0%D1%82%D0%B8%D1%87%D0%B5%D1%81%D0%BA%D0%B0%D1%8F_%D1%81%D1%82%D0%B0%D1%82%D0%B8%D1%81%D1%82%D0%B8%D0%BA%D0%B0_2024/25_(%D0%BF%D0%B8%D0%BB%D0%BE%D1%82%D0%BD%D1%8B%D0%B9_%D0%BF%D0%BE%D1%82%D0%BE%D0%BA)&action=edit&redlink=1\n",
      "/%D0%A2%D0%B5%D0%BE%D1%80%D0%B8%D1%8F_%D0%B2%D0%B5%D1%80%D0%BE%D1%8F%D1%82%D0%BD%D0%BE%D1%81%D1%82%D0%B5%D0%B9_2024/25_(%D0%BF%D0%B8%D0%BB%D0%BE%D1%82%D0%BD%D1%8B%D0%B9_%D0%BF%D0%BE%D1%82%D0%BE%D0%BA)\n",
      "/%D0%9C%D0%B0%D1%82%D0%B5%D0%BC%D0%B0%D1%82%D0%B8%D1%87%D0%B5%D1%81%D0%BA%D0%B8%D0%B9_%D0%90%D0%BD%D0%B0%D0%BB%D0%B8%D0%B7_2_%D0%BD%D0%B0_%D0%9F%D0%9C%D0%98_2024/25_(%D0%BF%D0%B8%D0%BB%D0%BE%D1%82%D0%BD%D1%8B%D0%B9_%D0%BF%D0%BE%D1%82%D0%BE%D0%BA)\n",
      "/index.php?title=%D0%9C%D0%B0%D1%82%D0%B5%D0%BC%D0%B0%D1%82%D0%B8%D1%87%D0%B5%D1%81%D0%BA%D0%B0%D1%8F_%D1%81%D1%82%D0%B0%D1%82%D0%B8%D1%81%D1%82%D0%B8%D0%BA%D0%B0_2024/25_(%D0%BE%D1%81%D0%BD%D0%BE%D0%B2%D0%BD%D0%BE%D0%B9_%D0%BF%D0%BE%D1%82%D0%BE%D0%BA)&action=edit&redlink=1\n",
      "/%D0%A2%D0%B5%D0%BE%D1%80%D0%B8%D1%8F_%D0%B2%D0%B5%D1%80%D0%BE%D1%8F%D1%82%D0%BD%D0%BE%D1%81%D1%82%D0%B5%D0%B9_2024/25_(%D0%BE%D1%81%D0%BD%D0%BE%D0%B2%D0%BD%D0%BE%D0%B9_%D0%BF%D0%BE%D1%82%D0%BE%D0%BA)\n",
      "/%D0%9C%D0%B0%D1%82%D0%B5%D0%BC%D0%B0%D1%82%D0%B8%D1%87%D0%B5%D1%81%D0%BA%D0%B8%D0%B9_%D0%B0%D0%BD%D0%B0%D0%BB%D0%B8%D0%B7_-_2_(2024/25)\n",
      "/index.php?title=CAOS-2024/25&action=edit&redlink=1\n",
      "/%D0%90%D0%BB%D0%B3%D0%BE%D1%80%D0%B8%D1%82%D0%BC%D1%8B_%D0%B8_%D1%81%D1%82%D1%80%D1%83%D0%BA%D1%82%D1%83%D1%80%D1%8B_%D0%B4%D0%B0%D0%BD%D0%BD%D1%8B%D1%85_2_2024/25\n",
      "/index.php?title=%D0%98%D0%BD%D1%81%D1%82%D1%80%D1%83%D0%BC%D0%B5%D0%BD%D1%82%D1%8B_%D0%BF%D1%80%D0%BE%D0%BC%D1%8B%D1%88%D0%BB%D0%B5%D0%BD%D0%BD%D0%BE%D0%B9_%D1%80%D0%B0%D0%B7%D1%80%D0%B0%D0%B1%D0%BE%D1%82%D0%BA%D0%B8_2024/2025&action=edit&redlink=1\n",
      "/%D0%AF%D0%B7%D1%8B%D0%BA_%D0%BF%D1%80%D0%BE%D0%B3%D1%80%D0%B0%D0%BC%D0%BC%D0%B8%D1%80%D0%BE%D0%B2%D0%B0%D0%BD%D0%B8%D1%8F_C%2B%2B_(%D1%83%D0%B3%D0%BB%D1%83%D0%B1%D0%BB%D0%B5%D0%BD%D0%BD%D1%8B%D0%B9_%D0%BA%D1%83%D1%80%D1%81)_2024/25\n",
      "/index.php?title=%D0%9F%D1%80%D0%BE%D0%B4%D0%B2%D0%B8%D0%BD%D1%83%D1%82%D1%8B%D0%B9_Python_2024/25&action=edit&redlink=1\n",
      "/index.php?title=%D0%AF%D0%B7%D1%8B%D0%BA_%D0%BF%D1%80%D0%BE%D0%B3%D1%80%D0%B0%D0%BC%D0%BC%D0%B8%D1%80%D0%BE%D0%B2%D0%B0%D0%BD%D0%B8%D1%8F_Rust_2024/25&action=edit&redlink=1\n",
      "/index.php?title=%D0%94%D0%B8%D1%81%D0%BA%D1%80%D0%B5%D1%82%D0%BD%D0%B0%D1%8F_%D0%BC%D0%B0%D1%82%D0%B5%D0%BC%D0%B0%D1%82%D0%B8%D0%BA%D0%B0_-_2_(%D0%9F%D0%9C%D0%98)_2024/25&action=edit&redlink=1\n",
      "/index.php?title=%D0%94%D0%B8%D1%84%D1%84%D0%B5%D1%80%D0%B5%D0%BD%D1%86%D0%B8%D0%B0%D0%BB%D1%8C%D0%BD%D1%8B%D0%B5_%D1%83%D1%80%D0%B0%D0%B2%D0%BD%D0%B5%D0%BD%D0%B8%D1%8F_(%D0%9F%D0%9C%D0%98)_2024/25&action=edit&redlink=1\n",
      "/index.php?title=%D0%9E%D1%81%D0%BD%D0%BE%D0%B2%D1%8B_%D0%BC%D0%B0%D1%82%D1%80%D0%B8%D1%87%D0%BD%D1%8B%D1%85_%D0%B2%D1%8B%D1%87%D0%B8%D1%81%D0%BB%D0%B5%D0%BD%D0%B8%D0%B9_2024/25&action=edit&redlink=1\n",
      "/index.php?title=%D0%9A%D0%BE%D0%BC%D0%BF%D0%BB%D0%B5%D0%BA%D1%81%D0%BD%D1%8B%D0%B9_%D0%B0%D0%BD%D0%B0%D0%BB%D0%B8%D0%B7_2024/25&action=edit&redlink=1\n",
      "/index.php?title=%D0%A4%D1%83%D0%BD%D0%BA%D1%86%D0%B8%D0%BE%D0%BD%D0%B0%D0%BB%D1%8C%D0%BD%D1%8B%D0%B9_%D0%B0%D0%BD%D0%B0%D0%BB%D0%B8%D0%B7_2024/25&action=edit&redlink=1\n",
      "/%D0%9C%D0%B0%D1%88%D0%B8%D0%BD%D0%BD%D0%BE%D0%B5_%D0%BE%D0%B1%D1%83%D1%87%D0%B5%D0%BD%D0%B8%D0%B5_1\n",
      "/Operation_Research_and_Game_Theory\n",
      "/index.php?title=Statistical_learning_theory_2024/25&action=edit&redlink=1\n",
      "/index.php?title=%D0%A4%D1%83%D0%BD%D0%BA%D1%86%D0%B8%D0%BE%D0%BD%D0%B0%D0%BB%D1%8C%D0%BD%D0%BE%D0%B5_%D0%BF%D1%80%D0%BE%D0%B3%D1%80%D0%B0%D0%BC%D0%BC%D0%B8%D1%80%D0%BE%D0%B2%D0%B0%D0%BD%D0%B8%D0%B5_24-25&action=edit&redlink=1\n",
      "/index.php?title=%D0%9E%D1%81%D0%BD%D0%BE%D0%B2%D1%8B_%D1%82%D0%B5%D0%BD%D0%B7%D0%BE%D1%80%D0%BD%D1%8B%D1%85_%D0%B2%D1%8B%D1%87%D0%B8%D1%81%D0%BB%D0%B5%D0%BD%D0%B8%D0%B9_(2024/25)&action=edit&redlink=1\n",
      "/index.php?title=%D0%93%D0%BB%D1%83%D0%B1%D0%B8%D0%BD%D0%BD%D0%BE%D0%B5_%D0%BE%D0%B1%D1%83%D1%87%D0%B5%D0%BD%D0%B8%D0%B5_1_24/25&action=edit&redlink=1\n",
      "/index.php?title=%D0%9C%D0%B0%D1%82%D0%B5%D0%BC%D0%B0%D1%82%D0%B8%D1%87%D0%B5%D1%81%D0%BA%D0%BE%D0%B5_%D0%BC%D0%BE%D0%B4%D0%B5%D0%BB%D0%B8%D1%80%D0%BE%D0%B2%D0%B0%D0%BD%D0%B8%D0%B5_2024/25&action=edit&redlink=1\n",
      "/index.php?title=%D0%9C%D0%BE%D0%B4%D0%B5%D0%BB%D0%B8%D1%80%D0%BE%D0%B2%D0%B0%D0%BD%D0%B8%D0%B5_%D0%B2%D1%80%D0%B5%D0%BC%D0%B5%D0%BD%D0%BD%D1%8B%D1%85_%D1%80%D1%8F%D0%B4%D0%BE%D0%B2_2024/25&action=edit&redlink=1\n",
      "/index.php?title=%D0%A2%D0%B5%D0%BE%D1%80%D0%B8%D1%8F_%D1%87%D0%B8%D1%81%D0%B5%D0%BB_%D0%B8_%D0%BA%D1%80%D0%B8%D0%BF%D1%82%D0%BE%D0%B3%D1%80%D0%B0%D1%84%D0%B8%D1%8F_2024/25&action=edit&redlink=1\n",
      "/index.php?title=%D0%9C%D0%B5%D1%82%D0%BE%D0%B4%D1%8B_%D0%BE%D0%BF%D1%82%D0%B8%D0%BC%D0%B8%D0%B7%D0%B0%D1%86%D0%B8%D0%B8_24/25&action=edit&redlink=1\n",
      "/index.php?title=%D0%A3%D1%80%D0%B0%D0%B2%D0%BD%D0%B5%D0%BD%D0%B8%D1%8F_%D1%81_%D1%87%D0%B0%D1%81%D1%82%D0%BD%D1%8B%D0%BC%D0%B8_%D0%BF%D1%80%D0%BE%D0%B8%D0%B7%D0%B2%D0%BE%D0%B4%D0%BD%D1%8B%D0%BC%D0%B8_(2024-2025)&action=edit&redlink=1\n",
      "/index.php?title=ExtMem_24&action=edit&redlink=1\n",
      "/%D0%A0%D0%B5%D0%BA%D0%BE%D0%BC%D0%B5%D0%BD%D0%B4%D0%B0%D1%82%D0%B5%D0%BB%D1%8C%D0%BD%D1%8B%D0%B5_%D1%81%D0%B8%D1%81%D1%82%D0%B5%D0%BC%D1%8B\n",
      "/%D0%9C%D0%B0%D1%88%D0%B8%D0%BD%D0%BD%D0%BE%D0%B5_%D0%BE%D0%B1%D1%83%D1%87%D0%B5%D0%BD%D0%B8%D0%B5_%D0%B2_%D0%BF%D1%80%D0%B8%D0%BA%D0%BB%D0%B0%D0%B4%D0%BD%D1%8B%D1%85_%D0%B7%D0%B0%D0%B4%D0%B0%D1%87%D0%B0%D1%85\n",
      "/%D0%9C%D0%B0%D1%88%D0%B8%D0%BD%D0%BD%D0%BE%D0%B5_%D0%BE%D0%B1%D1%83%D1%87%D0%B5%D0%BD%D0%B8%D0%B5_2\n",
      "/%D0%9F%D1%80%D0%B8%D0%BA%D0%BB%D0%B0%D0%B4%D0%BD%D0%B0%D1%8F_%D1%81%D1%82%D0%B0%D1%82%D0%B8%D1%81%D1%82%D0%B8%D0%BA%D0%B0_%D0%B2_%D0%BC%D0%B0%D1%88%D0%B8%D0%BD%D0%BD%D0%BE%D0%BC_%D0%BE%D0%B1%D1%83%D1%87%D0%B5%D0%BD%D0%B8%D0%B8_24/25\n",
      "/index.php?title=%D0%A1%D1%82%D0%BE%D1%85%D0%B0%D1%81%D1%82%D0%B8%D1%87%D0%B5%D1%81%D0%BA%D0%B8%D0%B9_%D0%B0%D0%BD%D0%B0%D0%BB%D0%B8%D0%B7_(%D0%B2%D0%B5%D1%81%D0%BD%D0%B0_2025)&action=edit&redlink=1\n",
      "/index.php?title=%D0%9D%D0%98%D0%A1_%D0%9C%D0%B0%D1%88%D0%B8%D0%BD%D0%BD%D0%BE%D0%B5_%D0%BE%D0%B1%D1%83%D1%87%D0%B5%D0%BD%D0%B8%D0%B5_%D0%B8_%D0%BF%D1%80%D0%B8%D0%BB%D0%BE%D0%B6%D0%B5%D0%BD%D0%B8%D1%8F_3_%D0%BA%D1%83%D1%80%D1%81_2024/2025&action=edit&redlink=1\n",
      "/index.php?title=%D0%93%D0%BB%D1%83%D0%B1%D0%B8%D0%BD%D0%BD%D0%BE%D0%B5_%D0%BE%D0%B1%D1%83%D1%87%D0%B5%D0%BD%D0%B8%D0%B5_1_24/25&action=edit&redlink=1\n",
      "https://hse24.fmin.xyz\n",
      "/%D0%9A%D0%BE%D0%BC%D0%BF%D1%8C%D1%8E%D1%82%D0%B5%D1%80%D0%BD%D1%8B%D0%B5_%D1%81%D0%B5%D1%82%D0%B8\n",
      "/%D0%A1%D0%B5%D1%80%D0%B2%D0%B8%D1%81-%D0%BE%D1%80%D0%B8%D0%B5%D0%BD%D1%82%D0%B8%D1%80%D0%BE%D0%B2%D0%B0%D0%BD%D0%BD%D1%8B%D0%B5_%D0%B0%D1%80%D1%85%D0%B8%D1%82%D0%B5%D0%BA%D1%82%D1%83%D1%80%D1%8B\n",
      "https://osukhoroslov-hse.notion.site/2da6d9d4dc5944e59414daea40376d96\n",
      "/index.php?title=Distributed_Systems_2024&action=edit&redlink=1\n",
      "/index.php?title=Database_Systems_2024/25&action=edit&redlink=1\n",
      "/index.php?title=Theory_of_Computation_2024&action=edit&redlink=1\n",
      "/NIS-TCS-24-25\n",
      "/index.php?title=KKTI-24-25&action=edit&redlink=1\n",
      "/index.php?title=%D0%A1%D1%82%D0%BE%D1%85%D0%B0%D1%81%D1%82%D0%B8%D1%87%D0%B5%D1%81%D0%BA%D0%B8%D0%B9_%D0%B0%D0%BD%D0%B0%D0%BB%D0%B8%D0%B7_(%D0%B2%D0%B5%D1%81%D0%BD%D0%B0_2025)&action=edit&redlink=1\n",
      "/index.php?title=%D0%A4%D1%83%D0%BD%D0%BA%D1%86%D0%B8%D0%BE%D0%BD%D0%B0%D0%BB%D1%8C%D0%BD%D0%BE%D0%B5_%D0%BF%D1%80%D0%BE%D0%B3%D1%80%D0%B0%D0%BC%D0%BC%D0%B8%D1%80%D0%BE%D0%B2%D0%B0%D0%BD%D0%B8%D0%B5_24-25&action=edit&redlink=1\n",
      "/index.php?title=Haskell_25&action=edit&redlink=1\n",
      "/index.php?title=%D0%9E%D1%81%D0%BD%D0%BE%D0%B2%D1%8B_%D1%82%D0%B5%D0%BD%D0%B7%D0%BE%D1%80%D0%BD%D1%8B%D1%85_%D0%B2%D1%8B%D1%87%D0%B8%D1%81%D0%BB%D0%B5%D0%BD%D0%B8%D0%B9_(2024/25)&action=edit&redlink=1\n",
      "/%D0%93%D0%B5%D0%BD%D0%B5%D1%80%D0%B0%D1%82%D0%B8%D0%B2%D0%BD%D1%8B%D0%B5_%D0%BC%D0%BE%D0%B4%D0%B5%D0%BB%D0%B8_%D0%BD%D0%B0_%D0%BE%D1%81%D0%BD%D0%BE%D0%B2%D0%B5_%D0%B4%D0%B8%D1%84%D1%84%D1%83%D0%B7%D0%B8%D0%B8\n",
      "/%D0%93%D0%BB%D1%83%D0%B1%D0%B8%D0%BD%D0%BD%D0%BE%D0%B5_%D0%BE%D0%B1%D1%83%D1%87%D0%B5%D0%BD%D0%B8%D0%B5_%D0%B2_%D0%BE%D0%B1%D1%80%D0%B0%D0%B1%D0%BE%D1%82%D0%BA%D0%B5_%D0%B7%D0%B2%D1%83%D0%BA%D0%B0_24/25\n",
      "/index.php?title=%D0%93%D0%BB%D1%83%D0%B1%D0%B8%D0%BD%D0%BD%D0%BE%D0%B5_%D0%BE%D0%B1%D1%83%D1%87%D0%B5%D0%BD%D0%B8%D0%B5_%D0%B4%D0%BB%D1%8F_%D1%82%D0%B5%D0%BA%D1%81%D1%82%D0%BE%D0%B2%D1%8B%D1%85_%D0%B4%D0%B0%D0%BD%D0%BD%D1%8B%D1%85_24/25&action=edit&redlink=1\n",
      "/index.php?title=%D0%9C%D0%B5%D1%82%D0%BE%D0%B4%D1%8B_%D0%BF%D1%80%D0%B5%D0%B4%D0%BE%D0%B1%D1%83%D1%87%D0%B5%D0%BD%D0%B8%D1%8F_%D0%B1%D0%B5%D0%B7_%D1%83%D1%87%D0%B8%D1%82%D0%B5%D0%BB%D1%8F_24/25&action=edit&redlink=1\n",
      "/index.php?title=%D0%A1%D0%B8%D0%BC%D0%B2%D0%BE%D0%BB%D1%8C%D0%BD%D1%8B%D0%B5_%D0%B2%D1%8B%D1%87%D0%B8%D1%81%D0%BB%D0%B5%D0%BD%D0%B8%D1%8F_24/25&action=edit&redlink=1\n",
      "/index.php?title=%D0%AD%D1%84%D1%84%D0%B5%D0%BA%D1%82%D0%B8%D0%B2%D0%BD%D1%8B%D0%B5_%D1%81%D0%B8%D1%81%D1%82%D0%B5%D0%BC%D1%8B_%D0%B3%D0%BB%D1%83%D0%B1%D0%B8%D0%BD%D0%BD%D0%BE%D0%B3%D0%BE_%D0%BE%D0%B1%D1%83%D1%87%D0%B5%D0%BD%D0%B8%D1%8F_24/25&action=edit&redlink=1\n",
      "/index.php?title=%D0%A2%D0%B5%D0%BE%D1%80%D0%B8%D1%8F_%D0%B8_%D0%BF%D1%80%D0%B0%D0%BA%D1%82%D0%B8%D0%BA%D0%B0_%D0%BE%D0%BD%D0%BB%D0%B0%D0%B9%D0%BD-%D1%8D%D0%BA%D1%81%D0%BF%D0%B5%D1%80%D0%B8%D0%BC%D0%B5%D0%BD%D1%82%D0%BE%D0%B2_24/25&action=edit&redlink=1\n",
      "/index.php?title=%D0%94%D0%B5%D1%86%D0%B5%D0%BD%D1%82%D1%80%D0%B0%D0%BB%D0%B8%D0%B7%D0%BE%D0%B2%D0%B0%D0%BD%D0%BD%D1%8B%D0%B5_%D1%81%D0%B8%D1%81%D1%82%D0%B5%D0%BC%D1%8B_2024/25&action=edit&redlink=1\n",
      "/index.php?title=%D0%92%D0%B2%D0%B5%D0%B4%D0%B5%D0%BD%D0%B8%D0%B5_%D0%B2_%D0%B4%D0%B8%D1%84%D1%84%D0%B5%D1%80%D0%B5%D0%BD%D1%86%D0%B8%D0%B0%D0%BB%D1%8C%D0%BD%D1%83%D1%8E_%D0%B3%D0%B5%D0%BE%D0%BC%D0%B5%D1%82%D1%80%D0%B8%D1%8E_24/25&action=edit&redlink=1\n",
      "/index.php?title=%D0%94%D0%B8%D0%B7%D0%B0%D0%B9%D0%BD_%D1%81%D0%B8%D1%81%D1%82%D0%B5%D0%BC_24/25&action=edit&redlink=1\n",
      "/index.php?title=Types_24&action=edit&redlink=1\n",
      "/index.php?title=ExtMem_24&action=edit&redlink=1\n",
      "/%D0%9D%D0%98%D0%A1_%D0%9C%D0%B0%D1%88%D0%B8%D0%BD%D0%BD%D0%BE%D0%B5_%D0%BE%D0%B1%D1%83%D1%87%D0%B5%D0%BD%D0%B8%D0%B5_%D0%B8_%D0%BF%D1%80%D0%B8%D0%BB%D0%BE%D0%B6%D0%B5%D0%BD%D0%B8%D1%8F_4_%D0%BA%D1%83%D1%80%D1%81_2024/2025\n",
      "/index.php?title=%D0%93%D0%BB%D1%83%D0%B1%D0%B8%D0%BD%D0%BD%D0%BE%D0%B5_%D0%BE%D0%B1%D1%83%D1%87%D0%B5%D0%BD%D0%B8%D0%B5_2_2024/25&action=edit&redlink=1\n",
      "/index.php?title=%D0%93%D0%BB%D1%83%D0%B1%D0%B8%D0%BD%D0%BD%D0%BE%D0%B5_%D0%BE%D0%B1%D1%83%D1%87%D0%B5%D0%BD%D0%B8%D0%B5_%D0%B2_%D0%B0%D0%BD%D0%B0%D0%BB%D0%B8%D0%B7%D0%B5_%D0%B3%D1%80%D0%B0%D1%84%D0%BE%D0%B2%D1%8B%D1%85_%D0%B4%D0%B0%D0%BD%D0%BD%D1%8B%D1%85_24/25&action=edit&redlink=1\n",
      "/index.php?title=LSML_2024/2025&action=edit&redlink=1\n",
      "https://osukhoroslov-hse.notion.site/2-013e88a10c204059bff194f838de4ef5?pvs=4\n",
      "/index.php?title=A_Theorist%27s_Toolkit_2024_2025&action=edit&redlink=1\n",
      "/index.php?title=OWF2024&action=edit&redlink=1\n",
      "/index.php?title=InfTheory2024&action=edit&redlink=1\n",
      "/index.php?title=ConvAppr25&action=edit&redlink=1\n",
      "/NIS-TCS-24-25\n",
      "/%D0%9C%D0%B0%D0%B9%D0%BD%D0%BE%D1%80_%D0%91%D0%B8%D0%BE%D0%B8%D0%BD%D1%84%D0%BE%D1%80%D0%BC%D0%B0%D1%82%D0%B8%D0%BA%D0%B0_1_%D0%B3%D0%BE%D0%B4_2024/25\n",
      "/%D0%9C%D0%B0%D0%B9%D0%BD%D0%BE%D1%80_%D0%91%D0%B8%D0%BE%D0%B8%D0%BD%D1%84%D0%BE%D1%80%D0%BC%D0%B0%D1%82%D0%B8%D0%BA%D0%B0_2_%D0%B3%D0%BE%D0%B4_2024/25\n",
      "/%D0%9E%D1%81%D0%BD%D0%BE%D0%B2%D1%8B_%D0%B3%D0%BB%D1%83%D0%B1%D0%B8%D0%BD%D0%BD%D0%BE%D0%B3%D0%BE_%D0%BE%D0%B1%D1%83%D1%87%D0%B5%D0%BD%D0%B8%D1%8F/2024\n",
      "/index.php?title=%D0%92%D0%B2%D0%B5%D0%B4%D0%B5%D0%BD%D0%B8%D0%B5_%D0%B2_%D0%BF%D1%80%D0%BE%D0%B3%D1%80%D0%B0%D0%BC%D0%BC%D0%B8%D1%80%D0%BE%D0%B2%D0%B0%D0%BD%D0%B8%D0%B5_24/25&action=edit&redlink=1\n",
      "/Wiki_%D0%A4%D0%9A%D0%9D_%D0%9E%D1%81%D0%BD%D0%BE%D0%B2%D1%8B_%D0%BC%D0%B0%D1%88%D0%B8%D0%BD%D0%BD%D0%BE%D0%B3%D0%BE_%D0%BE%D0%B1%D1%83%D1%87%D0%B5%D0%BD%D0%B8%D1%8F_(%D0%BC%D0%B0%D0%B9%D0%BD%D0%BE%D1%80_%D0%98%D0%90%D0%94)\n",
      "/index.php?title=%D0%9F%D1%80%D0%B8%D0%BA%D0%BB%D0%B0%D0%B4%D0%BD%D1%8B%D0%B5_%D0%B7%D0%B0%D0%B4%D0%B0%D1%87%D0%B8_%D0%B0%D0%BD%D0%B0%D0%BB%D0%B8%D0%B7%D0%B0_%D0%B4%D0%B0%D0%BD%D0%BD%D1%8B%D1%85/2025&action=edit&redlink=1\n",
      "/index.php?title=%D0%9A%D1%80%D0%B8%D0%BF%D1%82%D0%BE%D0%B3%D1%80%D0%B0%D1%84%D0%B8%D1%8F_%D0%BD%D0%B0_%D1%80%D0%B5%D1%88%D1%91%D1%82%D0%BA%D0%B0%D1%85_24/25&action=edit&redlink=1\n",
      "/%D0%94%D0%B8%D1%81%D0%BA%D1%80%D0%B5%D1%82%D0%BD%D0%B0%D1%8F_%D0%BC%D0%B0%D1%82%D0%B5%D0%BC%D0%B0%D1%82%D0%B8%D0%BA%D0%B0_2024-2025\n",
      "/index.php?title=%D0%90%D0%BB%D0%B3%D0%B5%D0%B1%D1%80%D0%B0_%D0%9F%D0%98_2024-2025&action=edit&redlink=1\n",
      "/index.php?title=%D0%9C%D0%B0%D1%82%D0%B5%D0%BC%D0%B0%D1%82%D0%B8%D1%87%D0%B5%D1%81%D0%BA%D0%B8%D0%B9_%D0%B0%D0%BD%D0%B0%D0%BB%D0%B8%D0%B7_2024-2025&action=edit&redlink=1\n",
      "/index.php?title=%D0%90%D0%BB%D0%B3%D0%BE%D1%80%D0%B8%D1%82%D0%BC%D1%8B_%D0%B8_%D1%81%D1%82%D1%80%D1%83%D0%BA%D1%82%D1%83%D1%80%D1%8B_%D0%B4%D0%B0%D0%BD%D0%BD%D1%8B%D1%85_%D0%BD%D0%B0_%D0%9F%D0%98_2024/2025&action=edit&redlink=1\n",
      "/index.php?title=%D0%A2%D0%B5%D0%BE%D1%80%D0%B8%D1%8F_%D0%B2%D0%B5%D1%80%D0%BE%D1%8F%D1%82%D0%BD%D0%BE%D1%81%D1%82%D0%B5%D0%B9_%D0%B8_%D0%BC%D0%B0%D1%82%D0%B5%D0%BC%D0%B0%D1%82%D0%B8%D1%87%D0%B5%D1%81%D0%BA%D0%B0%D1%8F_%D1%81%D1%82%D0%B0%D1%82%D0%B8%D1%81%D1%82%D0%B8%D0%BA%D0%B0_2024-2025&action=edit&redlink=1\n",
      "/index.php?title=%D0%9D%D0%98%D0%A1_%D0%9C%D0%B5%D1%82%D0%BE%D0%B4%D1%8B_%D0%B8_%D0%B0%D0%BB%D0%B3%D0%BE%D1%80%D0%B8%D1%82%D0%BC%D1%8B_%D0%B7%D0%B0%D1%89%D0%B8%D1%82%D1%8B_%D0%B8%D0%BD%D1%84%D0%BE%D1%80%D0%BC%D0%B0%D1%86%D0%B8%D0%B8_2024/2025&action=edit&redlink=1\n",
      "/index.php?title=SPA_2024/25&action=edit&redlink=1\n",
      "/index.php?title=DSBA_Algebra_2024_2025&action=edit&redlink=1\n",
      "/index.php?title=Calculus_DSBA_2024/2025&action=edit&redlink=1\n",
      "/English_DSBA_2024/2025\n",
      "/index.php?title=LAaG_DSBA_2024/2025&action=edit&redlink=1\n",
      "/Discrete_Mathematics_DSBA_2024/2025\n",
      "/Python_Programming_DSBA_2024/25\n",
      "/index.php?title=C%2B%2B_Programming_Language_DSBA_2024/25&action=edit&redlink=1\n",
      "/index.php?title=Law_DSBA_2024/25&action=edit&redlink=1\n",
      "/index.php?title=Introduction_to_Economics_DSBA_2024/25&action=edit&redlink=1\n",
      "/Discrete_Mathematics_2_DSBA_2024/25\n",
      "/index.php?title=Business_and_Management_in_Global_Context_24/25&action=edit&redlink=1\n",
      "/Calculus-2_2024/25\n",
      "/Algorithms_and_Data_Structures_DSBA_2024/25\n",
      "/index.php?title=Probability_and_Statistics_(DSBA)_2024/25&action=edit&redlink=1\n",
      "/index.php?title=Introduction_to_Micro_and_Macroeconomics_DSBA_2024/2025&action=edit&redlink=1\n",
      "/index.php?title=Differential_Equations_2024/25&action=edit&redlink=1\n",
      "/index.php?title=ACOS_DSBA_2024/25&action=edit&redlink=1\n",
      "/Tssp-2024-25\n",
      "/Panda-metrics-2024-25\n",
      "/index.php?title=BAFE-2024-25&action=edit&redlink=1\n",
      "/index.php?title=Machine_learning_1_DSBA_2024/2025&action=edit&redlink=1\n",
      "/index.php?title=Databases_2024/25&action=edit&redlink=1\n",
      "/index.php?title=Optimisation_methods_2024/25&action=edit&redlink=1\n",
      "/index.php?title=MACE1_DSBA_24-25&action=edit&redlink=1\n",
      "/index.php?title=DAF1_DSBA_24-25&action=edit&redlink=1\n",
      "/index.php?title=Financial_Engineering_2024-2025&action=edit&redlink=1\n",
      "/index.php?title=Sociology_of_financial_behaviour_DSBA_2024/25&action=edit&redlink=1\n",
      "/index.php?title=Financial_Economics_DSBA_2024/25&action=edit&redlink=1\n",
      "/index.php?title=Philosophy_of_artificial_intelligence_DSBA_2024/25&action=edit&redlink=1\n",
      "/Introduction_to_the_Study_of_Language_for_Computer_Scientists\n",
      "/index.php?title=Statistics4MR-2024-25&action=edit&redlink=1\n",
      "/index.php?title=Strategy_24-25_DSBA&action=edit&redlink=1\n",
      "/index.php?title=APFM_24-25&action=edit&redlink=1\n",
      "/index.php?title=CMC_DSBA_24-25&action=edit&redlink=1\n",
      "/index.php?title=Machine_learning_2_DSBA_2024/2025&action=edit&redlink=1\n",
      "/index.php?title=MACE2_DSBA_24-25&action=edit&redlink=1\n",
      "/index.php?title=DAF2_DSBA_24-25&action=edit&redlink=1\n",
      "/index.php?title=DANS_DSBA_24-25&action=edit&redlink=1\n",
      "/index.php?title=Risk-Management_DSBA_24-25&action=edit&redlink=1\n",
      "/index.php?title=Quantitative_finance_DSBA_2024/25&action=edit&redlink=1\n",
      "/Agile_Basics:_Product_Management_and_Teamwork\n",
      "/index.php?title=%D0%94%D0%B8%D1%81%D0%BA%D1%80%D0%B5%D1%82%D0%BD%D0%B0%D1%8F_%D0%BC%D0%B0%D1%82%D0%B5%D0%BC%D0%B0%D1%82%D0%B8%D0%BA%D0%B0_%D0%9A%D0%9D%D0%90%D0%94_24/25&action=edit&redlink=1\n",
      "/index.php?title=%D0%9C%D0%B0%D1%82%D0%B5%D0%BC%D0%B0%D1%82%D0%B8%D1%87%D0%B5%D1%81%D0%BA%D0%B8%D0%B9_%D0%B0%D0%BD%D0%B0%D0%BB%D0%B8%D0%B7_%D0%9A%D0%9D%D0%90%D0%94_24/25&action=edit&redlink=1\n",
      "/%D0%9B%D0%B8%D0%BD%D0%B5%D0%B9%D0%BD%D0%B0%D1%8F_%D0%B0%D0%BB%D0%B3%D0%B5%D0%B1%D1%80%D0%B0_%D0%9A%D0%9D%D0%90%D0%94_24/25\n",
      "/index.php?title=%D0%9F%D1%80%D0%BE%D0%B3%D1%80%D0%B0%D0%BC%D0%BC%D0%B8%D1%80%D0%BE%D0%B2%D0%B0%D0%BD%D0%B8%D0%B5_%D0%BD%D0%B0_Python_%D0%9A%D0%9D%D0%90%D0%94_24/25&action=edit&redlink=1\n",
      "/index.php?title=%D0%90%D0%BB%D0%B3%D0%BE%D1%80%D0%B8%D1%82%D0%BC%D1%8B_%D0%B8_%D1%81%D1%82%D1%80%D1%83%D0%BA%D1%82%D1%83%D1%80%D1%8B_%D0%B4%D0%B0%D0%BD%D0%BD%D1%8B%D1%85_-_1_2024/2025_2_%D0%BC%D0%BE%D0%B4%D1%83%D0%BB%D1%8C_(%D0%AD%D0%90%D0%94_%D0%9A%D0%9D%D0%90%D0%94_%D0%92%D0%A1%D0%9D)&action=edit&redlink=1\n",
      "/index.php?title=%D0%90%D0%BB%D0%B3%D0%BE%D1%80%D0%B8%D1%82%D0%BC%D1%8B_%D0%B8_%D1%81%D1%82%D1%80%D1%83%D0%BA%D1%82%D1%83%D1%80%D1%8B_%D0%B4%D0%B0%D0%BD%D0%BD%D1%8B%D1%85_-_1_2024/2025_4_%D0%BC%D0%BE%D0%B4%D1%83%D0%BB%D1%8C_(%D0%AD%D0%90%D0%94_%D0%9A%D0%9D%D0%90%D0%94_%D0%92%D0%A1%D0%9D)&action=edit&redlink=1\n",
      "/index.php?title=Python_%D0%B4%D0%BB%D1%8F_%D1%81%D0%B1%D0%BE%D1%80%D0%B0_%D0%B8_%D0%B0%D0%BD%D0%B0%D0%BB%D0%B8%D0%B7%D0%B0_%D0%B4%D0%B0%D0%BD%D0%BD%D1%8B%D1%85_%D0%9A%D0%9D%D0%90%D0%94_24/25&action=edit&redlink=1\n",
      "/index.php?title=%D0%9F%D1%80%D0%BE%D0%B3%D1%80%D0%B0%D0%BC%D0%BC%D0%B8%D1%80%D0%BE%D0%B2%D0%B0%D0%BD%D0%B8%D0%B5_%D0%BD%D0%B0_%D0%A1%2B%2B_%D0%9A%D0%9D%D0%90%D0%94_24/25&action=edit&redlink=1\n",
      "/index.php?title=%D0%98%D0%9F%D0%A0_%D0%9A%D0%9D%D0%90%D0%94_24/25&action=edit&redlink=1\n",
      "/index.php?title=%D0%90%D0%BB%D0%B3%D0%B5%D0%B1%D1%80%D0%B0_%D0%9A%D0%9D%D0%90%D0%94_2024/2025&action=edit&redlink=1\n",
      "/%D0%9C%D0%B0%D1%82%D0%B5%D0%BC%D0%B0%D1%82%D0%B8%D1%87%D0%B5%D1%81%D0%BA%D0%B8%D0%B9_%D0%B0%D0%BD%D0%B0%D0%BB%D0%B8%D0%B7_--_2_(2024/25)\n",
      "/index.php?title=%D0%90%D0%BB%D0%B3%D0%BE%D1%80%D0%B8%D1%82%D0%BC%D1%8B_%D0%B8_%D1%81%D1%82%D1%80%D1%83%D0%BA%D1%82%D1%83%D1%80%D1%8B_%D0%B4%D0%B0%D0%BD%D0%BD%D1%8B%D1%85_2_%D0%9A%D0%9D%D0%90%D0%94_24/25&action=edit&redlink=1\n",
      "/index.php?title=%D0%A2%D0%B5%D0%BE%D1%80%D0%B8%D1%8F_%D0%B2%D0%B5%D1%80%D0%BE%D1%8F%D1%82%D0%BD%D0%BE%D1%81%D1%82%D0%B5%D0%B9_%D0%9A%D0%9D%D0%90%D0%94_24/25&action=edit&redlink=1\n",
      "/index.php?title=ACOS_COMPDS_2024/2025&action=edit&redlink=1\n",
      "/index.php?title=%D0%9C%D0%B0%D1%82%D0%B5%D0%BC%D0%B0%D1%82%D0%B8%D1%87%D0%B5%D1%81%D0%BA%D0%B0%D1%8F_%D1%81%D1%82%D0%B0%D1%82%D0%B8%D1%81%D1%82%D0%B8%D0%BA%D0%B0_%D0%9A%D0%9D%D0%90%D0%94_24/25&action=edit&redlink=1\n",
      "/index.php?title=%D0%A7%D0%B8%D1%81%D0%BB%D0%B5%D0%BD%D0%BD%D1%8B%D0%B5_%D0%BC%D0%B5%D1%82%D0%BE%D0%B4%D1%8B_%D0%9A%D0%9D%D0%90%D0%94_24/25&action=edit&redlink=1\n",
      "/index.php?title=DM_DRIP_24&action=edit&redlink=1\n",
      "https://www.hse.ru/dataculture/\n",
      "/MOTV_2024\n",
      "/Icef-dse-2024-fall\n",
      "/Icef-scalc-2024-fall\n",
      "/%D0%9B%D0%B8%D0%BD%D0%B5%D0%B9%D0%BD%D0%B0%D1%8F_%D0%B0%D0%BB%D0%B3%D0%B5%D0%B1%D1%80%D0%B0_%D0%B8_%D0%B3%D0%B5%D0%BE%D0%BC%D0%B5%D1%82%D1%80%D0%B8%D1%8F_%D0%BD%D0%B0_%D0%9F%D0%9C%D0%98_2023/2024_(%D0%BF%D0%B8%D0%BB%D0%BE%D1%82%D0%BD%D1%8B%D0%B9_%D0%BF%D0%BE%D1%82%D0%BE%D0%BA)\n",
      "/%D0%9C%D0%B0%D1%82%D0%B5%D0%BC%D0%B0%D1%82%D0%B8%D1%87%D0%B5%D1%81%D0%BA%D0%B8%D0%B9_%D0%B0%D0%BD%D0%B0%D0%BB%D0%B8%D0%B7_1_2023/24_(%D0%BF%D0%B8%D0%BB%D0%BE%D1%82%D0%BD%D1%8B%D0%B9_%D0%BF%D0%BE%D1%82%D0%BE%D0%BA)\n",
      "/%D0%94%D0%B8%D1%81%D0%BA%D1%80%D0%B5%D1%82%D0%BD%D0%B0%D1%8F_%D0%BC%D0%B0%D1%82%D0%B5%D0%BC%D0%B0%D1%82%D0%B8%D0%BA%D0%B0_%D0%BD%D0%B0_%D0%9F%D0%9C%D0%98_2023/24_(%D0%BF%D0%B8%D0%BB%D0%BE%D1%82%D0%BD%D1%8B%D0%B9_%D0%BF%D0%BE%D1%82%D0%BE%D0%BA)\n",
      "/%D0%90%D0%BB%D0%B3%D0%B5%D0%B1%D1%80%D0%B0_%D0%BD%D0%B0_%D0%9F%D0%9C%D0%98_2023/2024_(%D0%BF%D0%B8%D0%BB%D0%BE%D1%82%D0%BD%D1%8B%D0%B9_%D0%BF%D0%BE%D1%82%D0%BE%D0%BA)\n",
      "/%D0%A2%D0%B5%D0%BE%D1%80%D0%B8%D1%8F_%D1%87%D0%B8%D1%81%D0%B5%D0%BB_(%D0%BF%D0%B8%D0%BB%D0%BE%D1%82%D0%BD%D1%8B%D0%B9_%D0%BF%D0%BE%D1%82%D0%BE%D0%BA)_2023/24\n",
      "/%D0%9B%D0%B8%D0%BD%D0%B5%D0%B9%D0%BD%D0%B0%D1%8F_%D0%B0%D0%BB%D0%B3%D0%B5%D0%B1%D1%80%D0%B0_%D0%B8_%D0%B3%D0%B5%D0%BE%D0%BC%D0%B5%D1%82%D1%80%D0%B8%D1%8F_%D0%BD%D0%B0_%D0%9F%D0%9C%D0%98_2023/2024_(%D0%BE%D1%81%D0%BD%D0%BE%D0%B2%D0%BD%D0%BE%D0%B9_%D0%BF%D0%BE%D1%82%D0%BE%D0%BA)\n",
      "/%D0%9C%D0%B0%D1%82%D0%B5%D0%BC%D0%B0%D1%82%D0%B8%D1%87%D0%B5%D1%81%D0%BA%D0%B8%D0%B9_%D0%B0%D0%BD%D0%B0%D0%BB%D0%B8%D0%B7_1_2023/24_(%D0%BE%D1%81%D0%BD%D0%BE%D0%B2%D0%BD%D0%BE%D0%B9_%D0%BF%D0%BE%D1%82%D0%BE%D0%BA)\n",
      "/%D0%9C%D0%B0%D1%82%D0%B5%D0%BC%D0%B0%D1%82%D0%B8%D1%87%D0%B5%D1%81%D0%BA%D0%B8%D0%B9_%D0%B0%D0%BD%D0%B0%D0%BB%D0%B8%D0%B7_1_2023/24_(%D0%BE%D1%81%D0%BD%D0%BE%D0%B2%D0%BD%D0%BE%D0%B9_%D0%BF%D0%BE%D1%82%D0%BE%D0%BA)_%D0%AD%D0%90%D0%94\n",
      "/DM1PMIbase-2023-24\n",
      "/DM1EAD-2023-24\n",
      "/%D0%90%D0%BB%D0%B3%D0%B5%D0%B1%D1%80%D0%B0_%D0%BD%D0%B0_%D0%9F%D0%9C%D0%98_2023/2024_(%D0%BE%D1%81%D0%BD%D0%BE%D0%B2%D0%BD%D0%BE%D0%B9_%D0%BF%D0%BE%D1%82%D0%BE%D0%BA)\n",
      "/%D0%A2%D0%B5%D0%BE%D1%80%D0%B8%D1%8F_%D1%87%D0%B8%D1%81%D0%B5%D0%BB_(%D0%BE%D1%81%D0%BD%D0%BE%D0%B2%D0%BD%D0%BE%D0%B9_%D0%BF%D0%BE%D1%82%D0%BE%D0%BA)_2023/24\n",
      "/%D0%90%D0%BB%D0%B3%D0%BE%D1%80%D0%B8%D1%82%D0%BC%D1%8B_%D0%B8_%D1%81%D1%82%D1%80%D1%83%D0%BA%D1%82%D1%83%D1%80%D1%8B_%D0%B4%D0%B0%D0%BD%D0%BD%D1%8B%D1%85_%D0%BF%D0%B8%D0%BB%D0%BE%D1%82%D0%BD%D1%8B%D0%B9_%D0%BF%D0%BE%D1%82%D0%BE%D0%BA_2023/2024\n",
      "/%D0%AF%D0%B7%D1%8B%D0%BA_%D0%BF%D1%80%D0%BE%D0%B3%D1%80%D0%B0%D0%BC%D0%BC%D0%B8%D1%80%D0%BE%D0%B2%D0%B0%D0%BD%D0%B8%D1%8F_Python_2023/24_(%D0%BE%D1%81%D0%BD%D0%BE%D0%B2%D0%BD%D0%BE%D0%B9_%D0%BF%D0%BE%D1%82%D0%BE%D0%BA)\n",
      "/%D0%90%D0%BB%D0%B3%D0%BE%D1%80%D0%B8%D1%82%D0%BC%D1%8B_%D0%B8_%D1%81%D1%82%D1%80%D1%83%D0%BA%D1%82%D1%83%D1%80%D1%8B_%D0%B4%D0%B0%D0%BD%D0%BD%D1%8B%D1%85_1_(%D0%BE%D1%81%D0%BD%D0%BE%D0%B2%D0%BD%D0%BE%D0%B9_%D0%BF%D0%BE%D1%82%D0%BE%D0%BA)_(4_%D0%BC%D0%BE%D0%B4%D1%83%D0%BB%D1%8C)_2023/2024\n",
      "/%D0%9C%D0%B0%D1%82%D0%B5%D0%BC%D0%B0%D1%82%D0%B8%D1%87%D0%B5%D1%81%D0%BA%D0%B0%D1%8F_%D1%81%D1%82%D0%B0%D1%82%D0%B8%D1%81%D1%82%D0%B8%D0%BA%D0%B0_2023/24_(%D0%BF%D0%B8%D0%BB%D0%BE%D1%82%D0%BD%D1%8B%D0%B9_%D0%BF%D0%BE%D1%82%D0%BE%D0%BA)\n",
      "/%D0%A2%D0%B5%D0%BE%D1%80%D0%B8%D1%8F_%D0%B2%D0%B5%D1%80%D0%BE%D1%8F%D1%82%D0%BD%D0%BE%D1%81%D1%82%D0%B5%D0%B9_2023/24_(%D0%BF%D0%B8%D0%BB%D0%BE%D1%82%D0%BD%D1%8B%D0%B9_%D0%BF%D0%BE%D1%82%D0%BE%D0%BA)\n",
      "/%D0%9C%D0%B0%D1%82%D0%B5%D0%BC%D0%B0%D1%82%D0%B8%D1%87%D0%B5%D1%81%D0%BA%D0%B8%D0%B9_%D0%90%D0%BD%D0%B0%D0%BB%D0%B8%D0%B7_2_%D0%BD%D0%B0_%D0%9F%D0%9C%D0%98_2023/24_(%D0%BF%D0%B8%D0%BB%D0%BE%D1%82%D0%BD%D1%8B%D0%B9_%D0%BF%D0%BE%D1%82%D0%BE%D0%BA)\n",
      "/%D0%9C%D0%B0%D1%82%D0%B5%D0%BC%D0%B0%D1%82%D0%B8%D1%87%D0%B5%D1%81%D0%BA%D0%B0%D1%8F_%D1%81%D1%82%D0%B0%D1%82%D0%B8%D1%81%D1%82%D0%B8%D0%BA%D0%B0_2023/24_(%D0%BE%D1%81%D0%BD%D0%BE%D0%B2%D0%BD%D0%BE%D0%B9_%D0%BF%D0%BE%D1%82%D0%BE%D0%BA)\n",
      "/%D0%A2%D0%B5%D0%BE%D1%80%D0%B8%D1%8F_%D0%B2%D0%B5%D1%80%D0%BE%D1%8F%D1%82%D0%BD%D0%BE%D1%81%D1%82%D0%B5%D0%B9_2023/24_(%D0%BE%D1%81%D0%BD%D0%BE%D0%B2%D0%BD%D0%BE%D0%B9_%D0%BF%D0%BE%D1%82%D0%BE%D0%BA)\n",
      "/%D0%9C%D0%B0%D1%82%D0%B5%D0%BC%D0%B0%D1%82%D0%B8%D1%87%D0%B5%D1%81%D0%BA%D0%B8%D0%B9_%D0%B0%D0%BD%D0%B0%D0%BB%D0%B8%D0%B7_-_2_(2023/24)\n",
      "/CAOS-2023/24\n",
      "/%D0%90%D0%BB%D0%B3%D0%BE%D1%80%D0%B8%D1%82%D0%BC%D1%8B_%D0%B8_%D1%81%D1%82%D1%80%D1%83%D0%BA%D1%82%D1%83%D1%80%D1%8B_%D0%B4%D0%B0%D0%BD%D0%BD%D1%8B%D1%85_2_2023/24\n",
      "/index.php?title=%D0%98%D0%BD%D1%81%D1%82%D1%80%D1%83%D0%BC%D0%B5%D0%BD%D1%82%D1%8B_%D0%BF%D1%80%D0%BE%D0%BC%D1%8B%D1%88%D0%BB%D0%B5%D0%BD%D0%BD%D0%BE%D0%B9_%D1%80%D0%B0%D0%B7%D1%80%D0%B0%D0%B1%D0%BE%D1%82%D0%BA%D0%B8_2023/24&action=edit&redlink=1\n",
      "/%D0%AF%D0%B7%D1%8B%D0%BA_%D0%BF%D1%80%D0%BE%D0%B3%D1%80%D0%B0%D0%BC%D0%BC%D0%B8%D1%80%D0%BE%D0%B2%D0%B0%D0%BD%D0%B8%D1%8F_C%2B%2B_(%D1%83%D0%B3%D0%BB%D1%83%D0%B1%D0%BB%D0%B5%D0%BD%D0%BD%D1%8B%D0%B9_%D0%BA%D1%83%D1%80%D1%81)_2023/24\n",
      "/%D0%9F%D1%80%D0%BE%D0%B4%D0%B2%D0%B8%D0%BD%D1%83%D1%82%D1%8B%D0%B9_Python_2023/24\n",
      "/%D0%AF%D0%B7%D1%8B%D0%BA_%D0%BF%D1%80%D0%BE%D0%B3%D1%80%D0%B0%D0%BC%D0%BC%D0%B8%D1%80%D0%BE%D0%B2%D0%B0%D0%BD%D0%B8%D1%8F_Rust_2023/24\n",
      "/%D0%94%D0%B8%D1%81%D0%BA%D1%80%D0%B5%D1%82%D0%BD%D0%B0%D1%8F_%D0%BC%D0%B0%D1%82%D0%B5%D0%BC%D0%B0%D1%82%D0%B8%D0%BA%D0%B0_-_2_(%D0%9F%D0%9C%D0%98)_2023/24\n",
      "/%D0%94%D0%B8%D1%84%D1%84%D0%B5%D1%80%D0%B5%D0%BD%D1%86%D0%B8%D0%B0%D0%BB%D1%8C%D0%BD%D1%8B%D0%B5_%D1%83%D1%80%D0%B0%D0%B2%D0%BD%D0%B5%D0%BD%D0%B8%D1%8F_(%D0%9F%D0%9C%D0%98)_2023/24\n",
      "/%D0%9E%D1%81%D0%BD%D0%BE%D0%B2%D1%8B_%D0%BC%D0%B0%D1%82%D1%80%D0%B8%D1%87%D0%BD%D1%8B%D1%85_%D0%B2%D1%8B%D1%87%D0%B8%D1%81%D0%BB%D0%B5%D0%BD%D0%B8%D0%B9_2023/24\n",
      "/%D0%9A%D0%BE%D0%BC%D0%BF%D0%BB%D0%B5%D0%BA%D1%81%D0%BD%D1%8B%D0%B9_%D0%B0%D0%BD%D0%B0%D0%BB%D0%B8%D0%B7_2023/24\n",
      "/%D0%A4%D1%83%D0%BD%D0%BA%D1%86%D0%B8%D0%BE%D0%BD%D0%B0%D0%BB%D1%8C%D0%BD%D1%8B%D0%B9_%D0%B0%D0%BD%D0%B0%D0%BB%D0%B8%D0%B7_2023/24\n",
      "/%D0%9C%D0%B0%D1%88%D0%B8%D0%BD%D0%BD%D0%BE%D0%B5_%D0%BE%D0%B1%D1%83%D1%87%D0%B5%D0%BD%D0%B8%D0%B5_1\n",
      "/Operation_Research_and_Game_Theory\n",
      "/Statistical_learning_theory_2023/24\n",
      "/%D0%A4%D1%83%D0%BD%D0%BA%D1%86%D0%B8%D0%BE%D0%BD%D0%B0%D0%BB%D1%8C%D0%BD%D0%BE%D0%B5_%D0%BF%D1%80%D0%BE%D0%B3%D1%80%D0%B0%D0%BC%D0%BC%D0%B8%D1%80%D0%BE%D0%B2%D0%B0%D0%BD%D0%B8%D0%B5_23-24\n",
      "/%D0%9E%D1%81%D0%BD%D0%BE%D0%B2%D1%8B_%D1%82%D0%B5%D0%BD%D0%B7%D0%BE%D1%80%D0%BD%D1%8B%D1%85_%D0%B2%D1%8B%D1%87%D0%B8%D1%81%D0%BB%D0%B5%D0%BD%D0%B8%D0%B9_(2023/24)\n",
      "/%D0%93%D0%BB%D1%83%D0%B1%D0%B8%D0%BD%D0%BD%D0%BE%D0%B5_%D0%BE%D0%B1%D1%83%D1%87%D0%B5%D0%BD%D0%B8%D0%B5_1_23/24\n",
      "/index.php?title=%D0%9C%D0%B0%D1%82%D0%B5%D0%BC%D0%B0%D1%82%D0%B8%D1%87%D0%B5%D1%81%D0%BA%D0%BE%D0%B5_%D0%BC%D0%BE%D0%B4%D0%B5%D0%BB%D0%B8%D1%80%D0%BE%D0%B2%D0%B0%D0%BD%D0%B8%D0%B5_2023/24&action=edit&redlink=1\n",
      "/%D0%9C%D0%BE%D0%B4%D0%B5%D0%BB%D0%B8%D1%80%D0%BE%D0%B2%D0%B0%D0%BD%D0%B8%D0%B5_%D0%B2%D1%80%D0%B5%D0%BC%D0%B5%D0%BD%D0%BD%D1%8B%D1%85_%D1%80%D1%8F%D0%B4%D0%BE%D0%B2_2023/24\n",
      "/index.php?title=%D0%A2%D0%B5%D0%BE%D1%80%D0%B8%D1%8F_%D1%87%D0%B8%D1%81%D0%B5%D0%BB_%D0%B8_%D0%BA%D1%80%D0%B8%D0%BF%D1%82%D0%BE%D0%B3%D1%80%D0%B0%D1%84%D0%B8%D1%8F_2023/24&action=edit&redlink=1\n",
      "/%D0%9C%D0%B5%D1%82%D0%BE%D0%B4%D1%8B_%D0%BE%D0%BF%D1%82%D0%B8%D0%BC%D0%B8%D0%B7%D0%B0%D1%86%D0%B8%D0%B8_23/24\n",
      "/index.php?title=%D0%A3%D1%80%D0%B0%D0%B2%D0%BD%D0%B5%D0%BD%D0%B8%D1%8F_%D1%81_%D1%87%D0%B0%D1%81%D1%82%D0%BD%D1%8B%D0%BC%D0%B8_%D0%BF%D1%80%D0%BE%D0%B8%D0%B7%D0%B2%D0%BE%D0%B4%D0%BD%D1%8B%D0%BC%D0%B8_(2023-2024)&action=edit&redlink=1\n",
      "/ExtMem_23\n",
      "/%D0%A0%D0%B5%D0%BA%D0%BE%D0%BC%D0%B5%D0%BD%D0%B4%D0%B0%D1%82%D0%B5%D0%BB%D1%8C%D0%BD%D1%8B%D0%B5_%D1%81%D0%B8%D1%81%D1%82%D0%B5%D0%BC%D1%8B\n",
      "/%D0%9C%D0%B0%D1%88%D0%B8%D0%BD%D0%BD%D0%BE%D0%B5_%D0%BE%D0%B1%D1%83%D1%87%D0%B5%D0%BD%D0%B8%D0%B5_%D0%B2_%D0%BF%D1%80%D0%B8%D0%BA%D0%BB%D0%B0%D0%B4%D0%BD%D1%8B%D1%85_%D0%B7%D0%B0%D0%B4%D0%B0%D1%87%D0%B0%D1%85\n",
      "/%D0%9C%D0%B0%D1%88%D0%B8%D0%BD%D0%BD%D0%BE%D0%B5_%D0%BE%D0%B1%D1%83%D1%87%D0%B5%D0%BD%D0%B8%D0%B5_2\n",
      "/%D0%9F%D1%80%D0%B8%D0%BA%D0%BB%D0%B0%D0%B4%D0%BD%D0%B0%D1%8F_%D1%81%D1%82%D0%B0%D1%82%D0%B8%D1%81%D1%82%D0%B8%D0%BA%D0%B0_%D0%B2_%D0%BC%D0%B0%D1%88%D0%B8%D0%BD%D0%BD%D0%BE%D0%BC_%D0%BE%D0%B1%D1%83%D1%87%D0%B5%D0%BD%D0%B8%D0%B8_23/24\n",
      "/%D0%A1%D1%82%D0%BE%D1%85%D0%B0%D1%81%D1%82%D0%B8%D1%87%D0%B5%D1%81%D0%BA%D0%B8%D0%B9_%D0%B0%D0%BD%D0%B0%D0%BB%D0%B8%D0%B7_(%D0%B2%D0%B5%D1%81%D0%BD%D0%B0_2024)\n",
      "/%D0%9D%D0%98%D0%A1_%D0%9C%D0%B0%D1%88%D0%B8%D0%BD%D0%BD%D0%BE%D0%B5_%D0%BE%D0%B1%D1%83%D1%87%D0%B5%D0%BD%D0%B8%D0%B5_%D0%B8_%D0%BF%D1%80%D0%B8%D0%BB%D0%BE%D0%B6%D0%B5%D0%BD%D0%B8%D1%8F_3_%D0%BA%D1%83%D1%80%D1%81_2023/2024\n",
      "/%D0%93%D0%BB%D1%83%D0%B1%D0%B8%D0%BD%D0%BD%D0%BE%D0%B5_%D0%BE%D0%B1%D1%83%D1%87%D0%B5%D0%BD%D0%B8%D0%B5_1_23/24\n",
      "https://hse24.fmin.xyz\n",
      "/%D0%9A%D0%BE%D0%BC%D0%BF%D1%8C%D1%8E%D1%82%D0%B5%D1%80%D0%BD%D1%8B%D0%B5_%D1%81%D0%B5%D1%82%D0%B8\n",
      "/%D0%A1%D0%B5%D1%80%D0%B2%D0%B8%D1%81-%D0%BE%D1%80%D0%B8%D0%B5%D0%BD%D1%82%D0%B8%D1%80%D0%BE%D0%B2%D0%B0%D0%BD%D0%BD%D1%8B%D0%B5_%D0%B0%D1%80%D1%85%D0%B8%D1%82%D0%B5%D0%BA%D1%82%D1%83%D1%80%D1%8B\n",
      "https://osukhoroslov-hse.notion.site/2da6d9d4dc5944e59414daea40376d96\n",
      "/Distributed_Systems_2023\n",
      "/Database_Systems_2023/24\n",
      "/Theory_of_Computation_2023\n",
      "/NIS-TCS-23-24\n",
      "/KKTI-23-24\n",
      "/%D0%A1%D1%82%D0%BE%D1%85%D0%B0%D1%81%D1%82%D0%B8%D1%87%D0%B5%D1%81%D0%BA%D0%B8%D0%B9_%D0%B0%D0%BD%D0%B0%D0%BB%D0%B8%D0%B7_(%D0%B2%D0%B5%D1%81%D0%BD%D0%B0_2024)\n",
      "/%D0%A4%D1%83%D0%BD%D0%BA%D1%86%D0%B8%D0%BE%D0%BD%D0%B0%D0%BB%D1%8C%D0%BD%D0%BE%D0%B5_%D0%BF%D1%80%D0%BE%D0%B3%D1%80%D0%B0%D0%BC%D0%BC%D0%B8%D1%80%D0%BE%D0%B2%D0%B0%D0%BD%D0%B8%D0%B5_23-24\n",
      "/Haskell_24\n",
      "/%D0%9E%D1%81%D0%BD%D0%BE%D0%B2%D1%8B_%D1%82%D0%B5%D0%BD%D0%B7%D0%BE%D1%80%D0%BD%D1%8B%D1%85_%D0%B2%D1%8B%D1%87%D0%B8%D1%81%D0%BB%D0%B5%D0%BD%D0%B8%D0%B9_(2023/24)\n",
      "/%D0%93%D0%BB%D1%83%D0%B1%D0%B8%D0%BD%D0%BD%D0%BE%D0%B5_%D0%BE%D0%B1%D1%83%D1%87%D0%B5%D0%BD%D0%B8%D0%B5_%D0%B2_%D0%BE%D0%B1%D1%80%D0%B0%D0%B1%D0%BE%D1%82%D0%BA%D0%B5_%D0%B7%D0%B2%D1%83%D0%BA%D0%B0_23/24\n",
      "/%D0%93%D0%BB%D1%83%D0%B1%D0%B8%D0%BD%D0%BD%D0%BE%D0%B5_%D0%BE%D0%B1%D1%83%D1%87%D0%B5%D0%BD%D0%B8%D0%B5_%D0%B4%D0%BB%D1%8F_%D1%82%D0%B5%D0%BA%D1%81%D1%82%D0%BE%D0%B2%D1%8B%D1%85_%D0%B4%D0%B0%D0%BD%D0%BD%D1%8B%D1%85_23/24\n",
      "/index.php?title=%D0%9C%D0%B5%D1%82%D0%BE%D0%B4%D1%8B_%D0%BF%D1%80%D0%B5%D0%B4%D0%BE%D0%B1%D1%83%D1%87%D0%B5%D0%BD%D0%B8%D1%8F_%D0%B1%D0%B5%D0%B7_%D1%83%D1%87%D0%B8%D1%82%D0%B5%D0%BB%D1%8F_23/24&action=edit&redlink=1\n",
      "/%D0%A1%D0%B8%D0%BC%D0%B2%D0%BE%D0%BB%D1%8C%D0%BD%D1%8B%D0%B5_%D0%B2%D1%8B%D1%87%D0%B8%D1%81%D0%BB%D0%B5%D0%BD%D0%B8%D1%8F_23/24\n",
      "/%D0%AD%D1%84%D1%84%D0%B5%D0%BA%D1%82%D0%B8%D0%B2%D0%BD%D1%8B%D0%B5_%D1%81%D0%B8%D1%81%D1%82%D0%B5%D0%BC%D1%8B_%D0%B3%D0%BB%D1%83%D0%B1%D0%B8%D0%BD%D0%BD%D0%BE%D0%B3%D0%BE_%D0%BE%D0%B1%D1%83%D1%87%D0%B5%D0%BD%D0%B8%D1%8F_23/24\n",
      "/%D0%A2%D0%B5%D0%BE%D1%80%D0%B8%D1%8F_%D0%B8_%D0%BF%D1%80%D0%B0%D0%BA%D1%82%D0%B8%D0%BA%D0%B0_%D0%BE%D0%BD%D0%BB%D0%B0%D0%B9%D0%BD-%D1%8D%D0%BA%D1%81%D0%BF%D0%B5%D1%80%D0%B8%D0%BC%D0%B5%D0%BD%D1%82%D0%BE%D0%B2_23/24\n",
      "/index.php?title=%D0%94%D0%B5%D1%86%D0%B5%D0%BD%D1%82%D1%80%D0%B0%D0%BB%D0%B8%D0%B7%D0%BE%D0%B2%D0%B0%D0%BD%D0%BD%D1%8B%D0%B5_%D1%81%D0%B8%D1%81%D1%82%D0%B5%D0%BC%D1%8B_2023/24&action=edit&redlink=1\n",
      "/%D0%92%D0%B2%D0%B5%D0%B4%D0%B5%D0%BD%D0%B8%D0%B5_%D0%B2_%D0%B4%D0%B8%D1%84%D1%84%D0%B5%D1%80%D0%B5%D0%BD%D1%86%D0%B8%D0%B0%D0%BB%D1%8C%D0%BD%D1%83%D1%8E_%D0%B3%D0%B5%D0%BE%D0%BC%D0%B5%D1%82%D1%80%D0%B8%D1%8E_23/24\n",
      "/%D0%94%D0%B8%D0%B7%D0%B0%D0%B9%D0%BD_%D1%81%D0%B8%D1%81%D1%82%D0%B5%D0%BC_23/24\n",
      "/Types_23\n",
      "/ExtMem_23\n",
      "/%D0%9D%D0%98%D0%A1_%D0%9C%D0%B0%D1%88%D0%B8%D0%BD%D0%BD%D0%BE%D0%B5_%D0%BE%D0%B1%D1%83%D1%87%D0%B5%D0%BD%D0%B8%D0%B5_%D0%B8_%D0%BF%D1%80%D0%B8%D0%BB%D0%BE%D0%B6%D0%B5%D0%BD%D0%B8%D1%8F_4_%D0%BA%D1%83%D1%80%D1%81_2023/2024\n",
      "/%D0%93%D0%BB%D1%83%D0%B1%D0%B8%D0%BD%D0%BD%D0%BE%D0%B5_%D0%BE%D0%B1%D1%83%D1%87%D0%B5%D0%BD%D0%B8%D0%B5_2023/24\n",
      "/%D0%93%D0%BB%D1%83%D0%B1%D0%B8%D0%BD%D0%BD%D0%BE%D0%B5_%D0%BE%D0%B1%D1%83%D1%87%D0%B5%D0%BD%D0%B8%D0%B5_%D0%B2_%D0%B0%D0%BD%D0%B0%D0%BB%D0%B8%D0%B7%D0%B5_%D0%B3%D1%80%D0%B0%D1%84%D0%BE%D0%B2%D1%8B%D1%85_%D0%B4%D0%B0%D0%BD%D0%BD%D1%8B%D1%85_23/24\n",
      "/LSML_2023/2024\n",
      "https://osukhoroslov-hse.notion.site/2-013e88a10c204059bff194f838de4ef5?pvs=4\n",
      "/index.php?title=A_Theorist%27s_Toolkit_2023_2024&action=edit&redlink=1\n",
      "/OWF2023\n",
      "/InfTheory2023\n",
      "/ConvAppr24\n",
      "/NIS-TCS-23-24\n",
      "/%D0%9C%D0%B0%D0%B9%D0%BD%D0%BE%D1%80_%D0%91%D0%B8%D0%BE%D0%B8%D0%BD%D1%84%D0%BE%D1%80%D0%BC%D0%B0%D1%82%D0%B8%D0%BA%D0%B0_1_%D0%B3%D0%BE%D0%B4_2023/24\n",
      "/%D0%9C%D0%B0%D0%B9%D0%BD%D0%BE%D1%80_%D0%91%D0%B8%D0%BE%D0%B8%D0%BD%D1%84%D0%BE%D1%80%D0%BC%D0%B0%D1%82%D0%B8%D0%BA%D0%B0_2_%D0%B3%D0%BE%D0%B4_2023/24\n",
      "/%D0%9E%D1%81%D0%BD%D0%BE%D0%B2%D1%8B_%D0%B3%D0%BB%D1%83%D0%B1%D0%B8%D0%BD%D0%BD%D0%BE%D0%B3%D0%BE_%D0%BE%D0%B1%D1%83%D1%87%D0%B5%D0%BD%D0%B8%D1%8F/2023\n",
      "/%D0%93%D0%B5%D0%BD%D0%B5%D1%80%D0%B0%D1%82%D0%B8%D0%B2%D0%BD%D1%8B%D0%B5_%D0%BC%D0%BE%D0%B4%D0%B5%D0%BB%D0%B8_%D0%BD%D0%B0_%D0%BE%D1%81%D0%BD%D0%BE%D0%B2%D0%B5_ODE_%D0%B8_SDE\n",
      "/%D0%92%D0%B2%D0%B5%D0%B4%D0%B5%D0%BD%D0%B8%D0%B5_%D0%B2_%D0%BF%D1%80%D0%BE%D0%B3%D1%80%D0%B0%D0%BC%D0%BC%D0%B8%D1%80%D0%BE%D0%B2%D0%B0%D0%BD%D0%B8%D0%B5_23/24\n",
      "/Wiki_%D0%A4%D0%9A%D0%9D_%D0%9E%D1%81%D0%BD%D0%BE%D0%B2%D1%8B_%D0%BC%D0%B0%D1%88%D0%B8%D0%BD%D0%BD%D0%BE%D0%B3%D0%BE_%D0%BE%D0%B1%D1%83%D1%87%D0%B5%D0%BD%D0%B8%D1%8F_(%D0%BC%D0%B0%D0%B9%D0%BD%D0%BE%D1%80_%D0%98%D0%90%D0%94)\n",
      "/%D0%9F%D1%80%D0%B8%D0%BA%D0%BB%D0%B0%D0%B4%D0%BD%D1%8B%D0%B5_%D0%B7%D0%B0%D0%B4%D0%B0%D1%87%D0%B8_%D0%B0%D0%BD%D0%B0%D0%BB%D0%B8%D0%B7%D0%B0_%D0%B4%D0%B0%D0%BD%D0%BD%D1%8B%D1%85/2024\n",
      "/%D0%9A%D1%80%D0%B8%D0%BF%D1%82%D0%BE%D0%B3%D1%80%D0%B0%D1%84%D0%B8%D1%8F_%D0%BD%D0%B0_%D1%80%D0%B5%D1%88%D1%91%D1%82%D0%BA%D0%B0%D1%85_23/24\n",
      "/%D0%94%D0%B8%D1%81%D0%BA%D1%80%D0%B5%D1%82%D0%BD%D0%B0%D1%8F_%D0%BC%D0%B0%D1%82%D0%B5%D0%BC%D0%B0%D1%82%D0%B8%D0%BA%D0%B0_2023-2024\n",
      "/%D0%90%D0%BB%D0%B3%D0%B5%D0%B1%D1%80%D0%B0_%D0%9F%D0%98_2023-2024\n",
      "/%D0%9C%D0%B0%D1%82%D0%B5%D0%BC%D0%B0%D1%82%D0%B8%D1%87%D0%B5%D1%81%D0%BA%D0%B8%D0%B9_%D0%B0%D0%BD%D0%B0%D0%BB%D0%B8%D0%B7_2023-2024\n",
      "/index.php?title=%D0%90%D0%BB%D0%B3%D0%BE%D1%80%D0%B8%D1%82%D0%BC%D1%8B_%D0%B8_%D1%81%D1%82%D1%80%D1%83%D0%BA%D1%82%D1%83%D1%80%D1%8B_%D0%B4%D0%B0%D0%BD%D0%BD%D1%8B%D1%85_%D0%BD%D0%B0_%D0%9F%D0%98_2023/2024&action=edit&redlink=1\n",
      "/%D0%A2%D0%B5%D0%BE%D1%80%D0%B8%D1%8F_%D0%B2%D0%B5%D1%80%D0%BE%D1%8F%D1%82%D0%BD%D0%BE%D1%81%D1%82%D0%B5%D0%B9_%D0%B8_%D0%BC%D0%B0%D1%82%D0%B5%D0%BC%D0%B0%D1%82%D0%B8%D1%87%D0%B5%D1%81%D0%BA%D0%B0%D1%8F_%D1%81%D1%82%D0%B0%D1%82%D0%B8%D1%81%D1%82%D0%B8%D0%BA%D0%B0_2023-2024\n",
      "/%D0%9D%D0%98%D0%A1_%D0%9C%D0%B5%D1%82%D0%BE%D0%B4%D1%8B_%D0%B8_%D0%B0%D0%BB%D0%B3%D0%BE%D1%80%D0%B8%D1%82%D0%BC%D1%8B_%D0%B7%D0%B0%D1%89%D0%B8%D1%82%D1%8B_%D0%B8%D0%BD%D1%84%D0%BE%D1%80%D0%BC%D0%B0%D1%86%D0%B8%D0%B8_2023/2024\n",
      "/index.php?title=SPA_2023/24&action=edit&redlink=1\n",
      "/DSBA_Algebra_2023_2024\n",
      "/Calculus_DSBA_2023/2024\n",
      "/English_DSBA_2023/2024\n",
      "/LAaG_DSBA_2023/2024\n",
      "/Discrete_Mathematics_DSBA_2023/2024\n",
      "/Python_Programming_DSBA_2023/24\n",
      "/C%2B%2B_Programming_Language_DSBA_2023/24\n",
      "/Law_DSBA_2023/24\n",
      "/Introduction_to_Economics_DSBA_2023/24\n",
      "/Discrete_Mathematics_2_DSBA_2023/24\n",
      "/Business_and_Management_in_Global_Context_23/24\n",
      "/Calculus-2_2023/24\n",
      "/Algorithms_and_Data_Structures_DSBA_2023/24\n",
      "/index.php?title=Probability_and_Statistics_(DSBA)_2023/24&action=edit&redlink=1\n",
      "/Introduction_to_Micro_and_Macroeconomics_DSBA_2022/2023\n",
      "/Differential_Equations_2023/24\n",
      "/ACOS_DSBA_2023/24\n",
      "/Tssp-2023-24\n",
      "/Elements_of_Econometrics\n",
      "/index.php?title=BAFE-2023-24&action=edit&redlink=1\n",
      "/Machine_learning_1_DSBA_2023/2024\n",
      "/index.php?title=Databases_2023/24&action=edit&redlink=1\n",
      "/Optimisation_methods_2023/24\n",
      "/MACE1_DSBA_23-24\n",
      "/DAF1_DSBA_23-24\n",
      "/Financial_Engineering_2023-2024\n",
      "/Sociology_of_financial_behaviour_DSBA_2023/24\n",
      "/Financial_Economics_DSBA_2023/24\n",
      "/Philosophy_of_artificial_intelligence_DSBA_2023/24\n",
      "/Introduction_to_the_Study_of_Language_for_Computer_Scientists\n",
      "/index.php?title=Statistics4MR-2023-24&action=edit&redlink=1\n",
      "/index.php?title=Strategy_23-24_DSBA&action=edit&redlink=1\n",
      "/APFM_23-24\n",
      "/index.php?title=CMC_DSBA_23-24&action=edit&redlink=1\n",
      "/index.php?title=Machine_learning_2_DSBA_2023/2024&action=edit&redlink=1\n",
      "/index.php?title=MACE2_DSBA_23-24&action=edit&redlink=1\n",
      "/index.php?title=DAF2_DSBA_23-24&action=edit&redlink=1\n",
      "/index.php?title=DANS_DSBA_23-24&action=edit&redlink=1\n",
      "/index.php?title=Risk-Management_DSBA_23-24&action=edit&redlink=1\n",
      "/index.php?title=Quantitative_finance_DSBA_2023/24&action=edit&redlink=1\n",
      "/Agile_Basics:_Product_Management_and_Teamwork\n",
      "/%D0%94%D0%B8%D1%81%D0%BA%D1%80%D0%B5%D1%82%D0%BD%D0%B0%D1%8F_%D0%BC%D0%B0%D1%82%D0%B5%D0%BC%D0%B0%D1%82%D0%B8%D0%BA%D0%B0_%D0%9A%D0%9D%D0%90%D0%94_23/24\n",
      "/%D0%9C%D0%B0%D1%82%D0%B5%D0%BC%D0%B0%D1%82%D0%B8%D1%87%D0%B5%D1%81%D0%BA%D0%B8%D0%B9_%D0%B0%D0%BD%D0%B0%D0%BB%D0%B8%D0%B7_%D0%9A%D0%9D%D0%90%D0%94_23/24\n",
      "/%D0%9B%D0%B8%D0%BD%D0%B5%D0%B9%D0%BD%D0%B0%D1%8F_%D0%B0%D0%BB%D0%B3%D0%B5%D0%B1%D1%80%D0%B0_%D0%9A%D0%9D%D0%90%D0%94_23/24\n",
      "/%D0%9F%D1%80%D0%BE%D0%B3%D1%80%D0%B0%D0%BC%D0%BC%D0%B8%D1%80%D0%BE%D0%B2%D0%B0%D0%BD%D0%B8%D0%B5_%D0%BD%D0%B0_Python_%D0%9A%D0%9D%D0%90%D0%94_23/24\n",
      "/%D0%90%D0%BB%D0%B3%D0%BE%D1%80%D0%B8%D1%82%D0%BC%D1%8B_%D0%B8_%D1%81%D1%82%D1%80%D1%83%D0%BA%D1%82%D1%83%D1%80%D1%8B_%D0%B4%D0%B0%D0%BD%D0%BD%D1%8B%D1%85_-_1_2023/2024_2_%D0%BC%D0%BE%D0%B4%D1%83%D0%BB%D1%8C_(%D0%AD%D0%90%D0%94_%D0%9A%D0%9D%D0%90%D0%94_%D0%92%D0%A1%D0%9D)\n",
      "/%D0%90%D0%BB%D0%B3%D0%BE%D1%80%D0%B8%D1%82%D0%BC%D1%8B_%D0%B8_%D1%81%D1%82%D1%80%D1%83%D0%BA%D1%82%D1%83%D1%80%D1%8B_%D0%B4%D0%B0%D0%BD%D0%BD%D1%8B%D1%85_-_1_2023/2024_4_%D0%BC%D0%BE%D0%B4%D1%83%D0%BB%D1%8C_(%D0%AD%D0%90%D0%94_%D0%9A%D0%9D%D0%90%D0%94_%D0%92%D0%A1%D0%9D)\n",
      "/Python_%D0%B4%D0%BB%D1%8F_%D1%81%D0%B1%D0%BE%D1%80%D0%B0_%D0%B8_%D0%B0%D0%BD%D0%B0%D0%BB%D0%B8%D0%B7%D0%B0_%D0%B4%D0%B0%D0%BD%D0%BD%D1%8B%D1%85_%D0%9A%D0%9D%D0%90%D0%94_23/24\n",
      "/%D0%9F%D1%80%D0%BE%D0%B3%D1%80%D0%B0%D0%BC%D0%BC%D0%B8%D1%80%D0%BE%D0%B2%D0%B0%D0%BD%D0%B8%D0%B5_%D0%BD%D0%B0_%D0%A1%2B%2B_%D0%9A%D0%9D%D0%90%D0%94_23/24\n",
      "/%D0%98%D0%9F%D0%A0_%D0%9A%D0%9D%D0%90%D0%94_23/24\n",
      "/%D0%90%D0%BB%D0%B3%D0%B5%D0%B1%D1%80%D0%B0_%D0%9A%D0%9D%D0%90%D0%94_2023/2024\n",
      "/%D0%9C%D0%B0%D1%82%D0%B5%D0%BC%D0%B0%D1%82%D0%B8%D1%87%D0%B5%D1%81%D0%BA%D0%B8%D0%B9_%D0%B0%D0%BD%D0%B0%D0%BB%D0%B8%D0%B7_--_2_(2023/24)\n",
      "/%D0%90%D0%BB%D0%B3%D0%BE%D1%80%D0%B8%D1%82%D0%BC%D1%8B_%D0%B8_%D1%81%D1%82%D1%80%D1%83%D0%BA%D1%82%D1%83%D1%80%D1%8B_%D0%B4%D0%B0%D0%BD%D0%BD%D1%8B%D1%85_2_%D0%9A%D0%9D%D0%90%D0%94_23/24\n",
      "/%D0%A2%D0%B5%D0%BE%D1%80%D0%B8%D1%8F_%D0%B2%D0%B5%D1%80%D0%BE%D1%8F%D1%82%D0%BD%D0%BE%D1%81%D1%82%D0%B5%D0%B9_%D0%9A%D0%9D%D0%90%D0%94_23/24\n",
      "/ACOS_COMPDS_2023/2024\n",
      "/%D0%9C%D0%B0%D1%82%D0%B5%D0%BC%D0%B0%D1%82%D0%B8%D1%87%D0%B5%D1%81%D0%BA%D0%B0%D1%8F_%D1%81%D1%82%D0%B0%D1%82%D0%B8%D1%81%D1%82%D0%B8%D0%BA%D0%B0_%D0%9A%D0%9D%D0%90%D0%94_23/24\n",
      "/index.php?title=%D0%A7%D0%B8%D1%81%D0%BB%D0%B5%D0%BD%D0%BD%D1%8B%D0%B5_%D0%BC%D0%B5%D1%82%D0%BE%D0%B4%D1%8B_%D0%9A%D0%9D%D0%90%D0%94_23/24&action=edit&redlink=1\n",
      "https://www.hse.ru/dataculture/\n",
      "/%D0%9E%D1%81%D0%BD%D0%BE%D0%B2%D1%8B_Python_%D0%B4%D0%BB%D1%8F_%D1%8E%D1%80%D0%B8%D1%81%D1%82%D0%BE%D0%B2_2023-24\n",
      "/%D0%A6%D0%B8%D1%84%D1%80%D0%BE%D0%B2%D0%B0%D1%8F_%D0%B3%D1%80%D0%B0%D0%BC%D0%BE%D1%82%D0%BD%D0%BE%D1%81%D1%82%D1%8C_(2023)_%D0%96%D1%83%D1%80%D0%BD%D0%B0%D0%BB%D0%B8%D1%81%D1%82%D0%B8%D0%BA%D0%B0\n",
      "/%D0%A6%D0%B8%D1%84%D1%80%D0%BE%D0%B2%D0%B0%D1%8F_%D0%B3%D1%80%D0%B0%D0%BC%D0%BE%D1%82%D0%BD%D0%BE%D1%81%D1%82%D1%8C_(2023)_%D0%9C%D0%B5%D0%B4%D0%B8%D0%B0%D0%BA%D0%BE%D0%BC%D0%BC%D1%83%D0%BD%D0%B8%D0%BA%D0%B0%D1%86%D0%B8%D0%B8\n",
      "/%D0%9E%D1%81%D0%BD%D0%BE%D0%B2%D1%8B_Python_%D0%B4%D0%BB%D1%8F_%D0%B4%D0%B8%D0%B7%D0%B0%D0%B9%D0%BD%D0%B5%D1%80%D0%BE%D0%B2_2023-24\n",
      "/%D0%9E%D1%81%D0%BD%D0%BE%D0%B2%D1%8B_Python_%D0%B4%D0%BB%D1%8F_%D0%BF%D0%BE%D0%BB%D0%B8%D1%82%D0%BE%D0%BB%D0%BE%D0%B3%D0%BE%D0%B2_2023-24\n",
      "/%D0%9E%D1%81%D0%BD%D0%BE%D0%B2%D1%8B_Python_%D0%B4%D0%BB%D1%8F_%D0%93%D0%9C%D0%A3_2023-24\n",
      "/%D0%9E%D1%81%D0%BD%D0%BE%D0%B2%D1%8B_Python_%D0%B4%D0%BB%D1%8F_%D0%9E%D0%9F_%22%D0%90%D0%BA%D1%82%D0%B5%D1%80%22_%D0%B8_%D0%9E%D0%9F_%22%D0%9A%D0%B8%D0%BD%D0%BE%D0%BF%D1%80%D0%BE%D0%B8%D0%B7%D0%B2%D0%BE%D0%B4%D1%81%D1%82%D0%B2%D0%BE%22_2023-24\n",
      "/%D0%9F%D1%80%D0%BE%D0%B3%D1%80%D0%B0%D0%BC%D0%BC%D0%B8%D1%80%D0%BE%D0%B2%D0%B0%D0%BD%D0%B8%D0%B5_%D0%BD%D0%B0_Python_%D0%B4%D0%BB%D1%8F_%D0%9E%D0%9F_%22%D0%AD%D0%BA%D0%BE%D0%BD%D0%BE%D0%BC%D0%B8%D1%87%D0%B5%D1%81%D0%BA%D0%B8%D0%B9_%D0%B0%D0%BD%D0%B0%D0%BB%D0%B8%D0%B7%22_2023-24\n",
      "/%D0%9F%D1%80%D0%BE%D0%B3%D1%80%D0%B0%D0%BC%D0%BC%D0%B8%D1%80%D0%BE%D0%B2%D0%B0%D0%BD%D0%B8%D0%B5_%D0%BD%D0%B0_Python_%D0%B4%D0%BB%D1%8F_%D0%BC%D0%B5%D0%B6%D0%B4%D1%83%D0%BD%D0%B0%D1%80%D0%BE%D0%B4%D0%BD%D1%8B%D1%85_%D0%BE%D1%82%D0%BD%D0%BE%D1%88%D0%B5%D0%BD%D0%B8%D0%B9_2023-24\n",
      "/%D0%9E%D1%81%D0%BD%D0%BE%D0%B2%D1%8B_Python_%D0%B4%D0%BB%D1%8F_%D1%81%D0%BE%D1%86%D0%B8%D0%BE%D0%BB%D0%BE%D0%B3%D0%BE%D0%B2_2023-24\n",
      "/%D0%9F%D1%80%D0%BE%D0%B3%D1%80%D0%B0%D0%BC%D0%BC%D0%B8%D1%80%D0%BE%D0%B2%D0%B0%D0%BD%D0%B8%D0%B5_%D0%BD%D0%B0_%D1%8F%D0%B7%D1%8B%D0%BA%D0%B5_Python,_%D0%A0%D0%B8%D0%A1%D0%9E/%D0%A1%D1%82%D1%80%D0%B0%D1%82%D0%B5%D0%B3%D0%B8%D1%8F_%D0%B8_%D0%BF%D1%80%D0%BE%D0%B4%D1%8E%D1%81%D0%B8%D1%80%D0%BE%D0%B2%D0%B0%D0%BD%D0%B8%D0%B5_%D0%B2_%D0%BA%D0%BE%D0%BC%D0%BC%D1%83%D0%BD%D0%B8%D0%BA%D0%B0%D1%86%D0%B8%D1%8F%D1%85_23/24\n",
      "/%D0%9C%D0%B0%D1%88%D0%B8%D0%BD%D0%BD%D0%BE%D0%B5_%D0%BE%D0%B1%D1%83%D1%87%D0%B5%D0%BD%D0%B8%D0%B5_%D0%9C%D0%B0%D1%82%D0%A4%D0%B0%D0%BA_23/24\n",
      "/NIS-TCS-23-24\n",
      "/RecSys_2023\n",
      "/MOTV_2023\n",
      "/MC_2023\n",
      "/RL_2023\n",
      "/TCS_2024\n",
      "/Econ_metrics_2024-25\n",
      "/Econ_metrics_2023-24\n",
      "/Econ_probability_2023-24\n",
      "/Dse_2023-24\n",
      "/Icef-scalc-2023-fall\n",
      "/%D0%AD%D0%BB%D0%BB%D0%B8%D0%BF%D1%82%D0%B8%D1%87%D0%B5%D1%81%D0%BA%D0%B8%D0%B5_%D1%84%D1%83%D0%BD%D0%BA%D1%86%D0%B8%D0%B8_23/24\n",
      "/Wiki_%D0%A4%D0%9A%D0%9D/%D0%90%D1%80%D1%85%D0%B8%D0%B2\n",
      "http://wiki.cs.hse.ru/index.php?title=Wiki_ФКН&oldid=85870\n"
     ]
    }
   ],
   "source": [
    "for a in root.find_all('a'):\n",
    "    print(a.get('href'))"
   ]
  },
  {
   "cell_type": "markdown",
   "metadata": {
    "id": "b9MtDLC-zWTr"
   },
   "source": [
    "В чем проблема? В том, что мы находим None (есть тэг, но нет ссылки) и что есть навигация по внутренним страничкам (Вики же)\n",
    "\n",
    "Давайте оставим именно ссылки:"
   ]
  },
  {
   "cell_type": "code",
   "execution_count": 23,
   "metadata": {
    "id": "vtgSjgy1zjDR"
   },
   "outputs": [
    {
     "name": "stdout",
     "output_type": "stream",
     "text": [
      "https://hse24.fmin.xyz\n",
      "https://osukhoroslov-hse.notion.site/2da6d9d4dc5944e59414daea40376d96\n",
      "https://osukhoroslov-hse.notion.site/2-013e88a10c204059bff194f838de4ef5?pvs=4\n",
      "https://www.hse.ru/dataculture/\n",
      "https://hse24.fmin.xyz\n",
      "https://osukhoroslov-hse.notion.site/2da6d9d4dc5944e59414daea40376d96\n",
      "https://osukhoroslov-hse.notion.site/2-013e88a10c204059bff194f838de4ef5?pvs=4\n",
      "https://www.hse.ru/dataculture/\n",
      "http://wiki.cs.hse.ru/index.php?title=Wiki_ФКН&oldid=85870\n"
     ]
    }
   ],
   "source": [
    "for a in root.find_all('a'):\n",
    "    if a.get('href') is not None and 'http' in a.get('href'):\n",
    "        print(a.get('href'))"
   ]
  },
  {
   "cell_type": "markdown",
   "metadata": {
    "id": "lrjgjhC5Q2mj"
   },
   "source": [
    "### Дополнительно"
   ]
  },
  {
   "cell_type": "markdown",
   "metadata": {
    "id": "oLZ4vdPKQ6_I"
   },
   "source": [
    "Что еще умеем? Хотим по родителям, детям и соседям (вверх, вниз, вправо-влево)"
   ]
  },
  {
   "cell_type": "code",
   "execution_count": null,
   "metadata": {
    "colab": {
     "base_uri": "https://localhost:8080/"
    },
    "id": "u1t15snkRBz0",
    "outputId": "667f9111-b9fa-4b28-f5e6-19880f2c680a"
   },
   "outputs": [],
   "source": [
    "k = root.find(\"a\")\n",
    "print(root.find(\"a\"))\n",
    "print(k.next_element) #следующий элемент\n",
    "print(k.previous_element) #прошлый элемент\n",
    "print(k.parent) # внутри какого уровня находимя\n",
    "print(k.child) #что внутри по уровню"
   ]
  },
  {
   "cell_type": "markdown",
   "metadata": {
    "id": "Mj00SBzqSV3X"
   },
   "source": [
    "Отдельно есть функция select, с помощью которой можно задавать более конкретно, что мы ищем:"
   ]
  },
  {
   "cell_type": "code",
   "execution_count": null,
   "metadata": {
    "colab": {
     "base_uri": "https://localhost:8080/"
    },
    "id": "gvVH5xzzSj9t",
    "outputId": "edee7f6c-f98a-4156-accf-e86b5ccd091a"
   },
   "outputs": [],
   "source": [
    "root.select(\"h2 > span\") #найти все тэги h2, внутри которых лежит span"
   ]
  },
  {
   "cell_type": "code",
   "execution_count": null,
   "metadata": {
    "colab": {
     "base_uri": "https://localhost:8080/"
    },
    "id": "fbgSp7HyTNzo",
    "outputId": "42143ca5-ac58-4cd4-9684-5b79aa942454"
   },
   "outputs": [],
   "source": [
    "soup.select(\"#right-navigation\") #поиск по id"
   ]
  },
  {
   "cell_type": "markdown",
   "metadata": {
    "id": "sbttAtotTj8Y"
   },
   "source": [
    "Можно усилить BeautifulSoup: там можно и изменять HTML-код (добавлять-удалять-менять тэги, аттрибуты etc)\n",
    "\n",
    "Но главное, что BS умеет работать с паттернами регулярок и ходят бок о бок!"
   ]
  },
  {
   "cell_type": "markdown",
   "metadata": {
    "id": "A4MnvHjmDNQy"
   },
   "source": [
    "## Попугай дня"
   ]
  },
  {
   "cell_type": "markdown",
   "metadata": {
    "id": "_Do1QwYBEKr6"
   },
   "source": [
    "![](https://upload.wikimedia.org/wikipedia/commons/thumb/c/ca/Rose-ringed_parakeet_%28Psittacula_krameri_manillensis%29.jpg/1024px-Rose-ringed_parakeet_%28Psittacula_krameri_manillensis%29.jpg)"
   ]
  },
  {
   "cell_type": "markdown",
   "metadata": {
    "id": "2aljCpwJEM-z"
   },
   "source": [
    "А это ожереловый попугай (или индийский кольчатый попугай). Этот вид явно выделяет наличие такого колечка на шее. Самый распространенный попугай в мире\n",
    "\n",
    "Они очень хорошо и быстро летают, но ходят максимально неуклюже)\n",
    "\n",
    "В отличии от многих попугаев, для которых человеческая деятельность является вредом и уменьшает их естественный ареал обитания, то как раз для этих птиц человеческая деятельность - это плюс, потому что они находят корм внутри человеческих обществ (не боятся людей, лучше всего приспосабливаются, едят пшеницу). Поговаривают, что в качестве домашних попугаев их держали еще в древней Греции и Риме, а в  средневековой Индии ожереловые попугаи часто были питомцами знатных особ и монархов, причём владение этим попугаем считалось элементом роскоши и престижа"
   ]
  }
 ],
 "metadata": {
  "colab": {
   "collapsed_sections": [
    "gMkzsR17NPs_",
    "rNekr0RvisFN"
   ],
   "provenance": []
  },
  "kernelspec": {
   "display_name": "Python 3 (ipykernel)",
   "language": "python",
   "name": "python3"
  },
  "language_info": {
   "codemirror_mode": {
    "name": "ipython",
    "version": 3
   },
   "file_extension": ".py",
   "mimetype": "text/x-python",
   "name": "python",
   "nbconvert_exporter": "python",
   "pygments_lexer": "ipython3",
   "version": "3.12.4"
  }
 },
 "nbformat": 4,
 "nbformat_minor": 4
}
