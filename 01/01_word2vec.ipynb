{
 "cells": [
  {
   "cell_type": "markdown",
   "metadata": {
    "id": "nTSf4ro-qU0d"
   },
   "source": [
    "## Yandex Тренировки по ML2.0 word2vec на PyTorch\n",
    "\n",
    "Как вы уже могли заметить, идея, лежащая в основе [word2vec](https://arxiv.org/pdf/1310.4546), достаточно общая. В данном задании вы реализуете его самостоятельно.\n",
    "\n",
    "Дисклеймер: не стоит удивляться тому, что реализация от `gensim` (или аналоги) обучается быстрее и работает точнее. Она использует множество доработок и ускорений, а также достаточно эффективный код. Ваша задача добиться промежуточных результатов за разумное время.\n",
    "\n",
    "P.s. Как ни странно, GPU в этом задании нам не потребуется."
   ]
  },
  {
   "cell_type": "markdown",
   "metadata": {},
   "source": [
    "__Requirements:__ if you're running locally, in the selected environment run the following command:\n",
    "\n",
    "```pip install --upgrade nltk bokeh umap-learn```\n"
   ]
  },
  {
   "cell_type": "code",
   "execution_count": null,
   "metadata": {
    "id": "Oipe2DU8qfm7"
   },
   "outputs": [],
   "source": [
    "!pip install --upgrade nltk bokeh umap-learn"
   ]
  },
  {
   "cell_type": "code",
   "execution_count": 2,
   "metadata": {
    "id": "pqPU4Lu2qU0h"
   },
   "outputs": [],
   "source": [
    "import itertools\n",
    "import random\n",
    "import string\n",
    "from collections import Counter\n",
    "from itertools import chain\n",
    "\n",
    "import matplotlib.pyplot as plt\n",
    "import numpy as np\n",
    "import torch\n",
    "import torch.autograd as autograd\n",
    "import torch.nn as nn\n",
    "import torch.nn.functional as F\n",
    "import torch.optim as optim\n",
    "import umap\n",
    "from IPython.display import clear_output\n",
    "from matplotlib import pyplot as plt\n",
    "from nltk.tokenize import WordPunctTokenizer\n",
    "from torch.optim.lr_scheduler import ReduceLROnPlateau, StepLR\n",
    "from tqdm.auto import tqdm as tqdma"
   ]
  },
  {
   "cell_type": "code",
   "execution_count": 3,
   "metadata": {
    "colab": {
     "base_uri": "https://localhost:8080/"
    },
    "id": "8Fbx57z3qU0i",
    "outputId": "699ab6a7-41b9-402f-b842-039142bea06a"
   },
   "outputs": [
    {
     "name": "stdout",
     "output_type": "stream",
     "text": [
      "File ‘./quora.txt’ already there; not retrieving.\n"
     ]
    }
   ],
   "source": [
    "# download the data:\n",
    "!wget https://www.dropbox.com/s/obaitrix9jyu84r/quora.txt?dl=1 -O ./quora.txt -nc\n",
    "# alternative download link: https://yadi.sk/i/BPQrUu1NaTduEw"
   ]
  },
  {
   "cell_type": "code",
   "execution_count": 4,
   "metadata": {
    "colab": {
     "base_uri": "https://localhost:8080/",
     "height": 37
    },
    "id": "8EYy5dQpqU0i",
    "outputId": "57a393d2-d5f5-4fa9-f46d-1b268d7798ae"
   },
   "outputs": [
    {
     "data": {
      "text/plain": [
       "\"What TV shows or books help you read people's body language?\\n\""
      ]
     },
     "execution_count": 4,
     "metadata": {},
     "output_type": "execute_result"
    }
   ],
   "source": [
    "data = list(open(\"./quora.txt\", encoding=\"utf-8\"))\n",
    "data[50]"
   ]
  },
  {
   "cell_type": "markdown",
   "metadata": {
    "id": "feBEGI2eqU0j"
   },
   "source": [
    "Токенизация – первый шаг.\n",
    "Тексты, с которыми мы работаем, включают в себя пунктуацию, смайлики и прочие нестандартные токены, так что простой `str.split` не подойдет.\n",
    "\n",
    "Обратимся к `nltk` - библиотеку, нашла широкое применеие в области NLP."
   ]
  },
  {
   "cell_type": "code",
   "execution_count": 5,
   "metadata": {
    "colab": {
     "base_uri": "https://localhost:8080/"
    },
    "id": "7mWTvm50qU0j",
    "outputId": "18272985-9762-4288-8457-76fa78a44d52"
   },
   "outputs": [
    {
     "name": "stdout",
     "output_type": "stream",
     "text": [
      "['What', 'TV', 'shows', 'or', 'books', 'help', 'you', 'read', 'people', \"'\", 's', 'body', 'language', '?']\n"
     ]
    }
   ],
   "source": [
    "tokenizer = WordPunctTokenizer()\n",
    "\n",
    "print(tokenizer.tokenize(data[50]))"
   ]
  },
  {
   "cell_type": "code",
   "execution_count": 6,
   "metadata": {
    "id": "HzC05EHWqU0j"
   },
   "outputs": [],
   "source": [
    "data_tok = [\n",
    "    tokenizer.tokenize(\n",
    "        line.translate(str.maketrans(\"\", \"\", string.punctuation)).lower()\n",
    "    )\n",
    "    for line in data\n",
    "] # генератор в котором токенизируем каждое предложение\n",
    "data_tok = [x for x in data_tok if len(x) >= 3]"
   ]
  },
  {
   "cell_type": "markdown",
   "metadata": {
    "id": "6azRAgHIqU0k"
   },
   "source": [
    "Несколько проверок:"
   ]
  },
  {
   "cell_type": "code",
   "execution_count": 7,
   "metadata": {
    "id": "Cp8UpxdWqU0k"
   },
   "outputs": [],
   "source": [
    "assert all(\n",
    "    isinstance(row, (list, tuple)) for row in data_tok\n",
    "), \"please convert each line into a list of tokens (strings)\"\n",
    "assert all(\n",
    "    all(isinstance(tok, str) for tok in row) for row in data_tok\n",
    "), \"please convert each line into a list of tokens (strings)\"\n",
    "is_latin = lambda tok: all(\"a\" <= x.lower() <= \"z\" for x in tok)\n",
    "assert all(\n",
    "    map(lambda l: not is_latin(l) or l.islower(), map(\" \".join, data_tok))\n",
    "), \"please make sure to lowercase the data\""
   ]
  },
  {
   "cell_type": "markdown",
   "metadata": {
    "id": "37e7-MIhqU0x"
   },
   "source": [
    "Ниже заданы константы ширины окна контекста и проведена предобработка для построения skip-gram модели."
   ]
  },
  {
   "cell_type": "code",
   "execution_count": 8,
   "metadata": {
    "id": "fugc1IomqU0x"
   },
   "outputs": [],
   "source": [
    "min_count = 5\n",
    "window_radius = 5"
   ]
  },
  {
   "cell_type": "code",
   "execution_count": 9,
   "metadata": {},
   "outputs": [],
   "source": [
    "vocabulary_with_counter = Counter(chain.from_iterable(data_tok))\n",
    "\n",
    "word_count_dict = dict()\n",
    "for word, counter in vocabulary_with_counter.items():\n",
    "    if counter >= min_count:\n",
    "        word_count_dict[word] = counter\n",
    "\n",
    "vocabulary = set(word_count_dict.keys())\n",
    "del vocabulary_with_counter"
   ]
  },
  {
   "cell_type": "code",
   "execution_count": 10,
   "metadata": {},
   "outputs": [],
   "source": [
    "word_to_index = {word: index for index, word in enumerate(vocabulary)} # (слово, индекс)\n",
    "index_to_word = {index: word for word, index in word_to_index.items()} # (индекс, слово)"
   ]
  },
  {
   "cell_type": "markdown",
   "metadata": {
    "id": "4Y8rlBfqqU0x"
   },
   "source": [
    "Пары `(слово, контекст)` на основе доступного датасета сгенерированы ниже."
   ]
  },
  {
   "cell_type": "code",
   "execution_count": 11,
   "metadata": {
    "id": "h2-aqyyaqU0x"
   },
   "outputs": [
    {
     "name": "stdout",
     "output_type": "stream",
     "text": [
      "Generated 40220313 pairs of target and context words.\n"
     ]
    }
   ],
   "source": [
    "context_pairs = []\n",
    "\n",
    "for text in data_tok:\n",
    "    for i, central_word in enumerate(text): # выбираем центральное слово\n",
    "        context_indices = range(\n",
    "            max(0, i - window_radius), min(i + window_radius, len(text))\n",
    "        )\n",
    "        for j in context_indices:\n",
    "            if j == i:\n",
    "                continue\n",
    "            context_word = text[j]\n",
    "            if central_word in vocabulary and context_word in vocabulary:\n",
    "                context_pairs.append(\n",
    "                    (word_to_index[central_word], word_to_index[context_word]) # нашли пары разрешенных слов и добавили в массив\n",
    "                )\n",
    "\n",
    "print(f\"Generated {len(context_pairs)} pairs of target and context words.\")"
   ]
  },
  {
   "cell_type": "markdown",
   "metadata": {},
   "source": [
    "#### Подзадача №1: subsampling\n",
    "Для того, чтобы сгладить разницу в частоте встречаемсости слов, необходимо реализовать механизм subsampling'а.\n",
    "Для этого вам необходимо реализовать функцию ниже.\n",
    "\n",
    "Вероятность **оставить** слово из обучения (на фиксированном шаге) вычисляется как\n",
    "$$\n",
    "P_\\text{save}(w_i)=\\sqrt{\\frac{t}{f(w_i)}},\n",
    "$$\n",
    "где $f(w_i)$ – нормированная частота встречаемости слова, а $t$ – заданный порог (threshold)."
   ]
  },
  {
   "cell_type": "code",
   "execution_count": 12,
   "metadata": {},
   "outputs": [],
   "source": [
    "def subsample_frequent_words(word_count_dict, threshold=1e-5):\n",
    "    \"\"\"\n",
    "    Calculates the subsampling probabilities for words based on their frequencies.\n",
    "\n",
    "    This function is used to determine the probability of keeping a word in the dataset\n",
    "    when subsampling frequent words. The method used is inspired by the subsampling approach\n",
    "    in Word2Vec, where each word's frequency affects its probability of being kept.\n",
    "\n",
    "    Parameters:\n",
    "    - word_count_dict (dict): A dictionary where keys are words and values are the counts of those words.\n",
    "    - threshold (float, optional): A threshold parameter used to adjust the frequency of word subsampling.\n",
    "                                   Defaults to 1e-5.\n",
    "\n",
    "    Returns:\n",
    "    - dict: A dictionary where keys are words and values are the probabilities of keeping each word.\n",
    "\n",
    "    Example:\n",
    "    >>> word_counts = {'the': 5000, 'is': 1000, 'apple': 50}\n",
    "    >>> subsample_frequent_words(word_counts)\n",
    "    {'the': 0.028, 'is': 0.223, 'apple': 1.0}\n",
    "    \"\"\"\n",
    "    \n",
    "    ### YOUR CODE HERE\n",
    "    # import numpy as np\n",
    "    \n",
    "    all_w_count = sum(word_count_dict.values())\n",
    "    freq = {word: word_count_dict[word] / all_w_count for word in word_count_dict}\n",
    "    prob = {word: (threshold / freq[word]) ** 0.5 for word in freq}\n",
    "    return prob\n"
   ]
  },
  {
   "cell_type": "code",
   "execution_count": 13,
   "metadata": {},
   "outputs": [
    {
     "data": {
      "text/plain": [
       "{'the': 0.0034785054261852176,\n",
       " 'is': 0.007778174593052023,\n",
       " 'apple': 0.034785054261852175}"
      ]
     },
     "execution_count": 13,
     "metadata": {},
     "output_type": "execute_result"
    }
   ],
   "source": [
    "word_counts = {'the': 5000, 'is': 1000, 'apple': 50}\n",
    "subsample_frequent_words(word_counts) # тут тест в шапке функции неправильный эта функция робит, так что все по кайфу"
   ]
  },
  {
   "cell_type": "markdown",
   "metadata": {},
   "source": [
    "#### Подзадача №2: negative sampling\n",
    "Для более эффективного обучения необходимо не только предсказывать высокие вероятности для слов из контекста, но и предсказывать низкие для слов, не встреченных в контексте. Для этого вам необходимо вычислить вероятност использовать слово в качестве negative sample, реализовав функцию ниже.\n",
    "\n",
    "В оригинальной статье предлагается оценивать вероятность слов выступать в качестве negative sample согласно распределению $P_n(w)$\n",
    "$$\n",
    "P_n(w) = \\frac{U(w)^{3/4}}{Z},\n",
    "$$\n",
    "\n",
    "где $U(w)$ распределение слов по частоте (или, как его еще называют, по униграммам), а $Z$ – нормировочная константа, чтобы общая мера была равна $1$."
   ]
  },
  {
   "cell_type": "code",
   "execution_count": 14,
   "metadata": {},
   "outputs": [],
   "source": [
    "def get_negative_sampling_prob(word_count_dict):\n",
    "    \"\"\"\n",
    "    Calculates the negative sampling probabilities for words based on their frequencies.\n",
    "\n",
    "    This function adjusts the frequency of each word raised to the power of 0.75, which is\n",
    "    commonly used in algorithms like Word2Vec to moderate the influence of very frequent words.\n",
    "    It then normalizes these adjusted frequencies to ensure they sum to 1, forming a probability\n",
    "    distribution used for negative sampling.\n",
    "\n",
    "    Parameters:\n",
    "    - word_count_dict (dict): A dictionary where keys are words and values are the counts of those words.\n",
    "\n",
    "    Returns:\n",
    "    - dict: A dictionary where keys are words and values are the probabilities of selecting each word\n",
    "            for negative sampling.\n",
    "\n",
    "    Example:\n",
    "    >>> word_counts = {'the': 5000, 'is': 1000, 'apple': 50}\n",
    "    >>> get_negative_sampling_prob(word_counts)\n",
    "    {'the': 0.298, 'is': 0.160, 'apple': 0.042}\n",
    "    \"\"\"\n",
    "    all_w_count = sum(word_count_dict.values())\n",
    "    freq = {word: (word_count_dict[word] / all_w_count) ** 0.75 for word in word_count_dict}\n",
    "    Z = sum(freq.values())\n",
    "    return {word: freq[word] / Z for word in freq}\n",
    "    \n",
    "    ### YOUR CODE HERE\n",
    "    # negative_sampling_prob_dict = {\n",
    "        # word: 0 for word in word_count_dict.keys()\n",
    "    # }  # THIS IS A PLACEHOLDER!\n",
    "    # return negative_sampling_prob_dict"
   ]
  },
  {
   "cell_type": "code",
   "execution_count": 15,
   "metadata": {},
   "outputs": [
    {
     "data": {
      "text/plain": [
       "{'the': 0.751488398196177,\n",
       " 'is': 0.22474745206890812,\n",
       " 'apple': 0.023764149734914898}"
      ]
     },
     "execution_count": 15,
     "metadata": {},
     "output_type": "execute_result"
    }
   ],
   "source": [
    "word_counts = {'the': 5000, 'is': 1000, 'apple': 50}\n",
    "get_negative_sampling_prob(word_counts)"
   ]
  },
  {
   "cell_type": "markdown",
   "metadata": {},
   "source": [
    "Для удобства, преобразуем полученные словари в массивы (т.к. все слова все равно уже пронумерованы)."
   ]
  },
  {
   "cell_type": "code",
   "execution_count": 16,
   "metadata": {},
   "outputs": [],
   "source": [
    "keep_prob_dict = subsample_frequent_words(word_count_dict)\n",
    "assert keep_prob_dict.keys() == word_count_dict.keys()"
   ]
  },
  {
   "cell_type": "code",
   "execution_count": 17,
   "metadata": {},
   "outputs": [],
   "source": [
    "negative_sampling_prob_dict = get_negative_sampling_prob(word_count_dict)\n",
    "assert negative_sampling_prob_dict.keys() == negative_sampling_prob_dict.keys()\n",
    "assert np.allclose(sum(negative_sampling_prob_dict.values()), 1)"
   ]
  },
  {
   "cell_type": "code",
   "execution_count": 18,
   "metadata": {},
   "outputs": [],
   "source": [
    "# полученные массивы\n",
    "keep_prob_array = np.array(\n",
    "    [keep_prob_dict[index_to_word[idx]] for idx in range(len(word_to_index))]\n",
    ")\n",
    "negative_sampling_prob_array = np.array(\n",
    "    [\n",
    "        negative_sampling_prob_dict[index_to_word[idx]]\n",
    "        for idx in range(len(word_to_index))\n",
    "    ]\n",
    ")"
   ]
  },
  {
   "cell_type": "markdown",
   "metadata": {},
   "source": [
    "Если все прошло успешно, функция ниже поможет вам с генерацией подвыборок (батчей)."
   ]
  },
  {
   "cell_type": "code",
   "execution_count": 19,
   "metadata": {},
   "outputs": [],
   "source": [
    "def generate_batch_with_neg_samples(\n",
    "    context_pairs,\n",
    "    batch_size,\n",
    "    keep_prob_array,\n",
    "    word_to_index,\n",
    "    num_negatives,\n",
    "    negative_sampling_prob_array,\n",
    "):\n",
    "    batch = []\n",
    "    neg_samples = []\n",
    "\n",
    "    while len(batch) < batch_size:\n",
    "        center, context = random.choice(context_pairs)\n",
    "        if random.random() < keep_prob_array[center]:\n",
    "            batch.append((center, context))\n",
    "            neg_sample = np.random.choice(\n",
    "                range(len(negative_sampling_prob_array)),\n",
    "                size=num_negatives,\n",
    "                p=negative_sampling_prob_array,\n",
    "            )\n",
    "            neg_samples.append(neg_sample)\n",
    "    batch = np.array(batch)\n",
    "    neg_samples = np.vstack(neg_samples)\n",
    "    return batch, neg_samples"
   ]
  },
  {
   "cell_type": "code",
   "execution_count": 20,
   "metadata": {},
   "outputs": [],
   "source": [
    "batch_size = 4\n",
    "num_negatives = 15\n",
    "batch, neg_samples = generate_batch_with_neg_samples(\n",
    "    context_pairs,\n",
    "    batch_size,\n",
    "    keep_prob_array,\n",
    "    word_to_index,\n",
    "    num_negatives,\n",
    "    negative_sampling_prob_array,\n",
    ")"
   ]
  },
  {
   "cell_type": "code",
   "execution_count": 98,
   "metadata": {},
   "outputs": [
    {
     "data": {
      "text/plain": [
       "(array([[26554,  1929],\n",
       "        [17428, 23546],\n",
       "        [14156, 26706],\n",
       "        [ 7272,  2146]]),\n",
       " array([[13862, 21398, 17811,  4032, 11866, 25279,  4613, 19383, 26416,\n",
       "         24813, 14156, 27826, 22595,  6670,  9476],\n",
       "        [21217,  3643, 18619, 11266,  9096,  9788, 11866,  1741,  2435,\n",
       "          7025, 10454, 18718, 26558, 27125, 21927],\n",
       "        [ 1273,  5840, 25295,   757,  6985, 21044, 21565, 26576, 27820,\n",
       "         10352, 22657,  2930,  1929, 25234,  6740],\n",
       "        [25772,  1731, 27782,  5112, 10486, 12354, 26052, 15546, 12717,\n",
       "         12074,  9796, 15287,  4499,  5584, 21501]]))"
      ]
     },
     "execution_count": 98,
     "metadata": {},
     "output_type": "execute_result"
    }
   ],
   "source": [
    "batch, neg_samples"
   ]
  },
  {
   "cell_type": "code",
   "execution_count": 99,
   "metadata": {},
   "outputs": [
    {
     "name": "stdout",
     "output_type": "stream",
     "text": [
      "('tweets', 'to') ('just', 'i') ('paid', 'are') ('thicker', 'mashed')\n"
     ]
    }
   ],
   "source": [
    "print(*[(index_to_word[ind1], index_to_word[ind2]) for ind1, ind2 in batch]) \n",
    "# видим, что генерируется 4 батча (контесктных пар) и 15 neg sampling примеров"
   ]
  },
  {
   "cell_type": "code",
   "execution_count": 100,
   "metadata": {},
   "outputs": [
    {
     "name": "stdout",
     "output_type": "stream",
     "text": [
      "['summer', 'determined', 'does', 'profile', 'any', 'when', 'virgin', 'competitive', 'which', 'filmed', 'paid', 'capable', 'earth', 'obvious', 'revenue']\n",
      "['podcasts', 'why', 'whale', 'digital', 'helplessness', 'from', 'any', 'whats', 'in', 'fbi', 'blurred', 'alcohol', 'would', 'could', 'preferences']\n",
      "['see', 'ramsey', 'dutch', 'around', 'jamaica', 'intolerance', 'donate', 'speed', 'tell', 'mantle', 'settling', 'bba', 'to', 'internet', 'rest']\n",
      "['bells', 'lose', 'dont', 'song', 'love', 'money', 'lady', 'it', 'franchising', 'nitie', 'jakku', 'old', 'war', 'sin', 'ash']\n"
     ]
    }
   ],
   "source": [
    "print(*[[index_to_word[ind] for ind in sampl] for sampl in neg_samples], sep='\\n') "
   ]
  },
  {
   "cell_type": "markdown",
   "metadata": {},
   "source": [
    "Наконец, время реализовать модель. Обращаем ваше внимание, использование линейных слоев (`nn.Linear`) далеко не всегда оправданно!\n",
    "\n",
    "Напомним, что в случае negative sampling решается задача максимизации следующего функционала:\n",
    "\n",
    "$$\n",
    "\\mathcal{L} = \\log \\sigma({\\mathbf{v}'_{w_O}}^\\top \\mathbf{v}_{w_I}) + \\sum_{i=1}^{k} \\mathbb{E}_{w_i \\sim P_n(w)} \\left[ \\log \\sigma({-\\mathbf{v}'_{w_i}}^\\top \\mathbf{v}_{w_I}) \\right],\n",
    "$$\n",
    "\n",
    "где:\n",
    "- $\\mathbf{v}_{w_I}$ – вектор центрального слова $w_I$,\n",
    "- $\\mathbf{v}'_{w_O}$ – вектор слова из контекста $w_O$,\n",
    "- $k$ – число negative samples,\n",
    "- $P_n(w)$ – распределение negative samples, заданное выше,\n",
    "- $\\sigma$ – сигмоида."
   ]
  },
  {
   "cell_type": "markdown",
   "metadata": {},
   "source": [
    "В модели требуется лишь посчитать значения в логорифмах, все остальное будет сделано внутри подсчета лосса"
   ]
  },
  {
   "cell_type": "code",
   "execution_count": 356,
   "metadata": {},
   "outputs": [],
   "source": [
    "class SkipGramModelWithNegSampling(nn.Module):\n",
    "    def __init__(self, vocab_size, embedding_dim):\n",
    "        super(SkipGramModelWithNegSampling, self).__init__()\n",
    "        self.embeddings_in = nn.Embedding(vocab_size, embedding_dim) # center\n",
    "        self.embeddings_out = nn.Embedding(vocab_size, embedding_dim) # context\n",
    "        # никакая логсигмоида нам не нужна! это все заложено в лоссе\n",
    "    \n",
    "    def forward(self, center_words, pos_context_words, neg_context_words):\n",
    "        # center_words - входные слова\n",
    "        # pos_context_words - таргет, т.е. правильный контекст (реально существующий для входного слова)\n",
    "        # слова которые ТОЧНО не будут в контексте\n",
    "        # YOUR CODE HERE\n",
    "\n",
    "        v_in = self.embeddings_in(center_words) \n",
    "        v_out = self.embeddings_out(pos_context_words)\n",
    "        v_neg = self.embeddings_out(neg_context_words)\n",
    "        \n",
    "        pos_scores = (torch.sum(v_in * v_out, dim=1))\n",
    "        neg_scores = (-torch.bmm(v_neg, v_in.unsqueeze(2)).squeeze(2)) #.sum(1) # bmm - батчевое (по 2D-матричное) перемножение матриц\n",
    "        return pos_scores, neg_scores"
   ]
  },
  {
   "cell_type": "code",
   "execution_count": 357,
   "metadata": {},
   "outputs": [],
   "source": [
    "device = torch.device(\"cpu\") # TODO: реализовать перенос на cuda"
   ]
  },
  {
   "cell_type": "code",
   "execution_count": 358,
   "metadata": {},
   "outputs": [],
   "source": [
    "vocab_size = len(word_to_index)\n",
    "embedding_dim = 32\n",
    "num_negatives = 15\n",
    "\n",
    "model = SkipGramModelWithNegSampling(vocab_size, embedding_dim).to(device)\n",
    "optimizer = optim.Adam(model.parameters(), lr=0.05) # оптимизатор параметров методом Adam\n",
    "lr_scheduler = ReduceLROnPlateau(optimizer, factor=0.5, patience=150) # штука, которая будет уполовинивать (* factor = 1/2) lr при отсутствии улучшений в течение 150 эпох\n",
    "criterion = nn.BCEWithLogitsLoss() # тот самый лосс, похож на логлосс"
   ]
  },
  {
   "cell_type": "code",
   "execution_count": 359,
   "metadata": {},
   "outputs": [],
   "source": [
    "# проверяем корректность параметров модели (nn.Linear не нужны)\n",
    "params_counter = 0\n",
    "for weights in model.parameters():\n",
    "    params_counter += weights.shape.numel()\n",
    "assert params_counter == len(word_to_index) * embedding_dim * 2"
   ]
  },
  {
   "cell_type": "code",
   "execution_count": 360,
   "metadata": {},
   "outputs": [],
   "source": [
    "def train_skipgram_with_neg_sampling(\n",
    "    model,\n",
    "    context_pairs,\n",
    "    keep_prob_array,\n",
    "    word_to_index,\n",
    "    batch_size,\n",
    "    num_negatives,\n",
    "    negative_sampling_prob_array,\n",
    "    steps,\n",
    "    optimizer=optimizer,\n",
    "    lr_scheduler=lr_scheduler,\n",
    "    device=device,\n",
    "):\n",
    "    pos_labels = torch.ones(batch_size).to(device)\n",
    "    neg_labels = torch.zeros(batch_size, num_negatives).to(device)\n",
    "    loss_history = []\n",
    "    for step in tqdma(range(steps)):\n",
    "        batch, neg_samples = generate_batch_with_neg_samples(\n",
    "            context_pairs,\n",
    "            batch_size,\n",
    "            keep_prob_array,\n",
    "            word_to_index,\n",
    "            num_negatives,\n",
    "            negative_sampling_prob_array,\n",
    "        ) # сгенерили контекстные пары и neg samples\n",
    "        center_words = torch.tensor([pair[0] for pair in batch], dtype=torch.long).to(\n",
    "            device\n",
    "        ) # ключевое слово - первое в батче\n",
    "        pos_context_words = torch.tensor(\n",
    "            [pair[1] for pair in batch], dtype=torch.long\n",
    "        ).to(device) # положительное - второе\n",
    "        neg_context_words = torch.tensor(neg_samples, dtype=torch.long).to(device)\n",
    "         # негативные генерятся отдельно\n",
    "        optimizer.zero_grad()\n",
    "        pos_scores, neg_scores = model(\n",
    "            center_words, pos_context_words, neg_context_words\n",
    "        )\n",
    "        loss_pos = criterion(pos_scores, pos_labels)\n",
    "        loss_neg = criterion(neg_scores, neg_labels)\n",
    "\n",
    "        loss = loss_pos + loss_neg\n",
    "        loss.backward()\n",
    "        optimizer.step()\n",
    "\n",
    "        loss_history.append(loss.item())\n",
    "        lr_scheduler.step(loss_history[-1])\n",
    "\n",
    "        if step % 100 == 0:\n",
    "            print(\n",
    "                f\"Step {step}, Loss: {np.mean(loss_history[-100:])}, learning rate: {lr_scheduler._last_lr}\"\n",
    "            )\n",
    "    else:\n",
    "        print(\n",
    "                f\"Resulting Loss: {np.mean(loss_history[-100:])}, learning rate: {lr_scheduler._last_lr}\"\n",
    "            )\n"
   ]
  },
  {
   "cell_type": "code",
   "execution_count": 361,
   "metadata": {},
   "outputs": [
    {
     "data": {
      "application/vnd.jupyter.widget-view+json": {
       "model_id": "9bd6753fe8b149da9705a2bd9660439e",
       "version_major": 2,
       "version_minor": 0
      },
      "text/plain": [
       "  0%|          | 0/2500 [00:00<?, ?it/s]"
      ]
     },
     "metadata": {},
     "output_type": "display_data"
    },
    {
     "name": "stdout",
     "output_type": "stream",
     "text": [
      "Step 0, Loss: 4.865993499755859, learning rate: [0.05]\n",
      "Step 100, Loss: 3.3846240043640137, learning rate: [0.05]\n",
      "Step 200, Loss: 1.5597336345911026, learning rate: [0.05]\n",
      "Step 300, Loss: 0.5511732193827629, learning rate: [0.05]\n",
      "Step 400, Loss: 0.26104101419448855, learning rate: [0.05]\n",
      "Step 500, Loss: 0.15788865111768247, learning rate: [0.05]\n",
      "Step 600, Loss: 0.09508352927863598, learning rate: [0.05]\n",
      "Step 700, Loss: 0.0725910478644073, learning rate: [0.05]\n",
      "Step 800, Loss: 0.05561760012060404, learning rate: [0.05]\n",
      "Step 900, Loss: 0.03648724898695946, learning rate: [0.05]\n",
      "Step 1000, Loss: 0.03202604350633919, learning rate: [0.05]\n",
      "Step 1100, Loss: 0.025709856173489243, learning rate: [0.05]\n",
      "Step 1200, Loss: 0.015963920990470795, learning rate: [0.05]\n",
      "Step 1300, Loss: 0.013495399066014215, learning rate: [0.05]\n",
      "Step 1400, Loss: 0.015084735385607928, learning rate: [0.05]\n",
      "Step 1500, Loss: 0.009951074245618656, learning rate: [0.05]\n",
      "Step 1600, Loss: 0.007282264290261083, learning rate: [0.05]\n",
      "Step 1700, Loss: 0.0061879387256340125, learning rate: [0.05]\n",
      "Step 1800, Loss: 0.005355714173638262, learning rate: [0.05]\n",
      "Step 1900, Loss: 0.0040409239739528854, learning rate: [0.025]\n",
      "Step 2000, Loss: 0.003786265477538109, learning rate: [0.025]\n",
      "Step 2100, Loss: 0.003192825402074959, learning rate: [0.025]\n",
      "Step 2200, Loss: 0.001980950191791635, learning rate: [0.025]\n",
      "Step 2300, Loss: 0.0019930048592505046, learning rate: [0.025]\n",
      "Step 2400, Loss: 0.0013955571383121423, learning rate: [0.025]\n",
      "Resulting Loss: 0.0012027445819694548, learning rate: [0.025]\n"
     ]
    }
   ],
   "source": [
    "steps = 2500\n",
    "batch_size = 512\n",
    "train_skipgram_with_neg_sampling(\n",
    "    model,\n",
    "    context_pairs,\n",
    "    keep_prob_array,\n",
    "    word_to_index,\n",
    "    batch_size,\n",
    "    num_negatives,\n",
    "    negative_sampling_prob_array,\n",
    "    steps,\n",
    ")"
   ]
  },
  {
   "cell_type": "markdown",
   "metadata": {},
   "source": [
    "Наконец, используйте полученную матрицу весов в качестве матрицы в векторными представлениями слов. Рекомендуем использовать для сдачи матрицу, которая отвечала за слова из контекста (т.е. декодера)."
   ]
  },
  {
   "cell_type": "code",
   "execution_count": 362,
   "metadata": {},
   "outputs": [],
   "source": [
    "_model_parameters = model.parameters()\n",
    "embedding_matrix_center = next(\n",
    "    _model_parameters\n",
    ").detach()  # Assuming that first matrix was for central word\n",
    "embedding_matrix_context = next(\n",
    "    _model_parameters\n",
    ").detach()  # Assuming that second matrix was for context word"
   ]
  },
  {
   "cell_type": "code",
   "execution_count": 363,
   "metadata": {},
   "outputs": [],
   "source": [
    "def get_word_vector(word, embedding_matrix, word_to_index=word_to_index):\n",
    "    return embedding_matrix[word_to_index[word]]"
   ]
  },
  {
   "cell_type": "markdown",
   "metadata": {},
   "source": [
    "Простые проверки:"
   ]
  },
  {
   "cell_type": "code",
   "execution_count": 364,
   "metadata": {},
   "outputs": [],
   "source": [
    "similarity_1 = F.cosine_similarity(\n",
    "    get_word_vector(\"iphone\", embedding_matrix_context)[None, :],\n",
    "    get_word_vector(\"apple\", embedding_matrix_context)[None, :],\n",
    ")\n",
    "similarity_2 = F.cosine_similarity(\n",
    "    get_word_vector(\"iphone\", embedding_matrix_context)[None, :],\n",
    "    get_word_vector(\"dell\", embedding_matrix_context)[None, :],\n",
    ")\n",
    "assert similarity_1 > similarity_2"
   ]
  },
  {
   "cell_type": "code",
   "execution_count": 365,
   "metadata": {},
   "outputs": [],
   "source": [
    "similarity_1 = F.cosine_similarity(\n",
    "    get_word_vector(\"windows\", embedding_matrix_context)[None, :],\n",
    "    get_word_vector(\"laptop\", embedding_matrix_context)[None, :],\n",
    ")\n",
    "similarity_2 = F.cosine_similarity(\n",
    "    get_word_vector(\"windows\", embedding_matrix_context)[None, :],\n",
    "    get_word_vector(\"macbook\", embedding_matrix_context)[None, :],\n",
    ")\n",
    "assert similarity_1 > similarity_2"
   ]
  },
  {
   "cell_type": "markdown",
   "metadata": {},
   "source": [
    "Наконец, взглянем на ближайшие по косинусной мере слова. Функция реализована ниже."
   ]
  },
  {
   "cell_type": "code",
   "execution_count": 366,
   "metadata": {
    "id": "dA0V6rOYtsLk"
   },
   "outputs": [],
   "source": [
    "def find_nearest(word, embedding_matrix, word_to_index=word_to_index, k=10):\n",
    "    word_vector = get_word_vector(word, embedding_matrix)[None, :]\n",
    "    dists = F.cosine_similarity(embedding_matrix, word_vector)\n",
    "    index_sorted = torch.argsort(dists)\n",
    "    top_k = index_sorted[-k:]\n",
    "    return [(index_to_word[x], dists[x].item()) for x in top_k.numpy()]"
   ]
  },
  {
   "cell_type": "code",
   "execution_count": 367,
   "metadata": {},
   "outputs": [
    {
     "data": {
      "text/plain": [
       "[('them', 0.8274371027946472),\n",
       " ('topup', 0.829564094543457),\n",
       " ('how', 0.8316118121147156),\n",
       " ('i', 0.8346576690673828),\n",
       " ('part', 0.8374033570289612),\n",
       " ('us', 0.8381115198135376),\n",
       " ('her', 0.8399948477745056),\n",
       " ('harvard', 0.8444579839706421),\n",
       " ('water', 0.8486161231994629),\n",
       " ('python', 1.0)]"
      ]
     },
     "execution_count": 367,
     "metadata": {},
     "output_type": "execute_result"
    }
   ],
   "source": [
    "find_nearest(\"python\", embedding_matrix_context, k=10)"
   ]
  },
  {
   "cell_type": "markdown",
   "metadata": {},
   "source": [
    "Также вы можете визуально проверить, как представлены в латентном пространстве часто встречающиеся слова."
   ]
  },
  {
   "cell_type": "code",
   "execution_count": 368,
   "metadata": {},
   "outputs": [],
   "source": [
    "top_k = 5000\n",
    "_top_words = sorted([x for x in word_count_dict.items()], key=lambda x: x[1])[\n",
    "    -top_k - 100 : -100\n",
    "]  # ignoring 100 most frequent words\n",
    "top_words = [x[0] for x in _top_words]\n",
    "del _top_words"
   ]
  },
  {
   "cell_type": "code",
   "execution_count": 369,
   "metadata": {},
   "outputs": [],
   "source": [
    "word_embeddings = torch.cat(\n",
    "    [embedding_matrix_context[word_to_index[x]][None, :] for x in top_words], dim=0\n",
    ").numpy()"
   ]
  },
  {
   "cell_type": "code",
   "execution_count": 370,
   "metadata": {},
   "outputs": [
    {
     "data": {
      "text/html": [
       "    <style>\n",
       "        .bk-notebook-logo {\n",
       "            display: block;\n",
       "            width: 20px;\n",
       "            height: 20px;\n",
       "            background-image: url(data:image/png;base64,iVBORw0KGgoAAAANSUhEUgAAABQAAAAUCAYAAACNiR0NAAAABHNCSVQICAgIfAhkiAAAAAlwSFlzAAALEgAACxIB0t1+/AAAABx0RVh0U29mdHdhcmUAQWRvYmUgRmlyZXdvcmtzIENTNui8sowAAAOkSURBVDiNjZRtaJVlGMd/1/08zzln5zjP1LWcU9N0NkN8m2CYjpgQYQXqSs0I84OLIC0hkEKoPtiH3gmKoiJDU7QpLgoLjLIQCpEsNJ1vqUOdO7ppbuec5+V+rj4ctwzd8IIbbi6u+8f1539dt3A78eXC7QizUF7gyV1fD1Yqg4JWz84yffhm0qkFqBogB9rM8tZdtwVsPUhWhGcFJngGeWrPzHm5oaMmkfEg1usvLFyc8jLRqDOMru7AyC8saQr7GG7f5fvDeH7Ej8CM66nIF+8yngt6HWaKh7k49Soy9nXurCi1o3qUbS3zWfrYeQDTB/Qj6kX6Ybhw4B+bOYoLKCC9H3Nu/leUTZ1JdRWkkn2ldcCamzrcf47KKXdAJllSlxAOkRgyHsGC/zRday5Qld9DyoM4/q/rUoy/CXh3jzOu3bHUVZeU+DEn8FInkPBFlu3+nW3Nw0mk6vCDiWg8CeJaxEwuHS3+z5RgY+YBR6V1Z1nxSOfoaPa4LASWxxdNp+VWTk7+4vzaou8v8PN+xo+KY2xsw6une2frhw05CTYOmQvsEhjhWjn0bmXPjpE1+kplmmkP3suftwTubK9Vq22qKmrBhpY4jvd5afdRA3wGjFAgcnTK2s4hY0/GPNIb0nErGMCRxWOOX64Z8RAC4oCXdklmEvcL8o0BfkNK4lUg9HTl+oPlQxdNo3Mg4Nv175e/1LDGzZen30MEjRUtmXSfiTVu1kK8W4txyV6BMKlbgk3lMwYCiusNy9fVfvvwMxv8Ynl6vxoByANLTWplvuj/nF9m2+PDtt1eiHPBr1oIfhCChQMBw6Aw0UulqTKZdfVvfG7VcfIqLG9bcldL/+pdWTLxLUy8Qq38heUIjh4XlzZxzQm19lLFlr8vdQ97rjZVOLf8nclzckbcD4wxXMidpX30sFd37Fv/GtwwhzhxGVAprjbg0gCAEeIgwCZyTV2Z1REEW8O4py0wsjeloKoMr6iCY6dP92H6Vw/oTyICIthibxjm/DfN9lVz8IqtqKYLUXfoKVMVQVVJOElGjrnnUt9T9wbgp8AyYKaGlqingHZU/uG2NTZSVqwHQTWkx9hxjkpWDaCg6Ckj5qebgBVbT3V3NNXMSiWSDdGV3hrtzla7J+duwPOToIg42ChPQOQjspnSlp1V+Gjdged7+8UN5CRAV7a5EdFNwCjEaBR27b3W890TE7g24NAP/mMDXRWrGoFPQI9ls/MWO2dWFAar/xcOIImbbpA3zgAAAABJRU5ErkJggg==);\n",
       "        }\n",
       "    </style>\n",
       "    <div>\n",
       "        <a href=\"https://bokeh.org\" target=\"_blank\" class=\"bk-notebook-logo\"></a>\n",
       "        <span id=\"fa88bc6b-dcff-4b7a-9bfc-fe28c0da6654\">Loading BokehJS ...</span>\n",
       "    </div>\n"
      ]
     },
     "metadata": {},
     "output_type": "display_data"
    },
    {
     "data": {
      "application/javascript": [
       "'use strict';\n",
       "(function(root) {\n",
       "  function now() {\n",
       "    return new Date();\n",
       "  }\n",
       "\n",
       "  const force = true;\n",
       "\n",
       "  if (typeof root._bokeh_onload_callbacks === \"undefined\" || force === true) {\n",
       "    root._bokeh_onload_callbacks = [];\n",
       "    root._bokeh_is_loading = undefined;\n",
       "  }\n",
       "\n",
       "const JS_MIME_TYPE = 'application/javascript';\n",
       "  const HTML_MIME_TYPE = 'text/html';\n",
       "  const EXEC_MIME_TYPE = 'application/vnd.bokehjs_exec.v0+json';\n",
       "  const CLASS_NAME = 'output_bokeh rendered_html';\n",
       "\n",
       "  /**\n",
       "   * Render data to the DOM node\n",
       "   */\n",
       "  function render(props, node) {\n",
       "    const script = document.createElement(\"script\");\n",
       "    node.appendChild(script);\n",
       "  }\n",
       "\n",
       "  /**\n",
       "   * Handle when an output is cleared or removed\n",
       "   */\n",
       "  function handleClearOutput(event, handle) {\n",
       "    function drop(id) {\n",
       "      const view = Bokeh.index.get_by_id(id)\n",
       "      if (view != null) {\n",
       "        view.model.document.clear()\n",
       "        Bokeh.index.delete(view)\n",
       "      }\n",
       "    }\n",
       "\n",
       "    const cell = handle.cell;\n",
       "\n",
       "    const id = cell.output_area._bokeh_element_id;\n",
       "    const server_id = cell.output_area._bokeh_server_id;\n",
       "\n",
       "    // Clean up Bokeh references\n",
       "    if (id != null) {\n",
       "      drop(id)\n",
       "    }\n",
       "\n",
       "    if (server_id !== undefined) {\n",
       "      // Clean up Bokeh references\n",
       "      const cmd_clean = \"from bokeh.io.state import curstate; print(curstate().uuid_to_server['\" + server_id + \"'].get_sessions()[0].document.roots[0]._id)\";\n",
       "      cell.notebook.kernel.execute(cmd_clean, {\n",
       "        iopub: {\n",
       "          output: function(msg) {\n",
       "            const id = msg.content.text.trim()\n",
       "            drop(id)\n",
       "          }\n",
       "        }\n",
       "      });\n",
       "      // Destroy server and session\n",
       "      const cmd_destroy = \"import bokeh.io.notebook as ion; ion.destroy_server('\" + server_id + \"')\";\n",
       "      cell.notebook.kernel.execute(cmd_destroy);\n",
       "    }\n",
       "  }\n",
       "\n",
       "  /**\n",
       "   * Handle when a new output is added\n",
       "   */\n",
       "  function handleAddOutput(event, handle) {\n",
       "    const output_area = handle.output_area;\n",
       "    const output = handle.output;\n",
       "\n",
       "    // limit handleAddOutput to display_data with EXEC_MIME_TYPE content only\n",
       "    if ((output.output_type != \"display_data\") || (!Object.prototype.hasOwnProperty.call(output.data, EXEC_MIME_TYPE))) {\n",
       "      return\n",
       "    }\n",
       "\n",
       "    const toinsert = output_area.element.find(\".\" + CLASS_NAME.split(' ')[0]);\n",
       "\n",
       "    if (output.metadata[EXEC_MIME_TYPE][\"id\"] !== undefined) {\n",
       "      toinsert[toinsert.length - 1].firstChild.textContent = output.data[JS_MIME_TYPE];\n",
       "      // store reference to embed id on output_area\n",
       "      output_area._bokeh_element_id = output.metadata[EXEC_MIME_TYPE][\"id\"];\n",
       "    }\n",
       "    if (output.metadata[EXEC_MIME_TYPE][\"server_id\"] !== undefined) {\n",
       "      const bk_div = document.createElement(\"div\");\n",
       "      bk_div.innerHTML = output.data[HTML_MIME_TYPE];\n",
       "      const script_attrs = bk_div.children[0].attributes;\n",
       "      for (let i = 0; i < script_attrs.length; i++) {\n",
       "        toinsert[toinsert.length - 1].firstChild.setAttribute(script_attrs[i].name, script_attrs[i].value);\n",
       "        toinsert[toinsert.length - 1].firstChild.textContent = bk_div.children[0].textContent\n",
       "      }\n",
       "      // store reference to server id on output_area\n",
       "      output_area._bokeh_server_id = output.metadata[EXEC_MIME_TYPE][\"server_id\"];\n",
       "    }\n",
       "  }\n",
       "\n",
       "  function register_renderer(events, OutputArea) {\n",
       "\n",
       "    function append_mime(data, metadata, element) {\n",
       "      // create a DOM node to render to\n",
       "      const toinsert = this.create_output_subarea(\n",
       "        metadata,\n",
       "        CLASS_NAME,\n",
       "        EXEC_MIME_TYPE\n",
       "      );\n",
       "      this.keyboard_manager.register_events(toinsert);\n",
       "      // Render to node\n",
       "      const props = {data: data, metadata: metadata[EXEC_MIME_TYPE]};\n",
       "      render(props, toinsert[toinsert.length - 1]);\n",
       "      element.append(toinsert);\n",
       "      return toinsert\n",
       "    }\n",
       "\n",
       "    /* Handle when an output is cleared or removed */\n",
       "    events.on('clear_output.CodeCell', handleClearOutput);\n",
       "    events.on('delete.Cell', handleClearOutput);\n",
       "\n",
       "    /* Handle when a new output is added */\n",
       "    events.on('output_added.OutputArea', handleAddOutput);\n",
       "\n",
       "    /**\n",
       "     * Register the mime type and append_mime function with output_area\n",
       "     */\n",
       "    OutputArea.prototype.register_mime_type(EXEC_MIME_TYPE, append_mime, {\n",
       "      /* Is output safe? */\n",
       "      safe: true,\n",
       "      /* Index of renderer in `output_area.display_order` */\n",
       "      index: 0\n",
       "    });\n",
       "  }\n",
       "\n",
       "  // register the mime type if in Jupyter Notebook environment and previously unregistered\n",
       "  if (root.Jupyter !== undefined) {\n",
       "    const events = require('base/js/events');\n",
       "    const OutputArea = require('notebook/js/outputarea').OutputArea;\n",
       "\n",
       "    if (OutputArea.prototype.mime_types().indexOf(EXEC_MIME_TYPE) == -1) {\n",
       "      register_renderer(events, OutputArea);\n",
       "    }\n",
       "  }\n",
       "  if (typeof (root._bokeh_timeout) === \"undefined\" || force === true) {\n",
       "    root._bokeh_timeout = Date.now() + 5000;\n",
       "    root._bokeh_failed_load = false;\n",
       "  }\n",
       "\n",
       "  const NB_LOAD_WARNING = {'data': {'text/html':\n",
       "     \"<div style='background-color: #fdd'>\\n\"+\n",
       "     \"<p>\\n\"+\n",
       "     \"BokehJS does not appear to have successfully loaded. If loading BokehJS from CDN, this \\n\"+\n",
       "     \"may be due to a slow or bad network connection. Possible fixes:\\n\"+\n",
       "     \"</p>\\n\"+\n",
       "     \"<ul>\\n\"+\n",
       "     \"<li>re-rerun `output_notebook()` to attempt to load from CDN again, or</li>\\n\"+\n",
       "     \"<li>use INLINE resources instead, as so:</li>\\n\"+\n",
       "     \"</ul>\\n\"+\n",
       "     \"<code>\\n\"+\n",
       "     \"from bokeh.resources import INLINE\\n\"+\n",
       "     \"output_notebook(resources=INLINE)\\n\"+\n",
       "     \"</code>\\n\"+\n",
       "     \"</div>\"}};\n",
       "\n",
       "  function display_loaded(error = null) {\n",
       "    const el = document.getElementById(\"fa88bc6b-dcff-4b7a-9bfc-fe28c0da6654\");\n",
       "    if (el != null) {\n",
       "      const html = (() => {\n",
       "        if (typeof root.Bokeh === \"undefined\") {\n",
       "          if (error == null) {\n",
       "            return \"BokehJS is loading ...\";\n",
       "          } else {\n",
       "            return \"BokehJS failed to load.\";\n",
       "          }\n",
       "        } else {\n",
       "          const prefix = `BokehJS ${root.Bokeh.version}`;\n",
       "          if (error == null) {\n",
       "            return `${prefix} successfully loaded.`;\n",
       "          } else {\n",
       "            return `${prefix} <b>encountered errors</b> while loading and may not function as expected.`;\n",
       "          }\n",
       "        }\n",
       "      })();\n",
       "      el.innerHTML = html;\n",
       "\n",
       "      if (error != null) {\n",
       "        const wrapper = document.createElement(\"div\");\n",
       "        wrapper.style.overflow = \"auto\";\n",
       "        wrapper.style.height = \"5em\";\n",
       "        wrapper.style.resize = \"vertical\";\n",
       "        const content = document.createElement(\"div\");\n",
       "        content.style.fontFamily = \"monospace\";\n",
       "        content.style.whiteSpace = \"pre-wrap\";\n",
       "        content.style.backgroundColor = \"rgb(255, 221, 221)\";\n",
       "        content.textContent = error.stack ?? error.toString();\n",
       "        wrapper.append(content);\n",
       "        el.append(wrapper);\n",
       "      }\n",
       "    } else if (Date.now() < root._bokeh_timeout) {\n",
       "      setTimeout(() => display_loaded(error), 100);\n",
       "    }\n",
       "  }\n",
       "\n",
       "  function run_callbacks() {\n",
       "    try {\n",
       "      root._bokeh_onload_callbacks.forEach(function(callback) {\n",
       "        if (callback != null)\n",
       "          callback();\n",
       "      });\n",
       "    } finally {\n",
       "      delete root._bokeh_onload_callbacks\n",
       "    }\n",
       "    console.debug(\"Bokeh: all callbacks have finished\");\n",
       "  }\n",
       "\n",
       "  function load_libs(css_urls, js_urls, callback) {\n",
       "    if (css_urls == null) css_urls = [];\n",
       "    if (js_urls == null) js_urls = [];\n",
       "\n",
       "    root._bokeh_onload_callbacks.push(callback);\n",
       "    if (root._bokeh_is_loading > 0) {\n",
       "      console.debug(\"Bokeh: BokehJS is being loaded, scheduling callback at\", now());\n",
       "      return null;\n",
       "    }\n",
       "    if (js_urls == null || js_urls.length === 0) {\n",
       "      run_callbacks();\n",
       "      return null;\n",
       "    }\n",
       "    console.debug(\"Bokeh: BokehJS not loaded, scheduling load and callback at\", now());\n",
       "    root._bokeh_is_loading = css_urls.length + js_urls.length;\n",
       "\n",
       "    function on_load() {\n",
       "      root._bokeh_is_loading--;\n",
       "      if (root._bokeh_is_loading === 0) {\n",
       "        console.debug(\"Bokeh: all BokehJS libraries/stylesheets loaded\");\n",
       "        run_callbacks()\n",
       "      }\n",
       "    }\n",
       "\n",
       "    function on_error(url) {\n",
       "      console.error(\"failed to load \" + url);\n",
       "    }\n",
       "\n",
       "    for (let i = 0; i < css_urls.length; i++) {\n",
       "      const url = css_urls[i];\n",
       "      const element = document.createElement(\"link\");\n",
       "      element.onload = on_load;\n",
       "      element.onerror = on_error.bind(null, url);\n",
       "      element.rel = \"stylesheet\";\n",
       "      element.type = \"text/css\";\n",
       "      element.href = url;\n",
       "      console.debug(\"Bokeh: injecting link tag for BokehJS stylesheet: \", url);\n",
       "      document.body.appendChild(element);\n",
       "    }\n",
       "\n",
       "    for (let i = 0; i < js_urls.length; i++) {\n",
       "      const url = js_urls[i];\n",
       "      const element = document.createElement('script');\n",
       "      element.onload = on_load;\n",
       "      element.onerror = on_error.bind(null, url);\n",
       "      element.async = false;\n",
       "      element.src = url;\n",
       "      console.debug(\"Bokeh: injecting script tag for BokehJS library: \", url);\n",
       "      document.head.appendChild(element);\n",
       "    }\n",
       "  };\n",
       "\n",
       "  function inject_raw_css(css) {\n",
       "    const element = document.createElement(\"style\");\n",
       "    element.appendChild(document.createTextNode(css));\n",
       "    document.body.appendChild(element);\n",
       "  }\n",
       "\n",
       "  const js_urls = [\"https://cdn.bokeh.org/bokeh/release/bokeh-3.6.0.min.js\", \"https://cdn.bokeh.org/bokeh/release/bokeh-gl-3.6.0.min.js\", \"https://cdn.bokeh.org/bokeh/release/bokeh-widgets-3.6.0.min.js\", \"https://cdn.bokeh.org/bokeh/release/bokeh-tables-3.6.0.min.js\", \"https://cdn.bokeh.org/bokeh/release/bokeh-mathjax-3.6.0.min.js\"];\n",
       "  const css_urls = [];\n",
       "\n",
       "  const inline_js = [    function(Bokeh) {\n",
       "      Bokeh.set_log_level(\"info\");\n",
       "    },\n",
       "function(Bokeh) {\n",
       "    }\n",
       "  ];\n",
       "\n",
       "  function run_inline_js() {\n",
       "    if (root.Bokeh !== undefined || force === true) {\n",
       "      try {\n",
       "            for (let i = 0; i < inline_js.length; i++) {\n",
       "      inline_js[i].call(root, root.Bokeh);\n",
       "    }\n",
       "\n",
       "      } catch (error) {display_loaded(error);throw error;\n",
       "      }if (force === true) {\n",
       "        display_loaded();\n",
       "      }} else if (Date.now() < root._bokeh_timeout) {\n",
       "      setTimeout(run_inline_js, 100);\n",
       "    } else if (!root._bokeh_failed_load) {\n",
       "      console.log(\"Bokeh: BokehJS failed to load within specified timeout.\");\n",
       "      root._bokeh_failed_load = true;\n",
       "    } else if (force !== true) {\n",
       "      const cell = $(document.getElementById(\"fa88bc6b-dcff-4b7a-9bfc-fe28c0da6654\")).parents('.cell').data().cell;\n",
       "      cell.output_area.append_execute_result(NB_LOAD_WARNING)\n",
       "    }\n",
       "  }\n",
       "\n",
       "  if (root._bokeh_is_loading === 0) {\n",
       "    console.debug(\"Bokeh: BokehJS loaded, going straight to plotting\");\n",
       "    run_inline_js();\n",
       "  } else {\n",
       "    load_libs(css_urls, js_urls, function() {\n",
       "      console.debug(\"Bokeh: BokehJS plotting callback run at\", now());\n",
       "      run_inline_js();\n",
       "    });\n",
       "  }\n",
       "}(window));"
      ],
      "application/vnd.bokehjs_load.v0+json": "'use strict';\n(function(root) {\n  function now() {\n    return new Date();\n  }\n\n  const force = true;\n\n  if (typeof root._bokeh_onload_callbacks === \"undefined\" || force === true) {\n    root._bokeh_onload_callbacks = [];\n    root._bokeh_is_loading = undefined;\n  }\n\n\n  if (typeof (root._bokeh_timeout) === \"undefined\" || force === true) {\n    root._bokeh_timeout = Date.now() + 5000;\n    root._bokeh_failed_load = false;\n  }\n\n  const NB_LOAD_WARNING = {'data': {'text/html':\n     \"<div style='background-color: #fdd'>\\n\"+\n     \"<p>\\n\"+\n     \"BokehJS does not appear to have successfully loaded. If loading BokehJS from CDN, this \\n\"+\n     \"may be due to a slow or bad network connection. Possible fixes:\\n\"+\n     \"</p>\\n\"+\n     \"<ul>\\n\"+\n     \"<li>re-rerun `output_notebook()` to attempt to load from CDN again, or</li>\\n\"+\n     \"<li>use INLINE resources instead, as so:</li>\\n\"+\n     \"</ul>\\n\"+\n     \"<code>\\n\"+\n     \"from bokeh.resources import INLINE\\n\"+\n     \"output_notebook(resources=INLINE)\\n\"+\n     \"</code>\\n\"+\n     \"</div>\"}};\n\n  function display_loaded(error = null) {\n    const el = document.getElementById(\"fa88bc6b-dcff-4b7a-9bfc-fe28c0da6654\");\n    if (el != null) {\n      const html = (() => {\n        if (typeof root.Bokeh === \"undefined\") {\n          if (error == null) {\n            return \"BokehJS is loading ...\";\n          } else {\n            return \"BokehJS failed to load.\";\n          }\n        } else {\n          const prefix = `BokehJS ${root.Bokeh.version}`;\n          if (error == null) {\n            return `${prefix} successfully loaded.`;\n          } else {\n            return `${prefix} <b>encountered errors</b> while loading and may not function as expected.`;\n          }\n        }\n      })();\n      el.innerHTML = html;\n\n      if (error != null) {\n        const wrapper = document.createElement(\"div\");\n        wrapper.style.overflow = \"auto\";\n        wrapper.style.height = \"5em\";\n        wrapper.style.resize = \"vertical\";\n        const content = document.createElement(\"div\");\n        content.style.fontFamily = \"monospace\";\n        content.style.whiteSpace = \"pre-wrap\";\n        content.style.backgroundColor = \"rgb(255, 221, 221)\";\n        content.textContent = error.stack ?? error.toString();\n        wrapper.append(content);\n        el.append(wrapper);\n      }\n    } else if (Date.now() < root._bokeh_timeout) {\n      setTimeout(() => display_loaded(error), 100);\n    }\n  }\n\n  function run_callbacks() {\n    try {\n      root._bokeh_onload_callbacks.forEach(function(callback) {\n        if (callback != null)\n          callback();\n      });\n    } finally {\n      delete root._bokeh_onload_callbacks\n    }\n    console.debug(\"Bokeh: all callbacks have finished\");\n  }\n\n  function load_libs(css_urls, js_urls, callback) {\n    if (css_urls == null) css_urls = [];\n    if (js_urls == null) js_urls = [];\n\n    root._bokeh_onload_callbacks.push(callback);\n    if (root._bokeh_is_loading > 0) {\n      console.debug(\"Bokeh: BokehJS is being loaded, scheduling callback at\", now());\n      return null;\n    }\n    if (js_urls == null || js_urls.length === 0) {\n      run_callbacks();\n      return null;\n    }\n    console.debug(\"Bokeh: BokehJS not loaded, scheduling load and callback at\", now());\n    root._bokeh_is_loading = css_urls.length + js_urls.length;\n\n    function on_load() {\n      root._bokeh_is_loading--;\n      if (root._bokeh_is_loading === 0) {\n        console.debug(\"Bokeh: all BokehJS libraries/stylesheets loaded\");\n        run_callbacks()\n      }\n    }\n\n    function on_error(url) {\n      console.error(\"failed to load \" + url);\n    }\n\n    for (let i = 0; i < css_urls.length; i++) {\n      const url = css_urls[i];\n      const element = document.createElement(\"link\");\n      element.onload = on_load;\n      element.onerror = on_error.bind(null, url);\n      element.rel = \"stylesheet\";\n      element.type = \"text/css\";\n      element.href = url;\n      console.debug(\"Bokeh: injecting link tag for BokehJS stylesheet: \", url);\n      document.body.appendChild(element);\n    }\n\n    for (let i = 0; i < js_urls.length; i++) {\n      const url = js_urls[i];\n      const element = document.createElement('script');\n      element.onload = on_load;\n      element.onerror = on_error.bind(null, url);\n      element.async = false;\n      element.src = url;\n      console.debug(\"Bokeh: injecting script tag for BokehJS library: \", url);\n      document.head.appendChild(element);\n    }\n  };\n\n  function inject_raw_css(css) {\n    const element = document.createElement(\"style\");\n    element.appendChild(document.createTextNode(css));\n    document.body.appendChild(element);\n  }\n\n  const js_urls = [\"https://cdn.bokeh.org/bokeh/release/bokeh-3.6.0.min.js\", \"https://cdn.bokeh.org/bokeh/release/bokeh-gl-3.6.0.min.js\", \"https://cdn.bokeh.org/bokeh/release/bokeh-widgets-3.6.0.min.js\", \"https://cdn.bokeh.org/bokeh/release/bokeh-tables-3.6.0.min.js\", \"https://cdn.bokeh.org/bokeh/release/bokeh-mathjax-3.6.0.min.js\"];\n  const css_urls = [];\n\n  const inline_js = [    function(Bokeh) {\n      Bokeh.set_log_level(\"info\");\n    },\nfunction(Bokeh) {\n    }\n  ];\n\n  function run_inline_js() {\n    if (root.Bokeh !== undefined || force === true) {\n      try {\n            for (let i = 0; i < inline_js.length; i++) {\n      inline_js[i].call(root, root.Bokeh);\n    }\n\n      } catch (error) {display_loaded(error);throw error;\n      }if (force === true) {\n        display_loaded();\n      }} else if (Date.now() < root._bokeh_timeout) {\n      setTimeout(run_inline_js, 100);\n    } else if (!root._bokeh_failed_load) {\n      console.log(\"Bokeh: BokehJS failed to load within specified timeout.\");\n      root._bokeh_failed_load = true;\n    } else if (force !== true) {\n      const cell = $(document.getElementById(\"fa88bc6b-dcff-4b7a-9bfc-fe28c0da6654\")).parents('.cell').data().cell;\n      cell.output_area.append_execute_result(NB_LOAD_WARNING)\n    }\n  }\n\n  if (root._bokeh_is_loading === 0) {\n    console.debug(\"Bokeh: BokehJS loaded, going straight to plotting\");\n    run_inline_js();\n  } else {\n    load_libs(css_urls, js_urls, function() {\n      console.debug(\"Bokeh: BokehJS plotting callback run at\", now());\n      run_inline_js();\n    });\n  }\n}(window));"
     },
     "metadata": {},
     "output_type": "display_data"
    }
   ],
   "source": [
    "import bokeh.models as bm\n",
    "import bokeh.plotting as pl\n",
    "from bokeh.io import output_notebook\n",
    "\n",
    "output_notebook()\n",
    "\n",
    "\n",
    "def draw_vectors(\n",
    "    x,\n",
    "    y,\n",
    "    radius=10,\n",
    "    alpha=0.25,\n",
    "    color=\"blue\",\n",
    "    width=600,\n",
    "    height=400,\n",
    "    show=True,\n",
    "    **kwargs,\n",
    "):\n",
    "    \"\"\"draws an interactive plot for data points with auxilirary info on hover\"\"\"\n",
    "    if isinstance(color, str):\n",
    "        color = [color] * len(x)\n",
    "    data_source = bm.ColumnDataSource({\"x\": x, \"y\": y, \"color\": color, **kwargs})\n",
    "\n",
    "    fig = pl.figure(active_scroll=\"wheel_zoom\", width=width, height=height)\n",
    "    fig.scatter(\"x\", \"y\", size=radius, color=\"color\", alpha=alpha, source=data_source)\n",
    "\n",
    "    fig.add_tools(bm.HoverTool(tooltips=[(key, \"@\" + key) for key in kwargs.keys()]))\n",
    "    if show:\n",
    "        pl.show(fig)\n",
    "    return fig"
   ]
  },
  {
   "cell_type": "code",
   "execution_count": 353,
   "metadata": {},
   "outputs": [],
   "source": [
    "embedding = umap.UMAP(n_neighbors=5).fit_transform(word_embeddings)"
   ]
  },
  {
   "cell_type": "code",
   "execution_count": 354,
   "metadata": {},
   "outputs": [
    {
     "data": {
      "text/html": [
       "\n",
       "  <div id=\"f05b36f7-b728-4134-b3a5-0aa4c44734f2\" data-root-id=\"p1310\" style=\"display: contents;\"></div>\n"
      ]
     },
     "metadata": {},
     "output_type": "display_data"
    },
    {
     "data": {
      "application/javascript": [
       "(function(root) {\n",
       "  function embed_document(root) {\n",
       "  const docs_json = {\"f75dc7ae-f4a5-495f-ae38-e2eb9728b677\":{\"version\":\"3.6.0\",\"title\":\"Bokeh Application\",\"roots\":[{\"type\":\"object\",\"name\":\"Figure\",\"id\":\"p1310\",\"attributes\":{\"height\":400,\"x_range\":{\"type\":\"object\",\"name\":\"DataRange1d\",\"id\":\"p1311\"},\"y_range\":{\"type\":\"object\",\"name\":\"DataRange1d\",\"id\":\"p1312\"},\"x_scale\":{\"type\":\"object\",\"name\":\"LinearScale\",\"id\":\"p1319\"},\"y_scale\":{\"type\":\"object\",\"name\":\"LinearScale\",\"id\":\"p1320\"},\"title\":{\"type\":\"object\",\"name\":\"Title\",\"id\":\"p1317\"},\"renderers\":[{\"type\":\"object\",\"name\":\"GlyphRenderer\",\"id\":\"p1350\",\"attributes\":{\"data_source\":{\"type\":\"object\",\"name\":\"ColumnDataSource\",\"id\":\"p1307\",\"attributes\":{\"selected\":{\"type\":\"object\",\"name\":\"Selection\",\"id\":\"p1308\",\"attributes\":{\"indices\":[],\"line_indices\":[]}},\"selection_policy\":{\"type\":\"object\",\"name\":\"UnionRenderers\",\"id\":\"p1309\"},\"data\":{\"type\":\"map\",\"entries\":[[\"x\",{\"type\":\"ndarray\",\"array\":{\"type\":\"bytes\",\"data\":\"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\"},\"shape\":[5000],\"dtype\":\"float32\",\"order\":\"little\"}],[\"y\",{\"type\":\"ndarray\",\"array\":{\"type\":\"bytes\",\"data\":\"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\"},\"shape\":[5000],\"dtype\":\"float32\",\"order\":\"little\"}],[\"color\",[\"blue\",\"blue\",\"blue\",\"blue\",\"blue\",\"blue\",\"blue\",\"blue\",\"blue\",\"blue\",\"blue\",\"blue\",\"blue\",\"blue\",\"blue\",\"blue\",\"blue\",\"blue\",\"blue\",\"blue\",\"blue\",\"blue\",\"blue\",\"blue\",\"blue\",\"blue\",\"blue\",\"blue\",\"blue\",\"blue\",\"blue\",\"blue\",\"blue\",\"blue\",\"blue\",\"blue\",\"blue\",\"blue\",\"blue\",\"blue\",\"blue\",\"blue\",\"blue\",\"blue\",\"blue\",\"blue\",\"blue\",\"blue\",\"blue\",\"blue\",\"blue\",\"blue\",\"blue\",\"blue\",\"blue\",\"blue\",\"blue\",\"blue\",\"blue\",\"blue\",\"blue\",\"blue\",\"blue\",\"blue\",\"blue\",\"blue\",\"blue\",\"blue\",\"blue\",\"blue\",\"blue\",\"blue\",\"blue\",\"blue\",\"blue\",\"blue\",\"blue\",\"blue\",\"blue\",\"blue\",\"blue\",\"blue\",\"blue\",\"blue\",\"blue\",\"blue\",\"blue\",\"blue\",\"blue\",\"blue\",\"blue\",\"blue\",\"blue\",\"blue\",\"blue\",\"blue\",\"blue\",\"blue\",\"blue\",\"blue\",\"blue\",\"blue\",\"blue\",\"blue\",\"blue\",\"blue\",\"blue\",\"blue\",\"blue\",\"blue\",\"blue\",\"blue\",\"blue\",\"blue\",\"blue\",\"blue\",\"blue\",\"blue\",\"blue\",\"blue\",\"blue\",\"blue\",\"blue\",\"blue\",\"blue\",\"blue\",\"blue\",\"blue\",\"blue\",\"blue\",\"blue\",\"blue\",\"blue\",\"blue\",\"blue\",\"blue\",\"blue\",\"blue\",\"blue\",\"blue\",\"blue\",\"blue\",\"blue\",\"blue\",\"blue\",\"blue\",\"blue\",\"blue\",\"blue\",\"blue\",\"blue\",\"blue\",\"blue\",\"blue\",\"blue\",\"blue\",\"blue\",\"blue\",\"blue\",\"blue\",\"blue\",\"blue\",\"blue\",\"blue\",\"blue\",\"blue\",\"blue\",\"blue\",\"blue\",\"blue\",\"blue\",\"blue\",\"blue\",\"blue\",\"blue\",\"blue\",\"blue\",\"blue\",\"blue\",\"blue\",\"blue\",\"blue\",\"blue\",\"blue\",\"blue\",\"blue\",\"blue\",\"blue\",\"blue\",\"blue\",\"blue\",\"blue\",\"blue\",\"blue\",\"blue\",\"blue\",\"blue\",\"blue\",\"blue\",\"blue\",\"blue\",\"blue\",\"blue\",\"blue\",\"blue\",\"blue\",\"blue\",\"blue\",\"blue\",\"blue\",\"blue\",\"blue\",\"blue\",\"blue\",\"blue\",\"blue\",\"blue\",\"blue\",\"blue\",\"blue\",\"blue\",\"blue\",\"blue\",\"blue\",\"blue\",\"blue\",\"blue\",\"blue\",\"blue\",\"blue\",\"blue\",\"blue\",\"blue\",\"blue\",\"blue\",\"blue\",\"blue\",\"blue\",\"blue\",\"blue\",\"blue\",\"blue\",\"blue\",\"blue\",\"blue\",\"blue\",\"blue\",\"blue\",\"blue\",\"blue\",\"blue\",\"blue\",\"blue\",\"blue\",\"blue\",\"blue\",\"blue\",\"blue\",\"blue\",\"blue\",\"blue\",\"blue\",\"blue\",\"blue\",\"blue\",\"blue\",\"blue\",\"blue\",\"blue\",\"blue\",\"blue\",\"blue\",\"blue\",\"blue\",\"blue\",\"blue\",\"blue\",\"blue\",\"blue\",\"blue\",\"blue\",\"blue\",\"blue\",\"blue\",\"blue\",\"blue\",\"blue\",\"blue\",\"blue\",\"blue\",\"blue\",\"blue\",\"blue\",\"blue\",\"blue\",\"blue\",\"blue\",\"blue\",\"blue\",\"blue\",\"blue\",\"blue\",\"blue\",\"blue\",\"blue\",\"blue\",\"blue\",\"blue\",\"blue\",\"blue\",\"blue\",\"blue\",\"blue\",\"blue\",\"blue\",\"blue\",\"blue\",\"blue\",\"blue\",\"blue\",\"blue\",\"blue\",\"blue\",\"blue\",\"blue\",\"blue\",\"blue\",\"blue\",\"blue\",\"blue\",\"blue\",\"blue\",\"blue\",\"blue\",\"blue\",\"blue\",\"blue\",\"blue\",\"blue\",\"blue\",\"blue\",\"blue\",\"blue\",\"blue\",\"blue\",\"blue\",\"blue\",\"blue\",\"blue\",\"blue\",\"blue\",\"blue\",\"blue\",\"blue\",\"blue\",\"blue\",\"blue\",\"blue\",\"blue\",\"blue\",\"blue\",\"blue\",\"blue\",\"blue\",\"blue\",\"blue\",\"blue\",\"blue\",\"blue\",\"blue\",\"blue\",\"blue\",\"blue\",\"blue\",\"blue\",\"blue\",\"blue\",\"blue\",\"blue\",\"blue\",\"blue\",\"blue\",\"blue\",\"blue\",\"blue\",\"blue\",\"blue\",\"blue\",\"blue\",\"blue\",\"blue\",\"blue\",\"blue\",\"blue\",\"blue\",\"blue\",\"blue\",\"blue\",\"blue\",\"blue\",\"blue\",\"blue\",\"blue\",\"blue\",\"blue\",\"blue\",\"blue\",\"blue\",\"blue\",\"blue\",\"blue\",\"blue\",\"blue\",\"blue\",\"blue\",\"blue\",\"blue\",\"blue\",\"blue\",\"blue\",\"blue\",\"blue\",\"blue\",\"blue\",\"blue\",\"blue\",\"blue\",\"blue\",\"blue\",\"blue\",\"blue\",\"blue\",\"blue\",\"blue\",\"blue\",\"blue\",\"blue\",\"blue\",\"blue\",\"blue\",\"blue\",\"blue\",\"blue\",\"blue\",\"blue\",\"blue\",\"blue\",\"blue\",\"blue\",\"blue\",\"blue\",\"blue\",\"blue\",\"blue\",\"blue\",\"blue\",\"blue\",\"blue\",\"blue\",\"blue\",\"blue\",\"blue\",\"blue\",\"blue\",\"blue\",\"blue\",\"blue\",\"blue\",\"blue\",\"blue\",\"blue\",\"blue\",\"blue\",\"blue\",\"blue\",\"blue\",\"blue\",\"blue\",\"blue\",\"blue\",\"blue\",\"blue\",\"blue\",\"blue\",\"blue\",\"blue\",\"blue\",\"blue\",\"blue\",\"blue\",\"blue\",\"blue\",\"blue\",\"blue\",\"blue\",\"blue\",\"blue\",\"blue\",\"blue\",\"blue\",\"blue\",\"blue\",\"blue\",\"blue\",\"blue\",\"blue\",\"blue\",\"blue\",\"blue\",\"blue\",\"blue\",\"blue\",\"blue\",\"blue\",\"blue\",\"blue\",\"blue\",\"blue\",\"blue\",\"blue\",\"blue\",\"blue\",\"blue\",\"blue\",\"blue\",\"blue\",\"blue\",\"blue\",\"blue\",\"blue\",\"blue\",\"blue\",\"blue\",\"blue\",\"blue\",\"blue\",\"blue\",\"blue\",\"blue\",\"blue\",\"blue\",\"blue\",\"blue\",\"blue\",\"blue\",\"blue\",\"blue\",\"blue\",\"blue\",\"blue\",\"blue\",\"blue\",\"blue\",\"blue\",\"blue\",\"blue\",\"blue\",\"blue\",\"blue\",\"blue\",\"blue\",\"blue\",\"blue\",\"blue\",\"blue\",\"blue\",\"blue\",\"blue\",\"blue\",\"blue\",\"blue\",\"blue\",\"blue\",\"blue\",\"blue\",\"blue\",\"blue\",\"blue\",\"blue\",\"blue\",\"blue\",\"blue\",\"blue\",\"blue\",\"blue\",\"blue\",\"blue\",\"blue\",\"blue\",\"blue\",\"blue\",\"blue\",\"blue\",\"blue\",\"blue\",\"blue\",\"blue\",\"blue\",\"blue\",\"blue\",\"blue\",\"blue\",\"blue\",\"blue\",\"blue\",\"blue\",\"blue\",\"blue\",\"blue\",\"blue\",\"blue\",\"blue\",\"blue\",\"blue\",\"blue\",\"blue\",\"blue\",\"blue\",\"blue\",\"blue\",\"blue\",\"blue\",\"blue\",\"blue\",\"blue\",\"blue\",\"blue\",\"blue\",\"blue\",\"blue\",\"blue\",\"blue\",\"blue\",\"blue\",\"blue\",\"blue\",\"blue\",\"blue\",\"blue\",\"blue\",\"blue\",\"blue\",\"blue\",\"blue\",\"blue\",\"blue\",\"blue\",\"blue\",\"blue\",\"blue\",\"blue\",\"blue\",\"blue\",\"blue\",\"blue\",\"blue\",\"blue\",\"blue\",\"blue\",\"blue\",\"blue\",\"blue\",\"blue\",\"blue\",\"blue\",\"blue\",\"blue\",\"blue\",\"blue\",\"blue\",\"blue\",\"blue\",\"blue\",\"blue\",\"blue\",\"blue\",\"blue\",\"blue\",\"blue\",\"blue\",\"blue\",\"blue\",\"blue\",\"blue\",\"blue\",\"blue\",\"blue\",\"blue\",\"blue\",\"blue\",\"blue\",\"blue\",\"blue\",\"blue\",\"blue\",\"blue\",\"blue\",\"blue\",\"blue\",\"blue\",\"blue\",\"blue\",\"blue\",\"blue\",\"blue\",\"blue\",\"blue\",\"blue\",\"blue\",\"blue\",\"blue\",\"blue\",\"blue\",\"blue\",\"blue\",\"blue\",\"blue\",\"blue\",\"blue\",\"blue\",\"blue\",\"blue\",\"blue\",\"blue\",\"blue\",\"blue\",\"blue\",\"blue\",\"blue\",\"blue\",\"blue\",\"blue\",\"blue\",\"blue\",\"blue\",\"blue\",\"blue\",\"blue\",\"blue\",\"blue\",\"blue\",\"blue\",\"blue\",\"blue\",\"blue\",\"blue\",\"blue\",\"blue\",\"blue\",\"blue\",\"blue\",\"blue\",\"blue\",\"blue\",\"blue\",\"blue\",\"blue\",\"blue\",\"blue\",\"blue\",\"blue\",\"blue\",\"blue\",\"blue\",\"blue\",\"blue\",\"blue\",\"blue\",\"blue\",\"blue\",\"blue\",\"blue\",\"blue\",\"blue\",\"blue\",\"blue\",\"blue\",\"blue\",\"blue\",\"blue\",\"blue\",\"blue\",\"blue\",\"blue\",\"blue\",\"blue\",\"blue\",\"blue\",\"blue\",\"blue\",\"blue\",\"blue\",\"blue\",\"blue\",\"blue\",\"blue\",\"blue\",\"blue\",\"blue\",\"blue\",\"blue\",\"blue\",\"blue\",\"blue\",\"blue\",\"blue\",\"blue\",\"blue\",\"blue\",\"blue\",\"blue\",\"blue\",\"blue\",\"blue\",\"blue\",\"blue\",\"blue\",\"blue\",\"blue\",\"blue\",\"blue\",\"blue\",\"blue\",\"blue\",\"blue\",\"blue\",\"blue\",\"blue\",\"blue\",\"blue\",\"blue\",\"blue\",\"blue\",\"blue\",\"blue\",\"blue\",\"blue\",\"blue\",\"blue\",\"blue\",\"blue\",\"blue\",\"blue\",\"blue\",\"blue\",\"blue\",\"blue\",\"blue\",\"blue\",\"blue\",\"blue\",\"blue\",\"blue\",\"blue\",\"blue\",\"blue\",\"blue\",\"blue\",\"blue\",\"blue\",\"blue\",\"blue\",\"blue\",\"blue\",\"blue\",\"blue\",\"blue\",\"blue\",\"blue\",\"blue\",\"blue\",\"blue\",\"blue\",\"blue\",\"blue\",\"blue\",\"blue\",\"blue\",\"blue\",\"blue\",\"blue\",\"blue\",\"blue\",\"blue\",\"blue\",\"blue\",\"blue\",\"blue\",\"blue\",\"blue\",\"blue\",\"blue\",\"blue\",\"blue\",\"blue\",\"blue\",\"blue\",\"blue\",\"blue\",\"blue\",\"blue\",\"blue\",\"blue\",\"blue\",\"blue\",\"blue\",\"blue\",\"blue\",\"blue\",\"blue\",\"blue\",\"blue\",\"blue\",\"blue\",\"blue\",\"blue\",\"blue\",\"blue\",\"blue\",\"blue\",\"blue\",\"blue\",\"blue\",\"blue\",\"blue\",\"blue\",\"blue\",\"blue\",\"blue\",\"blue\",\"blue\",\"blue\",\"blue\",\"blue\",\"blue\",\"blue\",\"blue\",\"blue\",\"blue\",\"blue\",\"blue\",\"blue\",\"blue\",\"blue\",\"blue\",\"blue\",\"blue\",\"blue\",\"blue\",\"blue\",\"blue\",\"blue\",\"blue\",\"blue\",\"blue\",\"blue\",\"blue\",\"blue\",\"blue\",\"blue\",\"blue\",\"blue\",\"blue\",\"blue\",\"blue\",\"blue\",\"blue\",\"blue\",\"blue\",\"blue\",\"blue\",\"blue\",\"blue\",\"blue\",\"blue\",\"blue\",\"blue\",\"blue\",\"blue\",\"blue\",\"blue\",\"blue\",\"blue\",\"blue\",\"blue\",\"blue\",\"blue\",\"blue\",\"blue\",\"blue\",\"blue\",\"blue\",\"blue\",\"blue\",\"blue\",\"blue\",\"blue\",\"blue\",\"blue\",\"blue\",\"blue\",\"blue\",\"blue\",\"blue\",\"blue\",\"blue\",\"blue\",\"blue\",\"blue\",\"blue\",\"blue\",\"blue\",\"blue\",\"blue\",\"blue\",\"blue\",\"blue\",\"blue\",\"blue\",\"blue\",\"blue\",\"blue\",\"blue\",\"blue\",\"blue\",\"blue\",\"blue\",\"blue\",\"blue\",\"blue\",\"blue\",\"blue\",\"blue\",\"blue\",\"blue\",\"blue\",\"blue\",\"blue\",\"blue\",\"blue\",\"blue\",\"blue\",\"blue\",\"blue\",\"blue\",\"blue\",\"blue\",\"blue\",\"blue\",\"blue\",\"blue\",\"blue\",\"blue\",\"blue\",\"blue\",\"blue\",\"blue\",\"blue\",\"blue\",\"blue\",\"blue\",\"blue\",\"blue\",\"blue\",\"blue\",\"blue\",\"blue\",\"blue\",\"blue\",\"blue\",\"blue\",\"blue\",\"blue\",\"blue\",\"blue\",\"blue\",\"blue\",\"blue\",\"blue\",\"blue\",\"blue\",\"blue\",\"blue\",\"blue\",\"blue\",\"blue\",\"blue\",\"blue\",\"blue\",\"blue\",\"blue\",\"blue\",\"blue\",\"blue\",\"blue\",\"blue\",\"blue\",\"blue\",\"blue\",\"blue\",\"blue\",\"blue\",\"blue\",\"blue\",\"blue\",\"blue\",\"blue\",\"blue\",\"blue\",\"blue\",\"blue\",\"blue\",\"blue\",\"blue\",\"blue\",\"blue\",\"blue\",\"blue\",\"blue\",\"blue\",\"blue\",\"blue\",\"blue\",\"blue\",\"blue\",\"blue\",\"blue\",\"blue\",\"blue\",\"blue\",\"blue\",\"blue\",\"blue\",\"blue\",\"blue\",\"blue\",\"blue\",\"blue\",\"blue\",\"blue\",\"blue\",\"blue\",\"blue\",\"blue\",\"blue\",\"blue\",\"blue\",\"blue\",\"blue\",\"blue\",\"blue\",\"blue\",\"blue\",\"blue\",\"blue\",\"blue\",\"blue\",\"blue\",\"blue\",\"blue\",\"blue\",\"blue\",\"blue\",\"blue\",\"blue\",\"blue\",\"blue\",\"blue\",\"blue\",\"blue\",\"blue\",\"blue\",\"blue\",\"blue\",\"blue\",\"blue\",\"blue\",\"blue\",\"blue\",\"blue\",\"blue\",\"blue\",\"blue\",\"blue\",\"blue\",\"blue\",\"blue\",\"blue\",\"blue\",\"blue\",\"blue\",\"blue\",\"blue\",\"blue\",\"blue\",\"blue\",\"blue\",\"blue\",\"blue\",\"blue\",\"blue\",\"blue\",\"blue\",\"blue\",\"blue\",\"blue\",\"blue\",\"blue\",\"blue\",\"blue\",\"blue\",\"blue\",\"blue\",\"blue\",\"blue\",\"blue\",\"blue\",\"blue\",\"blue\",\"blue\",\"blue\",\"blue\",\"blue\",\"blue\",\"blue\",\"blue\",\"blue\",\"blue\",\"blue\",\"blue\",\"blue\",\"blue\",\"blue\",\"blue\",\"blue\",\"blue\",\"blue\",\"blue\",\"blue\",\"blue\",\"blue\",\"blue\",\"blue\",\"blue\",\"blue\",\"blue\",\"blue\",\"blue\",\"blue\",\"blue\",\"blue\",\"blue\",\"blue\",\"blue\",\"blue\",\"blue\",\"blue\",\"blue\",\"blue\",\"blue\",\"blue\",\"blue\",\"blue\",\"blue\",\"blue\",\"blue\",\"blue\",\"blue\",\"blue\",\"blue\",\"blue\",\"blue\",\"blue\",\"blue\",\"blue\",\"blue\",\"blue\",\"blue\",\"blue\",\"blue\",\"blue\",\"blue\",\"blue\",\"blue\",\"blue\",\"blue\",\"blue\",\"blue\",\"blue\",\"blue\",\"blue\",\"blue\",\"blue\",\"blue\",\"blue\",\"blue\",\"blue\",\"blue\",\"blue\",\"blue\",\"blue\",\"blue\",\"blue\",\"blue\",\"blue\",\"blue\",\"blue\",\"blue\",\"blue\",\"blue\",\"blue\",\"blue\",\"blue\",\"blue\",\"blue\",\"blue\",\"blue\",\"blue\",\"blue\",\"blue\",\"blue\",\"blue\",\"blue\",\"blue\",\"blue\",\"blue\",\"blue\",\"blue\",\"blue\",\"blue\",\"blue\",\"blue\",\"blue\",\"blue\",\"blue\",\"blue\",\"blue\",\"blue\",\"blue\",\"blue\",\"blue\",\"blue\",\"blue\",\"blue\",\"blue\",\"blue\",\"blue\",\"blue\",\"blue\",\"blue\",\"blue\",\"blue\",\"blue\",\"blue\",\"blue\",\"blue\",\"blue\",\"blue\",\"blue\",\"blue\",\"blue\",\"blue\",\"blue\",\"blue\",\"blue\",\"blue\",\"blue\",\"blue\",\"blue\",\"blue\",\"blue\",\"blue\",\"blue\",\"blue\",\"blue\",\"blue\",\"blue\",\"blue\",\"blue\",\"blue\",\"blue\",\"blue\",\"blue\",\"blue\",\"blue\",\"blue\",\"blue\",\"blue\",\"blue\",\"blue\",\"blue\",\"blue\",\"blue\",\"blue\",\"blue\",\"blue\",\"blue\",\"blue\",\"blue\",\"blue\",\"blue\",\"blue\",\"blue\",\"blue\",\"blue\",\"blue\",\"blue\",\"blue\",\"blue\",\"blue\",\"blue\",\"blue\",\"blue\",\"blue\",\"blue\",\"blue\",\"blue\",\"blue\",\"blue\",\"blue\",\"blue\",\"blue\",\"blue\",\"blue\",\"blue\",\"blue\",\"blue\",\"blue\",\"blue\",\"blue\",\"blue\",\"blue\",\"blue\",\"blue\",\"blue\",\"blue\",\"blue\",\"blue\",\"blue\",\"blue\",\"blue\",\"blue\",\"blue\",\"blue\",\"blue\",\"blue\",\"blue\",\"blue\",\"blue\",\"blue\",\"blue\",\"blue\",\"blue\",\"blue\",\"blue\",\"blue\",\"blue\",\"blue\",\"blue\",\"blue\",\"blue\",\"blue\",\"blue\",\"blue\",\"blue\",\"blue\",\"blue\",\"blue\",\"blue\",\"blue\",\"blue\",\"blue\",\"blue\",\"blue\",\"blue\",\"blue\",\"blue\",\"blue\",\"blue\",\"blue\",\"blue\",\"blue\",\"blue\",\"blue\",\"blue\",\"blue\",\"blue\",\"blue\",\"blue\",\"blue\",\"blue\",\"blue\",\"blue\",\"blue\",\"blue\",\"blue\",\"blue\",\"blue\",\"blue\",\"blue\",\"blue\",\"blue\",\"blue\",\"blue\",\"blue\",\"blue\",\"blue\",\"blue\",\"blue\",\"blue\",\"blue\",\"blue\",\"blue\",\"blue\",\"blue\",\"blue\",\"blue\",\"blue\",\"blue\",\"blue\",\"blue\",\"blue\",\"blue\",\"blue\",\"blue\",\"blue\",\"blue\",\"blue\",\"blue\",\"blue\",\"blue\",\"blue\",\"blue\",\"blue\",\"blue\",\"blue\",\"blue\",\"blue\",\"blue\",\"blue\",\"blue\",\"blue\",\"blue\",\"blue\",\"blue\",\"blue\",\"blue\",\"blue\",\"blue\",\"blue\",\"blue\",\"blue\",\"blue\",\"blue\",\"blue\",\"blue\",\"blue\",\"blue\",\"blue\",\"blue\",\"blue\",\"blue\",\"blue\",\"blue\",\"blue\",\"blue\",\"blue\",\"blue\",\"blue\",\"blue\",\"blue\",\"blue\",\"blue\",\"blue\",\"blue\",\"blue\",\"blue\",\"blue\",\"blue\",\"blue\",\"blue\",\"blue\",\"blue\",\"blue\",\"blue\",\"blue\",\"blue\",\"blue\",\"blue\",\"blue\",\"blue\",\"blue\",\"blue\",\"blue\",\"blue\",\"blue\",\"blue\",\"blue\",\"blue\",\"blue\",\"blue\",\"blue\",\"blue\",\"blue\",\"blue\",\"blue\",\"blue\",\"blue\",\"blue\",\"blue\",\"blue\",\"blue\",\"blue\",\"blue\",\"blue\",\"blue\",\"blue\",\"blue\",\"blue\",\"blue\",\"blue\",\"blue\",\"blue\",\"blue\",\"blue\",\"blue\",\"blue\",\"blue\",\"blue\",\"blue\",\"blue\",\"blue\",\"blue\",\"blue\",\"blue\",\"blue\",\"blue\",\"blue\",\"blue\",\"blue\",\"blue\",\"blue\",\"blue\",\"blue\",\"blue\",\"blue\",\"blue\",\"blue\",\"blue\",\"blue\",\"blue\",\"blue\",\"blue\",\"blue\",\"blue\",\"blue\",\"blue\",\"blue\",\"blue\",\"blue\",\"blue\",\"blue\",\"blue\",\"blue\",\"blue\",\"blue\",\"blue\",\"blue\",\"blue\",\"blue\",\"blue\",\"blue\",\"blue\",\"blue\",\"blue\",\"blue\",\"blue\",\"blue\",\"blue\",\"blue\",\"blue\",\"blue\",\"blue\",\"blue\",\"blue\",\"blue\",\"blue\",\"blue\",\"blue\",\"blue\",\"blue\",\"blue\",\"blue\",\"blue\",\"blue\",\"blue\",\"blue\",\"blue\",\"blue\",\"blue\",\"blue\",\"blue\",\"blue\",\"blue\",\"blue\",\"blue\",\"blue\",\"blue\",\"blue\",\"blue\",\"blue\",\"blue\",\"blue\",\"blue\",\"blue\",\"blue\",\"blue\",\"blue\",\"blue\",\"blue\",\"blue\",\"blue\",\"blue\",\"blue\",\"blue\",\"blue\",\"blue\",\"blue\",\"blue\",\"blue\",\"blue\",\"blue\",\"blue\",\"blue\",\"blue\",\"blue\",\"blue\",\"blue\",\"blue\",\"blue\",\"blue\",\"blue\",\"blue\",\"blue\",\"blue\",\"blue\",\"blue\",\"blue\",\"blue\",\"blue\",\"blue\",\"blue\",\"blue\",\"blue\",\"blue\",\"blue\",\"blue\",\"blue\",\"blue\",\"blue\",\"blue\",\"blue\",\"blue\",\"blue\",\"blue\",\"blue\",\"blue\",\"blue\",\"blue\",\"blue\",\"blue\",\"blue\",\"blue\",\"blue\",\"blue\",\"blue\",\"blue\",\"blue\",\"blue\",\"blue\",\"blue\",\"blue\",\"blue\",\"blue\",\"blue\",\"blue\",\"blue\",\"blue\",\"blue\",\"blue\",\"blue\",\"blue\",\"blue\",\"blue\",\"blue\",\"blue\",\"blue\",\"blue\",\"blue\",\"blue\",\"blue\",\"blue\",\"blue\",\"blue\",\"blue\",\"blue\",\"blue\",\"blue\",\"blue\",\"blue\",\"blue\",\"blue\",\"blue\",\"blue\",\"blue\",\"blue\",\"blue\",\"blue\",\"blue\",\"blue\",\"blue\",\"blue\",\"blue\",\"blue\",\"blue\",\"blue\",\"blue\",\"blue\",\"blue\",\"blue\",\"blue\",\"blue\",\"blue\",\"blue\",\"blue\",\"blue\",\"blue\",\"blue\",\"blue\",\"blue\",\"blue\",\"blue\",\"blue\",\"blue\",\"blue\",\"blue\",\"blue\",\"blue\",\"blue\",\"blue\",\"blue\",\"blue\",\"blue\",\"blue\",\"blue\",\"blue\",\"blue\",\"blue\",\"blue\",\"blue\",\"blue\",\"blue\",\"blue\",\"blue\",\"blue\",\"blue\",\"blue\",\"blue\",\"blue\",\"blue\",\"blue\",\"blue\",\"blue\",\"blue\",\"blue\",\"blue\",\"blue\",\"blue\",\"blue\",\"blue\",\"blue\",\"blue\",\"blue\",\"blue\",\"blue\",\"blue\",\"blue\",\"blue\",\"blue\",\"blue\",\"blue\",\"blue\",\"blue\",\"blue\",\"blue\",\"blue\",\"blue\",\"blue\",\"blue\",\"blue\",\"blue\",\"blue\",\"blue\",\"blue\",\"blue\",\"blue\",\"blue\",\"blue\",\"blue\",\"blue\",\"blue\",\"blue\",\"blue\",\"blue\",\"blue\",\"blue\",\"blue\",\"blue\",\"blue\",\"blue\",\"blue\",\"blue\",\"blue\",\"blue\",\"blue\",\"blue\",\"blue\",\"blue\",\"blue\",\"blue\",\"blue\",\"blue\",\"blue\",\"blue\",\"blue\",\"blue\",\"blue\",\"blue\",\"blue\",\"blue\",\"blue\",\"blue\",\"blue\",\"blue\",\"blue\",\"blue\",\"blue\",\"blue\",\"blue\",\"blue\",\"blue\",\"blue\",\"blue\",\"blue\",\"blue\",\"blue\",\"blue\",\"blue\",\"blue\",\"blue\",\"blue\",\"blue\",\"blue\",\"blue\",\"blue\",\"blue\",\"blue\",\"blue\",\"blue\",\"blue\",\"blue\",\"blue\",\"blue\",\"blue\",\"blue\",\"blue\",\"blue\",\"blue\",\"blue\",\"blue\",\"blue\",\"blue\",\"blue\",\"blue\",\"blue\",\"blue\",\"blue\",\"blue\",\"blue\",\"blue\",\"blue\",\"blue\",\"blue\",\"blue\",\"blue\",\"blue\",\"blue\",\"blue\",\"blue\",\"blue\",\"blue\",\"blue\",\"blue\",\"blue\",\"blue\",\"blue\",\"blue\",\"blue\",\"blue\",\"blue\",\"blue\",\"blue\",\"blue\",\"blue\",\"blue\",\"blue\",\"blue\",\"blue\",\"blue\",\"blue\",\"blue\",\"blue\",\"blue\",\"blue\",\"blue\",\"blue\",\"blue\",\"blue\",\"blue\",\"blue\",\"blue\",\"blue\",\"blue\",\"blue\",\"blue\",\"blue\",\"blue\",\"blue\",\"blue\",\"blue\",\"blue\",\"blue\",\"blue\",\"blue\",\"blue\",\"blue\",\"blue\",\"blue\",\"blue\",\"blue\",\"blue\",\"blue\",\"blue\",\"blue\",\"blue\",\"blue\",\"blue\",\"blue\",\"blue\",\"blue\",\"blue\",\"blue\",\"blue\",\"blue\",\"blue\",\"blue\",\"blue\",\"blue\",\"blue\",\"blue\",\"blue\",\"blue\",\"blue\",\"blue\",\"blue\",\"blue\",\"blue\",\"blue\",\"blue\",\"blue\",\"blue\",\"blue\",\"blue\",\"blue\",\"blue\",\"blue\",\"blue\",\"blue\",\"blue\",\"blue\",\"blue\",\"blue\",\"blue\",\"blue\",\"blue\",\"blue\",\"blue\",\"blue\",\"blue\",\"blue\",\"blue\",\"blue\",\"blue\",\"blue\",\"blue\",\"blue\",\"blue\",\"blue\",\"blue\",\"blue\",\"blue\",\"blue\",\"blue\",\"blue\",\"blue\",\"blue\",\"blue\",\"blue\",\"blue\",\"blue\",\"blue\",\"blue\",\"blue\",\"blue\",\"blue\",\"blue\",\"blue\",\"blue\",\"blue\",\"blue\",\"blue\",\"blue\",\"blue\",\"blue\",\"blue\",\"blue\",\"blue\",\"blue\",\"blue\",\"blue\",\"blue\",\"blue\",\"blue\",\"blue\",\"blue\",\"blue\",\"blue\",\"blue\",\"blue\",\"blue\",\"blue\",\"blue\",\"blue\",\"blue\",\"blue\",\"blue\",\"blue\",\"blue\",\"blue\",\"blue\",\"blue\",\"blue\",\"blue\",\"blue\",\"blue\",\"blue\",\"blue\",\"blue\",\"blue\",\"blue\",\"blue\",\"blue\",\"blue\",\"blue\",\"blue\",\"blue\",\"blue\",\"blue\",\"blue\",\"blue\",\"blue\",\"blue\",\"blue\",\"blue\",\"blue\",\"blue\",\"blue\",\"blue\",\"blue\",\"blue\",\"blue\",\"blue\",\"blue\",\"blue\",\"blue\",\"blue\",\"blue\",\"blue\",\"blue\",\"blue\",\"blue\",\"blue\",\"blue\",\"blue\",\"blue\",\"blue\",\"blue\",\"blue\",\"blue\",\"blue\",\"blue\",\"blue\",\"blue\",\"blue\",\"blue\",\"blue\",\"blue\",\"blue\",\"blue\",\"blue\",\"blue\",\"blue\",\"blue\",\"blue\",\"blue\",\"blue\",\"blue\",\"blue\",\"blue\",\"blue\",\"blue\",\"blue\",\"blue\",\"blue\",\"blue\",\"blue\",\"blue\",\"blue\",\"blue\",\"blue\",\"blue\",\"blue\",\"blue\",\"blue\",\"blue\",\"blue\",\"blue\",\"blue\",\"blue\",\"blue\",\"blue\",\"blue\",\"blue\",\"blue\",\"blue\",\"blue\",\"blue\",\"blue\",\"blue\",\"blue\",\"blue\",\"blue\",\"blue\",\"blue\",\"blue\",\"blue\",\"blue\",\"blue\",\"blue\",\"blue\",\"blue\",\"blue\",\"blue\",\"blue\",\"blue\",\"blue\",\"blue\",\"blue\",\"blue\",\"blue\",\"blue\",\"blue\",\"blue\",\"blue\",\"blue\",\"blue\",\"blue\",\"blue\",\"blue\",\"blue\",\"blue\",\"blue\",\"blue\",\"blue\",\"blue\",\"blue\",\"blue\",\"blue\",\"blue\",\"blue\",\"blue\",\"blue\",\"blue\",\"blue\",\"blue\",\"blue\",\"blue\",\"blue\",\"blue\",\"blue\",\"blue\",\"blue\",\"blue\",\"blue\",\"blue\",\"blue\",\"blue\",\"blue\",\"blue\",\"blue\",\"blue\",\"blue\",\"blue\",\"blue\",\"blue\",\"blue\",\"blue\",\"blue\",\"blue\",\"blue\",\"blue\",\"blue\",\"blue\",\"blue\",\"blue\",\"blue\",\"blue\",\"blue\",\"blue\",\"blue\",\"blue\",\"blue\",\"blue\",\"blue\",\"blue\",\"blue\",\"blue\",\"blue\",\"blue\",\"blue\",\"blue\",\"blue\",\"blue\",\"blue\",\"blue\",\"blue\",\"blue\",\"blue\",\"blue\",\"blue\",\"blue\",\"blue\",\"blue\",\"blue\",\"blue\",\"blue\",\"blue\",\"blue\",\"blue\",\"blue\",\"blue\",\"blue\",\"blue\",\"blue\",\"blue\",\"blue\",\"blue\",\"blue\",\"blue\",\"blue\",\"blue\",\"blue\",\"blue\",\"blue\",\"blue\",\"blue\",\"blue\",\"blue\",\"blue\",\"blue\",\"blue\",\"blue\",\"blue\",\"blue\",\"blue\",\"blue\",\"blue\",\"blue\",\"blue\",\"blue\",\"blue\",\"blue\",\"blue\",\"blue\",\"blue\",\"blue\",\"blue\",\"blue\",\"blue\",\"blue\",\"blue\",\"blue\",\"blue\",\"blue\",\"blue\",\"blue\",\"blue\",\"blue\",\"blue\",\"blue\",\"blue\",\"blue\",\"blue\",\"blue\",\"blue\",\"blue\",\"blue\",\"blue\",\"blue\",\"blue\",\"blue\",\"blue\",\"blue\",\"blue\",\"blue\",\"blue\",\"blue\",\"blue\",\"blue\",\"blue\",\"blue\",\"blue\",\"blue\",\"blue\",\"blue\",\"blue\",\"blue\",\"blue\",\"blue\",\"blue\",\"blue\",\"blue\",\"blue\",\"blue\",\"blue\",\"blue\",\"blue\",\"blue\",\"blue\",\"blue\",\"blue\",\"blue\",\"blue\",\"blue\",\"blue\",\"blue\",\"blue\",\"blue\",\"blue\",\"blue\",\"blue\",\"blue\",\"blue\",\"blue\",\"blue\",\"blue\",\"blue\",\"blue\",\"blue\",\"blue\",\"blue\",\"blue\",\"blue\",\"blue\",\"blue\",\"blue\",\"blue\",\"blue\",\"blue\",\"blue\",\"blue\",\"blue\",\"blue\",\"blue\",\"blue\",\"blue\",\"blue\",\"blue\",\"blue\",\"blue\",\"blue\",\"blue\",\"blue\",\"blue\",\"blue\",\"blue\",\"blue\",\"blue\",\"blue\",\"blue\",\"blue\",\"blue\",\"blue\",\"blue\",\"blue\",\"blue\",\"blue\",\"blue\",\"blue\",\"blue\",\"blue\",\"blue\",\"blue\",\"blue\",\"blue\",\"blue\",\"blue\",\"blue\",\"blue\",\"blue\",\"blue\",\"blue\",\"blue\",\"blue\",\"blue\",\"blue\",\"blue\",\"blue\",\"blue\",\"blue\",\"blue\",\"blue\",\"blue\",\"blue\",\"blue\",\"blue\",\"blue\",\"blue\",\"blue\",\"blue\",\"blue\",\"blue\",\"blue\",\"blue\",\"blue\",\"blue\",\"blue\",\"blue\",\"blue\",\"blue\",\"blue\",\"blue\",\"blue\",\"blue\",\"blue\",\"blue\",\"blue\",\"blue\",\"blue\",\"blue\",\"blue\",\"blue\",\"blue\",\"blue\",\"blue\",\"blue\",\"blue\",\"blue\",\"blue\",\"blue\",\"blue\",\"blue\",\"blue\",\"blue\",\"blue\",\"blue\",\"blue\",\"blue\",\"blue\",\"blue\",\"blue\",\"blue\",\"blue\",\"blue\",\"blue\",\"blue\",\"blue\",\"blue\",\"blue\",\"blue\",\"blue\",\"blue\",\"blue\",\"blue\",\"blue\",\"blue\",\"blue\",\"blue\",\"blue\",\"blue\",\"blue\",\"blue\",\"blue\",\"blue\",\"blue\",\"blue\",\"blue\",\"blue\",\"blue\",\"blue\",\"blue\",\"blue\",\"blue\",\"blue\",\"blue\",\"blue\",\"blue\",\"blue\",\"blue\",\"blue\",\"blue\",\"blue\",\"blue\",\"blue\",\"blue\",\"blue\",\"blue\",\"blue\",\"blue\",\"blue\",\"blue\",\"blue\",\"blue\",\"blue\",\"blue\",\"blue\",\"blue\",\"blue\",\"blue\",\"blue\",\"blue\",\"blue\",\"blue\",\"blue\",\"blue\",\"blue\",\"blue\",\"blue\",\"blue\",\"blue\",\"blue\",\"blue\",\"blue\",\"blue\",\"blue\",\"blue\",\"blue\",\"blue\",\"blue\",\"blue\",\"blue\",\"blue\",\"blue\",\"blue\",\"blue\",\"blue\",\"blue\",\"blue\",\"blue\",\"blue\",\"blue\",\"blue\",\"blue\",\"blue\",\"blue\",\"blue\",\"blue\",\"blue\",\"blue\",\"blue\",\"blue\",\"blue\",\"blue\",\"blue\",\"blue\",\"blue\",\"blue\",\"blue\",\"blue\",\"blue\",\"blue\",\"blue\",\"blue\",\"blue\",\"blue\",\"blue\",\"blue\",\"blue\",\"blue\",\"blue\",\"blue\",\"blue\",\"blue\",\"blue\",\"blue\",\"blue\",\"blue\",\"blue\",\"blue\",\"blue\",\"blue\",\"blue\",\"blue\",\"blue\",\"blue\",\"blue\",\"blue\",\"blue\",\"blue\",\"blue\",\"blue\",\"blue\",\"blue\",\"blue\",\"blue\",\"blue\",\"blue\",\"blue\",\"blue\",\"blue\",\"blue\",\"blue\",\"blue\",\"blue\",\"blue\",\"blue\",\"blue\",\"blue\",\"blue\",\"blue\",\"blue\",\"blue\",\"blue\",\"blue\",\"blue\",\"blue\",\"blue\",\"blue\",\"blue\",\"blue\",\"blue\",\"blue\",\"blue\",\"blue\",\"blue\",\"blue\",\"blue\",\"blue\",\"blue\",\"blue\",\"blue\",\"blue\",\"blue\",\"blue\",\"blue\",\"blue\",\"blue\",\"blue\",\"blue\",\"blue\",\"blue\",\"blue\",\"blue\",\"blue\",\"blue\",\"blue\",\"blue\",\"blue\",\"blue\",\"blue\",\"blue\",\"blue\",\"blue\",\"blue\",\"blue\",\"blue\",\"blue\",\"blue\",\"blue\",\"blue\",\"blue\",\"blue\",\"blue\",\"blue\",\"blue\",\"blue\",\"blue\",\"blue\",\"blue\",\"blue\",\"blue\",\"blue\",\"blue\",\"blue\",\"blue\",\"blue\",\"blue\",\"blue\",\"blue\",\"blue\",\"blue\",\"blue\",\"blue\",\"blue\",\"blue\",\"blue\",\"blue\",\"blue\",\"blue\",\"blue\",\"blue\",\"blue\",\"blue\",\"blue\",\"blue\",\"blue\",\"blue\",\"blue\",\"blue\",\"blue\",\"blue\",\"blue\",\"blue\",\"blue\",\"blue\",\"blue\",\"blue\",\"blue\",\"blue\",\"blue\",\"blue\",\"blue\",\"blue\",\"blue\",\"blue\",\"blue\",\"blue\",\"blue\",\"blue\",\"blue\",\"blue\",\"blue\",\"blue\",\"blue\",\"blue\",\"blue\",\"blue\",\"blue\",\"blue\",\"blue\",\"blue\",\"blue\",\"blue\",\"blue\",\"blue\",\"blue\",\"blue\",\"blue\",\"blue\",\"blue\",\"blue\",\"blue\",\"blue\",\"blue\",\"blue\",\"blue\",\"blue\",\"blue\",\"blue\",\"blue\",\"blue\",\"blue\",\"blue\",\"blue\",\"blue\",\"blue\",\"blue\",\"blue\",\"blue\",\"blue\",\"blue\",\"blue\",\"blue\",\"blue\",\"blue\",\"blue\",\"blue\",\"blue\",\"blue\",\"blue\",\"blue\",\"blue\",\"blue\",\"blue\",\"blue\",\"blue\",\"blue\",\"blue\",\"blue\",\"blue\",\"blue\",\"blue\",\"blue\",\"blue\",\"blue\",\"blue\",\"blue\",\"blue\",\"blue\",\"blue\",\"blue\",\"blue\",\"blue\",\"blue\",\"blue\",\"blue\",\"blue\",\"blue\",\"blue\",\"blue\",\"blue\",\"blue\",\"blue\",\"blue\",\"blue\",\"blue\",\"blue\",\"blue\",\"blue\",\"blue\",\"blue\",\"blue\",\"blue\",\"blue\",\"blue\",\"blue\",\"blue\",\"blue\",\"blue\",\"blue\",\"blue\",\"blue\",\"blue\",\"blue\",\"blue\",\"blue\",\"blue\",\"blue\",\"blue\",\"blue\",\"blue\",\"blue\",\"blue\",\"blue\",\"blue\",\"blue\",\"blue\",\"blue\",\"blue\",\"blue\",\"blue\",\"blue\",\"blue\",\"blue\",\"blue\",\"blue\",\"blue\",\"blue\",\"blue\",\"blue\",\"blue\",\"blue\",\"blue\",\"blue\",\"blue\",\"blue\",\"blue\",\"blue\",\"blue\",\"blue\",\"blue\",\"blue\",\"blue\",\"blue\",\"blue\",\"blue\",\"blue\",\"blue\",\"blue\",\"blue\",\"blue\",\"blue\",\"blue\",\"blue\",\"blue\",\"blue\",\"blue\",\"blue\",\"blue\",\"blue\",\"blue\",\"blue\",\"blue\",\"blue\",\"blue\",\"blue\",\"blue\",\"blue\",\"blue\",\"blue\",\"blue\",\"blue\",\"blue\",\"blue\",\"blue\",\"blue\",\"blue\",\"blue\",\"blue\",\"blue\",\"blue\",\"blue\",\"blue\",\"blue\",\"blue\",\"blue\",\"blue\",\"blue\",\"blue\",\"blue\",\"blue\",\"blue\",\"blue\",\"blue\",\"blue\",\"blue\",\"blue\",\"blue\",\"blue\",\"blue\",\"blue\",\"blue\",\"blue\",\"blue\",\"blue\",\"blue\",\"blue\",\"blue\",\"blue\",\"blue\",\"blue\",\"blue\",\"blue\",\"blue\",\"blue\",\"blue\",\"blue\",\"blue\",\"blue\",\"blue\",\"blue\",\"blue\",\"blue\",\"blue\",\"blue\",\"blue\",\"blue\",\"blue\",\"blue\",\"blue\",\"blue\",\"blue\",\"blue\",\"blue\",\"blue\",\"blue\",\"blue\",\"blue\",\"blue\",\"blue\",\"blue\",\"blue\",\"blue\",\"blue\",\"blue\",\"blue\",\"blue\",\"blue\",\"blue\",\"blue\",\"blue\",\"blue\",\"blue\",\"blue\",\"blue\",\"blue\",\"blue\",\"blue\",\"blue\",\"blue\",\"blue\",\"blue\",\"blue\",\"blue\",\"blue\",\"blue\",\"blue\",\"blue\",\"blue\",\"blue\",\"blue\",\"blue\",\"blue\",\"blue\",\"blue\",\"blue\",\"blue\",\"blue\",\"blue\",\"blue\",\"blue\",\"blue\",\"blue\",\"blue\",\"blue\",\"blue\",\"blue\",\"blue\",\"blue\",\"blue\",\"blue\",\"blue\",\"blue\",\"blue\",\"blue\",\"blue\",\"blue\",\"blue\",\"blue\",\"blue\",\"blue\",\"blue\",\"blue\",\"blue\",\"blue\",\"blue\",\"blue\",\"blue\",\"blue\",\"blue\",\"blue\",\"blue\",\"blue\",\"blue\",\"blue\",\"blue\",\"blue\",\"blue\",\"blue\",\"blue\",\"blue\",\"blue\",\"blue\",\"blue\",\"blue\",\"blue\",\"blue\",\"blue\",\"blue\",\"blue\",\"blue\",\"blue\",\"blue\",\"blue\",\"blue\",\"blue\",\"blue\",\"blue\",\"blue\",\"blue\",\"blue\",\"blue\",\"blue\",\"blue\",\"blue\",\"blue\",\"blue\",\"blue\",\"blue\",\"blue\",\"blue\",\"blue\",\"blue\",\"blue\",\"blue\",\"blue\",\"blue\",\"blue\",\"blue\",\"blue\",\"blue\",\"blue\",\"blue\",\"blue\",\"blue\",\"blue\",\"blue\",\"blue\",\"blue\",\"blue\",\"blue\",\"blue\",\"blue\",\"blue\",\"blue\",\"blue\",\"blue\",\"blue\",\"blue\",\"blue\",\"blue\",\"blue\",\"blue\",\"blue\",\"blue\",\"blue\",\"blue\",\"blue\",\"blue\",\"blue\",\"blue\",\"blue\",\"blue\",\"blue\",\"blue\",\"blue\",\"blue\",\"blue\",\"blue\",\"blue\",\"blue\",\"blue\",\"blue\",\"blue\",\"blue\",\"blue\",\"blue\",\"blue\",\"blue\",\"blue\",\"blue\",\"blue\",\"blue\",\"blue\",\"blue\",\"blue\",\"blue\",\"blue\",\"blue\",\"blue\",\"blue\",\"blue\",\"blue\",\"blue\",\"blue\",\"blue\",\"blue\",\"blue\",\"blue\",\"blue\",\"blue\",\"blue\",\"blue\",\"blue\",\"blue\",\"blue\",\"blue\",\"blue\",\"blue\",\"blue\",\"blue\",\"blue\",\"blue\",\"blue\",\"blue\",\"blue\",\"blue\",\"blue\",\"blue\",\"blue\",\"blue\",\"blue\",\"blue\",\"blue\",\"blue\",\"blue\",\"blue\",\"blue\",\"blue\",\"blue\",\"blue\",\"blue\",\"blue\",\"blue\",\"blue\",\"blue\",\"blue\",\"blue\",\"blue\",\"blue\",\"blue\",\"blue\",\"blue\",\"blue\",\"blue\",\"blue\",\"blue\",\"blue\",\"blue\",\"blue\",\"blue\",\"blue\",\"blue\",\"blue\",\"blue\",\"blue\",\"blue\",\"blue\",\"blue\",\"blue\",\"blue\",\"blue\",\"blue\",\"blue\",\"blue\",\"blue\",\"blue\",\"blue\",\"blue\",\"blue\",\"blue\",\"blue\",\"blue\",\"blue\",\"blue\",\"blue\",\"blue\",\"blue\",\"blue\",\"blue\",\"blue\",\"blue\",\"blue\",\"blue\",\"blue\",\"blue\",\"blue\",\"blue\",\"blue\",\"blue\",\"blue\",\"blue\",\"blue\",\"blue\",\"blue\",\"blue\",\"blue\",\"blue\",\"blue\",\"blue\",\"blue\",\"blue\",\"blue\",\"blue\",\"blue\",\"blue\",\"blue\",\"blue\",\"blue\",\"blue\",\"blue\",\"blue\",\"blue\",\"blue\",\"blue\",\"blue\",\"blue\",\"blue\",\"blue\",\"blue\",\"blue\",\"blue\",\"blue\",\"blue\",\"blue\",\"blue\",\"blue\",\"blue\",\"blue\",\"blue\",\"blue\",\"blue\",\"blue\",\"blue\",\"blue\",\"blue\",\"blue\",\"blue\",\"blue\",\"blue\",\"blue\",\"blue\",\"blue\",\"blue\",\"blue\",\"blue\",\"blue\",\"blue\",\"blue\",\"blue\",\"blue\",\"blue\",\"blue\",\"blue\",\"blue\",\"blue\",\"blue\",\"blue\",\"blue\",\"blue\",\"blue\",\"blue\",\"blue\",\"blue\",\"blue\",\"blue\",\"blue\",\"blue\",\"blue\",\"blue\",\"blue\",\"blue\",\"blue\",\"blue\",\"blue\",\"blue\",\"blue\",\"blue\",\"blue\",\"blue\",\"blue\",\"blue\",\"blue\",\"blue\",\"blue\",\"blue\",\"blue\",\"blue\",\"blue\",\"blue\",\"blue\",\"blue\",\"blue\",\"blue\",\"blue\",\"blue\",\"blue\",\"blue\",\"blue\",\"blue\",\"blue\",\"blue\",\"blue\",\"blue\",\"blue\",\"blue\",\"blue\",\"blue\",\"blue\",\"blue\",\"blue\",\"blue\",\"blue\",\"blue\",\"blue\",\"blue\",\"blue\",\"blue\",\"blue\",\"blue\",\"blue\",\"blue\",\"blue\",\"blue\",\"blue\",\"blue\",\"blue\",\"blue\",\"blue\",\"blue\",\"blue\",\"blue\",\"blue\",\"blue\",\"blue\",\"blue\",\"blue\",\"blue\",\"blue\",\"blue\",\"blue\",\"blue\",\"blue\",\"blue\",\"blue\",\"blue\",\"blue\",\"blue\",\"blue\",\"blue\",\"blue\",\"blue\",\"blue\",\"blue\",\"blue\",\"blue\",\"blue\",\"blue\",\"blue\",\"blue\",\"blue\",\"blue\",\"blue\",\"blue\",\"blue\",\"blue\",\"blue\",\"blue\",\"blue\",\"blue\",\"blue\",\"blue\",\"blue\",\"blue\",\"blue\",\"blue\",\"blue\",\"blue\",\"blue\",\"blue\",\"blue\",\"blue\",\"blue\",\"blue\",\"blue\",\"blue\",\"blue\",\"blue\",\"blue\",\"blue\",\"blue\",\"blue\",\"blue\",\"blue\",\"blue\",\"blue\",\"blue\",\"blue\",\"blue\",\"blue\",\"blue\",\"blue\",\"blue\",\"blue\",\"blue\",\"blue\",\"blue\",\"blue\",\"blue\",\"blue\",\"blue\",\"blue\",\"blue\",\"blue\",\"blue\",\"blue\",\"blue\",\"blue\",\"blue\",\"blue\",\"blue\",\"blue\",\"blue\",\"blue\",\"blue\",\"blue\",\"blue\",\"blue\",\"blue\",\"blue\",\"blue\",\"blue\",\"blue\",\"blue\",\"blue\",\"blue\",\"blue\",\"blue\",\"blue\",\"blue\",\"blue\",\"blue\",\"blue\",\"blue\",\"blue\",\"blue\",\"blue\",\"blue\",\"blue\",\"blue\",\"blue\",\"blue\",\"blue\",\"blue\",\"blue\",\"blue\",\"blue\",\"blue\",\"blue\",\"blue\",\"blue\",\"blue\",\"blue\",\"blue\",\"blue\",\"blue\",\"blue\",\"blue\",\"blue\",\"blue\",\"blue\",\"blue\",\"blue\",\"blue\",\"blue\",\"blue\",\"blue\",\"blue\",\"blue\",\"blue\",\"blue\",\"blue\",\"blue\",\"blue\",\"blue\",\"blue\",\"blue\",\"blue\",\"blue\",\"blue\",\"blue\",\"blue\",\"blue\",\"blue\",\"blue\",\"blue\",\"blue\",\"blue\",\"blue\",\"blue\",\"blue\",\"blue\",\"blue\",\"blue\",\"blue\",\"blue\",\"blue\",\"blue\",\"blue\",\"blue\",\"blue\",\"blue\",\"blue\",\"blue\",\"blue\",\"blue\",\"blue\",\"blue\",\"blue\",\"blue\",\"blue\",\"blue\",\"blue\",\"blue\",\"blue\",\"blue\",\"blue\",\"blue\",\"blue\",\"blue\",\"blue\",\"blue\",\"blue\",\"blue\",\"blue\",\"blue\",\"blue\",\"blue\",\"blue\",\"blue\",\"blue\",\"blue\",\"blue\",\"blue\",\"blue\",\"blue\",\"blue\",\"blue\",\"blue\",\"blue\",\"blue\",\"blue\",\"blue\",\"blue\",\"blue\",\"blue\",\"blue\",\"blue\",\"blue\",\"blue\",\"blue\",\"blue\",\"blue\",\"blue\",\"blue\",\"blue\",\"blue\",\"blue\",\"blue\",\"blue\",\"blue\",\"blue\",\"blue\",\"blue\",\"blue\",\"blue\",\"blue\",\"blue\",\"blue\",\"blue\",\"blue\",\"blue\",\"blue\",\"blue\",\"blue\",\"blue\",\"blue\",\"blue\",\"blue\",\"blue\",\"blue\",\"blue\",\"blue\",\"blue\",\"blue\",\"blue\",\"blue\",\"blue\",\"blue\",\"blue\",\"blue\",\"blue\",\"blue\",\"blue\",\"blue\",\"blue\",\"blue\",\"blue\",\"blue\",\"blue\",\"blue\",\"blue\",\"blue\",\"blue\",\"blue\",\"blue\",\"blue\",\"blue\",\"blue\",\"blue\",\"blue\",\"blue\",\"blue\",\"blue\",\"blue\",\"blue\",\"blue\",\"blue\",\"blue\",\"blue\",\"blue\",\"blue\",\"blue\",\"blue\",\"blue\",\"blue\",\"blue\",\"blue\",\"blue\",\"blue\",\"blue\",\"blue\",\"blue\",\"blue\",\"blue\",\"blue\",\"blue\",\"blue\",\"blue\",\"blue\",\"blue\",\"blue\",\"blue\",\"blue\",\"blue\",\"blue\",\"blue\",\"blue\",\"blue\",\"blue\",\"blue\",\"blue\",\"blue\",\"blue\",\"blue\",\"blue\",\"blue\",\"blue\",\"blue\",\"blue\",\"blue\",\"blue\",\"blue\",\"blue\",\"blue\",\"blue\",\"blue\",\"blue\",\"blue\",\"blue\",\"blue\",\"blue\",\"blue\",\"blue\",\"blue\",\"blue\",\"blue\",\"blue\",\"blue\",\"blue\",\"blue\",\"blue\",\"blue\",\"blue\",\"blue\",\"blue\",\"blue\",\"blue\",\"blue\",\"blue\",\"blue\",\"blue\",\"blue\",\"blue\",\"blue\",\"blue\",\"blue\",\"blue\",\"blue\",\"blue\",\"blue\",\"blue\",\"blue\",\"blue\",\"blue\",\"blue\",\"blue\",\"blue\",\"blue\",\"blue\",\"blue\",\"blue\",\"blue\",\"blue\",\"blue\",\"blue\",\"blue\",\"blue\",\"blue\",\"blue\",\"blue\",\"blue\",\"blue\",\"blue\",\"blue\",\"blue\",\"blue\",\"blue\",\"blue\",\"blue\",\"blue\",\"blue\",\"blue\",\"blue\",\"blue\",\"blue\",\"blue\",\"blue\",\"blue\",\"blue\",\"blue\",\"blue\",\"blue\",\"blue\",\"blue\",\"blue\",\"blue\",\"blue\",\"blue\",\"blue\",\"blue\",\"blue\",\"blue\",\"blue\",\"blue\",\"blue\",\"blue\",\"blue\",\"blue\",\"blue\",\"blue\",\"blue\",\"blue\",\"blue\",\"blue\",\"blue\",\"blue\",\"blue\",\"blue\",\"blue\",\"blue\",\"blue\",\"blue\",\"blue\",\"blue\",\"blue\",\"blue\",\"blue\",\"blue\",\"blue\",\"blue\",\"blue\",\"blue\",\"blue\",\"blue\",\"blue\",\"blue\",\"blue\",\"blue\",\"blue\",\"blue\",\"blue\",\"blue\",\"blue\",\"blue\",\"blue\",\"blue\",\"blue\",\"blue\",\"blue\",\"blue\",\"blue\",\"blue\",\"blue\",\"blue\",\"blue\",\"blue\",\"blue\",\"blue\",\"blue\",\"blue\",\"blue\",\"blue\",\"blue\",\"blue\",\"blue\",\"blue\",\"blue\",\"blue\",\"blue\",\"blue\",\"blue\",\"blue\",\"blue\",\"blue\",\"blue\",\"blue\",\"blue\",\"blue\",\"blue\",\"blue\",\"blue\",\"blue\",\"blue\",\"blue\",\"blue\",\"blue\",\"blue\",\"blue\",\"blue\",\"blue\",\"blue\",\"blue\",\"blue\",\"blue\",\"blue\",\"blue\",\"blue\",\"blue\",\"blue\",\"blue\",\"blue\",\"blue\",\"blue\",\"blue\",\"blue\",\"blue\",\"blue\",\"blue\",\"blue\",\"blue\",\"blue\",\"blue\",\"blue\",\"blue\",\"blue\",\"blue\",\"blue\",\"blue\",\"blue\",\"blue\",\"blue\",\"blue\",\"blue\",\"blue\",\"blue\",\"blue\",\"blue\",\"blue\",\"blue\",\"blue\",\"blue\",\"blue\",\"blue\",\"blue\",\"blue\",\"blue\",\"blue\",\"blue\",\"blue\",\"blue\",\"blue\",\"blue\",\"blue\",\"blue\",\"blue\",\"blue\",\"blue\",\"blue\",\"blue\",\"blue\",\"blue\",\"blue\",\"blue\",\"blue\",\"blue\",\"blue\",\"blue\",\"blue\",\"blue\",\"blue\",\"blue\",\"blue\",\"blue\",\"blue\",\"blue\",\"blue\",\"blue\",\"blue\",\"blue\",\"blue\",\"blue\",\"blue\",\"blue\",\"blue\",\"blue\",\"blue\",\"blue\",\"blue\",\"blue\",\"blue\",\"blue\",\"blue\",\"blue\",\"blue\",\"blue\",\"blue\",\"blue\",\"blue\",\"blue\",\"blue\",\"blue\",\"blue\",\"blue\",\"blue\",\"blue\",\"blue\",\"blue\",\"blue\",\"blue\",\"blue\",\"blue\",\"blue\",\"blue\",\"blue\",\"blue\",\"blue\",\"blue\",\"blue\",\"blue\",\"blue\",\"blue\",\"blue\",\"blue\",\"blue\",\"blue\",\"blue\",\"blue\",\"blue\",\"blue\",\"blue\",\"blue\",\"blue\",\"blue\",\"blue\",\"blue\",\"blue\",\"blue\",\"blue\",\"blue\",\"blue\",\"blue\",\"blue\",\"blue\",\"blue\",\"blue\",\"blue\",\"blue\",\"blue\",\"blue\",\"blue\",\"blue\",\"blue\",\"blue\",\"blue\",\"blue\",\"blue\",\"blue\",\"blue\",\"blue\",\"blue\",\"blue\",\"blue\",\"blue\",\"blue\",\"blue\",\"blue\",\"blue\",\"blue\",\"blue\",\"blue\",\"blue\",\"blue\",\"blue\",\"blue\",\"blue\",\"blue\",\"blue\",\"blue\",\"blue\",\"blue\",\"blue\",\"blue\",\"blue\",\"blue\",\"blue\",\"blue\",\"blue\",\"blue\",\"blue\",\"blue\",\"blue\",\"blue\",\"blue\",\"blue\",\"blue\",\"blue\",\"blue\",\"blue\",\"blue\",\"blue\",\"blue\",\"blue\",\"blue\",\"blue\",\"blue\",\"blue\",\"blue\",\"blue\",\"blue\",\"blue\",\"blue\",\"blue\",\"blue\",\"blue\",\"blue\",\"blue\",\"blue\",\"blue\",\"blue\",\"blue\",\"blue\",\"blue\",\"blue\",\"blue\",\"blue\",\"blue\",\"blue\",\"blue\",\"blue\",\"blue\",\"blue\",\"blue\",\"blue\",\"blue\",\"blue\",\"blue\",\"blue\",\"blue\",\"blue\",\"blue\",\"blue\",\"blue\",\"blue\",\"blue\",\"blue\",\"blue\",\"blue\",\"blue\",\"blue\",\"blue\",\"blue\",\"blue\",\"blue\",\"blue\",\"blue\",\"blue\",\"blue\",\"blue\",\"blue\",\"blue\",\"blue\",\"blue\",\"blue\",\"blue\",\"blue\",\"blue\",\"blue\",\"blue\",\"blue\",\"blue\",\"blue\",\"blue\",\"blue\",\"blue\",\"blue\",\"blue\",\"blue\",\"blue\",\"blue\",\"blue\",\"blue\",\"blue\",\"blue\",\"blue\",\"blue\",\"blue\",\"blue\",\"blue\",\"blue\",\"blue\",\"blue\",\"blue\",\"blue\",\"blue\",\"blue\",\"blue\",\"blue\",\"blue\",\"blue\",\"blue\",\"blue\",\"blue\",\"blue\",\"blue\",\"blue\",\"blue\",\"blue\",\"blue\",\"blue\",\"blue\",\"blue\",\"blue\",\"blue\",\"blue\",\"blue\",\"blue\",\"blue\",\"blue\",\"blue\",\"blue\",\"blue\",\"blue\",\"blue\",\"blue\",\"blue\",\"blue\",\"blue\",\"blue\",\"blue\",\"blue\",\"blue\",\"blue\",\"blue\",\"blue\",\"blue\",\"blue\",\"blue\",\"blue\",\"blue\",\"blue\",\"blue\",\"blue\",\"blue\",\"blue\",\"blue\",\"blue\",\"blue\",\"blue\",\"blue\",\"blue\",\"blue\",\"blue\",\"blue\",\"blue\",\"blue\",\"blue\",\"blue\",\"blue\",\"blue\",\"blue\",\"blue\",\"blue\",\"blue\",\"blue\",\"blue\",\"blue\",\"blue\",\"blue\",\"blue\",\"blue\",\"blue\",\"blue\",\"blue\",\"blue\",\"blue\",\"blue\",\"blue\",\"blue\",\"blue\",\"blue\",\"blue\",\"blue\",\"blue\",\"blue\",\"blue\",\"blue\",\"blue\",\"blue\",\"blue\",\"blue\",\"blue\",\"blue\",\"blue\",\"blue\",\"blue\",\"blue\",\"blue\",\"blue\",\"blue\",\"blue\",\"blue\",\"blue\",\"blue\",\"blue\",\"blue\",\"blue\",\"blue\",\"blue\",\"blue\",\"blue\",\"blue\",\"blue\",\"blue\",\"blue\",\"blue\",\"blue\",\"blue\",\"blue\",\"blue\",\"blue\",\"blue\",\"blue\",\"blue\",\"blue\",\"blue\",\"blue\",\"blue\",\"blue\",\"blue\",\"blue\",\"blue\",\"blue\",\"blue\",\"blue\",\"blue\",\"blue\",\"blue\",\"blue\",\"blue\",\"blue\",\"blue\",\"blue\",\"blue\",\"blue\",\"blue\",\"blue\",\"blue\",\"blue\",\"blue\",\"blue\",\"blue\",\"blue\",\"blue\",\"blue\",\"blue\",\"blue\",\"blue\",\"blue\",\"blue\",\"blue\",\"blue\",\"blue\",\"blue\",\"blue\",\"blue\",\"blue\",\"blue\",\"blue\",\"blue\",\"blue\",\"blue\",\"blue\",\"blue\",\"blue\",\"blue\",\"blue\",\"blue\",\"blue\",\"blue\",\"blue\",\"blue\",\"blue\",\"blue\",\"blue\",\"blue\",\"blue\",\"blue\",\"blue\",\"blue\",\"blue\",\"blue\",\"blue\",\"blue\",\"blue\",\"blue\",\"blue\",\"blue\",\"blue\",\"blue\",\"blue\",\"blue\",\"blue\",\"blue\",\"blue\",\"blue\",\"blue\",\"blue\",\"blue\",\"blue\",\"blue\",\"blue\",\"blue\",\"blue\",\"blue\",\"blue\",\"blue\",\"blue\",\"blue\",\"blue\",\"blue\",\"blue\",\"blue\",\"blue\",\"blue\",\"blue\",\"blue\",\"blue\",\"blue\",\"blue\",\"blue\",\"blue\",\"blue\",\"blue\",\"blue\",\"blue\",\"blue\",\"blue\",\"blue\",\"blue\",\"blue\",\"blue\",\"blue\",\"blue\",\"blue\",\"blue\",\"blue\",\"blue\",\"blue\",\"blue\",\"blue\",\"blue\",\"blue\",\"blue\",\"blue\",\"blue\",\"blue\",\"blue\",\"blue\",\"blue\",\"blue\",\"blue\",\"blue\",\"blue\",\"blue\",\"blue\",\"blue\",\"blue\",\"blue\",\"blue\",\"blue\",\"blue\",\"blue\",\"blue\",\"blue\",\"blue\",\"blue\",\"blue\",\"blue\",\"blue\",\"blue\",\"blue\",\"blue\",\"blue\",\"blue\",\"blue\",\"blue\",\"blue\",\"blue\",\"blue\",\"blue\",\"blue\",\"blue\",\"blue\",\"blue\",\"blue\",\"blue\",\"blue\",\"blue\",\"blue\",\"blue\",\"blue\",\"blue\",\"blue\",\"blue\",\"blue\",\"blue\",\"blue\",\"blue\",\"blue\",\"blue\",\"blue\",\"blue\",\"blue\",\"blue\",\"blue\",\"blue\",\"blue\",\"blue\",\"blue\",\"blue\",\"blue\",\"blue\",\"blue\",\"blue\",\"blue\",\"blue\",\"blue\",\"blue\",\"blue\",\"blue\",\"blue\",\"blue\",\"blue\",\"blue\",\"blue\",\"blue\",\"blue\",\"blue\",\"blue\",\"blue\",\"blue\",\"blue\",\"blue\",\"blue\",\"blue\",\"blue\",\"blue\",\"blue\",\"blue\",\"blue\",\"blue\",\"blue\",\"blue\",\"blue\",\"blue\",\"blue\",\"blue\",\"blue\",\"blue\",\"blue\",\"blue\",\"blue\",\"blue\",\"blue\",\"blue\",\"blue\",\"blue\",\"blue\",\"blue\",\"blue\",\"blue\",\"blue\",\"blue\",\"blue\",\"blue\",\"blue\",\"blue\",\"blue\",\"blue\",\"blue\",\"blue\",\"blue\",\"blue\",\"blue\",\"blue\",\"blue\",\"blue\",\"blue\",\"blue\",\"blue\",\"blue\",\"blue\",\"blue\",\"blue\",\"blue\",\"blue\",\"blue\",\"blue\",\"blue\",\"blue\",\"blue\",\"blue\",\"blue\",\"blue\",\"blue\",\"blue\",\"blue\",\"blue\",\"blue\",\"blue\",\"blue\",\"blue\",\"blue\",\"blue\",\"blue\",\"blue\",\"blue\",\"blue\",\"blue\",\"blue\",\"blue\",\"blue\",\"blue\",\"blue\",\"blue\",\"blue\",\"blue\",\"blue\",\"blue\",\"blue\",\"blue\",\"blue\",\"blue\",\"blue\",\"blue\",\"blue\",\"blue\",\"blue\",\"blue\",\"blue\",\"blue\",\"blue\",\"blue\",\"blue\",\"blue\",\"blue\",\"blue\",\"blue\",\"blue\",\"blue\",\"blue\",\"blue\",\"blue\",\"blue\",\"blue\",\"blue\",\"blue\",\"blue\",\"blue\",\"blue\",\"blue\",\"blue\",\"blue\",\"blue\",\"blue\",\"blue\",\"blue\",\"blue\",\"blue\",\"blue\",\"blue\",\"blue\",\"blue\",\"blue\",\"blue\",\"blue\",\"blue\",\"blue\",\"blue\",\"blue\",\"blue\",\"blue\",\"blue\",\"blue\",\"blue\",\"blue\",\"blue\",\"blue\",\"blue\",\"blue\",\"blue\",\"blue\",\"blue\",\"blue\",\"blue\",\"blue\",\"blue\",\"blue\",\"blue\",\"blue\",\"blue\",\"blue\",\"blue\",\"blue\",\"blue\",\"blue\",\"blue\",\"blue\",\"blue\",\"blue\",\"blue\",\"blue\",\"blue\",\"blue\",\"blue\",\"blue\",\"blue\",\"blue\",\"blue\",\"blue\",\"blue\",\"blue\",\"blue\",\"blue\",\"blue\",\"blue\",\"blue\",\"blue\",\"blue\",\"blue\",\"blue\",\"blue\",\"blue\",\"blue\",\"blue\",\"blue\",\"blue\",\"blue\",\"blue\",\"blue\",\"blue\",\"blue\",\"blue\",\"blue\",\"blue\",\"blue\",\"blue\",\"blue\",\"blue\",\"blue\",\"blue\",\"blue\",\"blue\",\"blue\",\"blue\",\"blue\",\"blue\",\"blue\",\"blue\",\"blue\",\"blue\",\"blue\",\"blue\",\"blue\",\"blue\",\"blue\",\"blue\",\"blue\",\"blue\",\"blue\",\"blue\",\"blue\",\"blue\",\"blue\",\"blue\",\"blue\",\"blue\",\"blue\",\"blue\",\"blue\",\"blue\",\"blue\",\"blue\",\"blue\",\"blue\",\"blue\",\"blue\",\"blue\",\"blue\",\"blue\",\"blue\",\"blue\",\"blue\",\"blue\",\"blue\",\"blue\",\"blue\",\"blue\",\"blue\",\"blue\",\"blue\",\"blue\",\"blue\",\"blue\",\"blue\",\"blue\",\"blue\",\"blue\",\"blue\",\"blue\",\"blue\",\"blue\",\"blue\",\"blue\",\"blue\",\"blue\",\"blue\",\"blue\",\"blue\",\"blue\",\"blue\",\"blue\",\"blue\",\"blue\",\"blue\",\"blue\",\"blue\",\"blue\",\"blue\",\"blue\",\"blue\",\"blue\",\"blue\",\"blue\",\"blue\",\"blue\",\"blue\",\"blue\",\"blue\",\"blue\",\"blue\",\"blue\",\"blue\",\"blue\",\"blue\",\"blue\",\"blue\",\"blue\",\"blue\",\"blue\",\"blue\",\"blue\",\"blue\",\"blue\",\"blue\",\"blue\",\"blue\",\"blue\",\"blue\"]],[\"token\",[\"verified\",\"2gb\",\"illinois\",\"jazz\",\"checking\",\"telescope\",\"seasons\",\"astrologer\",\"contribution\",\"homemade\",\"heroes\",\"warcraft\",\"kumar\",\"tester\",\"politically\",\"conquer\",\"columbia\",\"quiet\",\"repeat\",\"kapil\",\"involve\",\"mckinsey\",\"switched\",\"att\",\"instance\",\"innocent\",\"portuguese\",\"subscribers\",\"cabinet\",\"terror\",\"85\",\"rotation\",\"shirts\",\"drawn\",\"bi\",\"aspergers\",\"inspiration\",\"beats\",\"\\u00a3\",\"approximately\",\"asset\",\"empathy\",\"rooting\",\"ia\",\"dandruff\",\"slab\",\"operator\",\"horrible\",\"dominant\",\"ocd\",\"spacetime\",\"blow\",\"installing\",\"learnt\",\"separation\",\"institution\",\"temples\",\"hons\",\"pound\",\"removing\",\"unemployment\",\"greenlit\",\"audit\",\"supplement\",\"roller\",\"dota\",\"tiny\",\"equally\",\"braces\",\"aggressive\",\"corn\",\"camps\",\"additional\",\"consent\",\"granted\",\"welfare\",\"myths\",\"stations\",\"timeline\",\"psychologist\",\"nagpur\",\"herself\",\"cooper\",\"exgirlfriend\",\"intercourse\",\"flip\",\"hurts\",\"lpa\",\"nerve\",\"tvs\",\"halloween\",\"screenshot\",\"biomedical\",\"covered\",\"milky\",\"onsite\",\"aside\",\"meaningful\",\"stretch\",\"joker\",\"encounter\",\"tone\",\"founders\",\"talked\",\"respectively\",\"downloads\",\"cocaine\",\"toxic\",\"sword\",\"fuck\",\"trainer\",\"partition\",\"boxing\",\"grid\",\"practicing\",\"menu\",\"cms\",\"indore\",\"ate\",\"volunteer\",\"misconceptions\",\"pics\",\"flies\",\"instantly\",\"trans\",\"friday\",\"sociopaths\",\"ctc\",\"hoax\",\"detailed\",\"sizes\",\"rejection\",\"limitations\",\"bharat\",\"kissing\",\"renewable\",\"oriented\",\"countrys\",\"dumps\",\"spiders\",\"technological\",\"advertisement\",\"headache\",\"zodiac\",\"accommodation\",\"venus\",\"calcium\",\"passenger\",\"falls\",\"overnight\",\"pickup\",\"gary\",\"transportation\",\"odds\",\"jupiter\",\"purchasing\",\"fluently\",\"flu\",\"photons\",\"conductor\",\"ohio\",\"balaji\",\"mcdonalds\",\"betting\",\"irrational\",\"sachin\",\"deactivate\",\"estimate\",\"hairs\",\"fluent\",\"errors\",\"remaining\",\"marriages\",\"medieval\",\"charles\",\"spider\",\"oxford\",\"gita\",\"races\",\"liquor\",\"poland\",\"lease\",\"co2\",\"selenium\",\"attempts\",\"crystal\",\"manaphy\",\"knight\",\"collapsed\",\"wheels\",\"behaviour\",\"bitcoins\",\"parliament\",\"himher\",\"handsome\",\"thousands\",\"caring\",\"kings\",\"lucky\",\"workplace\",\"condom\",\"intuitive\",\"chronic\",\"eyesight\",\"simulation\",\"prank\",\"quickest\",\"concert\",\"popularity\",\"connections\",\"disorders\",\"scripting\",\"appearance\",\"js\",\"depth\",\"cheque\",\"longterm\",\"documentaries\",\"dioxide\",\"bright\",\"info\",\"diseases\",\"appeal\",\"snap\",\"smoked\",\"singers\",\"boil\",\"probably\",\"temperatures\",\"appearing\",\"olive\",\"ntse\",\"telecom\",\"brief\",\"discrimination\",\"ethnic\",\"cache\",\"passionate\",\"shoulder\",\"assault\",\"marshmallow\",\"momentum\",\"yr\",\"migrate\",\"retire\",\"cet\",\"canvas\",\"vietnamese\",\"institutions\",\"meter\",\"roots\",\"integer\",\"imported\",\"ants\",\"lyft\",\"piercing\",\"il\",\"poop\",\"organisms\",\"ve\",\"entropy\",\"calm\",\"saddest\",\"toward\",\"myth\",\"sight\",\"filling\",\"hdmi\",\"satisfied\",\"transactions\",\"pharmacy\",\"nursing\",\"correlation\",\"regression\",\"awake\",\"md\",\"nri\",\"recommendations\",\"bin\",\"finland\",\"multi\",\"voted\",\"discovery\",\"edward\",\"touching\",\"immigrant\",\"geometry\",\"indicate\",\"ourselves\",\"texting\",\"seek\",\"expecting\",\"dj\",\"brake\",\"helicopter\",\"blonde\",\"triple\",\"ladies\",\"vivekananda\",\"switching\",\"prostitution\",\"banana\",\"magazines\",\"shippuden\",\"lucknow\",\"2019\",\"failing\",\"elizabeth\",\"irish\",\"ebook\",\"temporary\",\"governor\",\"wasting\",\"weekends\",\"cpt\",\"wax\",\"labor\",\"instruments\",\"instrumentation\",\"hates\",\"hip\",\"arnab\",\"bubble\",\"employers\",\"aadhaar\",\"boyfriends\",\"jake\",\"explained\",\"yesterday\",\"beta\",\"extrovert\",\"andhra\",\"micromax\",\"vertical\",\"lay\",\"nonprofit\",\"dubbed\",\"typing\",\"automotive\",\"thomas\",\"procedures\",\"priority\",\"funded\",\"arabs\",\"siblings\",\"guinea\",\"missile\",\"luck\",\"strategic\",\"defend\",\"module\",\"tuition\",\"acids\",\"controller\",\"committee\",\"housing\",\"integral\",\"peaceful\",\"refugees\",\"prescription\",\"interns\",\"supported\",\"womans\",\"dentist\",\"wives\",\"village\",\"affecting\",\"lte\",\"beaches\",\"austin\",\"substance\",\"engagement\",\"trainee\",\"measures\",\"trailer\",\"purchased\",\"15000\",\"uttar\",\"glue\",\"dtu\",\"medal\",\"photon\",\"engg\",\"violin\",\"column\",\"somehow\",\"rotate\",\"3000\",\"virat\",\"forgotten\",\"fingers\",\"slim\",\"arrest\",\"covalent\",\"ncert\",\"kernel\",\"da\",\"alarm\",\"ngo\",\"4gb\",\"productivity\",\"planned\",\"district\",\"berlin\",\"lists\",\"leads\",\"slang\",\"defence\",\"aspiring\",\"56\",\"enemy\",\"farming\",\"muller\",\"pays\",\"liver\",\"membrane\",\"secretly\",\"plug\",\"gum\",\"eclipse\",\"chewing\",\"labs\",\"zombie\",\"authority\",\"males\",\"argentina\",\"tasks\",\"fell\",\"nails\",\"palestine\",\"tanks\",\"identical\",\"deck\",\"qualification\",\"leadership\",\"kohli\",\"pronunciation\",\"hello\",\"violent\",\"sabha\",\"respiration\",\"transform\",\"warranty\",\"faculty\",\"adolf\",\"expenses\",\"jersey\",\"mercury\",\"whiskey\",\"tackle\",\"tweet\",\"blame\",\"cruise\",\"mahindra\",\"discharge\",\"reduced\",\"vodka\",\"mahatma\",\"bass\",\"compete\",\"stains\",\"pill\",\"swim\",\"ali\",\"gf\",\"ford\",\"prince\",\"sweat\",\"performing\",\"limits\",\"leonardo\",\"cow\",\"resolve\",\"matters\",\"pharmaceutical\",\"ray\",\"remotely\",\"pf\",\"clinical\",\"bpo\",\"homeless\",\"husbands\",\"rising\",\"newtons\",\"outcome\",\"derivative\",\"alpha\",\"grown\",\"capitalism\",\"astronaut\",\"hybrid\",\"palm\",\"teens\",\"hits\",\"airplanes\",\"none\",\"admin\",\"applicable\",\"amcat\",\"spam\",\"neutrality\",\"pixel\",\"festival\",\"faces\",\"molar\",\"snakes\",\"sip\",\"kik\",\"farm\",\"ltd\",\"votes\",\"publishing\",\"comfort\",\"frontend\",\"spin\",\"diagnosed\",\"buildings\",\"\\u00b0\",\"cashless\",\"addictive\",\"extinct\",\"ugc\",\"coke\",\"llb\",\"phrases\",\"struggle\",\"drives\",\"fiber\",\"grocery\",\"achieved\",\"penny\",\"bath\",\"allies\",\"uninstall\",\"ny\",\"appears\",\"effort\",\"satellites\",\"confirmed\",\"loneliness\",\"illuminati\",\"uri\",\"lucid\",\"preferably\",\"neither\",\"\\u221a\",\"pacific\",\"americas\",\"bs\",\"graduated\",\"bills\",\"tube\",\"germans\",\"assume\",\"cleared\",\"mate\",\"divide\",\"versions\",\"fallen\",\"journey\",\"anthem\",\"certificates\",\"looked\",\"sponsor\",\"useless\",\"dependent\",\"invite\",\"guru\",\"keyword\",\"aipmt\",\"clone\",\"kgs\",\"chip\",\"origins\",\"wide\",\"motivational\",\"elite\",\"wanna\",\"unity\",\"cough\",\"connecting\",\"mystery\",\"kim\",\"syrian\",\"voldemort\",\"responsibilities\",\"molecules\",\"boobs\",\"holidays\",\"tutorial\",\"circumstances\",\"fiitjee\",\"islands\",\"bypass\",\"slowly\",\"mixture\",\"aluminum\",\"salesforce\",\"twin\",\"iot\",\"remedy\",\"sheets\",\"pole\",\"hated\",\"females\",\"protected\",\"irs\",\"insecure\",\"entering\",\"neuroscience\",\"offices\",\"delta\",\"suggestion\",\"snapdeal\",\"backstory\",\"periodic\",\"cancelled\",\"mans\",\"complicated\",\"bitsat\",\"pleasure\",\"loop\",\"dropbox\",\"selfish\",\"nude\",\"20000\",\"voter\",\"variables\",\"victory\",\"closest\",\"compensation\",\"extended\",\"locations\",\"cracked\",\"perks\",\"ended\",\"exit\",\"awareness\",\"pakistanis\",\"ebooks\",\"bull\",\"unblock\",\"100000\",\"entrepreneurship\",\"infrastructure\",\"scotland\",\"guest\",\"attacked\",\"hurting\",\"lion\",\"reject\",\"purposes\",\"knife\",\"thai\",\"ipl\",\"knee\",\"accepting\",\"spent\",\"punjabi\",\"tab\",\"quoras\",\"caffeine\",\"athletes\",\"ink\",\"cooked\",\"improving\",\"invaded\",\"allah\",\"thermodynamics\",\"mortgage\",\"firsttime\",\"achievements\",\"issued\",\"breath\",\"award\",\"llc\",\"legends\",\"mood\",\"influenced\",\"proteins\",\"holy\",\"performed\",\"pee\",\"blocks\",\"molecule\",\"interests\",\"imei\",\"requires\",\"cisco\",\"moves\",\"marrying\",\"mca\",\"perfectly\",\"iisc\",\"corporation\",\"shiva\",\"viruses\",\"difficulty\",\"50000\",\"volte\",\"shampoo\",\"secular\",\"transplant\",\"ghz\",\"ahead\",\"crew\",\"interact\",\"depend\",\"hawaii\",\"hiv\",\"evening\",\"vegetable\",\"revenge\",\"suppose\",\"busy\",\"label\",\"rogue\",\"rational\",\"hillstation\",\"brains\",\"urdu\",\"imagine\",\"salaries\",\"survey\",\"g4\",\"butt\",\"manufacturers\",\"saas\",\"residency\",\"recommendation\",\"purple\",\"fault\",\"aadhar\",\"aging\",\"bhopal\",\"conducted\",\"loses\",\"infection\",\"forest\",\"impacts\",\"collection\",\"fridge\",\"diamond\",\"mis\",\"recorded\",\"march\",\"conditioner\",\"signature\",\"listed\",\"branches\",\"manchester\",\"wanting\",\"perception\",\"absolutely\",\"servers\",\"soluble\",\"swami\",\"lumia\",\"directors\",\"52\",\"2008\",\"gaining\",\"stereotypes\",\"homes\",\"vegas\",\"jam\",\"behave\",\"relatively\",\"forum\",\"ib\",\"earphones\",\"facilities\",\"april\",\"finally\",\"tail\",\"capacitor\",\"tiger\",\"deaf\",\"deliver\",\"django\",\"expand\",\"skip\",\"nearly\",\"maybe\",\"task\",\"gateway\",\"strangest\",\"abstract\",\"adding\",\"suck\",\"tim\",\"printed\",\"sigma\",\"immigrate\",\"decline\",\"arrested\",\"95\",\"narcissistic\",\"freelancing\",\"patterns\",\"expired\",\"casual\",\"tablets\",\"patients\",\"lean\",\"pieces\",\"laymans\",\"whatever\",\"polish\",\"lemon\",\"abortion\",\"i3\",\"theorem\",\"h\",\"compulsory\",\"helped\",\"sons\",\"feminism\",\"compiler\",\"tested\",\"enhance\",\"adhd\",\"manhattan\",\"iii\",\"nail\",\"eee\",\"deals\",\"excellent\",\"ipo\",\"folder\",\"sand\",\"continuous\",\"capable\",\"libraries\",\"aggregate\",\"64\",\"bsnl\",\"profiles\",\"spirit\",\"pulled\",\"owns\",\"deloitte\",\"therapist\",\"acts\",\"millions\",\"authors\",\"marathi\",\"dvd\",\"coconut\",\"swiss\",\"interaction\",\"ncr\",\"kannada\",\"smallest\",\"advisable\",\"smartest\",\"sorry\",\"normally\",\"ends\",\"rome\",\"spectrum\",\"cousin\",\"75\",\"suzuki\",\"nights\",\"cap\",\"enable\",\"counselling\",\"proxy\",\"margin\",\"shops\",\"hackers\",\"tatkal\",\"opened\",\"cinema\",\"consumption\",\"coal\",\"silent\",\"choosing\",\"introduction\",\"electromagnetic\",\"hcl\",\"complaint\",\"puppies\",\"vc\",\"symbols\",\"lenses\",\"username\",\"arrow\",\"adopted\",\"affects\",\"sudden\",\"pcm\",\"gel\",\"affair\",\"pinterest\",\"statements\",\"supplements\",\"justified\",\"turns\",\"santa\",\"shoe\",\"trek\",\"headphone\",\"girlfriends\",\"verizon\",\"rocket\",\"conference\",\"ego\",\"srm\",\"afghanistan\",\"nucleus\",\"generated\",\"chinas\",\"ww1\",\"consultancy\",\"socially\",\"allen\",\"berkeley\",\"missed\",\"crying\",\"introduced\",\"ps3\",\"flour\",\"brought\",\"elder\",\"minecraft\",\"9th\",\"freelancer\",\"circles\",\"scars\",\"entertainment\",\"turbine\",\"deeply\",\"rom\",\"evolved\",\"nato\",\"strengths\",\"ide\",\"tweets\",\"scholarships\",\"mentor\",\"collect\",\"hdfc\",\"mandarin\",\"solo\",\"terrible\",\"influential\",\"professionals\",\"65\",\"recognition\",\"nvidia\",\"cia\",\"designs\",\"10k\",\"creation\",\"tom\",\"rated\",\"introverts\",\"boiling\",\"communism\",\"treaty\",\"whereas\",\"thanks\",\"cigarette\",\"bengaluru\",\"oneplus\",\"reserve\",\"advertise\",\"nits\",\"helping\",\"bruce\",\"mp3\",\"severe\",\"proposal\",\"cultures\",\"tap\",\"animated\",\"planes\",\"hall\",\"cognitive\",\"supports\",\"keys\",\"gotten\",\"feedback\",\"recording\",\"proceed\",\"membership\",\"console\",\"overseas\",\"hows\",\"william\",\"billionaires\",\"updated\",\"pre\",\"organizations\",\"messi\",\"unexpected\",\"nitrogen\",\"hungry\",\"nigeria\",\"sync\",\"arduino\",\"gross\",\"outer\",\"searching\",\"workers\",\"outlook\",\"europeans\",\"founder\",\"lectures\",\"legitimate\",\"camp\",\"ordinary\",\"investments\",\"bone\",\"raising\",\"quite\",\"ages\",\"joint\",\"johnson\",\"destination\",\"concerned\",\"belief\",\"refrigerator\",\"implications\",\"manga\",\"mandatory\",\"obamas\",\"lawyers\",\"bedroom\",\"icon\",\"qualifications\",\"qa\",\"bikes\",\"boston\",\"holding\",\"session\",\"appointment\",\"weaknesses\",\"iphones\",\"motorcycle\",\"schizophrenia\",\"5th\",\"intellectual\",\"eaten\",\"attending\",\"medals\",\"adsense\",\"nda\",\"6th\",\"kali\",\"georgia\",\"wechat\",\"earlier\",\"drone\",\"truck\",\"horse\",\"merchant\",\"torque\",\"seed\",\"backend\",\"holmes\",\"graduating\",\"400\",\"bones\",\"sufficient\",\"participate\",\"rifle\",\"shock\",\"downloaded\",\"earthquake\",\"breasts\",\"secretary\",\"insert\",\"damaged\",\"massive\",\"standing\",\"remainder\",\"programme\",\"holocaust\",\"totally\",\"belt\",\"affairs\",\"nokia\",\"mechanism\",\"pin\",\"scan\",\"fought\",\"superpower\",\"poetry\",\"signals\",\"educated\",\"scariest\",\"trains\",\"closer\",\"weapon\",\"icici\",\"serial\",\"bicycle\",\"terminal\",\"finished\",\"stolen\",\"inspiring\",\"cuisine\",\"spark\",\"sounds\",\"pricing\",\"click\",\"underwear\",\"kidney\",\"bengal\",\"invention\",\"discount\",\"chase\",\"evaluate\",\"distributed\",\"themes\",\"amd\",\"stem\",\"st\",\"genre\",\"vegetables\",\"council\",\"bihar\",\"thick\",\"mouse\",\"worry\",\"newly\",\"updates\",\"candy\",\"prepaid\",\"wet\",\"rap\",\"motors\",\"implemented\",\"theoretical\",\"fabric\",\"mexican\",\"portfolio\",\"technique\",\"icse\",\"expansion\",\"evolutionary\",\"justify\",\"trick\",\"attached\",\"lightning\",\"pitch\",\"armed\",\"einstein\",\"conversion\",\"iitjee\",\"declared\",\"admit\",\"acquisition\",\"innovation\",\"runs\",\"wwe\",\"trial\",\"memories\",\"refuse\",\"netherlands\",\"committed\",\"fraud\",\"jailbreak\",\"settle\",\"badly\",\"approved\",\"eligibility\",\"trend\",\"increases\",\"comic\",\"quorans\",\"cellular\",\"matches\",\"receiving\",\"bmw\",\"vlsi\",\"signed\",\"lakes\",\"350\",\"communications\",\"pork\",\"joined\",\"anyway\",\"differentiate\",\"actresses\",\"29\",\"ethics\",\"premier\",\"hearing\",\"vehicles\",\"drama\",\"instant\",\"lips\",\"dates\",\"july\",\"holiday\",\"coach\",\"malayalam\",\"superior\",\"soviet\",\"plate\",\"throw\",\"worship\",\"bars\",\"sharma\",\"mothers\",\"integrated\",\"clubs\",\"bug\",\"melbourne\",\"co\",\"bisexual\",\"regions\",\"lesson\",\"heads\",\"reader\",\"snake\",\"qualify\",\"paul\",\"causing\",\"disappear\",\"era\",\"lets\",\"qualified\",\"spiritual\",\"wolf\",\"requirement\",\"journalism\",\"studied\",\"lowest\",\"vader\",\"coursera\",\"stark\",\"configuration\",\"verbal\",\"undergrad\",\"dimensions\",\"transition\",\"efficiently\",\"interstellar\",\"locked\",\"summary\",\"chandigarh\",\"ghosts\",\"included\",\"operate\",\"dimension\",\"mount\",\"noticed\",\"rating\",\"somewhere\",\"martin\",\"bra\",\"bird\",\"zuckerberg\",\"sensor\",\"audience\",\"dirty\",\"starbucks\",\"permission\",\"residential\",\"wholesale\",\"assets\",\"clearly\",\"km\",\"invade\",\"ipcc\",\"fb\",\"shell\",\"shave\",\"loud\",\"tip\",\"seeds\",\"sets\",\"polar\",\"although\",\"june\",\"judaism\",\"anti\",\"instrument\",\"seven\",\"shooting\",\"j\",\"portal\",\"tower\",\"github\",\"linked\",\"admitted\",\"punishment\",\"mid\",\"micro\",\"cured\",\"lifestyle\",\"nor\",\"upset\",\"challenge\",\"soap\",\"standards\",\"integration\",\"lottery\",\"lab\",\"williams\",\"odd\",\"soil\",\"sensitive\",\"route\",\"tattoos\",\"coin\",\"declare\",\"frame\",\"differential\",\"bowl\",\"softwares\",\"notifications\",\"maintenance\",\"inner\",\"apples\",\"converted\",\"recruiter\",\"bombay\",\"command\",\"posting\",\"controlled\",\"balls\",\"personally\",\"poker\",\"extract\",\"hired\",\"bugs\",\"providers\",\"loans\",\"calculator\",\"attractions\",\"torrents\",\"keywords\",\"profession\",\"blogging\",\"transport\",\"sue\",\"anonymously\",\"compounds\",\"robot\",\"buddhism\",\"sweet\",\"defense\",\"nobody\",\"uc\",\"defined\",\"division\",\"bags\",\"epic\",\"unhealthy\",\"craziest\",\"urban\",\"combination\",\"pair\",\"laugh\",\"cv\",\"usd\",\"launched\",\"usps\",\"visited\",\"nexus\",\"regularly\",\"brothers\",\"broker\",\"concentrate\",\"agreement\",\"nervous\",\"frozen\",\"detail\",\"sir\",\"situations\",\"borderline\",\"angularjs\",\"abusive\",\"tourism\",\"relate\",\"august\",\"communist\",\"accountant\",\"dumb\",\"arab\",\"b2b\",\"du\",\"thermal\",\"asians\",\"threat\",\"karma\",\"passive\",\"homosexuality\",\"putting\",\"quantitative\",\"relativity\",\"sanskrit\",\"opinions\",\"verify\",\"bear\",\"roll\",\"expanding\",\"teenage\",\"jeans\",\"providing\",\"shared\",\"extreme\",\"mi\",\"vr\",\"progress\",\"greece\",\"cpu\",\"ips\",\"merge\",\"reputation\",\"loving\",\"salman\",\"iss\",\"warm\",\"dental\",\"extension\",\"attraction\",\"fictional\",\"journal\",\"login\",\"secondary\",\"recognize\",\"southern\",\"ph\",\"lunch\",\"wallet\",\"ronaldo\",\"larger\",\"actions\",\"fathers\",\"adopt\",\"claims\",\"bottom\",\"therapy\",\"patient\",\"described\",\"virginity\",\"functional\",\"ionic\",\"chartered\",\"discover\",\"55\",\"21st\",\"biased\",\"mad\",\"northern\",\"onto\",\"liberals\",\"premium\",\"neutral\",\"detect\",\"diagram\",\"sperm\",\"ga\",\"bleach\",\"spread\",\"contributions\",\"activate\",\"prior\",\"safest\",\"holder\",\"360\",\"aim\",\"rental\",\"families\",\"everybody\",\"shut\",\"payments\",\"150\",\"cube\",\"vegan\",\"newspaper\",\"beef\",\"houses\",\"preferred\",\"simultaneously\",\"marked\",\"reactions\",\"emergency\",\"protection\",\"cab\",\"forex\",\"norway\",\"immigrants\",\"googles\",\"ssb\",\"wing\",\"yrs\",\"ensure\",\"spy\",\"reasoning\",\"strange\",\"forgive\",\"turkish\",\"tag\",\"ranking\",\"platforms\",\"fox\",\"existed\",\"walmart\",\"lazy\",\"ears\",\"clock\",\"beam\",\"rare\",\"bush\",\"2011\",\"stops\",\"batteries\",\"certified\",\"naked\",\"worldwide\",\"staying\",\"lifetime\",\"ted\",\"lake\",\"wealthy\",\"transit\",\"stephen\",\"rural\",\"versa\",\"pets\",\"commonly\",\"adults\",\"ultimate\",\"genius\",\"vinegar\",\"allows\",\"aid\",\"retirement\",\"airtel\",\"sciences\",\"mountain\",\"drinks\",\"tour\",\"wind\",\"seattle\",\"disabled\",\"bodies\",\"lesbian\",\"governments\",\"kinetic\",\"tumblr\",\"absolute\",\"author\",\"toilet\",\"whey\",\"sleepy\",\"molecular\",\"watches\",\"inventions\",\"rain\",\"34\",\"angular\",\"o\",\"dish\",\"however\",\"agents\",\"abs\",\"switzerland\",\"transformer\",\"clearing\",\"consciousness\",\"broadband\",\"uae\",\"automatic\",\"opposed\",\"geography\",\"astronauts\",\"decisions\",\"cement\",\"induction\",\"luxury\",\"upvotes\",\"politicians\",\"posted\",\"toefl\",\"kitchen\",\"noise\",\"radius\",\"dye\",\"miles\",\"risks\",\"scientifically\",\"mnc\",\"propose\",\"prepared\",\"iiit\",\"mention\",\"equipment\",\"darth\",\"january\",\"surname\",\"raised\",\"attitude\",\"gta\",\"david\",\"hike\",\"awkward\",\"proven\",\"productive\",\"lg\",\"filled\",\"atmosphere\",\"lee\",\"irctc\",\"addicted\",\"dynamic\",\"employment\",\"weekend\",\"replacement\",\"singing\",\"owners\",\"bipolar\",\"tomorrow\",\"poems\",\"default\",\"kvpy\",\"sauce\",\"competitors\",\"russians\",\"sample\",\"crimes\",\"hang\",\"inspired\",\"furniture\",\"throughout\",\"presence\",\"efficiency\",\"leg\",\"biological\",\"pilani\",\"conversations\",\"inspirational\",\"bachelor\",\"centers\",\"withdraw\",\"fundamental\",\"comparison\",\"november\",\"fifa\",\"penalty\",\"algebra\",\"joke\",\"htc\",\"pilots\",\"collapse\",\"texts\",\"vocabulary\",\"moved\",\"sc\",\"smile\",\"october\",\"dot\",\"genetic\",\"architect\",\"url\",\"51\",\"sore\",\"uniform\",\"re\",\"rails\",\"smaller\",\"marine\",\"terrorists\",\"nazi\",\"breast\",\"politician\",\"subtitles\",\"chosen\",\"egypt\",\"thin\",\"packages\",\"editor\",\"bands\",\"mythology\",\"reasonable\",\"permit\",\"acceptable\",\"seriously\",\"iraq\",\"fever\",\"visitor\",\"honest\",\"friction\",\"offering\",\"smarter\",\"ahmedabad\",\"replaced\",\"resolution\",\"burning\",\"bridge\",\"catholic\",\"calendar\",\"resident\",\"policies\",\"forced\",\"leading\",\"arm\",\"deserve\",\"context\",\"coolest\",\"arranged\",\"arizona\",\"comics\",\"harm\",\"democrats\",\"jail\",\"breed\",\"anywhere\",\"psu\",\"christ\",\"violence\",\"agriculture\",\"objective\",\"moments\",\"infinity\",\"supporting\",\"critical\",\"trees\",\"beyond\",\"bag\",\"vitamin\",\"assembly\",\"solved\",\"array\",\"perspective\",\"pas\",\"wwii\",\"skinny\",\"contains\",\"lift\",\"cleaning\",\"peter\",\"aap\",\"pimples\",\"initial\",\"lesserknown\",\"sights\",\"principles\",\"realize\",\"millionaire\",\"faux\",\"orbit\",\"desire\",\"hi\",\"prophet\",\"suits\",\"careers\",\"thinks\",\"quantity\",\"spots\",\"wage\",\"asleep\",\"sociology\",\"guard\",\"units\",\"structural\",\"operation\",\"pants\",\"w\",\"bulk\",\"possibly\",\"drunk\",\"fired\",\"accident\",\"inch\",\"bottle\",\"aerospace\",\"narcissist\",\"ux\",\"angeles\",\"wood\",\"index\",\"safely\",\"robotics\",\"edition\",\"metals\",\"practices\",\"scheme\",\"interior\",\"diabetes\",\"nobel\",\"youth\",\"lived\",\"september\",\"chief\",\"proposed\",\"assuming\",\"sin\",\"counter\",\"disable\",\"introduce\",\"restore\",\"swimming\",\"intern\",\"answering\",\"mentioned\",\"crash\",\"laser\",\"teenagers\",\"presentation\",\"quran\",\"classified\",\"demonetisation\",\"communicate\",\"cotton\",\"autism\",\"anger\",\"environmental\",\"stable\",\"7th\",\"bread\",\"invited\",\"wisdom\",\"wrote\",\"widely\",\"minor\",\"formal\",\"dreaming\",\"managers\",\"escape\",\"pollution\",\"taiwan\",\"verification\",\"los\",\"figures\",\"26\",\"illness\",\"sides\",\"compatible\",\"pack\",\"conspiracy\",\"hedge\",\"flights\",\"dropped\",\"former\",\"suffer\",\"aware\",\"designers\",\"mahabharata\",\"evolve\",\"weigh\",\"dies\",\"fruits\",\"cc\",\"butter\",\"sharing\",\"atoms\",\"tongue\",\"transaction\",\"poverty\",\"suffering\",\"presidents\",\"resistance\",\"adam\",\"civilization\",\"mining\",\"toronto\",\"stick\",\"increased\",\"wild\",\"freelance\",\"removal\",\"aws\",\"rio\",\"principle\",\"asus\",\"cute\",\"consumer\",\"pool\",\"variable\",\"tutorials\",\"advance\",\"keeping\",\"visible\",\"cognizant\",\"equations\",\"rooms\",\"krishna\",\"printer\",\"tooth\",\"mentally\",\"realistic\",\"automobile\",\"cake\",\"tie\",\"beach\",\"ghost\",\"comfortable\",\"mysql\",\"oral\",\"closed\",\"helps\",\"maharashtra\",\"admissions\",\"i5\",\"partners\",\"axis\",\"beliefs\",\"neck\",\"clans\",\"hidden\",\"cyber\",\"voting\",\"bacteria\",\"layer\",\"chhattisgarh\",\"5000\",\"sitting\",\"murder\",\"argument\",\"f\",\"privacy\",\"syndrome\",\"2010\",\"bite\",\"vacation\",\"isro\",\"trouble\",\"records\",\"answered\",\"digit\",\"defeat\",\"childhood\",\"5s\",\"gates\",\"f1\",\"town\",\"anal\",\"copper\",\"talks\",\"affiliate\",\"sociopath\",\"installed\",\"static\",\"copyright\",\"animation\",\"donate\",\"stranger\",\"bcom\",\"destroyed\",\"gujarat\",\"foundation\",\"prize\",\"components\",\"foreigner\",\"arms\",\"unlimited\",\"needing\",\"settings\",\"item\",\"eve\",\"competition\",\"landing\",\"beard\",\"patent\",\"ending\",\"2020\",\"incident\",\"petroleum\",\"florida\",\"particularly\",\"ups\",\"generator\",\"leather\",\"heal\",\"experiment\",\"28\",\"passing\",\"talent\",\"remote\",\"300\",\"published\",\"impossible\",\"steam\",\"80\",\"washing\",\"guilty\",\"punjab\",\"70\",\"album\",\"bullet\",\"paris\",\"interface\",\"agencies\",\"mission\",\"digits\",\"modis\",\"recruitment\",\"manipal\",\"telling\",\"meal\",\"orange\",\"stone\",\"links\",\"ab\",\"upper\",\"cameras\",\"p\",\"combat\",\"passion\",\"shower\",\"thailand\",\"beings\",\"grad\",\"27\",\"finger\",\"jump\",\"lights\",\"ui\",\"bba\",\"sweden\",\"arrive\",\"4th\",\"amendment\",\"window\",\"satellite\",\"al\",\"matlab\",\"jokes\",\"muhammad\",\"expression\",\"booking\",\"dinner\",\"skype\",\"lots\",\"2018\",\"teen\",\"finish\",\"dslr\",\"mens\",\"proud\",\"entrepreneurs\",\"ukraine\",\"coins\",\"scenario\",\"transmission\",\"ignore\",\"pride\",\"contribute\",\"grand\",\"curve\",\"false\",\"operations\",\"breakup\",\"eventually\",\"acquire\",\"commission\",\"lies\",\"spoken\",\"pills\",\"masturbating\",\"jackson\",\"airbnb\",\"delivered\",\"disk\",\"radiation\",\"plays\",\"marvel\",\"particle\",\"breakfast\",\"smartphones\",\"relevant\",\"quota\",\"refund\",\"inches\",\"telugu\",\"angel\",\"eastern\",\"inflation\",\"predict\",\"annoying\",\"obc\",\"tough\",\"conduct\",\"originate\",\"notification\",\"backup\",\"harder\",\"richest\",\"pronounce\",\"sri\",\"wheel\",\"wasnt\",\"oldest\",\"sheet\",\"soda\",\"20s\",\"wipro\",\"awesome\",\"facial\",\"z\",\"noida\",\"confident\",\"fbi\",\"corrupt\",\"succeed\",\"reddit\",\"associate\",\"input\",\"guns\",\"rahul\",\"baking\",\"description\",\"musical\",\"apache\",\"nowadays\",\"fluid\",\"capacity\",\"loose\",\"freshman\",\"cfa\",\"optional\",\"theres\",\"ps4\",\"trends\",\"jon\",\"richard\",\"legit\",\"nodejs\",\"document\",\"sexually\",\"particles\",\"singer\",\"printing\",\"captain\",\"valuable\",\"several\",\"aiims\",\"boot\",\"sit\",\"zone\",\"billionaire\",\"floor\",\"gravitational\",\"export\",\"motivation\",\"golden\",\"transgender\",\"healthcare\",\"heaven\",\"81\",\"leaves\",\"listening\",\"overall\",\"press\",\"dishes\",\"railways\",\"warming\",\"enfield\",\"extent\",\"acceleration\",\"afford\",\"bonds\",\"border\",\"registration\",\"cast\",\"hope\",\"shipping\",\"karnataka\",\"specifically\",\"opportunity\",\"arabia\",\"pump\",\"pg\",\"carrier\",\"plot\",\"kingdom\",\"contract\",\"painful\",\"kindle\",\"boring\",\"essential\",\"disney\",\"charger\",\"seconds\",\"measured\",\"honda\",\"ba\",\"makeup\",\"\\u2013\",\"mini\",\"annual\",\"traits\",\"retrieve\",\"willing\",\"swift\",\"consume\",\"hindus\",\"psychopath\",\"tells\",\"solving\",\"conditions\",\"artists\",\"spotify\",\"bomb\",\"integrate\",\"stuck\",\"nikon\",\"gadgets\",\"womens\",\"judge\",\"republicans\",\"vacuum\",\"felt\",\"putin\",\"tennis\",\"concentration\",\"fans\",\"constantly\",\"matrix\",\"secrets\",\"spot\",\"soft\",\"stored\",\"neural\",\"submit\",\"scores\",\"ola\",\"wire\",\"gdp\",\"jaipur\",\"typically\",\"airline\",\"roles\",\"cheaper\",\"machines\",\"shift\",\"impress\",\"basics\",\"32\",\"conservative\",\"birds\",\"tend\",\"duty\",\"setup\",\"rude\",\"pink\",\"church\",\"mine\",\"jack\",\"sending\",\"cooking\",\"versus\",\"expert\",\"olympic\",\"biotechnology\",\"gurgaon\",\"worked\",\"codes\",\"successfully\",\"hardware\",\"faith\",\"pr\",\"television\",\"compound\",\"vit\",\"universal\",\"thank\",\"grammatically\",\"chicago\",\"ivy\",\"worried\",\"enterprise\",\"sodium\",\"railway\",\"remedies\",\"racism\",\"tracking\",\"psychological\",\"apartment\",\"magazine\",\"martial\",\"beauty\",\"waiting\",\"attacks\",\"horror\",\"fantasy\",\"ma\",\"select\",\"increasing\",\"metro\",\"opt\",\"map\",\"watched\",\"gear\",\"icloud\",\"james\",\"comedy\",\"lollipop\",\"ireland\",\"upcoming\",\"italian\",\"oven\",\"emotionally\",\"decided\",\"lakh\",\"grey\",\"kept\",\"produced\",\"mouth\",\"manual\",\"dhoni\",\"fill\",\"throat\",\"shoot\",\"liked\",\"innovative\",\"immediately\",\"lonely\",\"fighting\",\"max\",\"accidentally\",\"schedule\",\"orgasm\",\"rape\",\"ride\",\"muscles\",\"graduates\",\"taller\",\"boost\",\"lakhs\",\"microwave\",\"electrons\",\"upon\",\"attract\",\"ap\",\"abuse\",\"earths\",\"forever\",\"underrated\",\"facing\",\"terrorist\",\"alien\",\"celebrity\",\"frequently\",\"vpn\",\"wales\",\"powder\",\"superman\",\"mixed\",\"caught\",\"goods\",\"beginning\",\"starts\",\"atomic\",\"associated\",\"triangle\",\"parties\",\"banning\",\"k\",\"honey\",\"monitor\",\"graph\",\"leaders\",\"embedded\",\"juice\",\"split\",\"lady\",\"sequence\",\"911\",\"harassment\",\"nepal\",\"pop\",\"habit\",\"setting\",\"edge\",\"ww2\",\"gps\",\"federal\",\"charged\",\"lying\",\"empty\",\"whenever\",\"airplane\",\"jet\",\"destroy\",\"ies\",\"wouldnt\",\"quick\",\"decrease\",\"robert\",\"pradesh\",\"professors\",\"massage\",\"held\",\"spending\",\"markets\",\"objects\",\"chart\",\"mechanics\",\"silver\",\"usage\",\"basketball\",\"gen\",\"periods\",\"identity\",\"individuals\",\"css\",\"soul\",\"ipod\",\"chest\",\"understanding\",\"coast\",\"classic\",\"spain\",\"babies\",\"sd\",\"hostel\",\"shirt\",\"further\",\"logical\",\"franchise\",\"obtain\",\"foreigners\",\"fully\",\"region\",\"designed\",\"cheated\",\"beneficial\",\"shes\",\"accent\",\"couldnt\",\"queen\",\"sick\",\"blowing\",\"properly\",\"stronger\",\"returns\",\"condition\",\"musk\",\"ugly\",\"teams\",\"filter\",\"snow\",\"glasses\",\"employer\",\"solid\",\"followed\",\"embarrassing\",\"auto\",\"meeting\",\"belong\",\"strike\",\"internships\",\"bachelors\",\"administration\",\"temple\",\"wealth\",\"retail\",\"speakers\",\"electoral\",\"headphones\",\"streaming\",\"mirror\",\"diesel\",\"republic\",\"antivirus\",\"customers\",\"atm\",\"vagina\",\"cigarettes\",\"aptitude\",\"lewis\",\"saudi\",\"puppy\",\"recovery\",\"jimmy\",\"obsessed\",\"domestic\",\"pen\",\"batch\",\"de\",\"drawing\",\"ai\",\"medium\",\"simply\",\"photoshop\",\"sms\",\"turning\",\"nadu\",\"appropriate\",\"adobe\",\"substitute\",\"fruit\",\"recipes\",\"fighter\",\"saving\",\"greater\",\"cheat\",\"routine\",\"push\",\"sherlock\",\"arguments\",\"sony\",\"import\",\"soldiers\",\"charges\",\"emotions\",\"ibm\",\"un\",\"innovations\",\"itunes\",\"consultant\",\"iims\",\"relations\",\"psychopaths\",\"existing\",\"angle\",\"clash\",\"bus\",\"australian\",\"crazy\",\"pull\",\"theories\",\"savings\",\"suit\",\"contrast\",\"calculus\",\"pi\",\"credits\",\"bluetooth\",\"himself\",\"traveling\",\"criminal\",\"xiaomi\",\"zealand\",\"seats\",\"electron\",\"script\",\"11th\",\"lessons\",\"programmers\",\"december\",\"flag\",\"singh\",\"arabic\",\"sale\",\"nfl\",\"grammar\",\"killing\",\"virgin\",\"differently\",\"poem\",\"provided\",\"automation\",\"shy\",\"translation\",\"mathematical\",\"45\",\"celebrities\",\"spring\",\"downloading\",\"dr\",\"organization\",\"majority\",\"clients\",\"hd\",\"motivate\",\"thats\",\"thesis\",\"door\",\"weakest\",\"saw\",\"canon\",\"younger\",\"costs\",\"river\",\"rings\",\"factory\",\"decent\",\"clintons\",\"holes\",\"desert\",\"divorce\",\"sold\",\"cheese\",\"atom\",\"taught\",\"minute\",\"ocean\",\"crisis\",\"represent\",\"surgical\",\"parent\",\"brexit\",\"possibility\",\"longest\",\"edit\",\"scholarship\",\"motivated\",\"chocolate\",\"faced\",\"90\",\"parallel\",\"foot\",\"examination\",\"friendly\",\"kinds\",\"wins\",\"islamic\",\"degrees\",\"registered\",\"distribution\",\"junior\",\"gave\",\"sing\",\"articles\",\"hadoop\",\"saved\",\"hero\",\"ear\",\"asks\",\"improved\",\"teenager\",\"forms\",\"wash\",\"provides\",\"washington\",\"strikes\",\"binary\",\"syria\",\"indonesia\",\"powers\",\"highly\",\"heshe\",\"happiness\",\"director\",\"citizenship\",\"knew\",\"humanity\",\"translate\",\"nba\",\"permanently\",\"soccer\",\"todays\",\"challenges\",\"barack\",\"title\",\"latin\",\"fitness\",\"genuine\",\"investor\",\"dislike\",\"scenes\",\"hacker\",\"bangladesh\",\"ebay\",\"earning\",\"dell\",\"paytm\",\"spouse\",\"bored\",\"roman\",\"official\",\"dragon\",\"park\",\"except\",\"habits\",\"quote\",\"astrology\",\"congress\",\"automatically\",\"island\",\"religions\",\"christianity\",\"supreme\",\"owner\",\"hell\",\"wikipedia\",\"cancel\",\"industries\",\"actress\",\"client\",\"visual\",\"michael\",\"remain\",\"ability\",\"concrete\",\"conflict\",\"string\",\"linear\",\"supposed\",\"engines\",\"2012\",\"\\u2018\",\"lesser\",\"traditional\",\"episodes\",\"goals\",\"tata\",\"opening\",\"target\",\"weak\",\"anonymous\",\"bjp\",\"resource\",\"concepts\",\"ruby\",\"friendship\",\"nyc\",\"pretty\",\"implement\",\"painting\",\"ill\",\"agency\",\"reverse\",\"confused\",\"italy\",\"response\",\"yellow\",\"dance\",\"contain\",\"vice\",\"editing\",\"acting\",\"weirdest\",\"feels\",\"govt\",\"accounting\",\"rise\",\"wise\",\"leaving\",\"lens\",\"artist\",\"arvind\",\"pattern\",\"scared\",\"attention\",\"airlines\",\"sky\",\"malaysia\",\"port\",\"attempt\",\"element\",\"classical\",\"shown\",\"safety\",\"including\",\"tablet\",\"la\",\"terrorism\",\"commit\",\"maps\",\"african\",\"viewed\",\"calling\",\"6s\",\"agent\",\"output\",\"justice\",\"don\",\"addiction\",\"lock\",\"vegetarian\",\"britain\",\"percent\",\"meditation\",\"ibps\",\"monthly\",\"writers\",\"forward\",\"stuff\",\"mr\",\"ready\",\"forgot\",\"flying\",\"recommended\",\"fields\",\"blind\",\"l\",\"hinduism\",\"desktop\",\"host\",\"tattoo\",\"maintain\",\"boards\",\"helpful\",\"semester\",\"load\",\"tier\",\"agree\",\"factor\",\"elon\",\"freshers\",\"sql\",\"cases\",\"exact\",\"confidence\",\"behavior\",\"hacked\",\"quotes\",\"hydrogen\",\"pakistani\",\"masturbate\",\"divided\",\"skill\",\"fine\",\"falling\",\"chess\",\"charging\",\"pages\",\"vector\",\"supporters\",\"waste\",\"sanders\",\"affordable\",\"unlock\",\"techniques\",\"wine\",\"keyboard\",\"cm\",\"wireless\",\"lawyer\",\"egg\",\"cope\",\"mindblowing\",\"recipe\",\"corruption\",\"scored\",\"secure\",\"teaching\",\"opposite\",\"educational\",\"bernie\",\"y\",\"library\",\"models\",\"kid\",\"stack\",\"separate\",\"19\",\"extremely\",\"properties\",\"cable\",\"magic\",\"removed\",\"computing\",\"hospital\",\"beer\",\"christians\",\"twice\",\"kg\",\"consulting\",\"whose\",\"serious\",\"petrol\",\"travelling\",\"revolution\",\"custom\",\"structures\",\"guide\",\"celebrate\",\"lenovo\",\"turned\",\"ielts\",\"grades\",\"fuel\",\"relative\",\"oracle\",\"academy\",\"lack\",\"passed\",\"relation\",\"values\",\"movement\",\"strategies\",\"eu\",\"emotional\",\"legs\",\"pokemon\",\"3g\",\"iran\",\"mostly\",\"jewish\",\"offered\",\"log\",\"hasnt\",\"explanation\",\"signal\",\"stores\",\"syllabus\",\"bits\",\"yoga\",\"weapons\",\"gods\",\"10000\",\"delivery\",\"gb\",\"sum\",\"letters\",\"venture\",\"selection\",\"winning\",\"35\",\"comment\",\"consequences\",\"sport\",\"items\",\"seems\",\"ring\",\"jealous\",\"laptops\",\"criteria\",\"fresh\",\"reference\",\"bitcoin\",\"infinite\",\"perform\",\"brazil\",\"density\",\"plans\",\"hosting\",\"clothing\",\"hong\",\"dying\",\"heavy\",\"steve\",\"gone\",\"damage\",\"missing\",\"ethical\",\"republican\",\"contacts\",\"activity\",\"electronic\",\"qualities\",\"piano\",\"hisher\",\"repair\",\"posts\",\"disease\",\"winter\",\"ten\",\"publish\",\"paint\",\"physically\",\"executive\",\"deposit\",\"elements\",\"xbox\",\"ceo\",\"visitors\",\"discovered\",\"tickets\",\"literature\",\"primary\",\"naturally\",\"senior\",\"u\",\"hardest\",\"debate\",\"frequency\",\"vietnam\",\"cry\",\"assistant\",\"gifts\",\"practical\",\"funny\",\"valid\",\"liberal\",\"refer\",\"beat\",\"shape\",\"institutes\",\"msc\",\"internal\",\"located\",\"significant\",\"scientists\",\"g\",\"ship\",\"proper\",\"independence\",\"added\",\"hes\",\"catch\",\"urine\",\"effectively\",\"named\",\"responsible\",\"strength\",\"whos\",\"immigration\",\"vehicle\",\"tesla\",\"kong\",\"meth\",\"england\",\"huge\",\"pizza\",\"rejected\",\"george\",\"fan\",\"salt\",\"browser\",\"sat\",\"loved\",\"fees\",\"walking\",\"symbol\",\"equity\",\"ubuntu\",\"alternatives\",\"theme\",\"virus\",\"manufacturing\",\"cutoff\",\"pure\",\"22\",\"introvert\",\"unable\",\"greek\",\"rice\",\"gst\",\"happening\",\"centre\",\"kiss\",\"prison\",\"bigger\",\"font\",\"construction\",\"exercises\",\"keeps\",\"gmat\",\"offers\",\"cross\",\"nasa\",\"unit\",\"advertising\",\"cup\",\"fixed\",\"limited\",\"billion\",\"subjects\",\"arts\",\"worlds\",\"stupid\",\"breaking\",\"funding\",\"tank\",\"generate\",\"efficient\",\"exists\",\"atheist\",\"entrepreneur\",\"direction\",\"broken\",\"offline\",\"firms\",\"station\",\"magnetic\",\"include\",\"aliens\",\"tinder\",\"logo\",\"photography\",\"worse\",\"besides\",\"path\",\"somebody\",\"interviews\",\"persons\",\"figure\",\"placed\",\"nation\",\"knows\",\"unmarried\",\"hp\",\"profitable\",\"tricks\",\"boss\",\"reply\",\"scam\",\"circle\",\"processor\",\"debt\",\"growing\",\"royal\",\"fiction\",\"department\",\"mistake\",\"weird\",\"graphics\",\"external\",\"article\",\"volume\",\"scratch\",\"chain\",\"protect\",\"storage\",\"texas\",\"liquid\",\"circuit\",\"graphic\",\"tired\",\"weather\",\"oxygen\",\"velocity\",\"dad\",\"band\",\"teachers\",\"drugs\",\"complex\",\"studio\",\"accenture\",\"leader\",\"levels\",\"goal\",\"logic\",\"acne\",\"plastic\",\"motion\",\"button\",\"peoples\",\"vision\",\"gap\",\"dollar\",\"computers\",\"stomach\",\"sources\",\"constant\",\"draw\",\"dress\",\"calculated\",\"sort\",\"3rd\",\"club\",\"channels\",\"creating\",\"candidates\",\"kejriwal\",\"broke\",\"sentences\",\"format\",\"emails\",\"raw\",\"stanford\",\"completed\",\"documents\",\"pan\",\"showing\",\"enter\",\"unknown\",\"bought\",\"router\",\"claim\",\"six\",\"technologies\",\"\\u20b9\",\"flipkart\",\"infosys\",\"mutual\",\"angry\",\"iits\",\"affected\",\"prices\",\"shares\",\"naruto\",\"processing\",\"finding\",\"democratic\",\"evolution\",\"harmful\",\"dual\",\"virtual\",\"member\",\"wave\",\"actual\",\"extra\",\"radio\",\"citizens\",\"e\",\"hr\",\"previous\",\"stopped\",\"walk\",\"redmi\",\"speaker\",\"torrent\",\"smoke\",\"mistakes\",\"flash\",\"iron\",\"entire\",\"individual\",\"express\",\"flow\",\"mode\",\"aircraft\",\"section\",\"planets\",\"10th\",\"respond\",\"easier\",\"evil\",\"percentile\",\"seeing\",\"calories\",\"upgrade\",\"professor\",\"v\",\"launch\",\"staff\",\"till\",\"silicon\",\"entry\",\"constitution\",\"century\",\"notice\",\"ie\",\"atheists\",\"tests\",\"21\",\"became\",\"kerala\",\"truly\",\"count\",\"essay\",\"papers\",\"accurate\",\"colors\",\"respect\",\"ideal\",\"rock\",\"reliance\",\"peace\",\"masturbation\",\"audio\",\"random\",\"independent\",\"colour\",\"hotels\",\"presidency\",\"generation\",\"paypal\",\"shot\",\"central\",\"released\",\"occur\",\"display\",\"industrial\",\"particular\",\"risk\",\"eg\",\"belly\",\"pet\",\"similarities\",\"organic\",\"marijuana\",\"networks\",\"aspects\",\"flat\",\"d\",\"comments\",\"nose\",\"identify\",\"rbi\",\"improvement\",\"directly\",\"framework\",\"suggestions\",\"designing\",\"brands\",\"religious\",\"influence\",\"novels\",\"statistics\",\"historical\",\"ground\",\"commerce\",\"pregnancy\",\"romantic\",\"failure\",\"wearing\",\"john\",\"apart\",\"bay\",\"symptoms\",\"200\",\"couple\",\"60\",\"canadian\",\"lie\",\"print\",\"carry\",\"gender\",\"experienced\",\"pounds\",\"reservation\",\"either\",\"stage\",\"artificial\",\"fit\",\"blogs\",\"developing\",\"environment\",\"learned\",\"copy\",\"phase\",\"bond\",\"democracy\",\"cgpa\",\"operating\",\"surface\",\"officers\",\"h1b\",\"ip\",\"workout\",\"fee\",\"elected\",\"hands\",\"largest\",\"sad\",\"shouldnt\",\"seat\",\"sister\",\"developers\",\"despite\",\"scene\",\"po\",\"diploma\",\"request\",\"empire\",\"ratio\",\"considering\",\"academic\",\"tree\",\"register\",\"advantage\",\"eligible\",\"nit\",\"shop\",\"intel\",\"funniest\",\"alternative\",\"fail\",\"ads\",\"nature\",\"miss\",\"involved\",\"overrated\",\"attend\",\"freedom\",\"dna\",\"beginners\",\"raise\",\"dry\",\"failed\",\"legally\",\"batman\",\"upload\",\"carbon\",\"regret\",\"applied\",\"points\",\"investors\",\"pick\",\"equivalent\",\"connected\",\"christmas\",\"lyrics\",\"nations\",\"caused\",\"bsc\",\"1st\",\"action\",\"activities\",\"biology\",\"hide\",\"asia\",\"takes\",\"require\",\"alive\",\"mom\",\"cycle\",\"generally\",\"campaign\",\"fair\",\"wake\",\"bit\",\"rules\",\"olympics\",\"racist\",\"areas\",\"eggs\",\"feature\",\"sap\",\"taxes\",\"ad\",\"shall\",\"theyre\",\"species\",\"pilot\",\"firm\",\"fish\",\"define\",\"doctors\",\"piece\",\"itself\",\"bang\",\"solutions\",\"iim\",\"2013\",\"wanted\",\"length\",\"burn\",\"waves\",\"bar\",\"gives\",\"forces\",\"christian\",\"anybody\",\"relationships\",\"nice\",\"wedding\",\"various\",\"brother\",\"films\",\"cream\",\"suddenly\",\"philippines\",\"fashion\",\"truth\",\"gpa\",\"cgl\",\"tall\",\"goa\",\"hacking\",\"statement\",\"reset\",\"materials\",\"played\",\"match\",\"usb\",\"novel\",\"unusual\",\"knowing\",\"selected\",\"valley\",\"chrome\",\"couples\",\"becomes\",\"died\",\"cheating\",\"community\",\"groups\",\"category\",\"pursuing\",\"writer\",\"mexico\",\"anymore\",\"sugar\",\"climate\",\"brown\",\"players\",\"ii\",\"reviews\",\"took\",\"led\",\"connection\",\"begin\",\"html\",\"changing\",\"received\",\"plants\",\"debit\",\"record\",\"revenue\",\"mars\",\"strongest\",\"members\",\"formed\",\"union\",\"thought\",\"existence\",\"kashmir\",\"gandhi\",\"pdf\",\"banned\",\"0\",\"plane\",\"treated\",\"electricity\",\"scale\",\"basis\",\"moral\",\"images\",\"methods\",\"certification\",\"voltage\",\"style\",\"base\",\"excel\",\"amazing\",\"regarding\",\"result\",\"rates\",\"hold\",\"indias\",\"airport\",\"businesses\",\"feet\",\"built\",\"linkedin\",\"signs\",\"above\",\"networking\",\"r\",\"shopping\",\"looks\",\"went\",\"placements\",\"bed\",\"experiences\",\"daughter\",\"tourist\",\"employee\",\"caste\",\"wait\",\"direct\",\"especially\",\"feed\",\"continue\",\"expected\",\"algorithm\",\"depressed\",\"shoes\",\"soon\",\"supply\",\"stress\",\"24\",\"inr\",\"foods\",\"rent\",\"architecture\",\"ban\",\"entrance\",\"actors\",\"messenger\",\"unique\",\"kolkata\",\"funds\",\"rupee\",\"promote\",\"rupees\",\"jews\",\"23\",\"cook\",\"cultural\",\"accepted\",\"hear\",\"glass\",\"road\",\"joining\",\"measure\",\"havent\",\"metal\",\"resume\",\"afraid\",\"turkey\",\"meat\",\"goes\",\"installation\",\"netflix\",\"benefit\",\"demand\",\"release\",\"produce\",\"report\",\"cover\",\"changes\",\"double\",\"2nd\",\"reaction\",\"killed\",\"steel\",\"requirements\",\"france\",\"exchange\",\"ac\",\"quantum\",\"reliable\",\"box\",\"results\",\"lives\",\"treatment\",\"4g\",\"ece\",\"probability\",\"sleeping\",\"philosophy\",\"handle\",\"forget\",\"driver\",\"demonetization\",\"algorithms\",\"trade\",\"rule\",\"muscle\",\"calls\",\"tried\",\"mental\",\"sure\",\"quit\",\"navy\",\"achieve\",\"francisco\",\"location\",\"until\",\"sense\",\"anxiety\",\"wordpress\",\"focus\",\"fact\",\"production\",\"conversation\",\"motor\",\"five\",\"attracted\",\"hit\",\"analyst\",\"moto\",\"isis\",\"chicken\",\"sector\",\"permanent\",\"along\",\"king\",\"slow\",\"candidate\",\"minutes\",\"purchase\",\"gun\",\"selling\",\"usually\",\"\\u2026\",\"fly\",\"round\",\"panel\",\"error\",\"stocks\",\"api\",\"remember\",\"africa\",\"paying\",\"hitler\",\"3d\",\"regular\",\"losing\",\"mail\",\"yahoo\",\"cheapest\",\"older\",\"concept\",\"characters\",\"definition\",\"lines\",\"pm\",\"cloud\",\"cats\",\"russian\",\"ipad\",\"korean\",\"proof\",\"battle\",\"stars\",\"stream\",\"recent\",\"typical\",\"performance\",\"harvard\",\"restaurant\",\"origin\",\"listen\",\"smell\",\"decide\",\"serve\",\"undergraduate\",\"profit\",\"situation\",\"surgery\",\"asking\",\"plant\",\"link\",\"square\",\"completing\",\"four\",\"trust\",\"payment\",\"gym\",\"andor\",\"worklife\",\"guitar\",\"elections\",\"half\",\"investing\",\"scientist\",\"street\",\"needs\",\"native\",\"thoughts\",\"reality\",\"40\",\"medicine\",\"race\",\"choice\",\"longer\",\"came\",\"applying\",\"hiring\",\"west\",\"weed\",\"hacks\",\"step\",\"sea\",\"crime\",\"devices\",\"event\",\"citizen\",\"14\",\"17\",\"ticket\",\"fund\",\"equation\",\"suicide\",\"whom\",\"met\",\"almost\",\"designer\",\"local\",\"departments\",\"khan\",\"customer\",\"banking\",\"javascript\",\"trip\",\"issue\",\"react\",\"cannot\",\"dubai\",\"wall\",\"touch\",\"parts\",\"loves\",\"clothes\",\"straight\",\"sexual\",\"active\",\"inpatient\",\"dreams\",\"protein\",\"table\",\"exercise\",\"lord\",\"mtech\",\"creative\",\"ball\",\"speaking\",\"son\",\"receive\",\"dollars\",\"domain\",\"prospects\",\"hour\",\"graduation\",\"commercial\",\"themselves\",\"factors\",\"jesus\",\"programmer\",\"recommend\",\"replace\",\"chat\",\"placement\",\"episode\",\"fastest\",\"restaurants\",\"object\",\"drivers\",\"gaming\",\"mark\",\"taste\",\"seem\",\"perfect\",\"potential\",\"trumps\",\"appear\",\"rights\",\"equal\",\"rest\",\"package\",\"meant\",\"drop\",\"cool\",\"material\",\"potter\",\"events\",\"convince\",\"completely\",\"n\",\"zero\",\"significance\",\"lower\",\"feelings\",\"followers\",\"evidence\",\"certain\",\"later\",\"original\",\"bible\",\"disorder\",\"testing\",\"via\",\"stand\",\"actor\",\"characteristics\",\"cities\",\"reach\",\"ago\",\"mbbs\",\"speech\",\"electric\",\"approach\",\"scientific\",\"root\",\"analytics\",\"below\",\"grade\",\"mains\",\"topic\",\"fun\",\"ancient\",\"adult\",\"standard\",\"ice\",\"everyday\",\"population\",\"invented\",\"european\",\"intelligent\",\"11\",\"subject\",\"rehab\",\"background\",\"giving\",\"platform\",\"flight\",\"thrones\",\"maths\",\"dc\",\"teeth\",\"mit\",\"weeks\",\"east\",\"means\",\"programs\",\"beginner\",\"heat\",\"third\",\"tea\",\"range\",\"london\",\"maximum\",\"enjoy\",\"2000\",\"cells\",\"quickly\",\"here\",\"expensive\",\"phrase\",\"partner\",\"league\",\"anime\",\"latest\",\"specific\",\"whether\",\"functions\",\"os\",\"fire\",\"saying\",\"secret\",\"13\",\"planet\",\"hole\",\"super\",\"teacher\",\"strong\",\"accounts\",\"minister\",\"database\",\"economic\",\"channel\",\"estate\",\"ram\",\"switch\",\"asian\",\"smoking\",\"branch\",\"israel\",\"18\",\"features\",\"success\",\"lead\",\"total\",\"key\",\"master\",\"ok\",\"favourite\",\"psychology\",\"pok\\u00e9mon\",\"nothing\",\"clean\",\"25\",\"politics\",\"drinking\",\"sometimes\",\"recently\",\"korea\",\"sent\",\"poor\",\"hindu\",\"hollywood\",\"survive\",\"cure\",\"property\",\"return\",\"narendra\",\"budget\",\"sports\",\"limit\",\"arent\",\"boys\",\"driving\",\"whole\",\"cash\",\"smartphone\",\"php\",\"developed\",\"ssc\",\"hot\",\"attractive\",\"tool\",\"physical\",\"ecommerce\",\"sbi\",\"morning\",\"animal\",\"multiple\",\"loan\",\"acid\",\"fresher\",\"spanish\",\"moving\",\"decision\",\"county\",\"determined\",\"becoming\",\"seo\",\"summer\",\"manage\",\"server\",\"competitive\",\"milk\",\"importance\",\"banks\",\"cheap\",\"powerful\",\"issues\",\"penis\",\"according\",\"analysis\",\"bike\",\"position\",\"western\",\"advanced\",\"campus\",\"highest\",\"front\",\"court\",\"status\",\"gravity\",\"positions\",\"comes\",\"steps\",\"complete\",\"electronics\",\"won\",\"hurt\",\"certificate\",\"temperature\",\"player\",\"someones\",\"communication\",\"million\",\"talking\",\"preparing\",\"finance\",\"cancer\",\"9\",\"harry\",\"accept\",\"2014\",\"plus\",\"born\",\"tcs\",\"license\",\"bring\",\"teach\",\"practice\",\"trading\",\"m\",\"might\",\"opportunities\",\"global\",\"wish\",\"outside\",\"attack\",\"procedure\",\"needed\",\"update\",\"coffee\",\"provider\",\"rather\",\"16\",\"allow\",\"tamil\",\"mix\",\"connect\",\"room\",\"watching\",\"deep\",\"york\",\"image\",\"birth\",\"sign\",\"birthday\",\"playing\",\"wars\",\"grads\",\"hire\",\"phones\",\"cbse\",\"details\",\"clear\",\"cricket\",\"dangerous\",\"track\",\"corporate\",\"voice\",\"upsc\",\"content\",\"okay\",\"san\",\"heart\",\"far\",\"heard\",\"prove\",\"positive\",\"moment\",\"sales\",\"opinion\",\"engineers\",\"block\",\"diet\",\"coding\",\"core\",\"baby\",\"father\",\"little\",\"large\",\"blocked\",\"distance\",\"land\",\"simple\",\"husband\",\"told\",\"traffic\",\"prevent\",\"pictures\",\"planning\",\"fear\",\"classes\",\"towards\",\"technical\",\"building\",\"trying\",\"photo\",\"early\",\"uses\",\"sydney\",\"startups\",\"act\",\"id\",\"describe\",\"12th\",\"may\",\"formula\",\"gets\",\"present\",\"wont\",\"cut\",\"treat\",\"mathematics\",\"visiting\",\"eye\",\"policy\",\"close\",\"cse\",\"suitable\",\"version\",\"tools\",\"head\",\"minimum\",\"chennai\",\"easily\",\"method\",\"intelligence\",\"gre\",\"mother\",\"doctor\",\"macbook\",\"deleted\",\"gas\",\"suggest\",\"cards\",\"files\",\"loss\",\"art\",\"easiest\",\"late\",\"among\",\"together\",\"depression\",\"higher\",\"alone\",\"economics\",\"dead\",\"growth\",\"insurance\",\"gold\",\"necessary\",\"neet\",\"blog\",\"example\",\"memory\",\"crack\",\"consider\",\"works\",\"currency\",\"recruit\",\"pursue\",\"strategy\",\"young\",\"cs\",\"projects\",\"50\",\"manager\",\"abroad\",\"schools\",\"illegal\",\"inside\",\"stories\",\"hand\",\"t\",\"greatest\",\"personality\",\"galaxy\",\"device\",\"views\",\"user\",\"chemistry\",\"cars\",\"iq\",\"prefer\",\"picture\",\"nuclear\",\"middle\",\"applications\",\"gmail\",\"laws\",\"final\",\"capital\",\"kids\",\"society\",\"fake\",\"bill\",\"save\",\"though\",\"likely\",\"determine\",\"shows\",\"character\",\"snapchat\",\"youre\",\"eyes\",\"islam\",\"marry\",\"brand\",\"yet\",\"impact\",\"speak\",\"within\",\"rich\",\"resources\",\"net\",\"non\",\"pressure\",\"changed\",\"allowed\",\"obama\",\"cold\",\"running\",\"feeling\",\"jio\",\"football\",\"gift\",\"written\",\"buying\",\"mac\",\"spend\",\"prime\",\"blue\",\"train\",\"studies\",\"negative\",\"thinking\",\"solution\",\"sun\",\"least\",\"following\",\"install\",\"else\",\"muslims\",\"camera\",\"vote\",\"linux\",\"expect\",\"german\",\"recover\",\"starting\",\"crush\",\"coming\",\"muslim\",\"modern\",\"battery\",\"provide\",\"access\",\"presidential\",\"interest\",\"dating\",\"pro\",\"likes\",\"french\",\"singapore\",\"useful\",\"already\",\"professional\",\"percentage\",\"drink\",\"created\",\"board\",\"passport\",\"structure\",\"case\",\"height\",\"microsoft\",\"break\",\"screen\",\"names\",\"chance\",\"special\",\"30\",\"skin\",\"natural\",\"color\",\"interested\",\"amount\",\"pain\",\"healthy\",\"hack\",\"messages\",\"ias\",\"gay\",\"disadvantages\",\"pass\",\"moon\",\"systems\",\"hindi\",\"financial\",\"taken\",\"yes\",\"sim\",\"pregnant\",\"faster\",\"animals\",\"internship\",\"let\",\"photos\",\"balance\",\"sound\",\"due\",\"knowledge\",\"charge\",\"message\",\"officer\",\"solar\",\"military\",\"meet\",\"option\",\"reading\",\"across\",\"overcome\",\"everyone\",\"everything\",\"wife\",\"reduce\",\"chances\",\"samsung\",\"income\",\"bollywood\",\"season\",\"europe\",\"boy\",\"currently\",\"ex\",\"smart\",\"california\",\"engine\",\"paid\",\"army\",\"contact\",\"address\",\"wants\",\"ones\",\"gain\",\"reasons\",\"avoid\",\"please\",\"note\",\"known\",\"pune\",\"film\",\"national\",\"once\",\"users\",\"porn\",\"scope\",\"twitter\",\"drug\",\"rank\",\"japan\",\"fight\",\"transfer\",\"political\",\"green\",\"news\",\"self\",\"uber\",\"basic\",\"british\",\"religion\",\"hyderabad\",\"topics\",\"explain\",\"phd\",\"eating\",\"letter\",\"calculate\",\"ive\",\"tech\",\"personal\",\"japanese\",\"check\",\"hotel\",\"wifi\",\"beautiful\",\"difficult\",\"paper\",\"languages\",\"investment\",\"develop\",\"north\",\"electrical\",\"ios\",\"alcohol\",\"exactly\",\"profile\",\"past\",\"exams\",\"ca\",\"convert\",\"vs\",\"understand\",\"care\",\"dream\",\"try\",\"americans\",\"lost\",\"chemical\",\"source\",\"b\",\"admission\",\"easy\",\"must\",\"three\",\"effect\",\"view\",\"options\",\"page\",\"away\",\"red\",\"said\",\"line\",\"short\",\"happy\",\"security\",\"dark\",\"preparation\",\"second\",\"fat\",\"matter\",\"few\",\"since\",\"role\",\"pc\",\"office\",\"team\",\"delete\",\"cell\",\"election\",\"economy\",\"term\",\"dogs\",\"text\",\"female\",\"effective\",\"brain\",\"share\",\"digital\",\"btech\",\"russia\",\"\\u201c\",\"party\",\"numbers\",\"20\",\"store\",\"male\",\"mass\",\"turn\",\"left\",\"married\",\"rs\",\"taking\",\"those\",\"password\",\"follow\",\"advice\",\"isnt\",\"15\",\"types\",\"network\",\"\\u201d\",\"week\",\"purpose\",\"related\",\"fix\",\"started\",\"courses\",\"masters\",\"grow\",\"8\",\"fast\",\"leave\",\"100\",\"often\",\"found\",\"pros\",\"marriage\",\"cons\",\"quality\",\"words\",\"kill\",\"price\",\"near\",\"modi\",\"enough\",\"search\",\"python\",\"x\",\"blood\",\"math\",\"yourself\",\"drive\",\"size\",\"star\",\"graduate\",\"majors\",\"500\",\"model\",\"studying\",\"general\",\"oil\",\"colleges\",\"area\",\"developer\",\"germany\",\"industry\",\"full\",\"training\",\"says\",\"period\",\"videos\",\"universe\",\"fall\",\"daily\",\"information\",\"foreign\",\"credit\",\"force\",\"12\",\"youve\",\"south\",\"offer\",\"set\",\"add\",\"send\",\"australia\",\"center\",\"1000\",\"famous\",\"2015\",\"lot\",\"function\",\"tax\",\"correct\",\"solve\",\"advantages\",\"coaching\",\"institute\",\"effects\",\"guys\",\"again\",\"group\",\"hours\",\"side\",\"sentence\",\"low\",\"similar\",\"plan\",\"children\",\"answers\",\"talk\",\"marks\",\"ideas\",\"theory\",\"death\",\"compared\",\"night\",\"remove\",\"dog\",\"anything\",\"single\",\"successful\",\"gate\",\"indians\",\"put\",\"problems\",\"move\",\"writing\",\"point\",\"invest\",\"asked\",\"biggest\",\"others\",\"stock\",\"notes\",\"story\",\"machine\",\"private\",\"sell\",\"seen\",\"required\",\"field\",\"file\",\"rate\",\"humans\",\"application\",\"face\",\"sites\",\"mind\",\"facts\",\"mumbai\",\"post\",\"stay\",\"child\",\"terms\",\"products\",\"control\",\"legal\",\"police\",\"didnt\",\"level\",\"worst\",\"hate\",\"visit\",\"called\",\"amazon\",\"causes\",\"health\",\"form\",\"physics\",\"iit\",\"skills\",\"times\",\"medical\",\"based\",\"list\",\"websites\",\"die\",\"part\",\"less\",\"benefits\",\"apple\",\"instead\",\"these\",\"boyfriend\",\"sleep\",\"canada\",\"reason\",\"education\",\"cause\",\"jee\",\"value\",\"today\",\"media\",\"public\",\"happened\",\"product\",\"research\",\"main\",\"behind\",\"international\",\"project\",\"uk\",\"differ\",\"7\",\"places\",\"wear\",\"order\",\"date\",\"etc\",\"small\",\"songs\",\"apps\",\"email\",\"given\",\"wrong\",\"site\",\"normal\",\"culture\",\"also\",\"civil\",\"city\",\"available\",\"house\",\"exist\",\"startup\",\"services\",\"ms\",\"both\",\"down\",\"2017\",\"run\",\"cat\",\"well\",\"space\",\"join\",\"deal\",\"games\",\"visa\",\"rid\",\"air\",\"speed\",\"popular\",\"problem\",\"support\",\"current\",\"pakistan\",\"choose\",\"build\",\"idea\",\"america\",\"whatsapp\",\"affect\",\"law\",\"technology\",\"call\",\"6\",\"universities\",\"family\",\"marketing\",\"major\",\"actually\",\"favorite\",\"light\",\"bangalore\",\"woman\",\"because\",\"type\",\"program\",\"looking\",\"living\",\"open\",\"believe\",\"month\",\"able\",\"management\",\"travel\",\"degree\",\"show\",\"interesting\",\"score\",\"months\",\"series\",\"chinese\",\"development\",\"end\",\"code\",\"design\",\"per\",\"employees\",\"review\",\"clinton\",\"common\",\"kind\",\"internet\",\"song\",\"download\",\"course\",\"parents\",\"jobs\",\"such\",\"increase\",\"java\",\"god\",\"another\",\"united\",\"girlfriend\",\"mechanical\",\"always\",\"next\",\"never\",\"around\",\"tips\",\"mba\",\"myself\",\"hillary\",\"apply\",\"answer\",\"something\",\"considered\",\"making\",\"differences\",\"market\",\"compare\",\"great\",\"keep\",\"test\",\"s\",\"win\",\"against\",\"states\",\"earn\",\"youtube\",\"worth\",\"delhi\",\"energy\",\"laptop\",\"american\",\"lose\",\"each\",\"hard\",\"makes\",\"age\",\"ask\",\"safe\",\"body\",\"power\",\"salary\",\"4\",\"watch\",\"white\",\"windows\",\"instagram\",\"history\",\"pay\",\"every\",\"last\",\"create\",\"relationship\",\"music\",\"too\",\"meaning\",\"state\",\"average\",\"earth\",\"got\",\"process\",\"class\",\"tv\",\"eat\",\"done\",\"happens\",\"days\",\"big\",\"off\",\"improve\",\"future\",\"place\",\"man\",\"human\",\"government\",\"play\",\"countries\",\"food\",\"service\",\"students\",\"weight\",\"game\",\"engineer\",\"write\",\"very\",\"interview\",\"web\",\"tell\",\"social\",\"girls\",\"video\",\"look\",\"having\",\"guy\",\"home\",\"hair\",\"usa\",\"doesnt\",\"word\",\"bank\",\"friend\",\"true\",\"experience\",\"career\",\"president\",\"question\",\"own\",\"china\",\"come\",\"under\",\"working\",\"him\",\"doing\",\"donald\",\"friends\",\"right\",\"5\",\"cost\",\"mobile\",\"even\",\"movies\",\"then\",\"c\",\"\\u2019\",\"exam\",\"men\",\"learning\",\"card\",\"war\",\"read\",\"programming\",\"black\",\"anyone\",\"high\",\"10\",\"companies\",\"car\",\"getting\",\"give\",\"important\",\"questions\",\"cant\",\"iphone\",\"website\",\"top\",\"water\",\"prepare\",\"during\",\"real\",\"say\",\"system\",\"name\",\"through\",\"two\",\"1\",\"our\",\"study\",\"3\",\"university\",\"made\",\"back\",\"happen\",\"stop\",\"student\",\"sex\",\"bad\",\"language\",\"going\",\"same\",\"before\",\"software\",\"school\",\"live\",\"country\",\"android\",\"science\",\"help\",\"she\",\"see\",\"thing\",\"women\",\"over\",\"data\",\"examples\",\"computer\",\"had\",\"ways\",\"change\",\"while\",\"book\",\"english\",\"account\",\"still\",\"movie\",\"books\",\"2016\",\"facebook\",\"free\",\"number\",\"college\",\"app\",\"2\",\"just\",\"now\",\"no\",\"trump\",\"company\",\"only\",\"old\",\"been\",\"google\",\"phone\",\"long\",\"different\",\"girl\",\"his\",\"her\",\"years\",\"really\",\"them\",\"using\",\"business\",\"need\",\"being\",\"buy\",\"day\",\"person\",\"things\",\"possible\",\"could\",\"were\",\"its\",\"love\",\"engineering\",\"im\",\"used\",\"online\",\"go\",\"year\",\"he\",\"into\",\"feel\",\"dont\",\"first\",\"up\"]]]}}},\"view\":{\"type\":\"object\",\"name\":\"CDSView\",\"id\":\"p1351\",\"attributes\":{\"filter\":{\"type\":\"object\",\"name\":\"AllIndices\",\"id\":\"p1352\"}}},\"glyph\":{\"type\":\"object\",\"name\":\"Scatter\",\"id\":\"p1347\",\"attributes\":{\"x\":{\"type\":\"field\",\"field\":\"x\"},\"y\":{\"type\":\"field\",\"field\":\"y\"},\"size\":{\"type\":\"value\",\"value\":10},\"line_color\":{\"type\":\"field\",\"field\":\"color\"},\"line_alpha\":{\"type\":\"value\",\"value\":0.25},\"fill_color\":{\"type\":\"field\",\"field\":\"color\"},\"fill_alpha\":{\"type\":\"value\",\"value\":0.25},\"hatch_color\":{\"type\":\"field\",\"field\":\"color\"},\"hatch_alpha\":{\"type\":\"value\",\"value\":0.25}}},\"nonselection_glyph\":{\"type\":\"object\",\"name\":\"Scatter\",\"id\":\"p1348\",\"attributes\":{\"x\":{\"type\":\"field\",\"field\":\"x\"},\"y\":{\"type\":\"field\",\"field\":\"y\"},\"size\":{\"type\":\"value\",\"value\":10},\"line_color\":{\"type\":\"field\",\"field\":\"color\"},\"line_alpha\":{\"type\":\"value\",\"value\":0.1},\"fill_color\":{\"type\":\"field\",\"field\":\"color\"},\"fill_alpha\":{\"type\":\"value\",\"value\":0.1},\"hatch_color\":{\"type\":\"field\",\"field\":\"color\"},\"hatch_alpha\":{\"type\":\"value\",\"value\":0.1}}},\"muted_glyph\":{\"type\":\"object\",\"name\":\"Scatter\",\"id\":\"p1349\",\"attributes\":{\"x\":{\"type\":\"field\",\"field\":\"x\"},\"y\":{\"type\":\"field\",\"field\":\"y\"},\"size\":{\"type\":\"value\",\"value\":10},\"line_color\":{\"type\":\"field\",\"field\":\"color\"},\"line_alpha\":{\"type\":\"value\",\"value\":0.2},\"fill_color\":{\"type\":\"field\",\"field\":\"color\"},\"fill_alpha\":{\"type\":\"value\",\"value\":0.2},\"hatch_color\":{\"type\":\"field\",\"field\":\"color\"},\"hatch_alpha\":{\"type\":\"value\",\"value\":0.2}}}}}],\"toolbar\":{\"type\":\"object\",\"name\":\"Toolbar\",\"id\":\"p1318\",\"attributes\":{\"tools\":[{\"type\":\"object\",\"name\":\"PanTool\",\"id\":\"p1331\"},{\"type\":\"object\",\"name\":\"WheelZoomTool\",\"id\":\"p1332\",\"attributes\":{\"renderers\":\"auto\"}},{\"type\":\"object\",\"name\":\"BoxZoomTool\",\"id\":\"p1333\",\"attributes\":{\"overlay\":{\"type\":\"object\",\"name\":\"BoxAnnotation\",\"id\":\"p1334\",\"attributes\":{\"syncable\":false,\"line_color\":\"black\",\"line_alpha\":1.0,\"line_width\":2,\"line_dash\":[4,4],\"fill_color\":\"lightgrey\",\"fill_alpha\":0.5,\"level\":\"overlay\",\"visible\":false,\"left\":{\"type\":\"number\",\"value\":\"nan\"},\"right\":{\"type\":\"number\",\"value\":\"nan\"},\"top\":{\"type\":\"number\",\"value\":\"nan\"},\"bottom\":{\"type\":\"number\",\"value\":\"nan\"},\"left_units\":\"canvas\",\"right_units\":\"canvas\",\"top_units\":\"canvas\",\"bottom_units\":\"canvas\",\"handles\":{\"type\":\"object\",\"name\":\"BoxInteractionHandles\",\"id\":\"p1340\",\"attributes\":{\"all\":{\"type\":\"object\",\"name\":\"AreaVisuals\",\"id\":\"p1339\",\"attributes\":{\"fill_color\":\"white\",\"hover_fill_color\":\"lightgray\"}}}}}}}},{\"type\":\"object\",\"name\":\"SaveTool\",\"id\":\"p1341\"},{\"type\":\"object\",\"name\":\"ResetTool\",\"id\":\"p1342\"},{\"type\":\"object\",\"name\":\"HelpTool\",\"id\":\"p1343\"},{\"type\":\"object\",\"name\":\"HoverTool\",\"id\":\"p1353\",\"attributes\":{\"renderers\":\"auto\",\"tooltips\":[[\"token\",\"@token\"]]}}],\"active_scroll\":{\"id\":\"p1332\"}}},\"left\":[{\"type\":\"object\",\"name\":\"LinearAxis\",\"id\":\"p1326\",\"attributes\":{\"ticker\":{\"type\":\"object\",\"name\":\"BasicTicker\",\"id\":\"p1327\",\"attributes\":{\"mantissas\":[1,2,5]}},\"formatter\":{\"type\":\"object\",\"name\":\"BasicTickFormatter\",\"id\":\"p1328\"},\"major_label_policy\":{\"type\":\"object\",\"name\":\"AllLabels\",\"id\":\"p1329\"}}}],\"below\":[{\"type\":\"object\",\"name\":\"LinearAxis\",\"id\":\"p1321\",\"attributes\":{\"ticker\":{\"type\":\"object\",\"name\":\"BasicTicker\",\"id\":\"p1322\",\"attributes\":{\"mantissas\":[1,2,5]}},\"formatter\":{\"type\":\"object\",\"name\":\"BasicTickFormatter\",\"id\":\"p1323\"},\"major_label_policy\":{\"type\":\"object\",\"name\":\"AllLabels\",\"id\":\"p1324\"}}}],\"center\":[{\"type\":\"object\",\"name\":\"Grid\",\"id\":\"p1325\",\"attributes\":{\"axis\":{\"id\":\"p1321\"}}},{\"type\":\"object\",\"name\":\"Grid\",\"id\":\"p1330\",\"attributes\":{\"dimension\":1,\"axis\":{\"id\":\"p1326\"}}}]}}]}};\n",
       "  const render_items = [{\"docid\":\"f75dc7ae-f4a5-495f-ae38-e2eb9728b677\",\"roots\":{\"p1310\":\"f05b36f7-b728-4134-b3a5-0aa4c44734f2\"},\"root_ids\":[\"p1310\"]}];\n",
       "  void root.Bokeh.embed.embed_items_notebook(docs_json, render_items);\n",
       "  }\n",
       "  if (root.Bokeh !== undefined) {\n",
       "    embed_document(root);\n",
       "  } else {\n",
       "    let attempts = 0;\n",
       "    const timer = setInterval(function(root) {\n",
       "      if (root.Bokeh !== undefined) {\n",
       "        clearInterval(timer);\n",
       "        embed_document(root);\n",
       "      } else {\n",
       "        attempts++;\n",
       "        if (attempts > 100) {\n",
       "          clearInterval(timer);\n",
       "          console.log(\"Bokeh: ERROR: Unable to run BokehJS code because BokehJS library is missing\");\n",
       "        }\n",
       "      }\n",
       "    }, 10, root)\n",
       "  }\n",
       "})(window);"
      ],
      "application/vnd.bokehjs_exec.v0+json": ""
     },
     "metadata": {
      "application/vnd.bokehjs_exec.v0+json": {
       "id": "p1310"
      }
     },
     "output_type": "display_data"
    },
    {
     "data": {
      "text/html": [
       "<div style=\"display: table;\"><div style=\"display: table-row;\"><div style=\"display: table-cell;\"><b title=\"bokeh.plotting._figure.figure\">figure</b>(</div><div style=\"display: table-cell;\">id&nbsp;=&nbsp;'p1310', <span id=\"p1357\" style=\"cursor: pointer;\">&hellip;)</span></div></div><div class=\"p1356\" style=\"display: none;\"><div style=\"display: table-cell;\"></div><div style=\"display: table-cell;\">above&nbsp;=&nbsp;[],</div></div><div class=\"p1356\" style=\"display: none;\"><div style=\"display: table-cell;\"></div><div style=\"display: table-cell;\">align&nbsp;=&nbsp;'auto',</div></div><div class=\"p1356\" style=\"display: none;\"><div style=\"display: table-cell;\"></div><div style=\"display: table-cell;\">aspect_ratio&nbsp;=&nbsp;None,</div></div><div class=\"p1356\" style=\"display: none;\"><div style=\"display: table-cell;\"></div><div style=\"display: table-cell;\">aspect_scale&nbsp;=&nbsp;1,</div></div><div class=\"p1356\" style=\"display: none;\"><div style=\"display: table-cell;\"></div><div style=\"display: table-cell;\">attribution&nbsp;=&nbsp;[],</div></div><div class=\"p1356\" style=\"display: none;\"><div style=\"display: table-cell;\"></div><div style=\"display: table-cell;\">background_fill_alpha&nbsp;=&nbsp;1.0,</div></div><div class=\"p1356\" style=\"display: none;\"><div style=\"display: table-cell;\"></div><div style=\"display: table-cell;\">background_fill_color&nbsp;=&nbsp;'#ffffff',</div></div><div class=\"p1356\" style=\"display: none;\"><div style=\"display: table-cell;\"></div><div style=\"display: table-cell;\">below&nbsp;=&nbsp;[LinearAxis(id='p1321', ...)],</div></div><div class=\"p1356\" style=\"display: none;\"><div style=\"display: table-cell;\"></div><div style=\"display: table-cell;\">border_fill_alpha&nbsp;=&nbsp;1.0,</div></div><div class=\"p1356\" style=\"display: none;\"><div style=\"display: table-cell;\"></div><div style=\"display: table-cell;\">border_fill_color&nbsp;=&nbsp;'#ffffff',</div></div><div class=\"p1356\" style=\"display: none;\"><div style=\"display: table-cell;\"></div><div style=\"display: table-cell;\">center&nbsp;=&nbsp;[Grid(id='p1325', ...), Grid(id='p1330', ...)],</div></div><div class=\"p1356\" style=\"display: none;\"><div style=\"display: table-cell;\"></div><div style=\"display: table-cell;\">context_menu&nbsp;=&nbsp;None,</div></div><div class=\"p1356\" style=\"display: none;\"><div style=\"display: table-cell;\"></div><div style=\"display: table-cell;\">css_classes&nbsp;=&nbsp;[],</div></div><div class=\"p1356\" style=\"display: none;\"><div style=\"display: table-cell;\"></div><div style=\"display: table-cell;\">css_variables&nbsp;=&nbsp;{},</div></div><div class=\"p1356\" style=\"display: none;\"><div style=\"display: table-cell;\"></div><div style=\"display: table-cell;\">disabled&nbsp;=&nbsp;False,</div></div><div class=\"p1356\" style=\"display: none;\"><div style=\"display: table-cell;\"></div><div style=\"display: table-cell;\">elements&nbsp;=&nbsp;[],</div></div><div class=\"p1356\" style=\"display: none;\"><div style=\"display: table-cell;\"></div><div style=\"display: table-cell;\">extra_x_ranges&nbsp;=&nbsp;{},</div></div><div class=\"p1356\" style=\"display: none;\"><div style=\"display: table-cell;\"></div><div style=\"display: table-cell;\">extra_x_scales&nbsp;=&nbsp;{},</div></div><div class=\"p1356\" style=\"display: none;\"><div style=\"display: table-cell;\"></div><div style=\"display: table-cell;\">extra_y_ranges&nbsp;=&nbsp;{},</div></div><div class=\"p1356\" style=\"display: none;\"><div style=\"display: table-cell;\"></div><div style=\"display: table-cell;\">extra_y_scales&nbsp;=&nbsp;{},</div></div><div class=\"p1356\" style=\"display: none;\"><div style=\"display: table-cell;\"></div><div style=\"display: table-cell;\">flow_mode&nbsp;=&nbsp;'block',</div></div><div class=\"p1356\" style=\"display: none;\"><div style=\"display: table-cell;\"></div><div style=\"display: table-cell;\">frame_align&nbsp;=&nbsp;True,</div></div><div class=\"p1356\" style=\"display: none;\"><div style=\"display: table-cell;\"></div><div style=\"display: table-cell;\">frame_height&nbsp;=&nbsp;None,</div></div><div class=\"p1356\" style=\"display: none;\"><div style=\"display: table-cell;\"></div><div style=\"display: table-cell;\">frame_width&nbsp;=&nbsp;None,</div></div><div class=\"p1356\" style=\"display: none;\"><div style=\"display: table-cell;\"></div><div style=\"display: table-cell;\">height&nbsp;=&nbsp;400,</div></div><div class=\"p1356\" style=\"display: none;\"><div style=\"display: table-cell;\"></div><div style=\"display: table-cell;\">height_policy&nbsp;=&nbsp;'auto',</div></div><div class=\"p1356\" style=\"display: none;\"><div style=\"display: table-cell;\"></div><div style=\"display: table-cell;\">hidpi&nbsp;=&nbsp;True,</div></div><div class=\"p1356\" style=\"display: none;\"><div style=\"display: table-cell;\"></div><div style=\"display: table-cell;\">hold_render&nbsp;=&nbsp;False,</div></div><div class=\"p1356\" style=\"display: none;\"><div style=\"display: table-cell;\"></div><div style=\"display: table-cell;\">js_event_callbacks&nbsp;=&nbsp;{},</div></div><div class=\"p1356\" style=\"display: none;\"><div style=\"display: table-cell;\"></div><div style=\"display: table-cell;\">js_property_callbacks&nbsp;=&nbsp;{},</div></div><div class=\"p1356\" style=\"display: none;\"><div style=\"display: table-cell;\"></div><div style=\"display: table-cell;\">left&nbsp;=&nbsp;[LinearAxis(id='p1326', ...)],</div></div><div class=\"p1356\" style=\"display: none;\"><div style=\"display: table-cell;\"></div><div style=\"display: table-cell;\">lod_factor&nbsp;=&nbsp;10,</div></div><div class=\"p1356\" style=\"display: none;\"><div style=\"display: table-cell;\"></div><div style=\"display: table-cell;\">lod_interval&nbsp;=&nbsp;300,</div></div><div class=\"p1356\" style=\"display: none;\"><div style=\"display: table-cell;\"></div><div style=\"display: table-cell;\">lod_threshold&nbsp;=&nbsp;2000,</div></div><div class=\"p1356\" style=\"display: none;\"><div style=\"display: table-cell;\"></div><div style=\"display: table-cell;\">lod_timeout&nbsp;=&nbsp;500,</div></div><div class=\"p1356\" style=\"display: none;\"><div style=\"display: table-cell;\"></div><div style=\"display: table-cell;\">margin&nbsp;=&nbsp;None,</div></div><div class=\"p1356\" style=\"display: none;\"><div style=\"display: table-cell;\"></div><div style=\"display: table-cell;\">match_aspect&nbsp;=&nbsp;False,</div></div><div class=\"p1356\" style=\"display: none;\"><div style=\"display: table-cell;\"></div><div style=\"display: table-cell;\">max_height&nbsp;=&nbsp;None,</div></div><div class=\"p1356\" style=\"display: none;\"><div style=\"display: table-cell;\"></div><div style=\"display: table-cell;\">max_width&nbsp;=&nbsp;None,</div></div><div class=\"p1356\" style=\"display: none;\"><div style=\"display: table-cell;\"></div><div style=\"display: table-cell;\">min_border&nbsp;=&nbsp;5,</div></div><div class=\"p1356\" style=\"display: none;\"><div style=\"display: table-cell;\"></div><div style=\"display: table-cell;\">min_border_bottom&nbsp;=&nbsp;None,</div></div><div class=\"p1356\" style=\"display: none;\"><div style=\"display: table-cell;\"></div><div style=\"display: table-cell;\">min_border_left&nbsp;=&nbsp;None,</div></div><div class=\"p1356\" style=\"display: none;\"><div style=\"display: table-cell;\"></div><div style=\"display: table-cell;\">min_border_right&nbsp;=&nbsp;None,</div></div><div class=\"p1356\" style=\"display: none;\"><div style=\"display: table-cell;\"></div><div style=\"display: table-cell;\">min_border_top&nbsp;=&nbsp;None,</div></div><div class=\"p1356\" style=\"display: none;\"><div style=\"display: table-cell;\"></div><div style=\"display: table-cell;\">min_height&nbsp;=&nbsp;None,</div></div><div class=\"p1356\" style=\"display: none;\"><div style=\"display: table-cell;\"></div><div style=\"display: table-cell;\">min_width&nbsp;=&nbsp;None,</div></div><div class=\"p1356\" style=\"display: none;\"><div style=\"display: table-cell;\"></div><div style=\"display: table-cell;\">name&nbsp;=&nbsp;None,</div></div><div class=\"p1356\" style=\"display: none;\"><div style=\"display: table-cell;\"></div><div style=\"display: table-cell;\">outline_line_alpha&nbsp;=&nbsp;1.0,</div></div><div class=\"p1356\" style=\"display: none;\"><div style=\"display: table-cell;\"></div><div style=\"display: table-cell;\">outline_line_cap&nbsp;=&nbsp;'butt',</div></div><div class=\"p1356\" style=\"display: none;\"><div style=\"display: table-cell;\"></div><div style=\"display: table-cell;\">outline_line_color&nbsp;=&nbsp;'#e5e5e5',</div></div><div class=\"p1356\" style=\"display: none;\"><div style=\"display: table-cell;\"></div><div style=\"display: table-cell;\">outline_line_dash&nbsp;=&nbsp;[],</div></div><div class=\"p1356\" style=\"display: none;\"><div style=\"display: table-cell;\"></div><div style=\"display: table-cell;\">outline_line_dash_offset&nbsp;=&nbsp;0,</div></div><div class=\"p1356\" style=\"display: none;\"><div style=\"display: table-cell;\"></div><div style=\"display: table-cell;\">outline_line_join&nbsp;=&nbsp;'bevel',</div></div><div class=\"p1356\" style=\"display: none;\"><div style=\"display: table-cell;\"></div><div style=\"display: table-cell;\">outline_line_width&nbsp;=&nbsp;1,</div></div><div class=\"p1356\" style=\"display: none;\"><div style=\"display: table-cell;\"></div><div style=\"display: table-cell;\">output_backend&nbsp;=&nbsp;'canvas',</div></div><div class=\"p1356\" style=\"display: none;\"><div style=\"display: table-cell;\"></div><div style=\"display: table-cell;\">renderers&nbsp;=&nbsp;[GlyphRenderer(id='p1350', ...)],</div></div><div class=\"p1356\" style=\"display: none;\"><div style=\"display: table-cell;\"></div><div style=\"display: table-cell;\">reset_policy&nbsp;=&nbsp;'standard',</div></div><div class=\"p1356\" style=\"display: none;\"><div style=\"display: table-cell;\"></div><div style=\"display: table-cell;\">resizable&nbsp;=&nbsp;False,</div></div><div class=\"p1356\" style=\"display: none;\"><div style=\"display: table-cell;\"></div><div style=\"display: table-cell;\">right&nbsp;=&nbsp;[],</div></div><div class=\"p1356\" style=\"display: none;\"><div style=\"display: table-cell;\"></div><div style=\"display: table-cell;\">sizing_mode&nbsp;=&nbsp;None,</div></div><div class=\"p1356\" style=\"display: none;\"><div style=\"display: table-cell;\"></div><div style=\"display: table-cell;\">styles&nbsp;=&nbsp;{},</div></div><div class=\"p1356\" style=\"display: none;\"><div style=\"display: table-cell;\"></div><div style=\"display: table-cell;\">stylesheets&nbsp;=&nbsp;[],</div></div><div class=\"p1356\" style=\"display: none;\"><div style=\"display: table-cell;\"></div><div style=\"display: table-cell;\">subscribed_events&nbsp;=&nbsp;PropertyValueSet(),</div></div><div class=\"p1356\" style=\"display: none;\"><div style=\"display: table-cell;\"></div><div style=\"display: table-cell;\">syncable&nbsp;=&nbsp;True,</div></div><div class=\"p1356\" style=\"display: none;\"><div style=\"display: table-cell;\"></div><div style=\"display: table-cell;\">tags&nbsp;=&nbsp;[],</div></div><div class=\"p1356\" style=\"display: none;\"><div style=\"display: table-cell;\"></div><div style=\"display: table-cell;\">title&nbsp;=&nbsp;Title(id='p1317', ...),</div></div><div class=\"p1356\" style=\"display: none;\"><div style=\"display: table-cell;\"></div><div style=\"display: table-cell;\">title_location&nbsp;=&nbsp;'above',</div></div><div class=\"p1356\" style=\"display: none;\"><div style=\"display: table-cell;\"></div><div style=\"display: table-cell;\">toolbar&nbsp;=&nbsp;Toolbar(id='p1318', ...),</div></div><div class=\"p1356\" style=\"display: none;\"><div style=\"display: table-cell;\"></div><div style=\"display: table-cell;\">toolbar_inner&nbsp;=&nbsp;False,</div></div><div class=\"p1356\" style=\"display: none;\"><div style=\"display: table-cell;\"></div><div style=\"display: table-cell;\">toolbar_location&nbsp;=&nbsp;'right',</div></div><div class=\"p1356\" style=\"display: none;\"><div style=\"display: table-cell;\"></div><div style=\"display: table-cell;\">toolbar_sticky&nbsp;=&nbsp;True,</div></div><div class=\"p1356\" style=\"display: none;\"><div style=\"display: table-cell;\"></div><div style=\"display: table-cell;\">visible&nbsp;=&nbsp;True,</div></div><div class=\"p1356\" style=\"display: none;\"><div style=\"display: table-cell;\"></div><div style=\"display: table-cell;\">width&nbsp;=&nbsp;600,</div></div><div class=\"p1356\" style=\"display: none;\"><div style=\"display: table-cell;\"></div><div style=\"display: table-cell;\">width_policy&nbsp;=&nbsp;'auto',</div></div><div class=\"p1356\" style=\"display: none;\"><div style=\"display: table-cell;\"></div><div style=\"display: table-cell;\">x_range&nbsp;=&nbsp;DataRange1d(id='p1311', ...),</div></div><div class=\"p1356\" style=\"display: none;\"><div style=\"display: table-cell;\"></div><div style=\"display: table-cell;\">x_scale&nbsp;=&nbsp;LinearScale(id='p1319', ...),</div></div><div class=\"p1356\" style=\"display: none;\"><div style=\"display: table-cell;\"></div><div style=\"display: table-cell;\">y_range&nbsp;=&nbsp;DataRange1d(id='p1312', ...),</div></div><div class=\"p1356\" style=\"display: none;\"><div style=\"display: table-cell;\"></div><div style=\"display: table-cell;\">y_scale&nbsp;=&nbsp;LinearScale(id='p1320', ...))</div></div></div>\n",
       "<script>\n",
       "(function() {\n",
       "  let expanded = false;\n",
       "  const ellipsis = document.getElementById(\"p1357\");\n",
       "  ellipsis.addEventListener(\"click\", function() {\n",
       "    const rows = document.getElementsByClassName(\"p1356\");\n",
       "    for (let i = 0; i < rows.length; i++) {\n",
       "      const el = rows[i];\n",
       "      el.style.display = expanded ? \"none\" : \"table-row\";\n",
       "    }\n",
       "    ellipsis.innerHTML = expanded ? \"&hellip;)\" : \"&lsaquo;&lsaquo;&lsaquo;\";\n",
       "    expanded = !expanded;\n",
       "  });\n",
       "})();\n",
       "</script>\n"
      ],
      "text/plain": [
       "figure(id='p1310', ...)"
      ]
     },
     "execution_count": 354,
     "metadata": {},
     "output_type": "execute_result"
    }
   ],
   "source": [
    "draw_vectors(embedding[:, 0], embedding[:, 1], token=top_words)"
   ]
  },
  {
   "cell_type": "markdown",
   "metadata": {},
   "source": [
    "Для сдачи задания необходимо загрузить функции `subsample_frequent_words` и `get_negative_sampling_prob`, а также сгенерировать файл для посылки ниже и приложить в соответствующую задачу. Успехов!"
   ]
  },
  {
   "cell_type": "code",
   "execution_count": 371,
   "metadata": {},
   "outputs": [
    {
     "name": "stdout",
     "output_type": "stream",
     "text": [
      "File saved to `submission_dict.json`\n"
     ]
    }
   ],
   "source": [
    "# do not change the code in the block below\n",
    "# __________start of block__________\n",
    "import os\n",
    "import json\n",
    "\n",
    "assert os.path.exists(\n",
    "    \"words_subset.txt\"\n",
    "), \"Please, download `words_subset.txt` and place it in the working directory\"\n",
    "\n",
    "with open(\"words_subset.txt\") as iofile:\n",
    "    selected_words = iofile.read().split(\"\\n\")\n",
    "\n",
    "\n",
    "def get_matrix_for_selected_words(selected_words, embedding_matrix, word_to_index):\n",
    "    word_vectors = []\n",
    "    for word in selected_words:\n",
    "        index = word_to_index.get(word, None)\n",
    "        vector = [0.0] * embedding_matrix.shape[1]\n",
    "        if index is not None:\n",
    "            vector = embedding_matrix[index].numpy().tolist()\n",
    "        word_vectors.append(vector)\n",
    "    return word_vectors\n",
    "\n",
    "\n",
    "word_vectors = get_matrix_for_selected_words(\n",
    "    selected_words, embedding_matrix_context, word_to_index\n",
    ")\n",
    "\n",
    "with open(\"submission_dict.json\", \"w\") as iofile:\n",
    "    json.dump(word_vectors, iofile)\n",
    "print(\"File saved to `submission_dict.json`\")\n",
    "# __________end of block__________"
   ]
  },
  {
   "cell_type": "code",
   "execution_count": null,
   "metadata": {},
   "outputs": [],
   "source": []
  }
 ],
 "metadata": {
  "colab": {
   "provenance": []
  },
  "kernelspec": {
   "display_name": "Python 3 (ipykernel)",
   "language": "python",
   "name": "python3"
  },
  "language_info": {
   "codemirror_mode": {
    "name": "ipython",
    "version": 3
   },
   "file_extension": ".py",
   "mimetype": "text/x-python",
   "name": "python",
   "nbconvert_exporter": "python",
   "pygments_lexer": "ipython3",
   "version": "3.12.4"
  }
 },
 "nbformat": 4,
 "nbformat_minor": 4
}
