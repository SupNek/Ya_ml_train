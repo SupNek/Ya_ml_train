{
 "cells": [
  {
   "cell_type": "markdown",
   "id": "15b2e699-b763-477c-89cd-492e2a860f8b",
   "metadata": {},
   "source": [
    "# Word2vec - Skip-Gram with Negative Sampling"
   ]
  },
  {
   "cell_type": "markdown",
   "id": "083da7fd-3296-4947-bf4e-7ceefcf65ac5",
   "metadata": {},
   "source": [
    "## Необходимые библиотеки"
   ]
  },
  {
   "cell_type": "code",
   "execution_count": 1,
   "id": "00b5d8ad-a8df-486e-a7c3-6cb01a12cdd1",
   "metadata": {},
   "outputs": [
    {
     "name": "stdout",
     "output_type": "stream",
     "text": [
      "Requirement already satisfied: nltk in /home/supnek/miniconda3/envs/ml/lib/python3.12/site-packages (3.9.1)\n",
      "Requirement already satisfied: bokeh in /home/supnek/miniconda3/envs/ml/lib/python3.12/site-packages (3.6.0)\n",
      "Collecting bokeh\n",
      "  Downloading bokeh-3.7.3-py3-none-any.whl.metadata (12 kB)\n",
      "Requirement already satisfied: umap-learn in /home/supnek/miniconda3/envs/ml/lib/python3.12/site-packages (0.5.6)\n",
      "Collecting umap-learn\n",
      "  Downloading umap_learn-0.5.7-py3-none-any.whl.metadata (21 kB)\n",
      "Requirement already satisfied: click in /home/supnek/miniconda3/envs/ml/lib/python3.12/site-packages (from nltk) (8.1.7)\n",
      "Requirement already satisfied: joblib in /home/supnek/miniconda3/envs/ml/lib/python3.12/site-packages (from nltk) (1.4.2)\n",
      "Requirement already satisfied: regex>=2021.8.3 in /home/supnek/miniconda3/envs/ml/lib/python3.12/site-packages (from nltk) (2024.9.11)\n",
      "Requirement already satisfied: tqdm in /home/supnek/miniconda3/envs/ml/lib/python3.12/site-packages (from nltk) (4.66.5)\n",
      "Requirement already satisfied: Jinja2>=2.9 in /home/supnek/miniconda3/envs/ml/lib/python3.12/site-packages (from bokeh) (3.1.4)\n",
      "Requirement already satisfied: contourpy>=1.2 in /home/supnek/miniconda3/envs/ml/lib/python3.12/site-packages (from bokeh) (1.2.1)\n",
      "Collecting narwhals>=1.13 (from bokeh)\n",
      "  Downloading narwhals-1.41.0-py3-none-any.whl.metadata (11 kB)\n",
      "Requirement already satisfied: numpy>=1.16 in /home/supnek/miniconda3/envs/ml/lib/python3.12/site-packages (from bokeh) (1.26.0)\n",
      "Requirement already satisfied: packaging>=16.8 in /home/supnek/miniconda3/envs/ml/lib/python3.12/site-packages (from bokeh) (24.1)\n",
      "Requirement already satisfied: pandas>=1.2 in /home/supnek/miniconda3/envs/ml/lib/python3.12/site-packages (from bokeh) (2.2.2)\n",
      "Requirement already satisfied: pillow>=7.1.0 in /home/supnek/miniconda3/envs/ml/lib/python3.12/site-packages (from bokeh) (10.4.0)\n",
      "Requirement already satisfied: PyYAML>=3.10 in /home/supnek/miniconda3/envs/ml/lib/python3.12/site-packages (from bokeh) (6.0.1)\n",
      "Requirement already satisfied: tornado>=6.2 in /home/supnek/miniconda3/envs/ml/lib/python3.12/site-packages (from bokeh) (6.4.1)\n",
      "Requirement already satisfied: xyzservices>=2021.09.1 in /home/supnek/miniconda3/envs/ml/lib/python3.12/site-packages (from bokeh) (2024.9.0)\n",
      "Requirement already satisfied: scipy>=1.3.1 in /home/supnek/miniconda3/envs/ml/lib/python3.12/site-packages (from umap-learn) (1.13.1)\n",
      "Requirement already satisfied: scikit-learn>=0.22 in /home/supnek/miniconda3/envs/ml/lib/python3.12/site-packages (from umap-learn) (1.6.1)\n",
      "Requirement already satisfied: numba>=0.51.2 in /home/supnek/miniconda3/envs/ml/lib/python3.12/site-packages (from umap-learn) (0.60.0)\n",
      "Requirement already satisfied: pynndescent>=0.5 in /home/supnek/miniconda3/envs/ml/lib/python3.12/site-packages (from umap-learn) (0.5.13)\n",
      "Requirement already satisfied: MarkupSafe>=2.0 in /home/supnek/miniconda3/envs/ml/lib/python3.12/site-packages (from Jinja2>=2.9->bokeh) (2.1.3)\n",
      "Requirement already satisfied: llvmlite<0.44,>=0.43.0dev0 in /home/supnek/miniconda3/envs/ml/lib/python3.12/site-packages (from numba>=0.51.2->umap-learn) (0.43.0)\n",
      "Requirement already satisfied: python-dateutil>=2.8.2 in /home/supnek/miniconda3/envs/ml/lib/python3.12/site-packages (from pandas>=1.2->bokeh) (2.9.0.post0)\n",
      "Requirement already satisfied: pytz>=2020.1 in /home/supnek/miniconda3/envs/ml/lib/python3.12/site-packages (from pandas>=1.2->bokeh) (2024.1)\n",
      "Requirement already satisfied: tzdata>=2022.7 in /home/supnek/miniconda3/envs/ml/lib/python3.12/site-packages (from pandas>=1.2->bokeh) (2024.1)\n",
      "Requirement already satisfied: threadpoolctl>=3.1.0 in /home/supnek/miniconda3/envs/ml/lib/python3.12/site-packages (from scikit-learn>=0.22->umap-learn) (3.5.0)\n",
      "Requirement already satisfied: six>=1.5 in /home/supnek/miniconda3/envs/ml/lib/python3.12/site-packages (from python-dateutil>=2.8.2->pandas>=1.2->bokeh) (1.16.0)\n",
      "Downloading bokeh-3.7.3-py3-none-any.whl (7.0 MB)\n",
      "\u001b[2K   \u001b[90m━━━━━━━━━━━━━━━━━━━━━━━━━━━━━━━━━━━━━━━━\u001b[0m \u001b[32m7.0/7.0 MB\u001b[0m \u001b[31m1.3 MB/s\u001b[0m eta \u001b[36m0:00:00\u001b[0ma \u001b[36m0:00:01\u001b[0m\n",
      "\u001b[?25hDownloading umap_learn-0.5.7-py3-none-any.whl (88 kB)\n",
      "Downloading narwhals-1.41.0-py3-none-any.whl (357 kB)\n",
      "Installing collected packages: narwhals, bokeh, umap-learn\n",
      "  Attempting uninstall: bokeh\n",
      "    Found existing installation: bokeh 3.6.0\n",
      "    Uninstalling bokeh-3.6.0:\n",
      "      Successfully uninstalled bokeh-3.6.0\n",
      "  Attempting uninstall: umap-learn\n",
      "    Found existing installation: umap-learn 0.5.6\n",
      "    Uninstalling umap-learn-0.5.6:\n",
      "      Successfully uninstalled umap-learn-0.5.6\n",
      "Successfully installed bokeh-3.7.3 narwhals-1.41.0 umap-learn-0.5.7\n"
     ]
    }
   ],
   "source": [
    "!pip install --upgrade nltk bokeh umap-learn"
   ]
  },
  {
   "cell_type": "code",
   "execution_count": null,
   "id": "1ceeccae-8bab-4b59-bb6e-c28e4ce5eedd",
   "metadata": {},
   "outputs": [],
   "source": [
    "import itertools\n",
    "import random\n",
    "import string\n",
    "from collections import Counter\n",
    "from itertools import chain\n",
    "\n",
    "import matplotlib.pyplot as plt\n",
    "import numpy as np\n",
    "import torch\n",
    "import torch.autograd as autograd\n",
    "import torch.nn as nn\n",
    "import torch.nn.functional as F\n",
    "import torch.optim as optim\n",
    "import umap\n",
    "from IPython.display import clear_output\n",
    "from matplotlib import pyplot as plt\n",
    "from nltk.tokenize import WordPunctTokenizer\n",
    "from torch.optim.lr_scheduler import ReduceLROnPlateau, StepLR\n",
    "from tqdm.auto import tqdm as tqdma"
   ]
  },
  {
   "cell_type": "markdown",
   "id": "e4486537-165d-443f-9734-fea0bf052006",
   "metadata": {},
   "source": [
    "## Подготовка данных"
   ]
  },
  {
   "cell_type": "code",
   "execution_count": 3,
   "id": "ce6afffc-28a1-4e36-a2ef-a870eefcf9ef",
   "metadata": {},
   "outputs": [
    {
     "name": "stdout",
     "output_type": "stream",
     "text": [
      "File ‘./quora.txt’ already there; not retrieving.\n"
     ]
    }
   ],
   "source": [
    "# download the data:\n",
    "!wget https://www.dropbox.com/s/obaitrix9jyu84r/quora.txt?dl=1 -O ./quora.txt -nc\n",
    "# alternative download link: https://yadi.sk/i/BPQrUu1NaTduEw"
   ]
  },
  {
   "cell_type": "code",
   "execution_count": 4,
   "id": "ad92b93e-d3dd-410e-af3a-efefbfb584c7",
   "metadata": {},
   "outputs": [
    {
     "data": {
      "text/plain": [
       "\"What TV shows or books help you read people's body language?\\n\""
      ]
     },
     "execution_count": 4,
     "metadata": {},
     "output_type": "execute_result"
    }
   ],
   "source": [
    "data = list(open(\"./quora.txt\", encoding=\"utf-8\"))\n",
    "data[50]"
   ]
  },
  {
   "cell_type": "markdown",
   "id": "b5d6939c-eb59-4e51-a139-76beff9b0bda",
   "metadata": {},
   "source": [
    "Токенизируем на отдельные слова"
   ]
  },
  {
   "cell_type": "markdown",
   "id": "ab70f126-bd1d-4582-9bd4-67366618574e",
   "metadata": {},
   "source": [
    "[`WordPunctTokenizer()`](https://www.nltk.org/api/nltk.tokenize.regexp.html) — токенизация на слова и токены пунктуации"
   ]
  },
  {
   "cell_type": "code",
   "execution_count": 6,
   "id": "67525adf-bff6-42d5-a128-d2a01f929a4d",
   "metadata": {},
   "outputs": [
    {
     "name": "stdout",
     "output_type": "stream",
     "text": [
      "['What', 'TV', 'shows', 'or', 'books', 'help', 'you', 'read', 'people', \"'\", 's', 'body', 'language', '?']\n"
     ]
    }
   ],
   "source": [
    "tokenizer = WordPunctTokenizer()\n",
    "\n",
    "print(tokenizer.tokenize(data[50]))"
   ]
  },
  {
   "cell_type": "markdown",
   "id": "2e7de855-dbec-469c-82f2-985b3f7fdeb2",
   "metadata": {},
   "source": [
    "[`str.maketrans(s1 : str, s2 : str, to_none : str)`](https://docs.python.org/3/library/stdtypes.html#str.maketrans) — задает таблицу отображения слов, последний аргумент задает символы, которые будут отображены в None.\n",
    "[`str.translate(map)`](https://docs.python.org/3/library/stdtypes.html#str.translate) — по отображению создает обновленную копию строки."
   ]
  },
  {
   "cell_type": "code",
   "execution_count": 7,
   "id": "13ee61a6-868a-40cb-95f6-d93ed9c989ba",
   "metadata": {},
   "outputs": [],
   "source": [
    "data_tok = [\n",
    "    tokenizer.tokenize(\n",
    "        line.translate(str.maketrans(\"\", \"\", string.punctuation)).lower()\n",
    "    )\n",
    "    for line in data\n",
    "] # генератор в котором токенизируем каждое предложение\n",
    "data_tok = [x for x in data_tok if len(x) >= 3] # оставляем только те, чьи длина больше 2 (т.е. минимум два слова в предложении)"
   ]
  },
  {
   "cell_type": "markdown",
   "id": "fc9b91c1-0a1a-4b67-801e-54033dddd187",
   "metadata": {},
   "source": [
    "Проверки корректности"
   ]
  },
  {
   "cell_type": "code",
   "execution_count": 10,
   "id": "6802e0d8-5fac-42d8-8113-40db034f0e1b",
   "metadata": {},
   "outputs": [],
   "source": [
    "assert all(\n",
    "    isinstance(row, (list, tuple)) for row in data_tok\n",
    "), \"please convert each line into a list of tokens (strings)\"\n",
    "assert all(\n",
    "    all(isinstance(tok, str) for tok in row) for row in data_tok\n",
    "), \"please convert each line into a list of tokens (strings)\"\n",
    "is_latin = lambda tok: all(\"a\" <= x.lower() <= \"z\" for x in tok)\n",
    "assert all(\n",
    "    map(lambda l: not is_latin(l) or l.islower(), map(\" \".join, data_tok))\n",
    "), \"please make sure to lowercase the data\""
   ]
  },
  {
   "cell_type": "markdown",
   "id": "17a12065-d690-4442-9532-d8955d49bc52",
   "metadata": {},
   "source": [
    "Задаем ширину окна, предобрабатываем и собираем контекстные пары"
   ]
  },
  {
   "cell_type": "code",
   "execution_count": 11,
   "id": "6b512538-bb1c-4d0b-bf1e-fae8a5be7951",
   "metadata": {},
   "outputs": [],
   "source": [
    "min_count = 5\n",
    "window_radius = 5"
   ]
  },
  {
   "cell_type": "markdown",
   "id": "19623667-cc00-4f5f-b44c-563778f6d6b8",
   "metadata": {},
   "source": [
    "`chain.from_iterable(iter)` — получает все отдельные элементы внутри объектов итератора: `chain.from_iterable(['ABC', 'DEF']) → A B C D E F`\n",
    "\n",
    "т.е. в данной ситуации собираем список всех слов из всех текстов"
   ]
  },
  {
   "cell_type": "code",
   "execution_count": 12,
   "id": "d53802f5-5bd6-4bbc-98c2-dee62bee03a3",
   "metadata": {},
   "outputs": [],
   "source": [
    "vocabulary_with_counter = Counter(chain.from_iterable(data_tok))\n",
    "\n",
    "word_count_dict = dict()\n",
    "for word, counter in vocabulary_with_counter.items():\n",
    "    if counter >= min_count: # отбрасываем слова встречаемые реже 5 раз\n",
    "        word_count_dict[word] = counter\n",
    "\n",
    "vocabulary = set(word_count_dict.keys())\n",
    "del vocabulary_with_counter"
   ]
  },
  {
   "cell_type": "code",
   "execution_count": 14,
   "id": "455e20a3-340c-4730-aa9c-6fd9a80fdae3",
   "metadata": {},
   "outputs": [],
   "source": [
    "word_to_index = {word: index for index, word in enumerate(vocabulary)} # (слово, индекс)\n",
    "index_to_word = {index: word for word, index in word_to_index.items()} # (индекс, слово)"
   ]
  },
  {
   "cell_type": "markdown",
   "id": "592912b6-f694-4157-8b89-8e55fe4c1ead",
   "metadata": {},
   "source": [
    "Генерируем пары вида `(слово, контекст)`"
   ]
  },
  {
   "cell_type": "code",
   "execution_count": 15,
   "id": "65db1117-2999-4b51-8d60-b91fe7c3dcd2",
   "metadata": {},
   "outputs": [
    {
     "name": "stdout",
     "output_type": "stream",
     "text": [
      "Generated 40220313 pairs of target and context words.\n"
     ]
    }
   ],
   "source": [
    "context_pairs = []\n",
    "\n",
    "for text in data_tok:\n",
    "    for i, central_word in enumerate(text): # выбираем центральное слово\n",
    "        context_indices = range(\n",
    "            max(0, i - window_radius), min(i + window_radius, len(text))\n",
    "        ) # сбор контекста к центральному слову\n",
    "        for j in context_indices:\n",
    "            if j == i:\n",
    "                continue\n",
    "            context_word = text[j]\n",
    "            if central_word in vocabulary and context_word in vocabulary:\n",
    "                context_pairs.append(\n",
    "                    (word_to_index[central_word], word_to_index[context_word]) # нашли пары разрешенных слов и добавили в массив\n",
    "                )\n",
    "\n",
    "print(f\"Generated {len(context_pairs)} pairs of target and context words.\")"
   ]
  },
  {
   "cell_type": "markdown",
   "id": "b5dfdc04-92e6-4873-90e5-7b6443e232c6",
   "metadata": {},
   "source": [
    "### Подзадача №1: subsampling\n",
    "Для того, чтобы сгладить разницу в частоте встречаемсости слов, необходимо реализовать механизм subsampling'а.\n",
    "Для этого реализована функция ниже.\n",
    "\n",
    "Вероятность **оставить** слово из обучения (на фиксированном шаге) вычисляется как\n",
    "$$\n",
    "P_\\text{save}(w_i)=\\sqrt{\\frac{t}{f(w_i)}},\n",
    "$$\n",
    "где $f(w_i)$ – нормированная частота встречаемости слова, а $t$ – заданный порог (threshold)."
   ]
  },
  {
   "cell_type": "code",
   "execution_count": 17,
   "id": "09b648a9-6a1e-49dc-a250-8343a4267a46",
   "metadata": {},
   "outputs": [],
   "source": [
    "def subsample_frequent_words(word_count_dict, threshold=1e-5):\n",
    "    \"\"\"\n",
    "    Calculates the subsampling probabilities for words based on their frequencies.\n",
    "\n",
    "    This function is used to determine the probability of keeping a word in the dataset\n",
    "    when subsampling frequent words. The method used is inspired by the subsampling approach\n",
    "    in Word2Vec, where each word's frequency affects its probability of being kept.\n",
    "\n",
    "    Parameters:\n",
    "    - word_count_dict (dict): A dictionary where keys are words and values are the counts of those words.\n",
    "    - threshold (float, optional): A threshold parameter used to adjust the frequency of word subsampling.\n",
    "                                   Defaults to 1e-5.\n",
    "\n",
    "    Returns:\n",
    "    - dict: A dictionary where keys are words and values are the probabilities of keeping each word.\n",
    "    \"\"\"\n",
    "    all_w_count = sum(word_count_dict.values())\n",
    "    freq = {word: word_count_dict[word] / all_w_count for word in word_count_dict}\n",
    "    prob = {word: (threshold / freq[word]) ** 0.5 for word in freq}\n",
    "    return prob\n"
   ]
  },
  {
   "cell_type": "markdown",
   "id": "d8e54d1f-c22a-43f6-9b6d-b2e8882a8372",
   "metadata": {},
   "source": [
    "### Подзадача №2: negative sampling\n",
    "Для более эффективного обучения необходимо не только предсказывать высокие вероятности для слов из контекста, но и предсказывать низкие для слов, не встреченных в контексте. Для этого необходимо вычислить вероятность использовать слово в качестве negative sample.\n",
    "\n",
    "В оригинальной статье предлагается оценивать вероятность слов выступать в качестве negative sample согласно распределению $P_n(w)$\n",
    "$$\n",
    "P_n(w) = \\frac{U(w)^{3/4}}{Z},\n",
    "$$\n",
    "\n",
    "где $U(w)$ распределение слов по частоте (или, как его еще называют, по униграммам) (т.е. в нашей ситуации $U(w)$ == $f(w)$), а $Z$ – нормировочная константа, чтобы общая мера была равна $1$."
   ]
  },
  {
   "cell_type": "code",
   "execution_count": 18,
   "id": "17db4829-bdf1-446c-9206-14edb9ffb4ab",
   "metadata": {},
   "outputs": [],
   "source": [
    "def get_negative_sampling_prob(word_count_dict):\n",
    "    \"\"\"\n",
    "    Calculates the negative sampling probabilities for words based on their frequencies.\n",
    "\n",
    "    This function adjusts the frequency of each word raised to the power of 0.75, which is\n",
    "    commonly used in algorithms like Word2Vec to moderate the influence of very frequent words.\n",
    "    It then normalizes these adjusted frequencies to ensure they sum to 1, forming a probability\n",
    "    distribution used for negative sampling.\n",
    "\n",
    "    Parameters:\n",
    "    - word_count_dict (dict): A dictionary where keys are words and values are the counts of those words.\n",
    "\n",
    "    Returns:\n",
    "    - dict: A dictionary where keys are words and values are the probabilities of selecting each word\n",
    "            for negative sampling.\n",
    "    \"\"\"\n",
    "    all_w_count = sum(word_count_dict.values())\n",
    "    freq = {word: (word_count_dict[word] / all_w_count) ** 0.75 for word in word_count_dict}\n",
    "    Z = sum(freq.values())\n",
    "    return {word: freq[word] / Z for word in freq}\n",
    "    "
   ]
  },
  {
   "cell_type": "markdown",
   "id": "cfb17d0b-8970-4939-b61b-780ee2cfdbe5",
   "metadata": {},
   "source": [
    "### Формирование словарей"
   ]
  },
  {
   "cell_type": "markdown",
   "id": "386632aa-d420-44ed-ba2f-3dba34b69fac",
   "metadata": {},
   "source": [
    "Для удобства, преобразуем полученные словари в массивы (т.к. все слова все равно уже пронумерованы)."
   ]
  },
  {
   "cell_type": "code",
   "execution_count": 19,
   "id": "d04ec934-33cf-4db8-b31c-787d1e9e60a3",
   "metadata": {},
   "outputs": [],
   "source": [
    "keep_prob_dict = subsample_frequent_words(word_count_dict)\n",
    "assert keep_prob_dict.keys() == word_count_dict.keys()"
   ]
  },
  {
   "cell_type": "code",
   "execution_count": 20,
   "id": "6d82fc92-69ab-4091-9550-9f56630bb4bc",
   "metadata": {},
   "outputs": [],
   "source": [
    "negative_sampling_prob_dict = get_negative_sampling_prob(word_count_dict)\n",
    "assert negative_sampling_prob_dict.keys() == negative_sampling_prob_dict.keys()\n",
    "assert np.allclose(sum(negative_sampling_prob_dict.values()), 1)"
   ]
  },
  {
   "cell_type": "code",
   "execution_count": 21,
   "id": "960a23a9-e422-41a8-9912-b2795e388820",
   "metadata": {},
   "outputs": [],
   "source": [
    "# полученные массивы\n",
    "keep_prob_array = np.array(\n",
    "    [keep_prob_dict[index_to_word[idx]] for idx in range(len(word_to_index))]\n",
    ")\n",
    "negative_sampling_prob_array = np.array(\n",
    "    [\n",
    "        negative_sampling_prob_dict[index_to_word[idx]]\n",
    "        for idx in range(len(word_to_index))\n",
    "    ]\n",
    ")"
   ]
  },
  {
   "cell_type": "markdown",
   "id": "72e178a4-a329-4ce8-b920-fc250fa551af",
   "metadata": {},
   "source": [
    "## Skip-Gram"
   ]
  },
  {
   "cell_type": "markdown",
   "id": "153aa2fe-9a1b-4858-a9ab-099bb73b9f16",
   "metadata": {},
   "source": [
    "Наконец, время реализовать модель.\n",
    "\n",
    "Напомним, что в случае negative sampling решается задача максимизации следующего функционала:\n",
    "\n",
    "$$\n",
    "\\mathcal{L} = \\log \\sigma({\\mathbf{v}'_{w_O}}^\\top \\mathbf{v}_{w_I}) + \\sum_{i=1}^{k} \\mathbb{E}_{w_i \\sim P_n(w)} \\left[ \\log \\sigma({-\\mathbf{v}'_{w_i}}^\\top \\mathbf{v}_{w_I}) \\right],\n",
    "$$\n",
    "\n",
    "где:\n",
    "- $\\mathbf{v}_{w_I}$ – вектор центрального слова $w_I$,\n",
    "- $\\mathbf{v}'_{w_O}$ – вектор слова из контекста $w_O$,\n",
    "- $k$ – число negative samples,\n",
    "- $P_n(w)$ – распределение negative samples, заданное выше,\n",
    "- $\\sigma$ – сигмоида."
   ]
  },
  {
   "cell_type": "markdown",
   "id": "ed59656e-feba-4c1d-9a0c-6339f65bafe7",
   "metadata": {},
   "source": [
    "Далее по ходу работы будем использовать лосс: nn.BCEWithLogitsLoss(), в котором уже реализовано почти все, остается посчитать только произведения векторов"
   ]
  },
  {
   "cell_type": "markdown",
   "id": "73713bfa-4869-4d6d-acc0-77c9fed063f2",
   "metadata": {},
   "source": [
    "Модель использует два типа эмбеддингов:\n",
    "* `self.embeddings_in = nn.Embedding(vocab_size, embedding_dim)` — центральное слово\n",
    "* `self.embeddings_out = nn.Embedding(vocab_size, embedding_dim)` — контекст"
   ]
  },
  {
   "cell_type": "markdown",
   "id": "0b431713-8588-4eff-af23-6ae34a9b49fa",
   "metadata": {},
   "source": [
    "[`torch.nn.init.xavier_uniform_`](https://docs.pytorch.org/docs/stable/nn.init.html#torch.nn.init.xavier_uniform_) — начальная инициализация весов эмбеддингов (порекомендовали в чатике), результирующий тензор будет иметь значения, семплированные из $U(a, -a)$, где: $$a = gain \\sqrt{\\frac{6}{fan\\_in + fan\\_out}}$$"
   ]
  },
  {
   "cell_type": "code",
   "execution_count": 23,
   "id": "7dde30b8-c32a-413d-8bc6-58d5e5e4f012",
   "metadata": {},
   "outputs": [],
   "source": [
    "class SkipGramModelWithNegSampling(nn.Module):\n",
    "    def __init__(self, vocab_size, embedding_dim):\n",
    "        super(SkipGramModelWithNegSampling, self).__init__()\n",
    "        self.embeddings_in = nn.Embedding(vocab_size, embedding_dim) # center\n",
    "        self.embeddings_out = nn.Embedding(vocab_size, embedding_dim) # context\n",
    "        \n",
    "        # никакая логсигмоида нам не нужна! это все заложено в лоссе\n",
    "        torch.nn.init.xavier_uniform_(self.embeddings_in.weight)\n",
    "        torch.nn.init.xavier_uniform_(self.embeddings_out.weight)\n",
    "        \n",
    "    def forward(self, center_words, pos_context_words, neg_context_words):\n",
    "        # center_words — входные слова\n",
    "        # pos_context_words — таргет, т.е. правильный контекст (реально существующий для входного слова)\n",
    "        # neg_context_words — отрицательные примеры — то что не должно быть в контексте\n",
    "\n",
    "        v_in = self.embeddings_in(center_words) \n",
    "        v_out = self.embeddings_out(pos_context_words)\n",
    "        v_neg = self.embeddings_out(neg_context_words)\n",
    "        \n",
    "        pos_scores = (torch.sum(v_in * v_out, dim=1))\n",
    "        neg_scores = (torch.bmm(v_neg, v_in.unsqueeze(2)).squeeze(2)) #.sum(1) # bmm - батчевое (по 2D-матричное) перемножение матриц\n",
    "        return pos_scores, neg_scores"
   ]
  },
  {
   "cell_type": "code",
   "execution_count": 24,
   "id": "14679140-c3ed-4224-b08d-a07db11ca9c6",
   "metadata": {},
   "outputs": [],
   "source": [
    "device = torch.device(\"cpu\")"
   ]
  },
  {
   "cell_type": "markdown",
   "id": "a4d159c8-4ac6-4aab-aa40-2713106bd604",
   "metadata": {},
   "source": [
    "Воспользуемся преимуществами API Pytorch: используем [`DataLoader`](https://docs.pytorch.org/docs/stable/data.html#torch.utils.data.DataLoader), для многократного ускорения обучения"
   ]
  },
  {
   "cell_type": "code",
   "execution_count": 25,
   "id": "d0ddfb0e-a436-469a-9738-d19e057675af",
   "metadata": {},
   "outputs": [],
   "source": [
    "from torch.utils.data import Dataset, DataLoader\n",
    "\n",
    "class Word2VecDataset(Dataset):\n",
    "    def __init__(self, data):\n",
    "        self.data = data\n",
    "\n",
    "    def __len__(self):\n",
    "        return len(self.data)\n",
    "\n",
    "    def __getitem__(self, idx):\n",
    "        return self.data[idx]\n",
    "\n",
    "dataset = Word2VecDataset(context_pairs)\n",
    "dataloader = DataLoader(dataset, batch_size=5000, shuffle=True)"
   ]
  },
  {
   "cell_type": "code",
   "execution_count": 40,
   "id": "cbe2bc41-cdda-43a0-af93-7006c33cce9f",
   "metadata": {},
   "outputs": [],
   "source": [
    "vocab_size = len(word_to_index)\n",
    "embedding_dim = 32\n",
    "num_negatives = 15\n",
    "\n",
    "model = SkipGramModelWithNegSampling(vocab_size, embedding_dim).to(device)\n",
    "optimizer = optim.Adam(model.parameters(), lr=0.05) # оптимизатор параметров методом Adam\n",
    "lr_scheduler = ReduceLROnPlateau(optimizer, factor=0.5, patience=30) # штука, которая будет уполовинивать (* factor = 1/2) lr при отсутствии улучшений в течение 150 эпох\n",
    "criterion = nn.BCEWithLogitsLoss() # тот самый лосс, похож на логлосс"
   ]
  },
  {
   "cell_type": "code",
   "execution_count": 41,
   "id": "d2cce8e6-3c9c-49bc-aae3-34def989723f",
   "metadata": {},
   "outputs": [],
   "source": [
    "# проверяем корректность параметров модели (nn.Linear не нужны)\n",
    "params_counter = 0\n",
    "for weights in model.parameters():\n",
    "    params_counter += weights.shape.numel()\n",
    "assert params_counter == len(word_to_index) * embedding_dim * 2"
   ]
  },
  {
   "cell_type": "code",
   "execution_count": 42,
   "id": "b5c08107-e452-49ed-8a9b-150fdfa6b16e",
   "metadata": {},
   "outputs": [],
   "source": [
    "def get_negative_samples(\n",
    "    n_smpl,\n",
    "    negative_sampling_prob_array,\n",
    "    num_negatives,\n",
    "):\n",
    "    return np.random.choice(\n",
    "                range(n_smpl),\n",
    "                size=num_negatives,\n",
    "                p=negative_sampling_prob_array,\n",
    "            )"
   ]
  },
  {
   "cell_type": "code",
   "execution_count": 43,
   "id": "b8727b84-8f69-4d37-9c38-ef15d2380cdc",
   "metadata": {},
   "outputs": [],
   "source": [
    "def train_skipgram_with_neg_sampling(\n",
    "    model,\n",
    "    context_pairs,\n",
    "    keep_prob_array,\n",
    "    word_to_index,\n",
    "    batch_size,\n",
    "    num_negatives,\n",
    "    negative_sampling_prob_array,\n",
    "    epohs,\n",
    "    steps,\n",
    "    optimizer=optimizer,\n",
    "    lr_scheduler=lr_scheduler,\n",
    "    device=device,\n",
    "    \n",
    "):\n",
    "    pos_labels = torch.ones(batch_size).to(device)\n",
    "    neg_labels = torch.zeros(batch_size, num_negatives).to(device)\n",
    "    loss_history = []\n",
    "    step = 0\n",
    "    n_smpl = len(negative_sampling_prob_array)\n",
    "    for epoh in tqdma(range(epohs)):\n",
    "        if step > steps:\n",
    "            break\n",
    "        for target, context in dataloader:\n",
    "            if step > steps:\n",
    "                break\n",
    "            center_words = target.long() # \n",
    "            pos_context_words = context.long()\n",
    "            neg_context_words = torch.LongTensor(np.array([get_negative_samples(n_smpl, negative_sampling_prob_array, num_negatives) for t in center_words]))\n",
    "            optimizer.zero_grad()\n",
    "            pos_scores, neg_scores = model(\n",
    "                center_words, pos_context_words, neg_context_words\n",
    "            )\n",
    "            loss_pos = criterion(pos_scores, pos_labels)\n",
    "            loss_neg = criterion(neg_scores, neg_labels)\n",
    "    \n",
    "            loss = loss_pos + loss_neg\n",
    "            loss.backward()\n",
    "            optimizer.step()\n",
    "    \n",
    "            loss_history.append(loss.item())\n",
    "            lr_scheduler.step(loss_history[-1])\n",
    "\n",
    "            if step % 10 == 0:\n",
    "                print(\n",
    "                    f\"Step {step}, Loss: {np.mean(loss_history[-10:])}, learning rate: {lr_scheduler._last_lr}\"\n",
    "                )\n",
    "            step += 1"
   ]
  },
  {
   "cell_type": "code",
   "execution_count": 49,
   "id": "e5e91096-5413-4ead-b9ac-7809e536cc36",
   "metadata": {},
   "outputs": [
    {
     "data": {
      "application/vnd.jupyter.widget-view+json": {
       "model_id": "16e8e3ffacb64caf94d28b5b24b63a3f",
       "version_major": 2,
       "version_minor": 0
      },
      "text/plain": [
       "  0%|          | 0/5 [00:00<?, ?it/s]"
      ]
     },
     "metadata": {},
     "output_type": "display_data"
    },
    {
     "name": "stdout",
     "output_type": "stream",
     "text": [
      "Step 0, Loss: 1.2087421417236328, learning rate: [0.00625]\n",
      "Step 10, Loss: 1.209468710422516, learning rate: [0.00625]\n",
      "Step 20, Loss: 1.212858831882477, learning rate: [0.00625]\n",
      "Step 30, Loss: 1.2110777854919434, learning rate: [0.00625]\n",
      "Step 40, Loss: 1.2062019944190978, learning rate: [0.00625]\n",
      "Step 50, Loss: 1.202225649356842, learning rate: [0.00625]\n",
      "Step 60, Loss: 1.2049126505851746, learning rate: [0.00625]\n",
      "Step 70, Loss: 1.2037643432617187, learning rate: [0.00625]\n",
      "Step 80, Loss: 1.2017034649848939, learning rate: [0.003125]\n",
      "Step 90, Loss: 1.2031516790390016, learning rate: [0.003125]\n",
      "Step 100, Loss: 1.200639808177948, learning rate: [0.003125]\n",
      "Step 110, Loss: 1.2014903545379638, learning rate: [0.003125]\n",
      "Step 120, Loss: 1.2050774931907653, learning rate: [0.003125]\n",
      "Step 130, Loss: 1.1974157094955444, learning rate: [0.0015625]\n",
      "Step 140, Loss: 1.1950206637382508, learning rate: [0.0015625]\n",
      "Step 150, Loss: 1.198791217803955, learning rate: [0.0015625]\n",
      "Step 160, Loss: 1.1968747138977052, learning rate: [0.00078125]\n",
      "Step 170, Loss: 1.1943223118782043, learning rate: [0.00078125]\n",
      "Step 180, Loss: 1.198690414428711, learning rate: [0.00078125]\n",
      "Step 190, Loss: 1.1969553709030152, learning rate: [0.000390625]\n",
      "Step 200, Loss: 1.1970625400543213, learning rate: [0.000390625]\n",
      "Step 210, Loss: 1.1931134343147278, learning rate: [0.000390625]\n",
      "Step 220, Loss: 1.1921709060668946, learning rate: [0.0001953125]\n",
      "Step 230, Loss: 1.1921316146850587, learning rate: [0.0001953125]\n",
      "Step 240, Loss: 1.1964914917945861, learning rate: [0.0001953125]\n",
      "Step 250, Loss: 1.1938341021537782, learning rate: [9.765625e-05]\n",
      "Step 260, Loss: 1.1948260545730591, learning rate: [9.765625e-05]\n",
      "Step 270, Loss: 1.1965975761413574, learning rate: [9.765625e-05]\n",
      "Step 280, Loss: 1.1967473030090332, learning rate: [9.765625e-05]\n",
      "Step 290, Loss: 1.1949607849121093, learning rate: [9.765625e-05]\n",
      "Step 300, Loss: 1.1972273588180542, learning rate: [4.8828125e-05]\n"
     ]
    }
   ],
   "source": [
    "steps = 300\n",
    "batch_size = 5000\n",
    "epohs = 5\n",
    "train_skipgram_with_neg_sampling(\n",
    "    model,\n",
    "    context_pairs,\n",
    "    keep_prob_array,\n",
    "    word_to_index,\n",
    "    batch_size,\n",
    "    num_negatives,\n",
    "    negative_sampling_prob_array,\n",
    "    epohs,\n",
    "    steps,\n",
    ")"
   ]
  },
  {
   "cell_type": "code",
   "execution_count": 50,
   "id": "43f088e2-4f05-4199-965d-16184b00d870",
   "metadata": {},
   "outputs": [],
   "source": [
    "_model_parameters = model.parameters()\n",
    "embedding_matrix_center = next(\n",
    "    _model_parameters\n",
    ").detach()  # Assuming that first matrix was for central word\n",
    "embedding_matrix_context = next(\n",
    "    _model_parameters\n",
    ").detach()  # Assuming that second matrix was for context word"
   ]
  },
  {
   "cell_type": "code",
   "execution_count": 51,
   "id": "b5a02862-6699-41df-a5c4-f11c7652d57d",
   "metadata": {},
   "outputs": [],
   "source": [
    "def get_word_vector(word, embedding_matrix, word_to_index=word_to_index):\n",
    "    return embedding_matrix[word_to_index[word]]"
   ]
  },
  {
   "cell_type": "markdown",
   "id": "b5e91c3e-1c2c-4035-a23f-7159541ea9b6",
   "metadata": {},
   "source": [
    "Проверки"
   ]
  },
  {
   "cell_type": "code",
   "execution_count": 52,
   "id": "35948ac6-389d-46d9-9da3-4c2a5d0e578c",
   "metadata": {},
   "outputs": [],
   "source": [
    "similarity_1 = F.cosine_similarity(\n",
    "    get_word_vector(\"iphone\", embedding_matrix_context)[None, :],\n",
    "    get_word_vector(\"apple\", embedding_matrix_context)[None, :],\n",
    ")\n",
    "similarity_2 = F.cosine_similarity(\n",
    "    get_word_vector(\"iphone\", embedding_matrix_context)[None, :],\n",
    "    get_word_vector(\"dell\", embedding_matrix_context)[None, :],\n",
    ")\n",
    "assert similarity_1 > similarity_2"
   ]
  },
  {
   "cell_type": "code",
   "execution_count": null,
   "id": "a8afe214-d51b-400c-846f-d7920ea1a4b8",
   "metadata": {},
   "outputs": [],
   "source": [
    "similarity_1 = F.cosine_similarity(\n",
    "    get_word_vector(\"windows\", embedding_matrix_context)[None, :],\n",
    "    get_word_vector(\"laptop\", embedding_matrix_context)[None, :],\n",
    ")\n",
    "similarity_2 = F.cosine_similarity(\n",
    "    get_word_vector(\"windows\", embedding_matrix_context)[None, :],\n",
    "    get_word_vector(\"macbook\", embedding_matrix_context)[None, :],\n",
    ")\n",
    "assert similarity_1 > similarity_2"
   ]
  },
  {
   "cell_type": "markdown",
   "id": "1b289bbd-0e9d-4a7d-a60d-10c9be94ed8a",
   "metadata": {},
   "source": [
    "Посмотрим на ближайщие слова по косинусной мере"
   ]
  },
  {
   "cell_type": "code",
   "execution_count": 54,
   "id": "3ddc41d5-0486-454b-9635-2b2c134dd544",
   "metadata": {},
   "outputs": [],
   "source": [
    "def find_nearest(word, embedding_matrix, word_to_index=word_to_index, k=10):\n",
    "    word_vector = get_word_vector(word, embedding_matrix)[None, :]\n",
    "    dists = F.cosine_similarity(embedding_matrix, word_vector)\n",
    "    index_sorted = torch.argsort(dists)\n",
    "    top_k = index_sorted[-k:]\n",
    "    return [(index_to_word[x], dists[x].item()) for x in top_k.numpy()]"
   ]
  },
  {
   "cell_type": "code",
   "execution_count": 55,
   "id": "c2295830-ff48-45eb-8b7d-f2c93c54ee96",
   "metadata": {},
   "outputs": [
    {
     "data": {
      "text/plain": [
       "[('aspnet', 0.7178930044174194),\n",
       " ('backend', 0.7190329432487488),\n",
       " ('learning', 0.7227652072906494),\n",
       " ('programming', 0.7242833971977234),\n",
       " ('tool', 0.7321114540100098),\n",
       " ('linux', 0.7323721647262573),\n",
       " ('java', 0.7537800073623657),\n",
       " ('c', 0.7770878076553345),\n",
       " ('javascript', 0.7932676672935486),\n",
       " ('python', 0.9999998807907104)]"
      ]
     },
     "execution_count": 55,
     "metadata": {},
     "output_type": "execute_result"
    }
   ],
   "source": [
    "find_nearest(\"python\", embedding_matrix_context, k=10)"
   ]
  },
  {
   "cell_type": "markdown",
   "id": "bda271f9-a1d6-4793-8a2e-515fb6a4586f",
   "metadata": {},
   "source": [
    "Визуализация"
   ]
  },
  {
   "cell_type": "code",
   "execution_count": 56,
   "id": "29435dca-0355-438c-acd9-836ec8fd0cb1",
   "metadata": {},
   "outputs": [],
   "source": [
    "top_k = 5000\n",
    "_top_words = sorted([x for x in word_count_dict.items()], key=lambda x: x[1])[\n",
    "    -top_k - 100 : -100\n",
    "]  # ignoring 100 most frequent words\n",
    "top_words = [x[0] for x in _top_words]\n",
    "del _top_words"
   ]
  },
  {
   "cell_type": "code",
   "execution_count": 57,
   "id": "fb8b02bc-64c2-406b-9d3f-21ae3be9c0d2",
   "metadata": {},
   "outputs": [],
   "source": [
    "word_embeddings = torch.cat(\n",
    "    [embedding_matrix_context[word_to_index[x]][None, :] for x in top_words], dim=0\n",
    ").numpy()"
   ]
  },
  {
   "cell_type": "code",
   "execution_count": 58,
   "id": "6ce5adae-6c9c-43ea-b1ec-72e584cba28c",
   "metadata": {},
   "outputs": [
    {
     "data": {
      "text/html": [
       "    <style>\n",
       "        .bk-notebook-logo {\n",
       "            display: block;\n",
       "            width: 20px;\n",
       "            height: 20px;\n",
       "            background-image: url(data:image/png;base64,iVBORw0KGgoAAAANSUhEUgAAABQAAAAUCAYAAACNiR0NAAAABHNCSVQICAgIfAhkiAAAAAlwSFlzAAALEgAACxIB0t1+/AAAABx0RVh0U29mdHdhcmUAQWRvYmUgRmlyZXdvcmtzIENTNui8sowAAAOkSURBVDiNjZRtaJVlGMd/1/08zzln5zjP1LWcU9N0NkN8m2CYjpgQYQXqSs0I84OLIC0hkEKoPtiH3gmKoiJDU7QpLgoLjLIQCpEsNJ1vqUOdO7ppbuec5+V+rj4ctwzd8IIbbi6u+8f1539dt3A78eXC7QizUF7gyV1fD1Yqg4JWz84yffhm0qkFqBogB9rM8tZdtwVsPUhWhGcFJngGeWrPzHm5oaMmkfEg1usvLFyc8jLRqDOMru7AyC8saQr7GG7f5fvDeH7Ej8CM66nIF+8yngt6HWaKh7k49Soy9nXurCi1o3qUbS3zWfrYeQDTB/Qj6kX6Ybhw4B+bOYoLKCC9H3Nu/leUTZ1JdRWkkn2ldcCamzrcf47KKXdAJllSlxAOkRgyHsGC/zRday5Qld9DyoM4/q/rUoy/CXh3jzOu3bHUVZeU+DEn8FInkPBFlu3+nW3Nw0mk6vCDiWg8CeJaxEwuHS3+z5RgY+YBR6V1Z1nxSOfoaPa4LASWxxdNp+VWTk7+4vzaou8v8PN+xo+KY2xsw6une2frhw05CTYOmQvsEhjhWjn0bmXPjpE1+kplmmkP3suftwTubK9Vq22qKmrBhpY4jvd5afdRA3wGjFAgcnTK2s4hY0/GPNIb0nErGMCRxWOOX64Z8RAC4oCXdklmEvcL8o0BfkNK4lUg9HTl+oPlQxdNo3Mg4Nv175e/1LDGzZen30MEjRUtmXSfiTVu1kK8W4txyV6BMKlbgk3lMwYCiusNy9fVfvvwMxv8Ynl6vxoByANLTWplvuj/nF9m2+PDtt1eiHPBr1oIfhCChQMBw6Aw0UulqTKZdfVvfG7VcfIqLG9bcldL/+pdWTLxLUy8Qq38heUIjh4XlzZxzQm19lLFlr8vdQ97rjZVOLf8nclzckbcD4wxXMidpX30sFd37Fv/GtwwhzhxGVAprjbg0gCAEeIgwCZyTV2Z1REEW8O4py0wsjeloKoMr6iCY6dP92H6Vw/oTyICIthibxjm/DfN9lVz8IqtqKYLUXfoKVMVQVVJOElGjrnnUt9T9wbgp8AyYKaGlqingHZU/uG2NTZSVqwHQTWkx9hxjkpWDaCg6Ckj5qebgBVbT3V3NNXMSiWSDdGV3hrtzla7J+duwPOToIg42ChPQOQjspnSlp1V+Gjdged7+8UN5CRAV7a5EdFNwCjEaBR27b3W890TE7g24NAP/mMDXRWrGoFPQI9ls/MWO2dWFAar/xcOIImbbpA3zgAAAABJRU5ErkJggg==);\n",
       "        }\n",
       "    </style>\n",
       "    <div>\n",
       "        <a href=\"https://bokeh.org\" target=\"_blank\" class=\"bk-notebook-logo\"></a>\n",
       "        <span id=\"fd4a924e-6fe5-47a0-a73f-2369b980c448\">Loading BokehJS ...</span>\n",
       "    </div>\n"
      ]
     },
     "metadata": {},
     "output_type": "display_data"
    },
    {
     "data": {
      "application/javascript": [
       "'use strict';\n",
       "(function(root) {\n",
       "  function now() {\n",
       "    return new Date();\n",
       "  }\n",
       "\n",
       "  const force = true;\n",
       "\n",
       "  if (typeof root._bokeh_onload_callbacks === \"undefined\" || force === true) {\n",
       "    root._bokeh_onload_callbacks = [];\n",
       "    root._bokeh_is_loading = undefined;\n",
       "  }\n",
       "\n",
       "const JS_MIME_TYPE = 'application/javascript';\n",
       "  const HTML_MIME_TYPE = 'text/html';\n",
       "  const EXEC_MIME_TYPE = 'application/vnd.bokehjs_exec.v0+json';\n",
       "  const CLASS_NAME = 'output_bokeh rendered_html';\n",
       "\n",
       "  /**\n",
       "   * Render data to the DOM node\n",
       "   */\n",
       "  function render(props, node) {\n",
       "    const script = document.createElement(\"script\");\n",
       "    node.appendChild(script);\n",
       "  }\n",
       "\n",
       "  /**\n",
       "   * Handle when an output is cleared or removed\n",
       "   */\n",
       "  function handleClearOutput(event, handle) {\n",
       "    function drop(id) {\n",
       "      const view = Bokeh.index.get_by_id(id)\n",
       "      if (view != null) {\n",
       "        view.model.document.clear()\n",
       "        Bokeh.index.delete(view)\n",
       "      }\n",
       "    }\n",
       "\n",
       "    const cell = handle.cell;\n",
       "\n",
       "    const id = cell.output_area._bokeh_element_id;\n",
       "    const server_id = cell.output_area._bokeh_server_id;\n",
       "\n",
       "    // Clean up Bokeh references\n",
       "    if (id != null) {\n",
       "      drop(id)\n",
       "    }\n",
       "\n",
       "    if (server_id !== undefined) {\n",
       "      // Clean up Bokeh references\n",
       "      const cmd_clean = \"from bokeh.io.state import curstate; print(curstate().uuid_to_server['\" + server_id + \"'].get_sessions()[0].document.roots[0]._id)\";\n",
       "      cell.notebook.kernel.execute(cmd_clean, {\n",
       "        iopub: {\n",
       "          output: function(msg) {\n",
       "            const id = msg.content.text.trim()\n",
       "            drop(id)\n",
       "          }\n",
       "        }\n",
       "      });\n",
       "      // Destroy server and session\n",
       "      const cmd_destroy = \"import bokeh.io.notebook as ion; ion.destroy_server('\" + server_id + \"')\";\n",
       "      cell.notebook.kernel.execute(cmd_destroy);\n",
       "    }\n",
       "  }\n",
       "\n",
       "  /**\n",
       "   * Handle when a new output is added\n",
       "   */\n",
       "  function handleAddOutput(event, handle) {\n",
       "    const output_area = handle.output_area;\n",
       "    const output = handle.output;\n",
       "\n",
       "    // limit handleAddOutput to display_data with EXEC_MIME_TYPE content only\n",
       "    if ((output.output_type != \"display_data\") || (!Object.prototype.hasOwnProperty.call(output.data, EXEC_MIME_TYPE))) {\n",
       "      return\n",
       "    }\n",
       "\n",
       "    const toinsert = output_area.element.find(\".\" + CLASS_NAME.split(' ')[0]);\n",
       "\n",
       "    if (output.metadata[EXEC_MIME_TYPE][\"id\"] !== undefined) {\n",
       "      toinsert[toinsert.length - 1].firstChild.textContent = output.data[JS_MIME_TYPE];\n",
       "      // store reference to embed id on output_area\n",
       "      output_area._bokeh_element_id = output.metadata[EXEC_MIME_TYPE][\"id\"];\n",
       "    }\n",
       "    if (output.metadata[EXEC_MIME_TYPE][\"server_id\"] !== undefined) {\n",
       "      const bk_div = document.createElement(\"div\");\n",
       "      bk_div.innerHTML = output.data[HTML_MIME_TYPE];\n",
       "      const script_attrs = bk_div.children[0].attributes;\n",
       "      for (let i = 0; i < script_attrs.length; i++) {\n",
       "        toinsert[toinsert.length - 1].firstChild.setAttribute(script_attrs[i].name, script_attrs[i].value);\n",
       "        toinsert[toinsert.length - 1].firstChild.textContent = bk_div.children[0].textContent\n",
       "      }\n",
       "      // store reference to server id on output_area\n",
       "      output_area._bokeh_server_id = output.metadata[EXEC_MIME_TYPE][\"server_id\"];\n",
       "    }\n",
       "  }\n",
       "\n",
       "  function register_renderer(events, OutputArea) {\n",
       "\n",
       "    function append_mime(data, metadata, element) {\n",
       "      // create a DOM node to render to\n",
       "      const toinsert = this.create_output_subarea(\n",
       "        metadata,\n",
       "        CLASS_NAME,\n",
       "        EXEC_MIME_TYPE\n",
       "      );\n",
       "      this.keyboard_manager.register_events(toinsert);\n",
       "      // Render to node\n",
       "      const props = {data: data, metadata: metadata[EXEC_MIME_TYPE]};\n",
       "      render(props, toinsert[toinsert.length - 1]);\n",
       "      element.append(toinsert);\n",
       "      return toinsert\n",
       "    }\n",
       "\n",
       "    /* Handle when an output is cleared or removed */\n",
       "    events.on('clear_output.CodeCell', handleClearOutput);\n",
       "    events.on('delete.Cell', handleClearOutput);\n",
       "\n",
       "    /* Handle when a new output is added */\n",
       "    events.on('output_added.OutputArea', handleAddOutput);\n",
       "\n",
       "    /**\n",
       "     * Register the mime type and append_mime function with output_area\n",
       "     */\n",
       "    OutputArea.prototype.register_mime_type(EXEC_MIME_TYPE, append_mime, {\n",
       "      /* Is output safe? */\n",
       "      safe: true,\n",
       "      /* Index of renderer in `output_area.display_order` */\n",
       "      index: 0\n",
       "    });\n",
       "  }\n",
       "\n",
       "  // register the mime type if in Jupyter Notebook environment and previously unregistered\n",
       "  if (root.Jupyter !== undefined) {\n",
       "    const events = require('base/js/events');\n",
       "    const OutputArea = require('notebook/js/outputarea').OutputArea;\n",
       "\n",
       "    if (OutputArea.prototype.mime_types().indexOf(EXEC_MIME_TYPE) == -1) {\n",
       "      register_renderer(events, OutputArea);\n",
       "    }\n",
       "  }\n",
       "  if (typeof (root._bokeh_timeout) === \"undefined\" || force === true) {\n",
       "    root._bokeh_timeout = Date.now() + 5000;\n",
       "    root._bokeh_failed_load = false;\n",
       "  }\n",
       "\n",
       "  const NB_LOAD_WARNING = {'data': {'text/html':\n",
       "     \"<div style='background-color: #fdd'>\\n\"+\n",
       "     \"<p>\\n\"+\n",
       "     \"BokehJS does not appear to have successfully loaded. If loading BokehJS from CDN, this \\n\"+\n",
       "     \"may be due to a slow or bad network connection. Possible fixes:\\n\"+\n",
       "     \"</p>\\n\"+\n",
       "     \"<ul>\\n\"+\n",
       "     \"<li>re-rerun `output_notebook()` to attempt to load from CDN again, or</li>\\n\"+\n",
       "     \"<li>use INLINE resources instead, as so:</li>\\n\"+\n",
       "     \"</ul>\\n\"+\n",
       "     \"<code>\\n\"+\n",
       "     \"from bokeh.resources import INLINE\\n\"+\n",
       "     \"output_notebook(resources=INLINE)\\n\"+\n",
       "     \"</code>\\n\"+\n",
       "     \"</div>\"}};\n",
       "\n",
       "  function display_loaded(error = null) {\n",
       "    const el = document.getElementById(\"fd4a924e-6fe5-47a0-a73f-2369b980c448\");\n",
       "    if (el != null) {\n",
       "      const html = (() => {\n",
       "        if (typeof root.Bokeh === \"undefined\") {\n",
       "          if (error == null) {\n",
       "            return \"BokehJS is loading ...\";\n",
       "          } else {\n",
       "            return \"BokehJS failed to load.\";\n",
       "          }\n",
       "        } else {\n",
       "          const prefix = `BokehJS ${root.Bokeh.version}`;\n",
       "          if (error == null) {\n",
       "            return `${prefix} successfully loaded.`;\n",
       "          } else {\n",
       "            return `${prefix} <b>encountered errors</b> while loading and may not function as expected.`;\n",
       "          }\n",
       "        }\n",
       "      })();\n",
       "      el.innerHTML = html;\n",
       "\n",
       "      if (error != null) {\n",
       "        const wrapper = document.createElement(\"div\");\n",
       "        wrapper.style.overflow = \"auto\";\n",
       "        wrapper.style.height = \"5em\";\n",
       "        wrapper.style.resize = \"vertical\";\n",
       "        const content = document.createElement(\"div\");\n",
       "        content.style.fontFamily = \"monospace\";\n",
       "        content.style.whiteSpace = \"pre-wrap\";\n",
       "        content.style.backgroundColor = \"rgb(255, 221, 221)\";\n",
       "        content.textContent = error.stack ?? error.toString();\n",
       "        wrapper.append(content);\n",
       "        el.append(wrapper);\n",
       "      }\n",
       "    } else if (Date.now() < root._bokeh_timeout) {\n",
       "      setTimeout(() => display_loaded(error), 100);\n",
       "    }\n",
       "  }\n",
       "\n",
       "  function run_callbacks() {\n",
       "    try {\n",
       "      root._bokeh_onload_callbacks.forEach(function(callback) {\n",
       "        if (callback != null)\n",
       "          callback();\n",
       "      });\n",
       "    } finally {\n",
       "      delete root._bokeh_onload_callbacks\n",
       "    }\n",
       "    console.debug(\"Bokeh: all callbacks have finished\");\n",
       "  }\n",
       "\n",
       "  function load_libs(css_urls, js_urls, callback) {\n",
       "    if (css_urls == null) css_urls = [];\n",
       "    if (js_urls == null) js_urls = [];\n",
       "\n",
       "    root._bokeh_onload_callbacks.push(callback);\n",
       "    if (root._bokeh_is_loading > 0) {\n",
       "      console.debug(\"Bokeh: BokehJS is being loaded, scheduling callback at\", now());\n",
       "      return null;\n",
       "    }\n",
       "    if (js_urls == null || js_urls.length === 0) {\n",
       "      run_callbacks();\n",
       "      return null;\n",
       "    }\n",
       "    console.debug(\"Bokeh: BokehJS not loaded, scheduling load and callback at\", now());\n",
       "    root._bokeh_is_loading = css_urls.length + js_urls.length;\n",
       "\n",
       "    function on_load() {\n",
       "      root._bokeh_is_loading--;\n",
       "      if (root._bokeh_is_loading === 0) {\n",
       "        console.debug(\"Bokeh: all BokehJS libraries/stylesheets loaded\");\n",
       "        run_callbacks()\n",
       "      }\n",
       "    }\n",
       "\n",
       "    function on_error(url) {\n",
       "      console.error(\"failed to load \" + url);\n",
       "    }\n",
       "\n",
       "    for (let i = 0; i < css_urls.length; i++) {\n",
       "      const url = css_urls[i];\n",
       "      const element = document.createElement(\"link\");\n",
       "      element.onload = on_load;\n",
       "      element.onerror = on_error.bind(null, url);\n",
       "      element.rel = \"stylesheet\";\n",
       "      element.type = \"text/css\";\n",
       "      element.href = url;\n",
       "      console.debug(\"Bokeh: injecting link tag for BokehJS stylesheet: \", url);\n",
       "      document.body.appendChild(element);\n",
       "    }\n",
       "\n",
       "    for (let i = 0; i < js_urls.length; i++) {\n",
       "      const url = js_urls[i];\n",
       "      const element = document.createElement('script');\n",
       "      element.onload = on_load;\n",
       "      element.onerror = on_error.bind(null, url);\n",
       "      element.async = false;\n",
       "      element.src = url;\n",
       "      console.debug(\"Bokeh: injecting script tag for BokehJS library: \", url);\n",
       "      document.head.appendChild(element);\n",
       "    }\n",
       "  };\n",
       "\n",
       "  function inject_raw_css(css) {\n",
       "    const element = document.createElement(\"style\");\n",
       "    element.appendChild(document.createTextNode(css));\n",
       "    document.body.appendChild(element);\n",
       "  }\n",
       "\n",
       "  const js_urls = [\"https://cdn.bokeh.org/bokeh/release/bokeh-3.7.3.min.js\", \"https://cdn.bokeh.org/bokeh/release/bokeh-gl-3.7.3.min.js\", \"https://cdn.bokeh.org/bokeh/release/bokeh-widgets-3.7.3.min.js\", \"https://cdn.bokeh.org/bokeh/release/bokeh-tables-3.7.3.min.js\", \"https://cdn.bokeh.org/bokeh/release/bokeh-mathjax-3.7.3.min.js\"];\n",
       "  const css_urls = [];\n",
       "\n",
       "  const inline_js = [    function(Bokeh) {\n",
       "      Bokeh.set_log_level(\"info\");\n",
       "    },\n",
       "function(Bokeh) {\n",
       "    }\n",
       "  ];\n",
       "\n",
       "  function run_inline_js() {\n",
       "    if (root.Bokeh !== undefined || force === true) {\n",
       "      try {\n",
       "            for (let i = 0; i < inline_js.length; i++) {\n",
       "      inline_js[i].call(root, root.Bokeh);\n",
       "    }\n",
       "\n",
       "      } catch (error) {display_loaded(error);throw error;\n",
       "      }if (force === true) {\n",
       "        display_loaded();\n",
       "      }} else if (Date.now() < root._bokeh_timeout) {\n",
       "      setTimeout(run_inline_js, 100);\n",
       "    } else if (!root._bokeh_failed_load) {\n",
       "      console.log(\"Bokeh: BokehJS failed to load within specified timeout.\");\n",
       "      root._bokeh_failed_load = true;\n",
       "    } else if (force !== true) {\n",
       "      const cell = $(document.getElementById(\"fd4a924e-6fe5-47a0-a73f-2369b980c448\")).parents('.cell').data().cell;\n",
       "      cell.output_area.append_execute_result(NB_LOAD_WARNING)\n",
       "    }\n",
       "  }\n",
       "\n",
       "  if (root._bokeh_is_loading === 0) {\n",
       "    console.debug(\"Bokeh: BokehJS loaded, going straight to plotting\");\n",
       "    run_inline_js();\n",
       "  } else {\n",
       "    load_libs(css_urls, js_urls, function() {\n",
       "      console.debug(\"Bokeh: BokehJS plotting callback run at\", now());\n",
       "      run_inline_js();\n",
       "    });\n",
       "  }\n",
       "}(window));"
      ],
      "application/vnd.bokehjs_load.v0+json": "'use strict';\n(function(root) {\n  function now() {\n    return new Date();\n  }\n\n  const force = true;\n\n  if (typeof root._bokeh_onload_callbacks === \"undefined\" || force === true) {\n    root._bokeh_onload_callbacks = [];\n    root._bokeh_is_loading = undefined;\n  }\n\n\n  if (typeof (root._bokeh_timeout) === \"undefined\" || force === true) {\n    root._bokeh_timeout = Date.now() + 5000;\n    root._bokeh_failed_load = false;\n  }\n\n  const NB_LOAD_WARNING = {'data': {'text/html':\n     \"<div style='background-color: #fdd'>\\n\"+\n     \"<p>\\n\"+\n     \"BokehJS does not appear to have successfully loaded. If loading BokehJS from CDN, this \\n\"+\n     \"may be due to a slow or bad network connection. Possible fixes:\\n\"+\n     \"</p>\\n\"+\n     \"<ul>\\n\"+\n     \"<li>re-rerun `output_notebook()` to attempt to load from CDN again, or</li>\\n\"+\n     \"<li>use INLINE resources instead, as so:</li>\\n\"+\n     \"</ul>\\n\"+\n     \"<code>\\n\"+\n     \"from bokeh.resources import INLINE\\n\"+\n     \"output_notebook(resources=INLINE)\\n\"+\n     \"</code>\\n\"+\n     \"</div>\"}};\n\n  function display_loaded(error = null) {\n    const el = document.getElementById(\"fd4a924e-6fe5-47a0-a73f-2369b980c448\");\n    if (el != null) {\n      const html = (() => {\n        if (typeof root.Bokeh === \"undefined\") {\n          if (error == null) {\n            return \"BokehJS is loading ...\";\n          } else {\n            return \"BokehJS failed to load.\";\n          }\n        } else {\n          const prefix = `BokehJS ${root.Bokeh.version}`;\n          if (error == null) {\n            return `${prefix} successfully loaded.`;\n          } else {\n            return `${prefix} <b>encountered errors</b> while loading and may not function as expected.`;\n          }\n        }\n      })();\n      el.innerHTML = html;\n\n      if (error != null) {\n        const wrapper = document.createElement(\"div\");\n        wrapper.style.overflow = \"auto\";\n        wrapper.style.height = \"5em\";\n        wrapper.style.resize = \"vertical\";\n        const content = document.createElement(\"div\");\n        content.style.fontFamily = \"monospace\";\n        content.style.whiteSpace = \"pre-wrap\";\n        content.style.backgroundColor = \"rgb(255, 221, 221)\";\n        content.textContent = error.stack ?? error.toString();\n        wrapper.append(content);\n        el.append(wrapper);\n      }\n    } else if (Date.now() < root._bokeh_timeout) {\n      setTimeout(() => display_loaded(error), 100);\n    }\n  }\n\n  function run_callbacks() {\n    try {\n      root._bokeh_onload_callbacks.forEach(function(callback) {\n        if (callback != null)\n          callback();\n      });\n    } finally {\n      delete root._bokeh_onload_callbacks\n    }\n    console.debug(\"Bokeh: all callbacks have finished\");\n  }\n\n  function load_libs(css_urls, js_urls, callback) {\n    if (css_urls == null) css_urls = [];\n    if (js_urls == null) js_urls = [];\n\n    root._bokeh_onload_callbacks.push(callback);\n    if (root._bokeh_is_loading > 0) {\n      console.debug(\"Bokeh: BokehJS is being loaded, scheduling callback at\", now());\n      return null;\n    }\n    if (js_urls == null || js_urls.length === 0) {\n      run_callbacks();\n      return null;\n    }\n    console.debug(\"Bokeh: BokehJS not loaded, scheduling load and callback at\", now());\n    root._bokeh_is_loading = css_urls.length + js_urls.length;\n\n    function on_load() {\n      root._bokeh_is_loading--;\n      if (root._bokeh_is_loading === 0) {\n        console.debug(\"Bokeh: all BokehJS libraries/stylesheets loaded\");\n        run_callbacks()\n      }\n    }\n\n    function on_error(url) {\n      console.error(\"failed to load \" + url);\n    }\n\n    for (let i = 0; i < css_urls.length; i++) {\n      const url = css_urls[i];\n      const element = document.createElement(\"link\");\n      element.onload = on_load;\n      element.onerror = on_error.bind(null, url);\n      element.rel = \"stylesheet\";\n      element.type = \"text/css\";\n      element.href = url;\n      console.debug(\"Bokeh: injecting link tag for BokehJS stylesheet: \", url);\n      document.body.appendChild(element);\n    }\n\n    for (let i = 0; i < js_urls.length; i++) {\n      const url = js_urls[i];\n      const element = document.createElement('script');\n      element.onload = on_load;\n      element.onerror = on_error.bind(null, url);\n      element.async = false;\n      element.src = url;\n      console.debug(\"Bokeh: injecting script tag for BokehJS library: \", url);\n      document.head.appendChild(element);\n    }\n  };\n\n  function inject_raw_css(css) {\n    const element = document.createElement(\"style\");\n    element.appendChild(document.createTextNode(css));\n    document.body.appendChild(element);\n  }\n\n  const js_urls = [\"https://cdn.bokeh.org/bokeh/release/bokeh-3.7.3.min.js\", \"https://cdn.bokeh.org/bokeh/release/bokeh-gl-3.7.3.min.js\", \"https://cdn.bokeh.org/bokeh/release/bokeh-widgets-3.7.3.min.js\", \"https://cdn.bokeh.org/bokeh/release/bokeh-tables-3.7.3.min.js\", \"https://cdn.bokeh.org/bokeh/release/bokeh-mathjax-3.7.3.min.js\"];\n  const css_urls = [];\n\n  const inline_js = [    function(Bokeh) {\n      Bokeh.set_log_level(\"info\");\n    },\nfunction(Bokeh) {\n    }\n  ];\n\n  function run_inline_js() {\n    if (root.Bokeh !== undefined || force === true) {\n      try {\n            for (let i = 0; i < inline_js.length; i++) {\n      inline_js[i].call(root, root.Bokeh);\n    }\n\n      } catch (error) {display_loaded(error);throw error;\n      }if (force === true) {\n        display_loaded();\n      }} else if (Date.now() < root._bokeh_timeout) {\n      setTimeout(run_inline_js, 100);\n    } else if (!root._bokeh_failed_load) {\n      console.log(\"Bokeh: BokehJS failed to load within specified timeout.\");\n      root._bokeh_failed_load = true;\n    } else if (force !== true) {\n      const cell = $(document.getElementById(\"fd4a924e-6fe5-47a0-a73f-2369b980c448\")).parents('.cell').data().cell;\n      cell.output_area.append_execute_result(NB_LOAD_WARNING)\n    }\n  }\n\n  if (root._bokeh_is_loading === 0) {\n    console.debug(\"Bokeh: BokehJS loaded, going straight to plotting\");\n    run_inline_js();\n  } else {\n    load_libs(css_urls, js_urls, function() {\n      console.debug(\"Bokeh: BokehJS plotting callback run at\", now());\n      run_inline_js();\n    });\n  }\n}(window));"
     },
     "metadata": {},
     "output_type": "display_data"
    }
   ],
   "source": [
    "import bokeh.models as bm\n",
    "import bokeh.plotting as pl\n",
    "from bokeh.io import output_notebook\n",
    "\n",
    "output_notebook()\n",
    "\n",
    "\n",
    "def draw_vectors(\n",
    "    x,\n",
    "    y,\n",
    "    radius=10,\n",
    "    alpha=0.25,\n",
    "    color=\"blue\",\n",
    "    width=600,\n",
    "    height=400,\n",
    "    show=True,\n",
    "    **kwargs,\n",
    "):\n",
    "    \"\"\"draws an interactive plot for data points with auxilirary info on hover\"\"\"\n",
    "    if isinstance(color, str):\n",
    "        color = [color] * len(x)\n",
    "    data_source = bm.ColumnDataSource({\"x\": x, \"y\": y, \"color\": color, **kwargs})\n",
    "\n",
    "    fig = pl.figure(active_scroll=\"wheel_zoom\", width=width, height=height)\n",
    "    fig.scatter(\"x\", \"y\", size=radius, color=\"color\", alpha=alpha, source=data_source)\n",
    "\n",
    "    fig.add_tools(bm.HoverTool(tooltips=[(key, \"@\" + key) for key in kwargs.keys()]))\n",
    "    if show:\n",
    "        pl.show(fig)\n",
    "    return fig"
   ]
  },
  {
   "cell_type": "code",
   "execution_count": 59,
   "id": "5cb2a96a-d32b-4020-9949-90ad5991e4fb",
   "metadata": {},
   "outputs": [
    {
     "name": "stderr",
     "output_type": "stream",
     "text": [
      "/home/supnek/miniconda3/envs/ml/lib/python3.12/site-packages/sklearn/utils/deprecation.py:151: FutureWarning: 'force_all_finite' was renamed to 'ensure_all_finite' in 1.6 and will be removed in 1.8.\n",
      "  warnings.warn(\n"
     ]
    },
    {
     "data": {
      "text/html": [
       "\n",
       "  <div id=\"d6d009e4-09ee-44e4-862a-d00b3b00d34a\" data-root-id=\"p1006\" style=\"display: contents;\"></div>\n"
      ]
     },
     "metadata": {},
     "output_type": "display_data"
    },
    {
     "data": {
      "application/javascript": [
       "(function(root) {\n",
       "  function embed_document(root) {\n",
       "  const docs_json = {\"9d0938ec-910d-4f43-91c6-150bc41f1eb1\":{\"version\":\"3.7.3\",\"title\":\"Bokeh Application\",\"roots\":[{\"type\":\"object\",\"name\":\"Figure\",\"id\":\"p1006\",\"attributes\":{\"height\":400,\"x_range\":{\"type\":\"object\",\"name\":\"DataRange1d\",\"id\":\"p1007\"},\"y_range\":{\"type\":\"object\",\"name\":\"DataRange1d\",\"id\":\"p1008\"},\"x_scale\":{\"type\":\"object\",\"name\":\"LinearScale\",\"id\":\"p1015\"},\"y_scale\":{\"type\":\"object\",\"name\":\"LinearScale\",\"id\":\"p1016\"},\"title\":{\"type\":\"object\",\"name\":\"Title\",\"id\":\"p1013\"},\"renderers\":[{\"type\":\"object\",\"name\":\"GlyphRenderer\",\"id\":\"p1046\",\"attributes\":{\"data_source\":{\"type\":\"object\",\"name\":\"ColumnDataSource\",\"id\":\"p1003\",\"attributes\":{\"selected\":{\"type\":\"object\",\"name\":\"Selection\",\"id\":\"p1004\",\"attributes\":{\"indices\":[],\"line_indices\":[]}},\"selection_policy\":{\"type\":\"object\",\"name\":\"UnionRenderers\",\"id\":\"p1005\"},\"data\":{\"type\":\"map\",\"entries\":[[\"x\",{\"type\":\"ndarray\",\"array\":{\"type\":\"bytes\",\"data\":\"P8yEQKjsnED5Y7lAjPmWQCodZkAlblBArhODQA5wP0DR8e8/iyN8QOBwgUCTkcg/lrnbP2e4rECRRnBAD27sP6v7kUDy7nNAlI6zPyWu00D9h/A/OVbQQFjFhD9pol1ASr3QQFlQnD+04jtAigqJQAeq0j+0qj1A+8DJQLTkVUCdpBxAQeiAPzb0rkDZVQBAAm5YQLpTQECPtzlAdIyxQA9spUATmI1AkUksQFt2qkAsZpZAJfuVQGdfcEDFlaA/vP6WQJvIgb0S0Lw/ZU+PQLh1lUBroodABjtxQLWCrUBqfhlAEUndQBhg4D/cpS1AfSBBQFUao0CXOR5AppWSQJzqGEBVTXRA+BQQQCFhdUAkPYlApJc7QIMLYUA/loVAK49aQH9vsEAoNco/NyMkQNJpI0B88hg/nViCQAQNiUBB8MBAKYUgP5HlsD+YS84+byt2QP/qsUB8RUs/rbULQPf21j82fck+VKmEQMFPcEBTRt5AVrWuQMdCjkB59aZAJUKDQFmqT0CThFRACl1WQGXwGED8O1hA/maXP+fjEj+i92ZAVzS2QHznikAT/YhA38ikQPyNLT8yf5NAwv+aQCaSiUBtSpNAJaGsP/FimEDWW6VAhK+7QEbXbT8TvcxAs5k2QCpKlz85UhJA09mmP3iD5z/HmDpAQUtYQH+YbkBbenJAO221P6trh0C5iUZADDApQKNEpj+1mPk/ev2NQJR8okBWwhtAqhWvQI1qFEACgYlA/eXKP6RpM0BsgZJAQd3RQH6luz+deE5A67EgQCGWUUBS9IpA+95HQLwqlz/t6F5AlG5KQEW1+D8njWVApSWCQPY9kEAp988/QKlNQCSGez/n+O+9Iat6QJUOyEAlGrY/ep+WQA87lECzPFJAXQlRQKq/TkBYihRAlPKQQIj1WkDAiwpAJarUP80fPkBQk9NA4OOKQCvAHUAc+SRApzjBP+fUwkAWqpxAqeaOQGrL2kAJsyhALvtWQB/CYkD+FnZAXElmQEoTQEBjjqBAK4kHQK16CUBm3fU+7hBbQOvohD9eVlBASiX4P2qNPECzAqY/YdVOQCKvk0DNYuw/ytVjQLOphUAIWJhACjYDQDZhG0AheXtAku41QJ8niUDqGJs/06IOQCYHj0BftlxAKiYwQNLpMECRdkRAgH1KvQuKoEB5uihAqOQ4QP3Z0kCzBP8/qfnyPzSq2z+4tCw/aaKCP0YtmUBR9X9AF3DgQN2zrEBfKZZAH5RxPWJO8T/+PC5AUpU3QLkEuEAn1Jw/IcSTQGEuqT+z67RA72h0QC3cUkBeWt5AnqSlQN5He0BcqVtARPGOQMkrTUBQYYBA5xGhP0peAT/iRZVAVGEkQLoCqkBGfolAdcMnQCsmokAxg3xA7QwbP4yiaT9XsbE/NAzdP718CkDoaaNAi3e/QHXMGD+m6V5Apr/JQDyxmEABXJNArgRfQEHQTkByxY5AQSsJQHcso0BSbZM/ZtzgP8hjsUB+CJQ/KN10QDuBqj7a8Ao/7f2qQB/dUUCk7TVAw8qFQDnJTUDGf/Y/AB7SQPizwEDfuFBAmAecQKwBfUD9mohAeDqxP0+dUEDr/89ArB1cP7qQikAgOLhACluDQHri2kC9gUBATqkqPpVhhUCiQmI/EuenQHBtmEBX4WJA2YpfQMR3u0BbacFAaWdhQHuK7D9Jpo1A9hzHQDx9DT8dcZVAsfAsQNAAYUAj7jxACtCCQLS/Ez/ZA1NA1klwQBew9z/DLXxAkYmCQJY/cUCfW51AqYAOQN0iUj/tR6FAab01QH4Rq0ClE85AM/SDQAh9i0DLVfY/4RazQBitUz9MEIdAzj2eQMZe4z9LC2dAWk2GQE1d7T+j+p1AnWF9QBTaWkAHLppAN3+iQJzccUDFUFRAp6KDQOPtckA7HJJANsW7QGT0CkCSGoZAmEi5QFPNXUCH6jFA7bmMQIuTtUDe1E9AwKB0QKw8QEAIYqtAwSjbQOaDsj4cOIdAlcihQNXYs0DJtb0/3s+YQPCP20DlV8RANljhP5cbnUAFJltAakq4QIi6Lj9s2P0/0TW0QOH6gkC3uRg+4YegQPLai0COEJNATZ09QKI60kDIQaBA89XmP8zPlkCQ9LlASXufQPL+j0BIiG5AzRXDQLWh8z8M7ClAiVYtP3cFWEDnhltAzCyGQD9UrEDvlMtAcH6LQH10OEAbd0RAa7VzQC1XOEC1lng+WzjdP6W6gEDdw79AlTyOP75Jn0Cf2wRA2EWIQFKy5j8nDJBADFxYQAOeBj+jeHVAgvH6P6UbE0ACIwFAKj0VQKSohUAjfYVA/pdYQCH0iUDKuDBA/syPPzOygEBILyVAUSOWQFWm4z+SMJtAcdWrP5ClnEDoGLxA340+QOJlsT8EVjJAV51zQAciBj/YOMw/XgGFQMiwQEBALx5APNSJQB6xVUDaV0FAZ6G5QNx3V0ArNF1AVH2vP+jytz8oKw8+2YV+QDFFP0A3kQNAjz1DQPQ1a0Da/YFANiVBQBobgj/nHyk/WF7bQHeuYUCX1SVAIAXDPytizUD6mcZAzhx+QLmQeUAJFIw/4dkxQK8n9z/mjWJAhVuWQB20REAQeINACEL4P4dlpUD/V7o/n71aQG/1VkDDEMI/3/WMQCGWu0CQsQ1AuSa7QKEvYUCPEeA/v3aoQL/ZKEBZIwQ/eVVUQEet9T92IMpATb+QQEVgeUAygr9AunxvPhVkiUClVF9Ansy+QKgufEBIbSBAQxCCQNhcakCZRzVAwOxAQJ6WhUCyl91AX8dyPzBp9UDPxitANt1QQHN/5D8oX7xA5qa+QEmnhEDxMFFAVUBdQCJMd0CDIZFA4o5rQPwUI0DSp1NAso8LQGhEoUB4ZFRAcu8ZQOrQHkDE1ntAMYWIQIpETUB54ElAerl+QJe+nz+mQfFAIsaOQIWfR0AHbKpA2QnbP5k3gD2ay6tASoDzP6bJC0CNKklAot7PPxQ6FUBDhGRAdCFhQKB7T0BwGTxAVDpXQOvPRUAy6w9Atdf9Pi6xpEDilvpASdKQQO0zM0CtvYBAgIURQFEfoUAW/jpA3taAQGIn9D/iW4pAVmSEQC4gtED1k5pAtTrrPwNeoz95nXxAutuBQLb3PUC6b3VARrGKQDtQrUBhr4BAML7DQKRmiUBkFiJAPWW0PzFtC0DykBpAwTixQC5jXUDv+cRAENBLQCAJlEB1ctY+T+dWQPMWAUBYV65AO/74P34OUT93BoE/UI6oQE3Wh0CixyhArIP0P2aIdkDbGHNACS93QGIfTECoie0/J3DMP+6Pq0DUDYZAaSGfQDJmtECwJVRA4uEwQCnJnkDpQPM/dr0/QCCtKUAizsU/W9C+QAoHw0C29KdAZ+nGQEFShEAvsB29pv0bQMHDpUBGmQBASnNbQIpmG0DdgY9AZGrJP0hYjUBdul9AJSJRQF9cq0CFQ+w/6ju8QLiodkBVUYhAPhegQC45ej7QeV1ACIqLQGXUgkB3As4/VXvmP62JdUCxX3FAO8KcQGbrhUCmyu0/TsmfQDcyzj/hE5NA0n9dQLR9IT+ViFhAD/jOQCb4akAkPFdAsiPwP7/FjkD+WjpA96Z7QKVLhUD00Nk/7kc/PVbSh0BKySVAmtkuQMfcDkBxHRNAkDUCQD49vD9O0aNAkFq+QAHWu0D/z2NAjFxhQNcG5kADZCVATeftQAzUP0DGbDNADZwvP6bufUDD2cJAca+0QB0iqECgOXRAlqzMQLGTwD98yzdAlAwVQMQVUkDDvU1ACluFQEDxGUBdcBhAqbpHQFpyDkDxtrs/FCg3PwnSZkCgGI5AzAAxQIhXskBHGoxAxbbiP2qjVz/V7ZpAKbOCQDtYAUDHuZ1AjzqGQDqcs0CtAM5ALqWvQMPYKEC69n0/8u6JQAO13z/5y6BAaB7FQMI47j+HdpZAD54zQBGWS0AJEpNAGiCUQA/bhkASbXxAvMl2QHoDlUB0/3pAu6GVQIPvrEAyt7lAplBOQCjK1kBvEihAMcv0Pz5CeEDrwUlAIjOMPwzQpkDgSJBA14mQQG+8NkAWk4ZAPwYzQAyScz/Rw7ZA3tLiQLL6FUA03oM/dvnDQOpQt0Ccp4lA69GeQPAh2UBvPRBAID4JQPNkdUCDsiZA+4WCP5dTcUA+DadAtXWQQKCNJD/63iQ+gy0NQEzNhED5JItAp2yCP+Uro0CNBo9As1qAQFUB/T+vR1NA0UttQKkEhUBG1IBA9BmPQLPR70A5MzI/cejYQPWHe0DaspxA2aOXQHWYVkDsUxw/8gElQJla4D9Ob2RAMcTtPzFFTD+azIlA98gmQDLTxUAP1x5AS89DQNnZokDs494+c8zyPwaJXkAdapxALNlnQOEOeUBbgQc/+L17P/ib2j/HB1dAd5LQQFM0sUBNDLNA7seiQDtPa0AB3ZpA7HprQDtrc0AmMrxASOTMQHYPzUB5QsVAhL61QIxc6D951Cw/lpigQGZx10Dwr68/BlX1Pyw6cUCD2HVAFf82QEl3mEBEvJJAeCtHQF2HkEBnD8NABqtVQG59h0CtjKJAcvxWP7PWCUCweRVAvp2uP4pHgEBIDFJAinJEQOKR4kA1BVdAwTyZP3YEc0CW+MdAXZncQLRsm0ChQn5APLi+QHNerEDLs5hA7g0OvU+rRkArKW5AqMxZQKdNOj9l/olAYqetQPVIikAtMRNAQMcrQAXosj4LuVNAUEgeQL7avUDtnYxA+Qy0QEWyjkD5U41AYduNQItr+0BUAjNA0xMmQDxBnkBdDHRAFYiKQG5NnD/JB0w/T7lVQHLDsEC7HT1A5ZO0QOn1GD4FLJRAMm46QOPKc0CK7z1AFhS0QDCuiz8FoFVAfKwIQIkqlT+FcQJAHRvHQAoBf0A4eblAvafHQEHy4ECC70I/voygPxkupkDn3iNA67+yP3eKyz4JKgZARL3bQJnpiUCh6ypAYJiWQJQdoEA4k4BABWQUP9eko0DSBV08VuWEQG0RM0APUrlAaS0PPibo6UDS0JZACiyGQPf9rkAlN3JAgPsiQKoL/D/cPGM/ck7BQHhZykDCiqdAMTCYQNG6iD8UBmlA49GzQOisckBggtw/kYtlQBMLtz2K2zxAkBIpQNE/LkDcoZ0/esCQQPOQ3D9rAOxAgr/GQF5R/D/TFYBAW5KLQEAxHT9/dpM+BBa+QPMVKUDv1z5AzmKtPaCBGUCNqSRAKufeP1dwjUBe3pBAhBMOQEUvkUCmn9A+scqBQDpIfUDm4otAR+6tQFxSWECpZXlA4BorQJYcg0ASP0VAQ76CQDUO2ECWr5JAKOdmQI1PFUC6QBVAeWeXvXCAy0A6hZFA5r6+QPhSkkAleV1AR6aGQD9BH0DFv6NAnuuAPcTQIEC4U75A4nGgQN8ZXEDGn4dAjCqMQDnmP0Au+Ks/GpGsQH6mU0AGz6U//mINQKXSckCA+6Q/RaeUP625dkBrugBAXJo+QFzJnkCF+Io/u56UP137TEAZRRk/Ge6cQGJMz0DwLdg/1AmhQN6UlUAg4CxAmC5gQLIsDkAWiDdAdXlkQAsTjkDUg/NAd4fKP8YuSkCwe6xAinMIQOADb0BxBMNA7WDBQD5GhkByRp9Au7alQPdrIkAi36tAYeHAQDwcgEAMh1hA48SQQHykVkC1h7BA3RlaP8IFrkBBGphAl85LP85Vj0AD+4NACVxVQKEbEEBumMM/ipnJP310f0Aq0SlAxfCZQPR5JkB0RYJAXyNmQFkwTkBEleVA36WoP8jShEDW/1hACcKTQDZBpECOmoBAjXCiQEKOgEBqA3tAYm/qPwE1kkBqCxtAbnExP8ICVT86lGtAnvObP07vAUC8BQNACT3EP+ABgUDAM3lAJYCjQDIctUCxEjFA4IIrQGUOdj8cShtARit0QORpXEBMZWRAO1OgQPRXxT8H/gtAqAadQMLKxz/o9oRAbKSCQCV+pkAlV6RApr1LQHFo20AmxypA6ZeLQKC7pkBoohNA05YcQMOgiEAQjJQ/uqESQPQam0BkofY/m0mqQO/eKj8OPX1AhM4LQL7OJUCVtrVAumC0P0kuDkDdSrhA17qwQM4p8UBn/v8/Ej4SQETxaz8hA45AjdsGQAJvGT+L1bNAD/4WQBxcFj8+3LJApnHkQG5MR0B8Apc/OMVrQFpoqkAJEQlAQqxrQFcvlkCFFzBAg3snPx+Yf0C31U9AOeA8QKxHkUCjnX5ANTQhQHD0KEDwEcNAan+OQJi+NEAlMUNA3pfmPTk4ZEBNeiBAK79XQFrSvT/F0ctA5ox3QJ7ujkB46mRA9rW3QGWCAj8pVoVANTr9P81Sa0CFcDNAo/4xQM9CMEAHYGBAl10wQKCzmkBk8DxAGPCdQFZogECfBg1ApCOPQK2ttEDUIHo/NhiTQFtYFUD9oIQ/eEjgPyzqqT9qkqc/m8EcP3ce9T9QIfM+qWXMQGP8PkC6TAVAOtzmQBs0jkB2jWU/4BjCP1CcaUCpyg0/E+ORQNLSbUCWljRAJpmxQBIDMUCH+PI/NSxyvD6X8j9aJtxAcxucQCbma0D4KX1AdtyLQCYthkABzDdAa/SYvf9XukDFwxM+7pyRQCklfkB5ZdNApdYLQJpMrkCqL2VAR1QhQP5S1EAnCDxAWXToQGT5EkCa3oJA5DjHQGroOkBi2UVAotq1P32qS0DUQ78/nXdJQLyGMEC91E9AD2+pQDoypkBVCXNAICkVPgeEbUDGKTtAdUcbQHHju0DzPplA3xCuP8zZ/z/XpShAgubPQCPtY0A2moFAITu1P92hmz+PFVBAAn3AP9JegUDFgUNA40mAPw+BlkDt+B9AY3qCQOqSQ0DRtAlAdJODQOvV3T/ECLpAYHWEQBH7t0DA6p5AUHneQD8gKUBoq2JAKOG9QHB+fkBz/WNAEVJQP3YYJz4zVPk/8o0GQDWeVkCnlh9A4iAgQIPCd0BCjz5AnkX1P19sgEAAyVk/sR67QHJsZD/oNDdAWyIUQPPTSkCQx4RA+Q4dQGw5l0DJDHpA/C+xQLuZBEANi5ZA8TnqPwrlC0C9NuNAeOWPQPAWmkDo+pFAKrhXQArMcj84UtU//FmjQJbSSkDTDJlApmK4QCziqUCu8JRAOhyJQLMyq0COT69A2P+DQIHpwkBxd4BAt/juP7BCokBH7IFAHWIIQGf9I0C7uDNAFYZZQMT1lj/k/8lAkUOfP/tmYEBMLiFAnW8gQKEonEDebFI/3Sa2P8PVUEAsCKBAqv1fP/TKsUDpoTlA92z/P/r1vz9KA4E/BKneQNEyVz+E9C1Ak8RsQMF5XEB/y59AIcFhP+gcAkCPcmJAeTdEQILJZj+UIyhAVWWTQHJQSUC76FxAdaxdQDqfEECc6lpAB7FBQJDHML5mE1A/bZ+9QIOevEAoYklAkSwXQD4ZJ0C1FjpACk8KQJl2zT8a8nc/l6eyQJezeECGfWJA6UbhP37DNEBoQhZARsPqPygarz8oRZg/agaKQF8nh0AKrZdAkccHQDxdbUDHM6hA07EcQHpKfkCj13JA6j3IQHmBW0AgyUNA4QBjP1gqgkAfIE1AHrdEQKGNsEAfOaJA3LOqPzLsuj8SXpdAK6CeQOgJaUD3G74+A8AWQF4NIkDApVc/zkO2QIvqLkCnbqE/dsDFP/ZrZEC/cMM/8DcLPy8c0D/Rko5AUVZ0QB7YgT+ovS5AlR2HQFEnIUDHw8xAOw9rP1WSmkBOhD5AZuZaQOvXS0CAREpA4PcJQJJd1DoIXKJAuT9/QMJWG0DQYTJA4THvP2qgqUAU4ilAEt2VP6iTZkDQOpFAq6RqQCT0ekCAqI1AV7CkQBeXpUD0ZMVAvsBjQIDSij8MqRpAoymgQHyHxECelUlA1oZJQC+Um0Bl4xNA9v4XQI/OM0BMV39ACIwuP6mkaEDfT/8/9oTYP4XevECJI2tA5dUVQL4I/T8SvZ1AG6QdQO9XAkCrStJAKMn1P4E9eEAjIbVAA0UBP+eYSEA2qCVAnlKmQMkNb0BmOjhAc4ODPzVQ5zwesRVAYsCqP2LTNkAQ4TdACo0CQGGWGT/X4ow/680hQIcqokAtRwBAnxakQHVU9T7PyV1ARFYOQC1ZpD/bVdE+MjhcQLgLPUAEaZI/6LqdP9FuqEAWLuc/cbWDQI2lG0CuSQU/PyaBQGLIAUAuvZVAO566QKxYpUB1NJxA/FGjQPlWz0DPg5Y/+q4ZQFbOkECOfFRABwOfQGJX+z/15sc/gQEKQETBfT4fR/I/3SWQQORJckDZu9g/JqlZQCbqqECBj4NAn2z9P/5JoEDtGRM/w6w/QKpQNkB/dUpA3EdDQOPtwUD0o+E/F8VzQAn2xkC2Tpg/EAKMQDMF7kDAyTJAJh3oQABomEDUNntA7LN0QDkLhECOx19Ay/5NQEnslUDInJRAJ26FQFBd2T8t311AqelmPdUyxUCu4GhAMv9cQHifNkCqUFBAp2wCQL3LQ0Cbb9k/a4e4QBWwHkBfclZAgn+9QLl57j8N2odAP3L5P461b0DfPLRASC4yQKMZvj6OjpxA737pP+LfFUA7Uro/CPDzPSnJSECzwr5Al3vOP9MCSUAdiBNAL36lQJj17T8d5JFA1GCjQG0xyUAMY7xA5PuHQHO8ZD93yyNA/EzZP6HhHUAr7JJARYOmQKnllkBp+V1A+LOiP1HRT0C/MWlABOjLP31RO0AHtptAs9WeQKfahT+hlQFAMkAEQM7cB0DDouNAUWB3QPc3I0AbN91AM3uqQFx2kUBCtltAu8aJQKvV0T/W2IE+MExjQEsRokDoQnNAx5x+QAM5V0Cd9A5AFoNOPts3n0BArZo/U8PVQEUNcT9DHrVAHPhgQHasQUAipJNA9DyPQEigu0BLz9Y/3siIQDJfF0BvdpZAvjN3P93QmUAZqhFAeTfGP3fQRT8f4wdATOeuQL9ojz8PxyBAx86pQDYVq0BzlrdAuYoqQOaYbED45JhA04S0QPO9KD+SRx9AsRaOP2r6tD/sjaJAl0GCvsV5A0C+gLVAsg5/QP88rkB8+W5AuKC0QKRBtj+zf3dAQq/vP5E9Y0CfIp1Ana7AP4HHOj+RkH5Am2zxP6TFnD/7GJJAXZK/Px7PzUBXPCFAPjlzQCGL6j7Ncz4+9NOJP0BpTkD8j1tANNa+QFW+6j+q2r0/ly2MQOTqTUDutbY/GY0+QK0aDkBkT/w/bYmJQAtXNUAIf5VAFjmYQN53b0D5m1hAylR7QGXwwkAN5Jk/g+MaP64LpD8RE5JAfM0AQCnmoUCLfME/IpqJPxSxW0C3J6JAqvZgP4dPUj9Rfx5A/HUNPwRsh0APgYtAFe9qP8KLmkB/nGhAwAoMPz5CqT+fheVA8+4FP3nTY0D5h4JAkfpQQFWXAL4O0odAg2VVQFWMIEDnw4hAi/MCQIc8eECj0hZAgp+2QC0TWEDiIOw/eLIFQI5YQECoFBVAF2pgQOzb70DH6gM+eKCdQH1opUDUoihAQJBRQIEWhkCUZOhAFhOtQC2m5z+rK5hAMJZzQAWaykC4HmxAsaAWQAJerD/DhVFAq/mJQGyOiz8xJo5AL2kxQEACckDG5xBACcQmQHIVVUDG+ItAEvtIQKpQ0EDQmR8+uZcfQAu6W0ANcl9Ad+awP/2DqkAxSU4/RnS0P5zPQkBRHQU+WNmGP+SFYD65gQdAhXJQQAypaECRww8+C5/zPy+WbEAdrMY/wKIYQJqYkkAEZvQ/XE6JQLNOWz9g6TQ/nTW5P06FhED9gBlA2vJwQBxWkkAvj4pAhbMxQLhALUCfPJFAvIepQP5etEBl1cs+9cW0QGtIjkD/0I4/IEubP3R/QUAWUERAg5WRQCY4gECtVSdAGEkzQDlbuD/I5otAlfmWQPqiS0AC/KZA0NwMQEmmFkBG7cJArCEMQAZtMkDuFeQ/fbx+QJBRhD/eDtQ/yXncQBc+4T+tJp5AarMgQIT6oT8nZ5JAxqpIQH5xoUDh8wZAOzVxQH6NvECXoxM/OQptQOe4CkCwrTlAwHh2QKGQxEDv0jJAOoZYP9be80DZxphAGECbQFv3I0CpM7pA13csQHvSwEAA3KE/Fk6rQMlblUBO7L4//DeEQLPYN0BhVN0/szK6QDP8Yz+0GCJAxqGBQIh05kAplOlAxDSSQBJt4z8m6VVAGJptQETgM0BRMahAe5JaQJF7skBf1bo/0k/6P0cuzD/pNpFAQ6K0QHqdfD+iBwVAVKdXQPscZEAoYYVAcRerP+y18j8Ysa870IvfQNMw5EATMLI/Bt8cQKQKgEB50FFA0mCQP4Cg6j6I851AjXDuP9pVu0AciRNAaYeRP8OyDECIrDY/IP+1QINEnj8z4TxAfAQxQGooqkBrnGlAURTBP+mnMD9I9eNAggeHQJaYlkDyv4tAco5sQKIxj0CNznJANuCOQJjsmUB0kwJAWwJ/QKyfaUCnjnhAdTi4QP1xPj+WT5I/oVuvQN6zGkA5oBpAefVNQFAZ/D9z63NAdqoSP0jkIkDQeKJAKvWbQBPXRkAI3GRAAt0sQPGtT0CYmXxAGulcQIIkAkBME6pADjOaPrOUbUCTiMZAtcGhQNRClT4f9fQ/N2+zQM/9CEAV5Mk/0ocrQF/QkkCrt8xAryiRQFAmXUC4dIY/cxuuQPYD60Comzs/BwcmQFjcQkDmryBAvMOdQAqwlEClbh1AnxCDQFWt3z+uc21AhnAwQGRFeECiBKY/VjzSPgPayUCEqAlAmv6KQIpDgUAkrYJASymjQCAM7EDGs2dADx6hPwmalkB4c5FATT8ZQPJjoUCYl4JA0SadQKT5dkDVrVZAbIErQNaXkkCZvrw/DeJAQI2wT0BV9MpASgisQBE1V0DBU8JATEjIQMNayj5+Jy9A5lzPQIitPEBNkO1ATDFAQKF1UT/xNp1Aj+5VQHtKUUDcBIZAYrgQQKdbjkDBYIw/+iYBP6i8zkBxESdAIRkNP0DYY0C/VEJATG9TQC7nfUC1SrJAswpbQAGJe0Cp9gdAaVkVQNTRaj9T+vo/ard7QDybj0C/hFdA3qTlQHIOukApXwZAHMy2P0mjpEAdjfk/U+9nQMkZJkBw7yhA1qydQEC+c0AxZ8hAckBHQIaNekB5iaNAubuNQOVPfUB00XBA6vPnPSOYL0BkCX4/xScwQJZVTkALHTtABlIdPx4UuUBvVwg/x/k9PV+Bxj8kgOBArx9JP75+J0BMt6c/2PcDQDMoi0B3Q75ARs6SQCvzhT/paR4+Rx1pQBZLlkBV32RAkoy1QBpICEAeX2dAQ/P5P43An0Bil/JA+U/wQAv34kAL11w/7GinQBZcgkB0dGY/Xu/gP+bumECCoo1Ae42yQHjUtT6Fo2o/ZP9OQPONnECgZFw/1g2fQBqQ5D54P/lAbrK7QCFKdz/A47Y/wdqVQONMpkBwxIxAXlSBQCzTgUBFKE9ARAe1P8/hU0AwfT2+GhiVQJ2nDUC3/ZVANYQaQHEGkkAAlyVAMP6LQPe4kz9GbqNAsE+lP0hrPEB2WdY/K5c8QCOTfj/fLqNAAoACQIzg2z8uVMlA2C/OP1BUJkDg+ORA3VMXQFRpTkA5yO9ABBaBQEQNTkA9aNo/e7RhQFv7AUCcTJFAd3AdQNvbpkC5gY9AQWy2QCns+z/BRzxAAAUMQM5z80CZNnNALGKTQIrqxkBRiudALcDyPwNVjUBK9/o/jVXFQLPtFUAGfts/IxmTP30ROj+qpIhALvZ+QHSzGz8N8ZpAX+JCQNtOfkDXGG5A40jAQEBDd0BheDpA6NodPwP/HEBymkFAJvfMPrmG3D4LyZBArD67QEpCeD7zcUQ/tBpjQPa2B0BIQyZA5FOFQKsId0Bu75dAWceNQEnix0A9PdFAF3llQA31SkCPxYZAJe/YP/0iQECG0JRAWbQ9QGpFMUDHKD9AO7MpQK3PqUCttoBAdfLcPwTj2j/Vi8Q9prOTQFRFpkDLo/m9bwwhQCt2qD88ALg/xgibQKH+bEBMJ6dAZKc6QBDgjUBM8wlAPwPZQBSiukBF9Q6+3ZbGQEKs8D9N2IdAH3Y5QOlO6UDFyhRA9n33P+po6kCIPFQ/rM5SPwQ55T9oYRBAggCsQBL+/71API1AsHqGPyrmeEDXcphA0SYjQBhHkUDPFSNAow10QIAZ5z/AP6xA8ckAQDikNEAgu1pAN3IBQNqZLkDSL/RA1f2kQL+fuz8f/81AvJjwQOT15D8DwzY+EPClQK7EnkA1vO4/LYgJQAW0fEBStmNA8KlyQLhQJECtj/Y/UQrBP4IRDUAFCtxAY/hSQGC9iz8ulPA/h7MiQBm+gEDEZN4/HdHgQOwYLUBQGkVAMTl1QFmzqECCnVJAhoxAP7L9zT8fGotAvWIyQKa/gkC0ACtApWI0P4PWU0AwJ04/jbXsQHRbDkCOz4lAYrThQF8LXkBp00xAW28VQBmSW0CrqtBAn/XdP8eP7j+izxhA5QMNQPYjPD9B7n0/3NErQH3HAkAVHxBAFDmfQPmZ9j+2tFFArP/PP3hN+T/tm4w/PKuPQDf/Sz+nDRJAy+WnP7CGPz96uYdAIMtFP9OT9kDRzW1ApD/zP9Hli0BvXK5ABmnUP2U62EAvBR9AXmsqQOqxyL2G0GFAlh+8PyQ8i0AuWSlATsJJPwrGr0B58lJAX+6pQB3tjT/FO5lA8JF5PjFdCEBab8E/8j0vQERGxD6PXVVA17qQQEIlNkASqclAJ1rTPp8il0ADxqBAGi9AP6P7ykCZRdpA0cc4P8Q3UEC4lgZA5mGlP96nGT83FiNAsNC2QH7ya0CDCKRARRWQQPOAp0C8rVNAkSePQKJoMEANcLVAIY5AQL8unkCfIx5Abn+TQKfacUCHHjBAOuk3QA+XzD+VkJtAu6bXQFfWN0B2BtBAVymWP7688z7nTUdAhZhHQGofbUCvwytAj02NQN1NekD8vllAi6zvPqp5t0CIWeY/1TmhP7T0gEDPRi9AujVhQNSCcz9eZShAGtmWQPFvPkAiW3NA/tUxQCheC0Bhpro/oti6P909k0CGz11ARY+MQB1PWT8CWaNAeNQsvXjyMz8NCOY/mE2IQLO470BlH5RAaQ++P6Q5UkA4rrRA3sQkQLZ5tD+fOadAB4WzQJbKZj8iFUtABP/ZPxWzo0BegVdANTetQLvbzz+Mo5JAv9CxQLWMSEDe9MA/BFSmP0YOi0CTESxAUOexPltPnkC062RATRvTQE4EF0Af3sZAudMrQN8NmUDZvbo/XtWdQGazsEDhVR4+pJbEP9a2EUCGtqdANLyiQNJaAEAdFj9AON0FQCvO2D6V5HE/+tsLvuyhMEAMpShAIIYoQDYY8j9noJJAWQibQB6kmz8mIZ0/cbAAPxg/zUCP2Lk/eC0sQC8j2z+UHfBARuEVQERgrT/jHH4/j+2LQKiJNED3VshAdS5tQAmyW0CYZwg/qu/gP754rT/5HqtAddqJQCl0WUAb0JZAj2qkQOowk0DHvLBAUfOTQN591D/KoTlA3wC1QLctvUA89MJAkdbzP66iiUAUT/JAiKsmQOo74T+25xlAar4bQPUEwz8GppY+i5eiQGnD5z9HrpdARRu0PiVdJUCu9Wk+3PX6P/QEnUDWb8lAeUNVPlSLW0ACD0JALeAvQCIkYT+5IztAr/G5QKE6fUAuJqtAhKA0P1qYyEDgXbNANjGBQMVxXT8PfKtAEdyfQF2DI0A7Hr4/ARZxQCZiRD+M3JtA7LyHQEV6NUC64pZA+08RQKvCrj4TNzw/4OZuQAgXB0A+pO4/cyAtQL6k4D+bFhxAPkvFQBciPkByDz1A5l8vQLY04D6ouiM/F/2MPypGQkDjbgNAZN6NQJH5wED1iyBAAbc9QIijFEA9e4RAYgpRQM8L/z9nxfVAOsapQD+UtD8qyV4+khAwP+Af0UBTBhFAyAdNQHklzEDCnNc/ZOs0P1KWjUCBvsZANLwfQDG61j9oIc1AEA0/P25B7D/RDKc/unEjPwBEJ0A8LLJA3oISQH54+z/MlLVAyRm/P8VvH0CwL/8/v2A9QBUVsD9KSS9ARqjuP0zTN0BsYDq+ofaDPmBCd0Db9ztAU8QRQB8msz28bCZADcEhQKuorD6OyjdATFBiP7jxokDuJh9A4bzDQAVVc0BHlEY/S89uQEKxLEDhx65Ab8GpQHKXqUDnaadAMCImPtB4kz7EPjY/GptiQGkUc0B4M7JAupAsQEvRCUA3tMg/jCKAQALn1D55RYxA1lAAQHD6aT9NCsk8ALYiQBziUUBgoIs/uwagQHF2kEBLaKVA0RtpQEF0o0B9x4VAMitbPwM+PUC9b1VAZ1MuQBXrmT8MZFNAFd1TQO3+4D/GToBAaqOaQHIAij+IphBA+cwaQF56Q0AXpTk/ooSsQGmnhEBgUqtA6yehPzS2Qz7sEIU/GxuWQD0fuUBzgKZAk/mOP708nkBWP7U+X5CJQI9plEDtRSFAlhqjQHn8X0B7WLc/1QEFQPgulD/0y+E/+raeQDoLBD9urOg/ivi2QD8LbT93BFI/mkYxQDKUd0DcDoxA0B+KP4NQLkBY1k4+6DmqQBlxRkC64/o+haCyQLE2Gj+UJp0/8bRsQJIWcEDr8ZlA0JZjQI3xe0Cx9RJAxsUyQJrfST9rfUNAqXGRQFDCuUDDFjdAxF6bP/5ACD/44ZNAC9uJP+1dfkD5lqk/fcuWQHoMB0CcoZ1A8w00QKMMPz/b8mNAGSuTQD5Zl0BZ/Z8/YnMMQGwuhUAebvpAYbw8QCgkg0AEXdc/iBBzQFMhPz+/Sc0//3CeQEJVpz/wVK9AvbmeQDL6Aj9hYqBAevG7PpDEtkAxC8NASzoBQAumREBDI/lAkWubQAuMJ0B4O6VAEvblQAu4bz5i42NAI0QWQB3z4UAPp65A27knQDQPLkDEc2BA3LPNPzMNLD7SE3ZA1GdBQP+h8z5+4yM/vm2IP/QbYUAl/2NAbghOP1rzhT/T73JAiUx+QA4yDEDFkfy8d4cmQMapG0Aly8FAkMaRQBJRq0Dn151AoSNwQHvzC0C147NAPFZzQAkK8T8IsWFAoTQMQGAoo0DDrxdADkTnQJ1tsED0zaNAyUo2QO1xtEAghJy78mQWQAQ/p0C8yXFAe2nDPw0eQ0A3izFA1YInQBPQ8z9aLUhA1Q3AQBp1uT6LEFhApV+TQGdanECSTR0/hOgbQNGZEkBtoC9ACPvIQHuA2z/6o9A/qRSjQC2NVkD6dA1AX56gQM+bmkBFRRhAiz1GQFVhkUBIjpI/uCTPQOer5UBm3ldAlSh2QCipwUA20F5A60c4QMWJEUByaQpAuatmQMauWUDirb9AX7t/P/cO3T1D4qk/KDsHQKB+tUAMro8/0hxwP09+Oj+VDc5AMe5gQBD6QD8aUWVASO9rQClqID/PteJABezNQNTIm0BGBdM/vLMCP2QVnEDa04RA2x/FQMSzE0CaxyRAqrUHQPsF2UB9nQxAzh/cQMC4gEBOM0pAr58aQM1xhUCqpV0/oQcVQLpXTT8HW6FAey+aQKjqj0AozYFAO5OiQIL4kz8ltERAXEU+P17rAUAEZ45AoGKoQN8AnEDEa3pAllNbQMiBGEBonz1Ah2YgPDMBRUB5AptAZnDBQMsNmz/FAZRA3WKSQNLgxUBcpE1AZGWpQKahj0CECqJATAKaQCSbAED3vDRAu9QWQIgt40DExptAkEdKP1I340AGCo9AQJKJQIyam0DG2l1AA6Q7Py6wKz9bNPJA3i9bQNYDOEB4+yhAvK7dQGdpDUDcxItABvzpPy8HH0AumYI+uZCkPsJ/6EAcdplA6vamQEHHdkCgJsxAKzaaP1BCOT8u0gVAAlEJQIEGzEDIre9ACgGXQHqsaUCfhsA/HjfpP9pInEBHaFVAtt0pQHt9CD9v6sI/EEFpPneHJ0DB2T1AqJXJQE7J4D5SjEhAP1khQI8jBz+qxUo/dKBkQBN83z+fSSlAU0IkQD6SlD+I7GVAiwOBQIORgz51w5c/xWUaQLh7AUAVNaRAUuniQNzzvT77SMBA+zXrP+ySOUCG0JdAbv+SQOlQq0Dl0ptAmlCzQAgow0Do9/RATUODQC0tLEBrLtJAcBuPQP8hEkDCcQBAaYFbQBnj+D/utfZAC8n9PmKm5D8XKzxAgbGkQC6CpECTB4NAVxLFPueJ7UAT9rtAaASGP3CbVz+nL1VA1JqqQDiCbkC8AS1AeHibQNPlNUBWP+1AV7mnQOxoMUAmDz0+tvnAP1vrtkBZXcU/f892QHQKWkBUW6g8GCOEP98zgkC7ZiRA3M6zP1ZNq0CN7KJABKaaQPfHWkAUT1RAzzLSPkPITUByhqFAEJelQGoGDbww8b0/Y4OTQFfggUCghdxAfzr1P7MEEkBAHORAUO7kP28qDT/j+qNAIP6fQIPTWkAK3JJAhd5qPcSvrj4xBoZAsfREQBQ/gkBHzSpAcPAlQGiDsj/MXE1AZWTfQAFplbyO3lI/32mjQEQ+pkANLK9AChtXQICN1UAkmaJA4YZOQEzapUDJ351AsCIvQDqRo0DzA7dAwav1Pimok0Du6JM/6uNUQH1zBD6fnDpASQ9QQGUnHz/a+JBA85WnQDjB0EBKaw1AldeGQDW9qz+1s41AU81YQDufFEATqkBAhj9iQEeLGEA7oZdAYOgnQD8ZTj/q9QhAAU4iQFExp0BcqWZATlcxQFWjqUBImUBA+4qFQPBYwEAfJqVAwpSkQByJikCzaso/nbeBP6IhCD4BCUZAFi2nQMOlZ0CojcA/R4HPQGZVr0AxPYZAtGynQFhHhz7kTEhAswp6QL5lw0CbEJhAYrkKP/jJb0CZiaVA+IL2QGPQmkCObtBAwqu7QC+gM7365uRALoH+P31Srj8wHaFA8fk/QFpUikDbRoJAoo6RP4ESKkC5OEtA9zPLQHf2tEAPtok/5M0bQLqyZEC1EXJARMFlQEcPiD8r2MZAMTWXQF+em0DcEfk+g7EWPxSVlkAkRE9AzG63QGvvDUBYqFxAtCiUQAqMUkDYtWBAIIlYQKkQbED8cVJASKKjQA9vaz+sFZ5AcI7dP3es90AgFBVAL8agPx5JID8DAvJATrMXQKvtE0Ds4JBAfCGRQIVtV0BWXYhAzyKLQPRvb0DaEKs/HeK1QENeoz+xX08/D3+BP668W0AbdZw+9nuiQJ/hI0BnRQ4+l26aQMfaYj9QtsY/7bOqQMHhtEBOPTBApD7wPyWKRj5evbZA5KgKQLAMp0DwrCtA8zFeQFvCoUBivYZAlgBCQC5jLEDuoqxALBmaP/ZCBUC014RAaHcKQECVd0BcTZI/rIdQQF0+p0CFP5hA25vfP4exZ0CO10lAzeIlQCpgmT9B+RJAWta+QDzWBEBZcq9A8aEQQKDet0DKFXxAZS2CQAfFJUCaDDtAIVVFQG5jjUAIU05A6oWzQISGvEABia5AKMQWQBHzSj+b2Kk/N115QPiavkB4XQhAbL8rQB/i6EBoUwVAFkJ/QCpMakAeYEQ/ErpyP51Jt0Ay2n1ABa0XQOdc8EAMURNAkpI6QFYZvEAGKQY/cnuSQJiJV0CRTIQ/HawRPmIjIkCBItE/r7I8QJ0vtUC9zFFA8j1SQC0HoEA0ALFAJjcRQNml+T+v8YZA8KexQNCN3j+NCxxAfWPiQNfnlEBXEh1A8VkWQDh9yUD/I5NAGQmlQFEE3kBPtcu+BKmaP+uaZUB/i4E/ugJmP2cUikAUP3c+OV+MQDOvgj+qnDBAinfzQKB/8EAs8KRAmxk7P8GwY0Dh02pAza6hQEM+SkB6eotAFfV2QI1Y60Ds0+lAUuylQI6qykCQI1k/pf+bQEDcOD+J3YJAU3DwP5JEsT67RoA/gGjjPwXUiEDEHMQ/quoMQFDIvkAAqnBA4o8yQOw4HkBVk5dAgeqdP0gljUDYqE5ANYwNP2X7q0DB3m9AcFerQAoTqz+p8mpA6Q+UQLrhg0D6r4hA85whP793E0CclfRAuUfnQOvRfEBxA31ALDzFQEzrg0Ce4y1As+3iP+LXxEBRw1dAu8iHPtxFd0BM2EhAbAoRQCXOFEAfog5AizlFQEweL0BYtdc/sJXgPLdWk0Af2fQ/PIXiPxARwEDc1JJANDqoQJ65v0DfzUE/USQGQAE1rUAFgdNAXnchQOoAMUDuWbY/bFUrQEP1iUDEVCA/z72jQIFA0EDJFJ5AmNXlP/N7T0DLhztAtw3gP1N6kEBQbGVA3oalP4umZT/8+K4/4t2lP073oD/oJLNA9WmIQCPSuDyckCVA5JUCQBudez/CIZY/YtGrQNsVO0CLN8pAcpv5QAIwuz+sN81AtLqgQLDWhz/uP5FAWYmhQBYNNUBIBgJA1/O+QDljOUAb7SNA01ujP4Uw80AgT/0/LY2mQENhHEA/Cx0+zi81P7g8CT7b+ohA/988QIKC80B+wPFAyCChQLgq7T5KzfY/QK0mQLraZ0A3lv0/Iz44P7a7tj93IaRAoKagP3JI3z/lT5dAeOBVQOVInkDvxE8/mLE2P1QgNEAM/7NAsUZYQBNZmEBTD9U/75YZQBR/mT9Xfz1AAspUQJCLFkD/ck8/2bvUP3j3NT8vF41A3uwyP0y0ekA015A/CyH8P4hdsj/DTnJAcxtwQFGYi0BnxJFAgYaXQE19v0AkWWdABK1RQJq7gEARUJBA/sFoQA9ztj8k6AhAp0RsQM8fjz/nOIg/VYqnQMheaUD5+DVAxBkaQGvsTkBa2uE+nEuUQE7SvkBUJsVAlMi7QEjspT6cYUo/CD/pQIGM+j/ybXJAA0AnPtt4LkDnWMZAYKEfQEMmGEA7eJ1AGm05QKr/I0Af54NAvBScQHuHQUBoMZM/OQ4zQBWeZj/rnZhAv3IyQHEzoz+JZJpA16iTQDTWn0Cfu5xA5Jn1P4oE90CdQ+Q+e2WGQMjPk0AG8+VA0Jq5QB1Q9kBV6YpAgYb1QIWqOT0UBjRAPn0aQPIaEkCShJNAsvgJP9VuokCceUlAr0DkQKuzB0AbtQxAjCwUQN/FqUBR+4o/94XJP9ML2j9mKrQ/jUu3QKbho0BKXIlAaYV8QItaqT00QolA99otQLoXUkCID6o/YRUHQKl73kCTCQ5AKxTSPbrFSkBQGqlA9CF3P+GJrEDZBXlA8YtrQPWovUBk36VAPclSQDBoYj+reKNA3sSzQBM160C5xhJATX20P/2hf0BxuoxAkR3hPjgIpEAbCec/Hp3JQHNWekDL6Z4/Q1yQQP+8ZkC+Dik/WglJQOqRNb30VwVA9ehfQAD/6D80HtpAdBV4QCNSiD968YI/PN4uQHvjukAFSmxA/OhCP3k/2UB5Ql5AE4+NQDJsBUCbnBk+gBBrP/El9ECSo6hAyb0iQMkuEEDt2ek///PQQGMO0T/i0xg/mYbaP+5XJUBY/RVANbalQNjTMUATgYdAXii2Px9cI0BIj15AZ1aHQFMLt0D4AKpAy+q6QF9juUBaSCg/llpVP718qUA3g5c+pVGbQC6OZkBNqoE/cH2UQIkDckBXP7FAriftPhRPD0AqOcI/BBtIQJpzeEC9Knc/JInBQB2bf7tlL2c/2JunQIAXVkACgyZAej+VPxgXOz/THLNACK15P1sPgEDWKY5AZH/dQCtToUD8aag/453OPri+E0AUoOA+hvYFQEsy70A6KV9A8EYaQJaxMkDkLYhAmG41QNl1lUBpZk1A1ajyQODDgkBzLX4/hMWgQOBMgkDNdiVALWYZQGFFeUB8FPo/5eIKQGdszECvCsBAhImbQEDicz9srI9AaF3jPyafMEApCBBA5VWZQJGGnz+D0rlAgZWFP1lHbD+2UORA25W/QG+BkT9ztAZAeuutQNt5bUCgrVs/1ggBQOI5okDiMDtAYF/HQNxkHkCS9CVAtr3BQLvtoUB1a2VAMPxVQENPNz/ODsA+cVgOP0W2xEDkGWtASTAZQHp7sz9ntZtA+KPAQFx7uEBmdbJAQ+lsQBvkFUAQIGs/GLPhQDYEGj9JoIlAX46iPzXDIz96juw/kDe7PwMaHz81+YRAnEmzQAPGMjxYtApAHAorQDLChEBrpxc/hiHwQG58PUB3RB5All+fQKcPiT+g+nVAY30PQJOIpEBUVSlA6CgDQNuy8UDLsIxAurQXP+di+j+Br6c/wqZ6QJRonkBrPShAMiunQNJb7EDEknBA9VqqQPZSiEAOkC9AazeqQH0wtkDW8HQ+ryrwPvORzL19OhdAaeIpQHdlrz0DbK0/e9ZfP/D+FkC/uZw/7afbQPaUMkAb23xAibm4PwTMqUC3hJI/9vMXQOVlJUAZqpI/6hyIQEU1EECM7xtAD3+NQFVT2T3m+3VAvgsIQMFmRz/TZw9A7fEtQLlCLECeoVNApXCxQPPEqUAldN8/aRzCP8YXGkB/cYhAKaljQLEBM0AXVfFAr5/LPz2kiEBom0JA/Sc1QCUdi0BVEtJA7QOKQPEF2ECaafxAuGipQEUO8z6O0HM/u/1lQCNNd0C/skVAciGrP55YLEAWHlY/Q4qYP1PNBD/+RhFApG3yQFhTq0DJt6xAxi4OQBsUtUArdWtAUodIQN1B7UB51n5ARzUpQFQpxUBrzzNAFUdOP+9bwj6bBLpAAM3CQJq0PEAFi31AWiKEP2Fen0DK+uZAIwpHQLDoJj6KZ/NAMbDiP2wNYUBrI6A/pb2LP/73RUBNAbY/+adTP3y8Fz+F5l5AYUcLQCWgHD9m/RdAMeeoQNl0RkDFVU4/etjgPosjEEBZMI8/3IPXP9cGCUC8A4U/99iqP9Qwl0AylUM/ZsKoQEZyK0BET7RAUhyEQEknv0AehmRA2O3nP1mJ2z/URNpA2yElP+UDIkAY14ZAnSjrP5/B7T/bmGpAvSZHQAY/sEA74rc+PWpXPyPOlkB2WAtAjZMCPs4EM0C10gtAhwuMP/uMOEDO+FE/pKUNQI40lz8S4I9AyP6aP0SWsj8q6+M/fUU9QCoZHUDWan1ATj1MQABxtj5O5p1Ag1LIPxwMpUBiQ1w/teLJvBacR0BdtxhAa5BnQC2ZtkB4wMNA2agwQIBf9kBwq6Q/vtMLPzpirUAIbmtAeQW6QNL7tkDBFug/aV3jPx2+h0CT78lA3ZABQFm08UAR+dA/JZY2QBp/CkCyVqtA5ahAQJJamT+NwbNApIr0QMOLh0BNu5pAb/XEQGfxXUDLuzVA2eFnQEgQhkC/aSQ/vY2EQKFOXUA/Sbo/LzCxQNAEuEDoCnZA1lotQN2ezkA3xe5A0z4xQCYHf0Da0EQ/z/eOQEwASEB7IBhAvmfSPyWEw0DXyXJAEwfqQGs8Z77GUjU/XVPlQCIHHUC0IxlAf4eOQHpumkBHcQ9AMFD0PVlg6kCxneVAzWfzP77fFECVLgs/ySo2QEAL+T8fq6hAymvqPwYj7EDcYMlAwQ1gP6bjTUDvL2c/RSehQDc9QkByEv4+aQTuQLsQ9T/uVi49mss2QMbupD7iocZAcVd/QF/6jkB3aTE/6b+4QFbYL0BF9SBAAcaAP+UGDECfygNAVP+LQPhTHkDm2po/7aOGQHHZFEABApFA4LQFQGtrMkBFwQY+TtoPQD7iDD8txUlATZ+kQFaDnkBz//JAgEx1QDAIhECwamdAepPNPyROlUAIfX1AzDKXQAS2+UCg5oNA/YZyP8EXPECEzKg/gQQ4P7PmfD43zd4/t6H5PzWlir2lfbpASTXvP89tyEDnQIxAHP6eQHTvykCRi7NAz6RDP0Sgej7drZI/JHYUQMxrjkCyeT1A7iDpP9+eikCdrow+QpAnPtjmhkAXF4RAlECbQCmd3UDD3Mg/xZPvQEW8Fj8yB71ALgeSQATBBz0MfJpAI6+SP2z4RkBxduVAmCmSQKs22T8Mr4xAXkkKQIqp9UBEGJ8/oxFOQH17kz+6kjdAgslxQFXIE0CS3SdAdvvkQJxldz9a+DNAt0WIP6b6/T8tMO1A6sezQBbnoUCs5qZA/mUMQNaLeEB/+eRAcM/pP+YXhkBzQ6RA9R/sQCG/Sj6g94I/OHCzQKChkEDgklZA3IygQOw8jkBXNZNATdACQNxHg0AO5qtABz3KPxLKXUCUCRhA8z+lP18Sg0BU0lY/0RDxQEPTeD8cEHhAbPyfQDlZRECO0IdAKRH7QAU6pkCPJT1ArxGIQIOhhEAf6y9AQbKIQP7C6D9cNWJAyWfjQBs/r0DUoDw/rXjxQHA3tUCnDg9AOKPtQOSL6EAhfX9A0qs4QONHxz/aTm1AabpuQFXelz8uPrg/jaUPPyPec0BQgZdAK5zePw9ljEAcdrVAp7dpQGPy6D8T0k8+jJm4P9YrWkD6PYc/uYSlQC2ckUALGJA/gvrxQJ/OZUDeI4k/Ng82P5Zroz+Tdoo+JYSIQD0pdj+ctiZA84p7QLNNoj+hmb0/k26NQJErBD7KBHc/h7JdPz5wMD+zk59AMhpVP8hrakAkfQ0/zuuEQJwEOjztuapAtJaIQGbhZ0CnckFAHcjVPmiqsT8A7wg/BHFMPwZLfECetYw/m2aRQBmTvD8oDJ9A+bc0QAYOyEA2O6dA4ncBQEDBSj/9cy9AmKaMQPTxw0AdnpY/rt6pP6Flg0AjtRk/gqoGQGZHHkAU6YhAGHHLPuHn6j6PiZxAa6vCvt/GrkDAcvJAmXooQDlCj0D484NA8tubPbygEECVDCw/vUORPzp/tUB7Y45AxH6MQNL3Lr5tXXJA06GmP/a/p0CfpCs/nS+CQHF6nUBhzoxAt7HsPhyyq0Bu4WxAeVkNQKa/mj/brPNAx46yQIjCWECqNBlAtlQsQNT/i0AwwBJASP53QCJiNUCJXyZAynY2QDtlCUDz8f8/r+ALQJGkQkD6QhZA10taQMw++j+aoMk/Po+OQITQiEBLmvBA2pwwP/uUF0AI2oNAuvoHP6BVjkDZupBAd+rCQNuFFkB9OWo/v3+uQHG7NECBKZ9AkcPAPiEJ80DHwnU/VYqZQJDeHkBx4yFAISGdP2xvjEA9BIpAVch3QCYTyEBbzbVAOAmCP/Qg3z+HaK9AmiqpQHxhB0D3iGxA4MfIPjWUTj955BU9kIV/QOvbdECwQrNAQWKKQKNd0z/l6EdADPeKP9kIWz0PlORAw7jNPV457T8bHjtAvj+eQFQXakAQkzw/jmRkQLYujUCsuIM9I/NDQPk5J0DqvStAupJXQGajyD8Jg5hAgWkGQG/b7EBZv60/kK9xQBMxmD9e1yA/otgoQE9naEDJZZRAHaavQDwn90C4Qw4/j4nRPoJziEAXPfc/nuteQNUuoUBKk01AuJynQIjip0DPflk/3cURP0rd5kBUMa5A1zobQPpG9UDCNA9AdnatQPN1cEB6z9k+XtC7QMHjlECns1c/tryVQPBWb0A6L5ZA96jXPq882j/nEZdAUOcsQMhtu0A9j4xAGIM+P8g95UBUJaNA2lFJQGVbAUDHBZFAcIOmP0Id60CvAPRA/sGGQGHcaEBO/rQ+/Mu5PtahWz/cllM/Ywi2PS2N6T8XmWBAeVqPQF1QFECqkuZAjPaJQEqnH0CdKP8/c6FuQJfzUUB+wsVACQemQGvATz+uTglA87OmvVwwWkCGET1Apnc9P9fKm0D/dCtAehToQLZObkBWOixA1jlLQI1Jlj+5byg/SQtxQLYbqkAiCIVAgEEdQK+Hj0C4JYxAqh1Rvn/SnD+ZKhNAJiA0PtPlkkC3Aos/R1WdQBLmB0D+PotABrLAQEBy8UBHyyw/LkxKP1YMX0AMUSpA1F0TQBdcqkBMq2VAmkVMQGYIG0AUcd4/Ke6YPyl+l0D4CuBA1nkXQL0TlUC/ID5Ax4g/P2xeXT/2sh1An0kNQIdesUDl3BQ/CPwRQMyIH0CBYYJA2JuJQGIRqj/E3clAKYDzQIF5MUAReBBAyllXQLsGwD/4d0BADwczP2E7KEAroBFAWxyQP8YgEEBNsaZAIUgNQMCLJT7TwYFAVhjIP1y9qD4xG0M/N6eaQJw5xUApZYhAKgERQB68jUAn6w9A9gFjQBjP8z98Qa0/wy7xQMGtP0CCoPZAwVCWQLW040CP93dArBpUQB25zEDGZaFAgSvDQKfWkkAiDZxA47V2QJe7vkAsCik/QfYJQJGanEDyHQs/JbpbPw4wNEC0Z41AzBEtQGJDrUD4w9o/ZgMdQOk5Sz836Gg/ZO6yQB2YiUAmq4tAzkaLQMo3k0ChLUxAuQn2QJnT9D5ZRfJAgv2KP96/T0DCunpAwsUdQK9RbEDl9xNAUF/uQCQs1ECkDxJAF7S3vKr92T5CBoZANOgBQGPbNkDI/05AnSZ4QEwbXkBlzUJAXKX1Prykm0CqxJE9qM32QNGRtkCw9EdAzVSzP9zRVEDvl+Y/wIuKQNsFwj83fjU/N6IVQIBiLED4t+xAWjaiPjomyj88DixA+CUIQKitokAGoCRAoxq6QD4fUUDLrOk/LPolPygkgEDaQPZAcrMAQD+RokBAep1AiyaKQKpwbD5vKnxAUNKcQNdAsUBLs2NAgS5ivL7zskCYG/0/gkWnQEqdkj/0UzNAJWrnQNEAjUB/QMc/ZlEXvVaXm0DQh5RAT3BVQJ8VX0BawARAcNZxP+j9fkAJINo/mvzMPhYwQkAUlrk/zvCnQMiGLkCZIzlAuiJwQPZJ40BLOfFAfKWwQJnoiT8Lau5AkUWiQKrufkBl76ZAZVSfPIjEXEC+7qU/L7sSQGJilkCjgipAkpA/QHI3gz3ysSJAYvyZQNtXEUCh7otAxdYQQJwP+0CWy1VAXzMoP4uWj0CIJ4FAQvKCvvcuq0DjxsZAid0AQJbUHED45pdAuWfQQBAWk0DGC/8/FssVQOenZUCxzHA/CjJeQIySlD9EDYVAPXlbQHsJP0DW+qlAQASVQH1WWkAQ1FU/njOzQNIz3j/ddKI/ZEyYP7du8ED2jJlALpupQPoX2D9on6k+ohPFQPrTpUDysO9AroarP0r9yD/zrvlAYilhQFuV9kBOJKo/6/BFQPYiUEC/O2ZAsjKkQErDoUCI12hA3bBaQFQjekBEsgVAyV1tQBn2jUBKIm1AJxcWP4ajVEDZxIpARFmdP8QMFT8a/5BA/duXP5QpbUAYM51Ao+LFP21nFkBVJ51A79eFP9g8vkDNOAJAnzODP210WD/63Q9ArrznQNkzHz+PiXQ/KRpUQCk6xUDTEbxAwYeJPwmJiEBQa6g+IDIaQC6ErD+JwcNA398yQD/R80ClO0Y/qY2WQKfZ90BXMhVAuKqAQGydFkD4b8pAj0NFQF0Ti0APJspAajgBQKzPuEBRUiJAbOnjvnmPAUAIVHFAKLeWQJriB0DruI1A8uzNQMV6WT7CwpJAU8mWP64kh0DymcNAWme5PjVzwz+n5+K9PsKwPdtI70AGzmA/Dl55QM62oD77+pc/zimvQECJ8kAMXoBA/DPlvgvF30CFf1dAEOjhPrtXtz/KDE1AD+kSQAqYgEAJtVBAx8UoQGqZij9oXoVAamBrQFbJd74R1jI/XyzCPpmrkEA0ZZ5ADiycQN4L6EDsNElA1/u2QIjBzT/LayxA5/mqPwnd3j98VFY/0SByQHtCRz+g+Z9ABNngP2njQkCtXOFAHZQSQFJfPUC5UhQ/n+OlQJt5jkAQjEhAGCjAPy6mmz9qD6k/wQuMQE2/hz/7b7BAzV/aP56+IEDh5ItAHtjfQGv+CD+aEfZAx3p8QLb68kDEzxZAFjKjPo5VAj4Ifom+KdMEQLE8tj+wiKc/fUuLQLCfakBeTcFATb6VP2HP/T8oOJA/KWqLQGOXiz+nm1BA/QioQMao4kBKsSlAYQ9TQNkv9kDJhYhA8NiPP37v4kCEN69AeeDfPokjk0DoEnw805mgQChIIz9b64s/+5A7POmyxz8njeQ/m9GQQFmOVj/y2ERAscCOQFMMOT1UrUI/s+uxP61eykDaHbe+Xm9oQOJsjEAa2xc/E4iRP7hZi0COtqg/lZ4bPopM4UA7zuq+13fnPZnthz+eQw9AcelPQLl0sEDKR14/7a5KQA/iiz+wcMNAt0qwP6es9EDkBky9tYa/QFRMr0AzYuI/4qesP81kxUCY9DI/reDTP/FzSECAow5ABVuIQE3iv0DeGOFAbXOYPyhXBEBXqZ1A/aFVPxMUpkDUz7NAhMaSQMmgF0C8nOpAJ0mXP2smRUCZ/Z8+tApuQBAqRUDioE9A9r6XP+BtEEAA14A/eofjQJZFDUA3BfRAfh0IQEPhiD+oZ5q+VrmrP6us9UCn1H0/WL1tP+BrhUABMb8/lZWOP5HxmD/Oe8tAyaLgQH/nJkBJtYI/efyrQNCp50D5m+Y/ZxXivUIpij9X4xc/v9GUvY/NnT8Pp4xAPkUTQHUe0UA7cVA+qkikQO2axD8GK5c/NhNPQIj7iEBSc5hADYeAPwmvC0ABb6tAf3zzQGLfkEDTUbNARM+FQD074kB32K1AxSQPQEoBkj9pK7U/a6d+Pzkj5b7iYsRA7eGTP9BNGUBcdVc+7w+VQHDdqEDd/UlAuHdyQI1rbz0LcIg/YYlDvSBfGkCPRmg/VHUvPzkfiUBJasZAfGm3P/OhiD8rMb9ApxHAP+G2kj9QByBAbbfeP+r7mz8pqgJA+c2MP1Hynz7p9vFAI2QXQJLCWEBuYrNAV8DOP1N0G0DjPNi9Pqm4P4nyiD78zk0/INm2P3rQkT8=\"},\"shape\":[5000],\"dtype\":\"float32\",\"order\":\"little\"}],[\"y\",{\"type\":\"ndarray\",\"array\":{\"type\":\"bytes\",\"data\":\"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\"},\"shape\":[5000],\"dtype\":\"float32\",\"order\":\"little\"}],[\"color\",[\"blue\",\"blue\",\"blue\",\"blue\",\"blue\",\"blue\",\"blue\",\"blue\",\"blue\",\"blue\",\"blue\",\"blue\",\"blue\",\"blue\",\"blue\",\"blue\",\"blue\",\"blue\",\"blue\",\"blue\",\"blue\",\"blue\",\"blue\",\"blue\",\"blue\",\"blue\",\"blue\",\"blue\",\"blue\",\"blue\",\"blue\",\"blue\",\"blue\",\"blue\",\"blue\",\"blue\",\"blue\",\"blue\",\"blue\",\"blue\",\"blue\",\"blue\",\"blue\",\"blue\",\"blue\",\"blue\",\"blue\",\"blue\",\"blue\",\"blue\",\"blue\",\"blue\",\"blue\",\"blue\",\"blue\",\"blue\",\"blue\",\"blue\",\"blue\",\"blue\",\"blue\",\"blue\",\"blue\",\"blue\",\"blue\",\"blue\",\"blue\",\"blue\",\"blue\",\"blue\",\"blue\",\"blue\",\"blue\",\"blue\",\"blue\",\"blue\",\"blue\",\"blue\",\"blue\",\"blue\",\"blue\",\"blue\",\"blue\",\"blue\",\"blue\",\"blue\",\"blue\",\"blue\",\"blue\",\"blue\",\"blue\",\"blue\",\"blue\",\"blue\",\"blue\",\"blue\",\"blue\",\"blue\",\"blue\",\"blue\",\"blue\",\"blue\",\"blue\",\"blue\",\"blue\",\"blue\",\"blue\",\"blue\",\"blue\",\"blue\",\"blue\",\"blue\",\"blue\",\"blue\",\"blue\",\"blue\",\"blue\",\"blue\",\"blue\",\"blue\",\"blue\",\"blue\",\"blue\",\"blue\",\"blue\",\"blue\",\"blue\",\"blue\",\"blue\",\"blue\",\"blue\",\"blue\",\"blue\",\"blue\",\"blue\",\"blue\",\"blue\",\"blue\",\"blue\",\"blue\",\"blue\",\"blue\",\"blue\",\"blue\",\"blue\",\"blue\",\"blue\",\"blue\",\"blue\",\"blue\",\"blue\",\"blue\",\"blue\",\"blue\",\"blue\",\"blue\",\"blue\",\"blue\",\"blue\",\"blue\",\"blue\",\"blue\",\"blue\",\"blue\",\"blue\",\"blue\",\"blue\",\"blue\",\"blue\",\"blue\",\"blue\",\"blue\",\"blue\",\"blue\",\"blue\",\"blue\",\"blue\",\"blue\",\"blue\",\"blue\",\"blue\",\"blue\",\"blue\",\"blue\",\"blue\",\"blue\",\"blue\",\"blue\",\"blue\",\"blue\",\"blue\",\"blue\",\"blue\",\"blue\",\"blue\",\"blue\",\"blue\",\"blue\",\"blue\",\"blue\",\"blue\",\"blue\",\"blue\",\"blue\",\"blue\",\"blue\",\"blue\",\"blue\",\"blue\",\"blue\",\"blue\",\"blue\",\"blue\",\"blue\",\"blue\",\"blue\",\"blue\",\"blue\",\"blue\",\"blue\",\"blue\",\"blue\",\"blue\",\"blue\",\"blue\",\"blue\",\"blue\",\"blue\",\"blue\",\"blue\",\"blue\",\"blue\",\"blue\",\"blue\",\"blue\",\"blue\",\"blue\",\"blue\",\"blue\",\"blue\",\"blue\",\"blue\",\"blue\",\"blue\",\"blue\",\"blue\",\"blue\",\"blue\",\"blue\",\"blue\",\"blue\",\"blue\",\"blue\",\"blue\",\"blue\",\"blue\",\"blue\",\"blue\",\"blue\",\"blue\",\"blue\",\"blue\",\"blue\",\"blue\",\"blue\",\"blue\",\"blue\",\"blue\",\"blue\",\"blue\",\"blue\",\"blue\",\"blue\",\"blue\",\"blue\",\"blue\",\"blue\",\"blue\",\"blue\",\"blue\",\"blue\",\"blue\",\"blue\",\"blue\",\"blue\",\"blue\",\"blue\",\"blue\",\"blue\",\"blue\",\"blue\",\"blue\",\"blue\",\"blue\",\"blue\",\"blue\",\"blue\",\"blue\",\"blue\",\"blue\",\"blue\",\"blue\",\"blue\",\"blue\",\"blue\",\"blue\",\"blue\",\"blue\",\"blue\",\"blue\",\"blue\",\"blue\",\"blue\",\"blue\",\"blue\",\"blue\",\"blue\",\"blue\",\"blue\",\"blue\",\"blue\",\"blue\",\"blue\",\"blue\",\"blue\",\"blue\",\"blue\",\"blue\",\"blue\",\"blue\",\"blue\",\"blue\",\"blue\",\"blue\",\"blue\",\"blue\",\"blue\",\"blue\",\"blue\",\"blue\",\"blue\",\"blue\",\"blue\",\"blue\",\"blue\",\"blue\",\"blue\",\"blue\",\"blue\",\"blue\",\"blue\",\"blue\",\"blue\",\"blue\",\"blue\",\"blue\",\"blue\",\"blue\",\"blue\",\"blue\",\"blue\",\"blue\",\"blue\",\"blue\",\"blue\",\"blue\",\"blue\",\"blue\",\"blue\",\"blue\",\"blue\",\"blue\",\"blue\",\"blue\",\"blue\",\"blue\",\"blue\",\"blue\",\"blue\",\"blue\",\"blue\",\"blue\",\"blue\",\"blue\",\"blue\",\"blue\",\"blue\",\"blue\",\"blue\",\"blue\",\"blue\",\"blue\",\"blue\",\"blue\",\"blue\",\"blue\",\"blue\",\"blue\",\"blue\",\"blue\",\"blue\",\"blue\",\"blue\",\"blue\",\"blue\",\"blue\",\"blue\",\"blue\",\"blue\",\"blue\",\"blue\",\"blue\",\"blue\",\"blue\",\"blue\",\"blue\",\"blue\",\"blue\",\"blue\",\"blue\",\"blue\",\"blue\",\"blue\",\"blue\",\"blue\",\"blue\",\"blue\",\"blue\",\"blue\",\"blue\",\"blue\",\"blue\",\"blue\",\"blue\",\"blue\",\"blue\",\"blue\",\"blue\",\"blue\",\"blue\",\"blue\",\"blue\",\"blue\",\"blue\",\"blue\",\"blue\",\"blue\",\"blue\",\"blue\",\"blue\",\"blue\",\"blue\",\"blue\",\"blue\",\"blue\",\"blue\",\"blue\",\"blue\",\"blue\",\"blue\",\"blue\",\"blue\",\"blue\",\"blue\",\"blue\",\"blue\",\"blue\",\"blue\",\"blue\",\"blue\",\"blue\",\"blue\",\"blue\",\"blue\",\"blue\",\"blue\",\"blue\",\"blue\",\"blue\",\"blue\",\"blue\",\"blue\",\"blue\",\"blue\",\"blue\",\"blue\",\"blue\",\"blue\",\"blue\",\"blue\",\"blue\",\"blue\",\"blue\",\"blue\",\"blue\",\"blue\",\"blue\",\"blue\",\"blue\",\"blue\",\"blue\",\"blue\",\"blue\",\"blue\",\"blue\",\"blue\",\"blue\",\"blue\",\"blue\",\"blue\",\"blue\",\"blue\",\"blue\",\"blue\",\"blue\",\"blue\",\"blue\",\"blue\",\"blue\",\"blue\",\"blue\",\"blue\",\"blue\",\"blue\",\"blue\",\"blue\",\"blue\",\"blue\",\"blue\",\"blue\",\"blue\",\"blue\",\"blue\",\"blue\",\"blue\",\"blue\",\"blue\",\"blue\",\"blue\",\"blue\",\"blue\",\"blue\",\"blue\",\"blue\",\"blue\",\"blue\",\"blue\",\"blue\",\"blue\",\"blue\",\"blue\",\"blue\",\"blue\",\"blue\",\"blue\",\"blue\",\"blue\",\"blue\",\"blue\",\"blue\",\"blue\",\"blue\",\"blue\",\"blue\",\"blue\",\"blue\",\"blue\",\"blue\",\"blue\",\"blue\",\"blue\",\"blue\",\"blue\",\"blue\",\"blue\",\"blue\",\"blue\",\"blue\",\"blue\",\"blue\",\"blue\",\"blue\",\"blue\",\"blue\",\"blue\",\"blue\",\"blue\",\"blue\",\"blue\",\"blue\",\"blue\",\"blue\",\"blue\",\"blue\",\"blue\",\"blue\",\"blue\",\"blue\",\"blue\",\"blue\",\"blue\",\"blue\",\"blue\",\"blue\",\"blue\",\"blue\",\"blue\",\"blue\",\"blue\",\"blue\",\"blue\",\"blue\",\"blue\",\"blue\",\"blue\",\"blue\",\"blue\",\"blue\",\"blue\",\"blue\",\"blue\",\"blue\",\"blue\",\"blue\",\"blue\",\"blue\",\"blue\",\"blue\",\"blue\",\"blue\",\"blue\",\"blue\",\"blue\",\"blue\",\"blue\",\"blue\",\"blue\",\"blue\",\"blue\",\"blue\",\"blue\",\"blue\",\"blue\",\"blue\",\"blue\",\"blue\",\"blue\",\"blue\",\"blue\",\"blue\",\"blue\",\"blue\",\"blue\",\"blue\",\"blue\",\"blue\",\"blue\",\"blue\",\"blue\",\"blue\",\"blue\",\"blue\",\"blue\",\"blue\",\"blue\",\"blue\",\"blue\",\"blue\",\"blue\",\"blue\",\"blue\",\"blue\",\"blue\",\"blue\",\"blue\",\"blue\",\"blue\",\"blue\",\"blue\",\"blue\",\"blue\",\"blue\",\"blue\",\"blue\",\"blue\",\"blue\",\"blue\",\"blue\",\"blue\",\"blue\",\"blue\",\"blue\",\"blue\",\"blue\",\"blue\",\"blue\",\"blue\",\"blue\",\"blue\",\"blue\",\"blue\",\"blue\",\"blue\",\"blue\",\"blue\",\"blue\",\"blue\",\"blue\",\"blue\",\"blue\",\"blue\",\"blue\",\"blue\",\"blue\",\"blue\",\"blue\",\"blue\",\"blue\",\"blue\",\"blue\",\"blue\",\"blue\",\"blue\",\"blue\",\"blue\",\"blue\",\"blue\",\"blue\",\"blue\",\"blue\",\"blue\",\"blue\",\"blue\",\"blue\",\"blue\",\"blue\",\"blue\",\"blue\",\"blue\",\"blue\",\"blue\",\"blue\",\"blue\",\"blue\",\"blue\",\"blue\",\"blue\",\"blue\",\"blue\",\"blue\",\"blue\",\"blue\",\"blue\",\"blue\",\"blue\",\"blue\",\"blue\",\"blue\",\"blue\",\"blue\",\"blue\",\"blue\",\"blue\",\"blue\",\"blue\",\"blue\",\"blue\",\"blue\",\"blue\",\"blue\",\"blue\",\"blue\",\"blue\",\"blue\",\"blue\",\"blue\",\"blue\",\"blue\",\"blue\",\"blue\",\"blue\",\"blue\",\"blue\",\"blue\",\"blue\",\"blue\",\"blue\",\"blue\",\"blue\",\"blue\",\"blue\",\"blue\",\"blue\",\"blue\",\"blue\",\"blue\",\"blue\",\"blue\",\"blue\",\"blue\",\"blue\",\"blue\",\"blue\",\"blue\",\"blue\",\"blue\",\"blue\",\"blue\",\"blue\",\"blue\",\"blue\",\"blue\",\"blue\",\"blue\",\"blue\",\"blue\",\"blue\",\"blue\",\"blue\",\"blue\",\"blue\",\"blue\",\"blue\",\"blue\",\"blue\",\"blue\",\"blue\",\"blue\",\"blue\",\"blue\",\"blue\",\"blue\",\"blue\",\"blue\",\"blue\",\"blue\",\"blue\",\"blue\",\"blue\",\"blue\",\"blue\",\"blue\",\"blue\",\"blue\",\"blue\",\"blue\",\"blue\",\"blue\",\"blue\",\"blue\",\"blue\",\"blue\",\"blue\",\"blue\",\"blue\",\"blue\",\"blue\",\"blue\",\"blue\",\"blue\",\"blue\",\"blue\",\"blue\",\"blue\",\"blue\",\"blue\",\"blue\",\"blue\",\"blue\",\"blue\",\"blue\",\"blue\",\"blue\",\"blue\",\"blue\",\"blue\",\"blue\",\"blue\",\"blue\",\"blue\",\"blue\",\"blue\",\"blue\",\"blue\",\"blue\",\"blue\",\"blue\",\"blue\",\"blue\",\"blue\",\"blue\",\"blue\",\"blue\",\"blue\",\"blue\",\"blue\",\"blue\",\"blue\",\"blue\",\"blue\",\"blue\",\"blue\",\"blue\",\"blue\",\"blue\",\"blue\",\"blue\",\"blue\",\"blue\",\"blue\",\"blue\",\"blue\",\"blue\",\"blue\",\"blue\",\"blue\",\"blue\",\"blue\",\"blue\",\"blue\",\"blue\",\"blue\",\"blue\",\"blue\",\"blue\",\"blue\",\"blue\",\"blue\",\"blue\",\"blue\",\"blue\",\"blue\",\"blue\",\"blue\",\"blue\",\"blue\",\"blue\",\"blue\",\"blue\",\"blue\",\"blue\",\"blue\",\"blue\",\"blue\",\"blue\",\"blue\",\"blue\",\"blue\",\"blue\",\"blue\",\"blue\",\"blue\",\"blue\",\"blue\",\"blue\",\"blue\",\"blue\",\"blue\",\"blue\",\"blue\",\"blue\",\"blue\",\"blue\",\"blue\",\"blue\",\"blue\",\"blue\",\"blue\",\"blue\",\"blue\",\"blue\",\"blue\",\"blue\",\"blue\",\"blue\",\"blue\",\"blue\",\"blue\",\"blue\",\"blue\",\"blue\",\"blue\",\"blue\",\"blue\",\"blue\",\"blue\",\"blue\",\"blue\",\"blue\",\"blue\",\"blue\",\"blue\",\"blue\",\"blue\",\"blue\",\"blue\",\"blue\",\"blue\",\"blue\",\"blue\",\"blue\",\"blue\",\"blue\",\"blue\",\"blue\",\"blue\",\"blue\",\"blue\",\"blue\",\"blue\",\"blue\",\"blue\",\"blue\",\"blue\",\"blue\",\"blue\",\"blue\",\"blue\",\"blue\",\"blue\",\"blue\",\"blue\",\"blue\",\"blue\",\"blue\",\"blue\",\"blue\",\"blue\",\"blue\",\"blue\",\"blue\",\"blue\",\"blue\",\"blue\",\"blue\",\"blue\",\"blue\",\"blue\",\"blue\",\"blue\",\"blue\",\"blue\",\"blue\",\"blue\",\"blue\",\"blue\",\"blue\",\"blue\",\"blue\",\"blue\",\"blue\",\"blue\",\"blue\",\"blue\",\"blue\",\"blue\",\"blue\",\"blue\",\"blue\",\"blue\",\"blue\",\"blue\",\"blue\",\"blue\",\"blue\",\"blue\",\"blue\",\"blue\",\"blue\",\"blue\",\"blue\",\"blue\",\"blue\",\"blue\",\"blue\",\"blue\",\"blue\",\"blue\",\"blue\",\"blue\",\"blue\",\"blue\",\"blue\",\"blue\",\"blue\",\"blue\",\"blue\",\"blue\",\"blue\",\"blue\",\"blue\",\"blue\",\"blue\",\"blue\",\"blue\",\"blue\",\"blue\",\"blue\",\"blue\",\"blue\",\"blue\",\"blue\",\"blue\",\"blue\",\"blue\",\"blue\",\"blue\",\"blue\",\"blue\",\"blue\",\"blue\",\"blue\",\"blue\",\"blue\",\"blue\",\"blue\",\"blue\",\"blue\",\"blue\",\"blue\",\"blue\",\"blue\",\"blue\",\"blue\",\"blue\",\"blue\",\"blue\",\"blue\",\"blue\",\"blue\",\"blue\",\"blue\",\"blue\",\"blue\",\"blue\",\"blue\",\"blue\",\"blue\",\"blue\",\"blue\",\"blue\",\"blue\",\"blue\",\"blue\",\"blue\",\"blue\",\"blue\",\"blue\",\"blue\",\"blue\",\"blue\",\"blue\",\"blue\",\"blue\",\"blue\",\"blue\",\"blue\",\"blue\",\"blue\",\"blue\",\"blue\",\"blue\",\"blue\",\"blue\",\"blue\",\"blue\",\"blue\",\"blue\",\"blue\",\"blue\",\"blue\",\"blue\",\"blue\",\"blue\",\"blue\",\"blue\",\"blue\",\"blue\",\"blue\",\"blue\",\"blue\",\"blue\",\"blue\",\"blue\",\"blue\",\"blue\",\"blue\",\"blue\",\"blue\",\"blue\",\"blue\",\"blue\",\"blue\",\"blue\",\"blue\",\"blue\",\"blue\",\"blue\",\"blue\",\"blue\",\"blue\",\"blue\",\"blue\",\"blue\",\"blue\",\"blue\",\"blue\",\"blue\",\"blue\",\"blue\",\"blue\",\"blue\",\"blue\",\"blue\",\"blue\",\"blue\",\"blue\",\"blue\",\"blue\",\"blue\",\"blue\",\"blue\",\"blue\",\"blue\",\"blue\",\"blue\",\"blue\",\"blue\",\"blue\",\"blue\",\"blue\",\"blue\",\"blue\",\"blue\",\"blue\",\"blue\",\"blue\",\"blue\",\"blue\",\"blue\",\"blue\",\"blue\",\"blue\",\"blue\",\"blue\",\"blue\",\"blue\",\"blue\",\"blue\",\"blue\",\"blue\",\"blue\",\"blue\",\"blue\",\"blue\",\"blue\",\"blue\",\"blue\",\"blue\",\"blue\",\"blue\",\"blue\",\"blue\",\"blue\",\"blue\",\"blue\",\"blue\",\"blue\",\"blue\",\"blue\",\"blue\",\"blue\",\"blue\",\"blue\",\"blue\",\"blue\",\"blue\",\"blue\",\"blue\",\"blue\",\"blue\",\"blue\",\"blue\",\"blue\",\"blue\",\"blue\",\"blue\",\"blue\",\"blue\",\"blue\",\"blue\",\"blue\",\"blue\",\"blue\",\"blue\",\"blue\",\"blue\",\"blue\",\"blue\",\"blue\",\"blue\",\"blue\",\"blue\",\"blue\",\"blue\",\"blue\",\"blue\",\"blue\",\"blue\",\"blue\",\"blue\",\"blue\",\"blue\",\"blue\",\"blue\",\"blue\",\"blue\",\"blue\",\"blue\",\"blue\",\"blue\",\"blue\",\"blue\",\"blue\",\"blue\",\"blue\",\"blue\",\"blue\",\"blue\",\"blue\",\"blue\",\"blue\",\"blue\",\"blue\",\"blue\",\"blue\",\"blue\",\"blue\",\"blue\",\"blue\",\"blue\",\"blue\",\"blue\",\"blue\",\"blue\",\"blue\",\"blue\",\"blue\",\"blue\",\"blue\",\"blue\",\"blue\",\"blue\",\"blue\",\"blue\",\"blue\",\"blue\",\"blue\",\"blue\",\"blue\",\"blue\",\"blue\",\"blue\",\"blue\",\"blue\",\"blue\",\"blue\",\"blue\",\"blue\",\"blue\",\"blue\",\"blue\",\"blue\",\"blue\",\"blue\",\"blue\",\"blue\",\"blue\",\"blue\",\"blue\",\"blue\",\"blue\",\"blue\",\"blue\",\"blue\",\"blue\",\"blue\",\"blue\",\"blue\",\"blue\",\"blue\",\"blue\",\"blue\",\"blue\",\"blue\",\"blue\",\"blue\",\"blue\",\"blue\",\"blue\",\"blue\",\"blue\",\"blue\",\"blue\",\"blue\",\"blue\",\"blue\",\"blue\",\"blue\",\"blue\",\"blue\",\"blue\",\"blue\",\"blue\",\"blue\",\"blue\",\"blue\",\"blue\",\"blue\",\"blue\",\"blue\",\"blue\",\"blue\",\"blue\",\"blue\",\"blue\",\"blue\",\"blue\",\"blue\",\"blue\",\"blue\",\"blue\",\"blue\",\"blue\",\"blue\",\"blue\",\"blue\",\"blue\",\"blue\",\"blue\",\"blue\",\"blue\",\"blue\",\"blue\",\"blue\",\"blue\",\"blue\",\"blue\",\"blue\",\"blue\",\"blue\",\"blue\",\"blue\",\"blue\",\"blue\",\"blue\",\"blue\",\"blue\",\"blue\",\"blue\",\"blue\",\"blue\",\"blue\",\"blue\",\"blue\",\"blue\",\"blue\",\"blue\",\"blue\",\"blue\",\"blue\",\"blue\",\"blue\",\"blue\",\"blue\",\"blue\",\"blue\",\"blue\",\"blue\",\"blue\",\"blue\",\"blue\",\"blue\",\"blue\",\"blue\",\"blue\",\"blue\",\"blue\",\"blue\",\"blue\",\"blue\",\"blue\",\"blue\",\"blue\",\"blue\",\"blue\",\"blue\",\"blue\",\"blue\",\"blue\",\"blue\",\"blue\",\"blue\",\"blue\",\"blue\",\"blue\",\"blue\",\"blue\",\"blue\",\"blue\",\"blue\",\"blue\",\"blue\",\"blue\",\"blue\",\"blue\",\"blue\",\"blue\",\"blue\",\"blue\",\"blue\",\"blue\",\"blue\",\"blue\",\"blue\",\"blue\",\"blue\",\"blue\",\"blue\",\"blue\",\"blue\",\"blue\",\"blue\",\"blue\",\"blue\",\"blue\",\"blue\",\"blue\",\"blue\",\"blue\",\"blue\",\"blue\",\"blue\",\"blue\",\"blue\",\"blue\",\"blue\",\"blue\",\"blue\",\"blue\",\"blue\",\"blue\",\"blue\",\"blue\",\"blue\",\"blue\",\"blue\",\"blue\",\"blue\",\"blue\",\"blue\",\"blue\",\"blue\",\"blue\",\"blue\",\"blue\",\"blue\",\"blue\",\"blue\",\"blue\",\"blue\",\"blue\",\"blue\",\"blue\",\"blue\",\"blue\",\"blue\",\"blue\",\"blue\",\"blue\",\"blue\",\"blue\",\"blue\",\"blue\",\"blue\",\"blue\",\"blue\",\"blue\",\"blue\",\"blue\",\"blue\",\"blue\",\"blue\",\"blue\",\"blue\",\"blue\",\"blue\",\"blue\",\"blue\",\"blue\",\"blue\",\"blue\",\"blue\",\"blue\",\"blue\",\"blue\",\"blue\",\"blue\",\"blue\",\"blue\",\"blue\",\"blue\",\"blue\",\"blue\",\"blue\",\"blue\",\"blue\",\"blue\",\"blue\",\"blue\",\"blue\",\"blue\",\"blue\",\"blue\",\"blue\",\"blue\",\"blue\",\"blue\",\"blue\",\"blue\",\"blue\",\"blue\",\"blue\",\"blue\",\"blue\",\"blue\",\"blue\",\"blue\",\"blue\",\"blue\",\"blue\",\"blue\",\"blue\",\"blue\",\"blue\",\"blue\",\"blue\",\"blue\",\"blue\",\"blue\",\"blue\",\"blue\",\"blue\",\"blue\",\"blue\",\"blue\",\"blue\",\"blue\",\"blue\",\"blue\",\"blue\",\"blue\",\"blue\",\"blue\",\"blue\",\"blue\",\"blue\",\"blue\",\"blue\",\"blue\",\"blue\",\"blue\",\"blue\",\"blue\",\"blue\",\"blue\",\"blue\",\"blue\",\"blue\",\"blue\",\"blue\",\"blue\",\"blue\",\"blue\",\"blue\",\"blue\",\"blue\",\"blue\",\"blue\",\"blue\",\"blue\",\"blue\",\"blue\",\"blue\",\"blue\",\"blue\",\"blue\",\"blue\",\"blue\",\"blue\",\"blue\",\"blue\",\"blue\",\"blue\",\"blue\",\"blue\",\"blue\",\"blue\",\"blue\",\"blue\",\"blue\",\"blue\",\"blue\",\"blue\",\"blue\",\"blue\",\"blue\",\"blue\",\"blue\",\"blue\",\"blue\",\"blue\",\"blue\",\"blue\",\"blue\",\"blue\",\"blue\",\"blue\",\"blue\",\"blue\",\"blue\",\"blue\",\"blue\",\"blue\",\"blue\",\"blue\",\"blue\",\"blue\",\"blue\",\"blue\",\"blue\",\"blue\",\"blue\",\"blue\",\"blue\",\"blue\",\"blue\",\"blue\",\"blue\",\"blue\",\"blue\",\"blue\",\"blue\",\"blue\",\"blue\",\"blue\",\"blue\",\"blue\",\"blue\",\"blue\",\"blue\",\"blue\",\"blue\",\"blue\",\"blue\",\"blue\",\"blue\",\"blue\",\"blue\",\"blue\",\"blue\",\"blue\",\"blue\",\"blue\",\"blue\",\"blue\",\"blue\",\"blue\",\"blue\",\"blue\",\"blue\",\"blue\",\"blue\",\"blue\",\"blue\",\"blue\",\"blue\",\"blue\",\"blue\",\"blue\",\"blue\",\"blue\",\"blue\",\"blue\",\"blue\",\"blue\",\"blue\",\"blue\",\"blue\",\"blue\",\"blue\",\"blue\",\"blue\",\"blue\",\"blue\",\"blue\",\"blue\",\"blue\",\"blue\",\"blue\",\"blue\",\"blue\",\"blue\",\"blue\",\"blue\",\"blue\",\"blue\",\"blue\",\"blue\",\"blue\",\"blue\",\"blue\",\"blue\",\"blue\",\"blue\",\"blue\",\"blue\",\"blue\",\"blue\",\"blue\",\"blue\",\"blue\",\"blue\",\"blue\",\"blue\",\"blue\",\"blue\",\"blue\",\"blue\",\"blue\",\"blue\",\"blue\",\"blue\",\"blue\",\"blue\",\"blue\",\"blue\",\"blue\",\"blue\",\"blue\",\"blue\",\"blue\",\"blue\",\"blue\",\"blue\",\"blue\",\"blue\",\"blue\",\"blue\",\"blue\",\"blue\",\"blue\",\"blue\",\"blue\",\"blue\",\"blue\",\"blue\",\"blue\",\"blue\",\"blue\",\"blue\",\"blue\",\"blue\",\"blue\",\"blue\",\"blue\",\"blue\",\"blue\",\"blue\",\"blue\",\"blue\",\"blue\",\"blue\",\"blue\",\"blue\",\"blue\",\"blue\",\"blue\",\"blue\",\"blue\",\"blue\",\"blue\",\"blue\",\"blue\",\"blue\",\"blue\",\"blue\",\"blue\",\"blue\",\"blue\",\"blue\",\"blue\",\"blue\",\"blue\",\"blue\",\"blue\",\"blue\",\"blue\",\"blue\",\"blue\",\"blue\",\"blue\",\"blue\",\"blue\",\"blue\",\"blue\",\"blue\",\"blue\",\"blue\",\"blue\",\"blue\",\"blue\",\"blue\",\"blue\",\"blue\",\"blue\",\"blue\",\"blue\",\"blue\",\"blue\",\"blue\",\"blue\",\"blue\",\"blue\",\"blue\",\"blue\",\"blue\",\"blue\",\"blue\",\"blue\",\"blue\",\"blue\",\"blue\",\"blue\",\"blue\",\"blue\",\"blue\",\"blue\",\"blue\",\"blue\",\"blue\",\"blue\",\"blue\",\"blue\",\"blue\",\"blue\",\"blue\",\"blue\",\"blue\",\"blue\",\"blue\",\"blue\",\"blue\",\"blue\",\"blue\",\"blue\",\"blue\",\"blue\",\"blue\",\"blue\",\"blue\",\"blue\",\"blue\",\"blue\",\"blue\",\"blue\",\"blue\",\"blue\",\"blue\",\"blue\",\"blue\",\"blue\",\"blue\",\"blue\",\"blue\",\"blue\",\"blue\",\"blue\",\"blue\",\"blue\",\"blue\",\"blue\",\"blue\",\"blue\",\"blue\",\"blue\",\"blue\",\"blue\",\"blue\",\"blue\",\"blue\",\"blue\",\"blue\",\"blue\",\"blue\",\"blue\",\"blue\",\"blue\",\"blue\",\"blue\",\"blue\",\"blue\",\"blue\",\"blue\",\"blue\",\"blue\",\"blue\",\"blue\",\"blue\",\"blue\",\"blue\",\"blue\",\"blue\",\"blue\",\"blue\",\"blue\",\"blue\",\"blue\",\"blue\",\"blue\",\"blue\",\"blue\",\"blue\",\"blue\",\"blue\",\"blue\",\"blue\",\"blue\",\"blue\",\"blue\",\"blue\",\"blue\",\"blue\",\"blue\",\"blue\",\"blue\",\"blue\",\"blue\",\"blue\",\"blue\",\"blue\",\"blue\",\"blue\",\"blue\",\"blue\",\"blue\",\"blue\",\"blue\",\"blue\",\"blue\",\"blue\",\"blue\",\"blue\",\"blue\",\"blue\",\"blue\",\"blue\",\"blue\",\"blue\",\"blue\",\"blue\",\"blue\",\"blue\",\"blue\",\"blue\",\"blue\",\"blue\",\"blue\",\"blue\",\"blue\",\"blue\",\"blue\",\"blue\",\"blue\",\"blue\",\"blue\",\"blue\",\"blue\",\"blue\",\"blue\",\"blue\",\"blue\",\"blue\",\"blue\",\"blue\",\"blue\",\"blue\",\"blue\",\"blue\",\"blue\",\"blue\",\"blue\",\"blue\",\"blue\",\"blue\",\"blue\",\"blue\",\"blue\",\"blue\",\"blue\",\"blue\",\"blue\",\"blue\",\"blue\",\"blue\",\"blue\",\"blue\",\"blue\",\"blue\",\"blue\",\"blue\",\"blue\",\"blue\",\"blue\",\"blue\",\"blue\",\"blue\",\"blue\",\"blue\",\"blue\",\"blue\",\"blue\",\"blue\",\"blue\",\"blue\",\"blue\",\"blue\",\"blue\",\"blue\",\"blue\",\"blue\",\"blue\",\"blue\",\"blue\",\"blue\",\"blue\",\"blue\",\"blue\",\"blue\",\"blue\",\"blue\",\"blue\",\"blue\",\"blue\",\"blue\",\"blue\",\"blue\",\"blue\",\"blue\",\"blue\",\"blue\",\"blue\",\"blue\",\"blue\",\"blue\",\"blue\",\"blue\",\"blue\",\"blue\",\"blue\",\"blue\",\"blue\",\"blue\",\"blue\",\"blue\",\"blue\",\"blue\",\"blue\",\"blue\",\"blue\",\"blue\",\"blue\",\"blue\",\"blue\",\"blue\",\"blue\",\"blue\",\"blue\",\"blue\",\"blue\",\"blue\",\"blue\",\"blue\",\"blue\",\"blue\",\"blue\",\"blue\",\"blue\",\"blue\",\"blue\",\"blue\",\"blue\",\"blue\",\"blue\",\"blue\",\"blue\",\"blue\",\"blue\",\"blue\",\"blue\",\"blue\",\"blue\",\"blue\",\"blue\",\"blue\",\"blue\",\"blue\",\"blue\",\"blue\",\"blue\",\"blue\",\"blue\",\"blue\",\"blue\",\"blue\",\"blue\",\"blue\",\"blue\",\"blue\",\"blue\",\"blue\",\"blue\",\"blue\",\"blue\",\"blue\",\"blue\",\"blue\",\"blue\",\"blue\",\"blue\",\"blue\",\"blue\",\"blue\",\"blue\",\"blue\",\"blue\",\"blue\",\"blue\",\"blue\",\"blue\",\"blue\",\"blue\",\"blue\",\"blue\",\"blue\",\"blue\",\"blue\",\"blue\",\"blue\",\"blue\",\"blue\",\"blue\",\"blue\",\"blue\",\"blue\",\"blue\",\"blue\",\"blue\",\"blue\",\"blue\",\"blue\",\"blue\",\"blue\",\"blue\",\"blue\",\"blue\",\"blue\",\"blue\",\"blue\",\"blue\",\"blue\",\"blue\",\"blue\",\"blue\",\"blue\",\"blue\",\"blue\",\"blue\",\"blue\",\"blue\",\"blue\",\"blue\",\"blue\",\"blue\",\"blue\",\"blue\",\"blue\",\"blue\",\"blue\",\"blue\",\"blue\",\"blue\",\"blue\",\"blue\",\"blue\",\"blue\",\"blue\",\"blue\",\"blue\",\"blue\",\"blue\",\"blue\",\"blue\",\"blue\",\"blue\",\"blue\",\"blue\",\"blue\",\"blue\",\"blue\",\"blue\",\"blue\",\"blue\",\"blue\",\"blue\",\"blue\",\"blue\",\"blue\",\"blue\",\"blue\",\"blue\",\"blue\",\"blue\",\"blue\",\"blue\",\"blue\",\"blue\",\"blue\",\"blue\",\"blue\",\"blue\",\"blue\",\"blue\",\"blue\",\"blue\",\"blue\",\"blue\",\"blue\",\"blue\",\"blue\",\"blue\",\"blue\",\"blue\",\"blue\",\"blue\",\"blue\",\"blue\",\"blue\",\"blue\",\"blue\",\"blue\",\"blue\",\"blue\",\"blue\",\"blue\",\"blue\",\"blue\",\"blue\",\"blue\",\"blue\",\"blue\",\"blue\",\"blue\",\"blue\",\"blue\",\"blue\",\"blue\",\"blue\",\"blue\",\"blue\",\"blue\",\"blue\",\"blue\",\"blue\",\"blue\",\"blue\",\"blue\",\"blue\",\"blue\",\"blue\",\"blue\",\"blue\",\"blue\",\"blue\",\"blue\",\"blue\",\"blue\",\"blue\",\"blue\",\"blue\",\"blue\",\"blue\",\"blue\",\"blue\",\"blue\",\"blue\",\"blue\",\"blue\",\"blue\",\"blue\",\"blue\",\"blue\",\"blue\",\"blue\",\"blue\",\"blue\",\"blue\",\"blue\",\"blue\",\"blue\",\"blue\",\"blue\",\"blue\",\"blue\",\"blue\",\"blue\",\"blue\",\"blue\",\"blue\",\"blue\",\"blue\",\"blue\",\"blue\",\"blue\",\"blue\",\"blue\",\"blue\",\"blue\",\"blue\",\"blue\",\"blue\",\"blue\",\"blue\",\"blue\",\"blue\",\"blue\",\"blue\",\"blue\",\"blue\",\"blue\",\"blue\",\"blue\",\"blue\",\"blue\",\"blue\",\"blue\",\"blue\",\"blue\",\"blue\",\"blue\",\"blue\",\"blue\",\"blue\",\"blue\",\"blue\",\"blue\",\"blue\",\"blue\",\"blue\",\"blue\",\"blue\",\"blue\",\"blue\",\"blue\",\"blue\",\"blue\",\"blue\",\"blue\",\"blue\",\"blue\",\"blue\",\"blue\",\"blue\",\"blue\",\"blue\",\"blue\",\"blue\",\"blue\",\"blue\",\"blue\",\"blue\",\"blue\",\"blue\",\"blue\",\"blue\",\"blue\",\"blue\",\"blue\",\"blue\",\"blue\",\"blue\",\"blue\",\"blue\",\"blue\",\"blue\",\"blue\",\"blue\",\"blue\",\"blue\",\"blue\",\"blue\",\"blue\",\"blue\",\"blue\",\"blue\",\"blue\",\"blue\",\"blue\",\"blue\",\"blue\",\"blue\",\"blue\",\"blue\",\"blue\",\"blue\",\"blue\",\"blue\",\"blue\",\"blue\",\"blue\",\"blue\",\"blue\",\"blue\",\"blue\",\"blue\",\"blue\",\"blue\",\"blue\",\"blue\",\"blue\",\"blue\",\"blue\",\"blue\",\"blue\",\"blue\",\"blue\",\"blue\",\"blue\",\"blue\",\"blue\",\"blue\",\"blue\",\"blue\",\"blue\",\"blue\",\"blue\",\"blue\",\"blue\",\"blue\",\"blue\",\"blue\",\"blue\",\"blue\",\"blue\",\"blue\",\"blue\",\"blue\",\"blue\",\"blue\",\"blue\",\"blue\",\"blue\",\"blue\",\"blue\",\"blue\",\"blue\",\"blue\",\"blue\",\"blue\",\"blue\",\"blue\",\"blue\",\"blue\",\"blue\",\"blue\",\"blue\",\"blue\",\"blue\",\"blue\",\"blue\",\"blue\",\"blue\",\"blue\",\"blue\",\"blue\",\"blue\",\"blue\",\"blue\",\"blue\",\"blue\",\"blue\",\"blue\",\"blue\",\"blue\",\"blue\",\"blue\",\"blue\",\"blue\",\"blue\",\"blue\",\"blue\",\"blue\",\"blue\",\"blue\",\"blue\",\"blue\",\"blue\",\"blue\",\"blue\",\"blue\",\"blue\",\"blue\",\"blue\",\"blue\",\"blue\",\"blue\",\"blue\",\"blue\",\"blue\",\"blue\",\"blue\",\"blue\",\"blue\",\"blue\",\"blue\",\"blue\",\"blue\",\"blue\",\"blue\",\"blue\",\"blue\",\"blue\",\"blue\",\"blue\",\"blue\",\"blue\",\"blue\",\"blue\",\"blue\",\"blue\",\"blue\",\"blue\",\"blue\",\"blue\",\"blue\",\"blue\",\"blue\",\"blue\",\"blue\",\"blue\",\"blue\",\"blue\",\"blue\",\"blue\",\"blue\",\"blue\",\"blue\",\"blue\",\"blue\",\"blue\",\"blue\",\"blue\",\"blue\",\"blue\",\"blue\",\"blue\",\"blue\",\"blue\",\"blue\",\"blue\",\"blue\",\"blue\",\"blue\",\"blue\",\"blue\",\"blue\",\"blue\",\"blue\",\"blue\",\"blue\",\"blue\",\"blue\",\"blue\",\"blue\",\"blue\",\"blue\",\"blue\",\"blue\",\"blue\",\"blue\",\"blue\",\"blue\",\"blue\",\"blue\",\"blue\",\"blue\",\"blue\",\"blue\",\"blue\",\"blue\",\"blue\",\"blue\",\"blue\",\"blue\",\"blue\",\"blue\",\"blue\",\"blue\",\"blue\",\"blue\",\"blue\",\"blue\",\"blue\",\"blue\",\"blue\",\"blue\",\"blue\",\"blue\",\"blue\",\"blue\",\"blue\",\"blue\",\"blue\",\"blue\",\"blue\",\"blue\",\"blue\",\"blue\",\"blue\",\"blue\",\"blue\",\"blue\",\"blue\",\"blue\",\"blue\",\"blue\",\"blue\",\"blue\",\"blue\",\"blue\",\"blue\",\"blue\",\"blue\",\"blue\",\"blue\",\"blue\",\"blue\",\"blue\",\"blue\",\"blue\",\"blue\",\"blue\",\"blue\",\"blue\",\"blue\",\"blue\",\"blue\",\"blue\",\"blue\",\"blue\",\"blue\",\"blue\",\"blue\",\"blue\",\"blue\",\"blue\",\"blue\",\"blue\",\"blue\",\"blue\",\"blue\",\"blue\",\"blue\",\"blue\",\"blue\",\"blue\",\"blue\",\"blue\",\"blue\",\"blue\",\"blue\",\"blue\",\"blue\",\"blue\",\"blue\",\"blue\",\"blue\",\"blue\",\"blue\",\"blue\",\"blue\",\"blue\",\"blue\",\"blue\",\"blue\",\"blue\",\"blue\",\"blue\",\"blue\",\"blue\",\"blue\",\"blue\",\"blue\",\"blue\",\"blue\",\"blue\",\"blue\",\"blue\",\"blue\",\"blue\",\"blue\",\"blue\",\"blue\",\"blue\",\"blue\",\"blue\",\"blue\",\"blue\",\"blue\",\"blue\",\"blue\",\"blue\",\"blue\",\"blue\",\"blue\",\"blue\",\"blue\",\"blue\",\"blue\",\"blue\",\"blue\",\"blue\",\"blue\",\"blue\",\"blue\",\"blue\",\"blue\",\"blue\",\"blue\",\"blue\",\"blue\",\"blue\",\"blue\",\"blue\",\"blue\",\"blue\",\"blue\",\"blue\",\"blue\",\"blue\",\"blue\",\"blue\",\"blue\",\"blue\",\"blue\",\"blue\",\"blue\",\"blue\",\"blue\",\"blue\",\"blue\",\"blue\",\"blue\",\"blue\",\"blue\",\"blue\",\"blue\",\"blue\",\"blue\",\"blue\",\"blue\",\"blue\",\"blue\",\"blue\",\"blue\",\"blue\",\"blue\",\"blue\",\"blue\",\"blue\",\"blue\",\"blue\",\"blue\",\"blue\",\"blue\",\"blue\",\"blue\",\"blue\",\"blue\",\"blue\",\"blue\",\"blue\",\"blue\",\"blue\",\"blue\",\"blue\",\"blue\",\"blue\",\"blue\",\"blue\",\"blue\",\"blue\",\"blue\",\"blue\",\"blue\",\"blue\",\"blue\",\"blue\",\"blue\",\"blue\",\"blue\",\"blue\",\"blue\",\"blue\",\"blue\",\"blue\",\"blue\",\"blue\",\"blue\",\"blue\",\"blue\",\"blue\",\"blue\",\"blue\",\"blue\",\"blue\",\"blue\",\"blue\",\"blue\",\"blue\",\"blue\",\"blue\",\"blue\",\"blue\",\"blue\",\"blue\",\"blue\",\"blue\",\"blue\",\"blue\",\"blue\",\"blue\",\"blue\",\"blue\",\"blue\",\"blue\",\"blue\",\"blue\",\"blue\",\"blue\",\"blue\",\"blue\",\"blue\",\"blue\",\"blue\",\"blue\",\"blue\",\"blue\",\"blue\",\"blue\",\"blue\",\"blue\",\"blue\",\"blue\",\"blue\",\"blue\",\"blue\",\"blue\",\"blue\",\"blue\",\"blue\",\"blue\",\"blue\",\"blue\",\"blue\",\"blue\",\"blue\",\"blue\",\"blue\",\"blue\",\"blue\",\"blue\",\"blue\",\"blue\",\"blue\",\"blue\",\"blue\",\"blue\",\"blue\",\"blue\",\"blue\",\"blue\",\"blue\",\"blue\",\"blue\",\"blue\",\"blue\",\"blue\",\"blue\",\"blue\",\"blue\",\"blue\",\"blue\",\"blue\",\"blue\",\"blue\",\"blue\",\"blue\",\"blue\",\"blue\",\"blue\",\"blue\",\"blue\",\"blue\",\"blue\",\"blue\",\"blue\",\"blue\",\"blue\",\"blue\",\"blue\",\"blue\",\"blue\",\"blue\",\"blue\",\"blue\",\"blue\",\"blue\",\"blue\",\"blue\",\"blue\",\"blue\",\"blue\",\"blue\",\"blue\",\"blue\",\"blue\",\"blue\",\"blue\",\"blue\",\"blue\",\"blue\",\"blue\",\"blue\",\"blue\",\"blue\",\"blue\",\"blue\",\"blue\",\"blue\",\"blue\",\"blue\",\"blue\",\"blue\",\"blue\",\"blue\",\"blue\",\"blue\",\"blue\",\"blue\",\"blue\",\"blue\",\"blue\",\"blue\",\"blue\",\"blue\",\"blue\",\"blue\",\"blue\",\"blue\",\"blue\",\"blue\",\"blue\",\"blue\",\"blue\",\"blue\",\"blue\",\"blue\",\"blue\",\"blue\",\"blue\",\"blue\",\"blue\",\"blue\",\"blue\",\"blue\",\"blue\",\"blue\",\"blue\",\"blue\",\"blue\",\"blue\",\"blue\",\"blue\",\"blue\",\"blue\",\"blue\",\"blue\",\"blue\",\"blue\",\"blue\",\"blue\",\"blue\",\"blue\",\"blue\",\"blue\",\"blue\",\"blue\",\"blue\",\"blue\",\"blue\",\"blue\",\"blue\",\"blue\",\"blue\",\"blue\",\"blue\",\"blue\",\"blue\",\"blue\",\"blue\",\"blue\",\"blue\",\"blue\",\"blue\",\"blue\",\"blue\",\"blue\",\"blue\",\"blue\",\"blue\",\"blue\",\"blue\",\"blue\",\"blue\",\"blue\",\"blue\",\"blue\",\"blue\",\"blue\",\"blue\",\"blue\",\"blue\",\"blue\",\"blue\",\"blue\",\"blue\",\"blue\",\"blue\",\"blue\",\"blue\",\"blue\",\"blue\",\"blue\",\"blue\",\"blue\",\"blue\",\"blue\",\"blue\",\"blue\",\"blue\",\"blue\",\"blue\",\"blue\",\"blue\",\"blue\",\"blue\",\"blue\",\"blue\",\"blue\",\"blue\",\"blue\",\"blue\",\"blue\",\"blue\",\"blue\",\"blue\",\"blue\",\"blue\",\"blue\",\"blue\",\"blue\",\"blue\",\"blue\",\"blue\",\"blue\",\"blue\",\"blue\",\"blue\",\"blue\",\"blue\",\"blue\",\"blue\",\"blue\",\"blue\",\"blue\",\"blue\",\"blue\",\"blue\",\"blue\",\"blue\",\"blue\",\"blue\",\"blue\",\"blue\",\"blue\",\"blue\",\"blue\",\"blue\",\"blue\",\"blue\",\"blue\",\"blue\",\"blue\",\"blue\",\"blue\",\"blue\",\"blue\",\"blue\",\"blue\",\"blue\",\"blue\",\"blue\",\"blue\",\"blue\",\"blue\",\"blue\",\"blue\",\"blue\",\"blue\",\"blue\",\"blue\",\"blue\",\"blue\",\"blue\",\"blue\",\"blue\",\"blue\",\"blue\",\"blue\",\"blue\",\"blue\",\"blue\",\"blue\",\"blue\",\"blue\",\"blue\",\"blue\",\"blue\",\"blue\",\"blue\",\"blue\",\"blue\",\"blue\",\"blue\",\"blue\",\"blue\",\"blue\",\"blue\",\"blue\",\"blue\",\"blue\",\"blue\",\"blue\",\"blue\",\"blue\",\"blue\",\"blue\",\"blue\",\"blue\",\"blue\",\"blue\",\"blue\",\"blue\",\"blue\",\"blue\",\"blue\",\"blue\",\"blue\",\"blue\",\"blue\",\"blue\",\"blue\",\"blue\",\"blue\",\"blue\",\"blue\",\"blue\",\"blue\",\"blue\",\"blue\",\"blue\",\"blue\",\"blue\",\"blue\",\"blue\",\"blue\",\"blue\",\"blue\",\"blue\",\"blue\",\"blue\",\"blue\",\"blue\",\"blue\",\"blue\",\"blue\",\"blue\",\"blue\",\"blue\",\"blue\",\"blue\",\"blue\",\"blue\",\"blue\",\"blue\",\"blue\",\"blue\",\"blue\",\"blue\",\"blue\",\"blue\",\"blue\",\"blue\",\"blue\",\"blue\",\"blue\",\"blue\",\"blue\",\"blue\",\"blue\",\"blue\",\"blue\",\"blue\",\"blue\",\"blue\",\"blue\",\"blue\",\"blue\",\"blue\",\"blue\",\"blue\",\"blue\",\"blue\",\"blue\",\"blue\",\"blue\",\"blue\",\"blue\",\"blue\",\"blue\",\"blue\",\"blue\",\"blue\",\"blue\",\"blue\",\"blue\",\"blue\",\"blue\",\"blue\",\"blue\",\"blue\",\"blue\",\"blue\",\"blue\",\"blue\",\"blue\",\"blue\",\"blue\",\"blue\",\"blue\",\"blue\",\"blue\",\"blue\",\"blue\",\"blue\",\"blue\",\"blue\",\"blue\",\"blue\",\"blue\",\"blue\",\"blue\",\"blue\",\"blue\",\"blue\",\"blue\",\"blue\",\"blue\",\"blue\",\"blue\",\"blue\",\"blue\",\"blue\",\"blue\",\"blue\",\"blue\",\"blue\",\"blue\",\"blue\",\"blue\",\"blue\",\"blue\",\"blue\",\"blue\",\"blue\",\"blue\",\"blue\",\"blue\",\"blue\",\"blue\",\"blue\",\"blue\",\"blue\",\"blue\",\"blue\",\"blue\",\"blue\",\"blue\",\"blue\",\"blue\",\"blue\",\"blue\",\"blue\",\"blue\",\"blue\",\"blue\",\"blue\",\"blue\",\"blue\",\"blue\",\"blue\",\"blue\",\"blue\",\"blue\",\"blue\",\"blue\",\"blue\",\"blue\",\"blue\",\"blue\",\"blue\",\"blue\",\"blue\",\"blue\",\"blue\",\"blue\",\"blue\",\"blue\",\"blue\",\"blue\",\"blue\",\"blue\",\"blue\",\"blue\",\"blue\",\"blue\",\"blue\",\"blue\",\"blue\",\"blue\",\"blue\",\"blue\",\"blue\",\"blue\",\"blue\",\"blue\",\"blue\",\"blue\",\"blue\",\"blue\",\"blue\",\"blue\",\"blue\",\"blue\",\"blue\",\"blue\",\"blue\",\"blue\",\"blue\",\"blue\",\"blue\",\"blue\",\"blue\",\"blue\",\"blue\",\"blue\",\"blue\",\"blue\",\"blue\",\"blue\",\"blue\",\"blue\",\"blue\",\"blue\",\"blue\",\"blue\",\"blue\",\"blue\",\"blue\",\"blue\",\"blue\",\"blue\",\"blue\",\"blue\",\"blue\",\"blue\",\"blue\",\"blue\",\"blue\",\"blue\",\"blue\",\"blue\",\"blue\",\"blue\",\"blue\",\"blue\",\"blue\",\"blue\",\"blue\",\"blue\",\"blue\",\"blue\",\"blue\",\"blue\",\"blue\",\"blue\",\"blue\",\"blue\",\"blue\",\"blue\",\"blue\",\"blue\",\"blue\",\"blue\",\"blue\",\"blue\",\"blue\",\"blue\",\"blue\",\"blue\",\"blue\",\"blue\",\"blue\",\"blue\",\"blue\",\"blue\",\"blue\",\"blue\",\"blue\",\"blue\",\"blue\",\"blue\",\"blue\",\"blue\",\"blue\",\"blue\",\"blue\",\"blue\",\"blue\",\"blue\",\"blue\",\"blue\",\"blue\",\"blue\",\"blue\",\"blue\",\"blue\",\"blue\",\"blue\",\"blue\",\"blue\",\"blue\",\"blue\",\"blue\",\"blue\",\"blue\",\"blue\",\"blue\",\"blue\",\"blue\",\"blue\",\"blue\",\"blue\",\"blue\",\"blue\",\"blue\",\"blue\",\"blue\",\"blue\",\"blue\",\"blue\",\"blue\",\"blue\",\"blue\",\"blue\",\"blue\",\"blue\",\"blue\",\"blue\",\"blue\",\"blue\",\"blue\",\"blue\",\"blue\",\"blue\",\"blue\",\"blue\",\"blue\",\"blue\",\"blue\",\"blue\",\"blue\",\"blue\",\"blue\",\"blue\",\"blue\",\"blue\",\"blue\",\"blue\",\"blue\",\"blue\",\"blue\",\"blue\",\"blue\",\"blue\",\"blue\",\"blue\",\"blue\",\"blue\",\"blue\",\"blue\",\"blue\",\"blue\",\"blue\",\"blue\",\"blue\",\"blue\",\"blue\",\"blue\",\"blue\",\"blue\",\"blue\",\"blue\",\"blue\",\"blue\",\"blue\",\"blue\",\"blue\",\"blue\",\"blue\",\"blue\",\"blue\",\"blue\",\"blue\",\"blue\",\"blue\",\"blue\",\"blue\",\"blue\",\"blue\",\"blue\",\"blue\",\"blue\",\"blue\",\"blue\",\"blue\",\"blue\",\"blue\",\"blue\",\"blue\",\"blue\",\"blue\",\"blue\",\"blue\",\"blue\",\"blue\",\"blue\",\"blue\",\"blue\",\"blue\",\"blue\",\"blue\",\"blue\",\"blue\",\"blue\",\"blue\",\"blue\",\"blue\",\"blue\",\"blue\",\"blue\",\"blue\",\"blue\",\"blue\",\"blue\",\"blue\",\"blue\",\"blue\",\"blue\",\"blue\",\"blue\",\"blue\",\"blue\",\"blue\",\"blue\",\"blue\",\"blue\",\"blue\",\"blue\",\"blue\",\"blue\",\"blue\",\"blue\",\"blue\",\"blue\",\"blue\",\"blue\",\"blue\",\"blue\",\"blue\",\"blue\",\"blue\",\"blue\",\"blue\",\"blue\",\"blue\",\"blue\",\"blue\",\"blue\",\"blue\",\"blue\",\"blue\",\"blue\",\"blue\",\"blue\",\"blue\",\"blue\",\"blue\",\"blue\",\"blue\",\"blue\",\"blue\",\"blue\",\"blue\",\"blue\",\"blue\",\"blue\",\"blue\",\"blue\",\"blue\",\"blue\",\"blue\",\"blue\",\"blue\",\"blue\",\"blue\",\"blue\",\"blue\",\"blue\",\"blue\",\"blue\",\"blue\",\"blue\",\"blue\",\"blue\",\"blue\",\"blue\",\"blue\",\"blue\",\"blue\",\"blue\",\"blue\",\"blue\",\"blue\",\"blue\",\"blue\",\"blue\",\"blue\",\"blue\",\"blue\",\"blue\",\"blue\",\"blue\",\"blue\",\"blue\",\"blue\",\"blue\",\"blue\",\"blue\",\"blue\",\"blue\",\"blue\",\"blue\",\"blue\",\"blue\",\"blue\",\"blue\",\"blue\",\"blue\",\"blue\",\"blue\",\"blue\",\"blue\",\"blue\",\"blue\",\"blue\",\"blue\",\"blue\",\"blue\",\"blue\",\"blue\",\"blue\",\"blue\",\"blue\",\"blue\",\"blue\",\"blue\",\"blue\",\"blue\",\"blue\",\"blue\",\"blue\",\"blue\",\"blue\",\"blue\",\"blue\",\"blue\",\"blue\",\"blue\",\"blue\",\"blue\",\"blue\",\"blue\",\"blue\",\"blue\",\"blue\",\"blue\",\"blue\",\"blue\",\"blue\",\"blue\",\"blue\",\"blue\",\"blue\",\"blue\",\"blue\",\"blue\",\"blue\",\"blue\",\"blue\",\"blue\",\"blue\",\"blue\",\"blue\",\"blue\",\"blue\",\"blue\",\"blue\",\"blue\",\"blue\",\"blue\",\"blue\",\"blue\",\"blue\",\"blue\",\"blue\",\"blue\",\"blue\",\"blue\",\"blue\",\"blue\",\"blue\",\"blue\",\"blue\",\"blue\",\"blue\",\"blue\",\"blue\",\"blue\",\"blue\",\"blue\",\"blue\",\"blue\",\"blue\",\"blue\",\"blue\",\"blue\",\"blue\",\"blue\",\"blue\",\"blue\",\"blue\",\"blue\",\"blue\",\"blue\",\"blue\",\"blue\",\"blue\",\"blue\",\"blue\",\"blue\",\"blue\",\"blue\",\"blue\",\"blue\",\"blue\",\"blue\",\"blue\",\"blue\",\"blue\",\"blue\",\"blue\",\"blue\",\"blue\",\"blue\",\"blue\",\"blue\",\"blue\",\"blue\",\"blue\",\"blue\",\"blue\",\"blue\",\"blue\",\"blue\",\"blue\",\"blue\",\"blue\",\"blue\",\"blue\",\"blue\",\"blue\",\"blue\",\"blue\",\"blue\",\"blue\",\"blue\",\"blue\",\"blue\",\"blue\",\"blue\",\"blue\",\"blue\",\"blue\",\"blue\",\"blue\",\"blue\",\"blue\",\"blue\",\"blue\",\"blue\",\"blue\",\"blue\",\"blue\",\"blue\",\"blue\",\"blue\",\"blue\",\"blue\",\"blue\",\"blue\",\"blue\",\"blue\",\"blue\",\"blue\",\"blue\",\"blue\",\"blue\",\"blue\",\"blue\",\"blue\",\"blue\",\"blue\",\"blue\",\"blue\",\"blue\",\"blue\",\"blue\",\"blue\",\"blue\",\"blue\",\"blue\",\"blue\",\"blue\",\"blue\",\"blue\",\"blue\",\"blue\",\"blue\",\"blue\",\"blue\",\"blue\",\"blue\",\"blue\",\"blue\",\"blue\",\"blue\",\"blue\",\"blue\",\"blue\",\"blue\",\"blue\",\"blue\",\"blue\",\"blue\",\"blue\",\"blue\",\"blue\",\"blue\",\"blue\",\"blue\",\"blue\",\"blue\",\"blue\",\"blue\",\"blue\",\"blue\",\"blue\",\"blue\",\"blue\",\"blue\",\"blue\",\"blue\",\"blue\",\"blue\",\"blue\",\"blue\",\"blue\",\"blue\",\"blue\",\"blue\",\"blue\",\"blue\",\"blue\",\"blue\",\"blue\",\"blue\",\"blue\",\"blue\",\"blue\",\"blue\",\"blue\",\"blue\",\"blue\",\"blue\",\"blue\",\"blue\",\"blue\",\"blue\",\"blue\",\"blue\",\"blue\",\"blue\",\"blue\",\"blue\",\"blue\",\"blue\",\"blue\",\"blue\",\"blue\",\"blue\",\"blue\",\"blue\",\"blue\",\"blue\",\"blue\",\"blue\",\"blue\",\"blue\",\"blue\",\"blue\",\"blue\",\"blue\",\"blue\",\"blue\",\"blue\",\"blue\",\"blue\",\"blue\",\"blue\",\"blue\",\"blue\",\"blue\",\"blue\",\"blue\",\"blue\",\"blue\",\"blue\",\"blue\",\"blue\",\"blue\",\"blue\",\"blue\",\"blue\",\"blue\",\"blue\",\"blue\",\"blue\",\"blue\",\"blue\",\"blue\",\"blue\",\"blue\",\"blue\",\"blue\",\"blue\",\"blue\",\"blue\",\"blue\",\"blue\",\"blue\",\"blue\",\"blue\",\"blue\",\"blue\",\"blue\",\"blue\",\"blue\",\"blue\",\"blue\",\"blue\",\"blue\",\"blue\",\"blue\",\"blue\",\"blue\",\"blue\",\"blue\",\"blue\",\"blue\",\"blue\",\"blue\",\"blue\",\"blue\",\"blue\",\"blue\",\"blue\",\"blue\",\"blue\",\"blue\",\"blue\",\"blue\",\"blue\",\"blue\",\"blue\",\"blue\",\"blue\",\"blue\",\"blue\",\"blue\",\"blue\",\"blue\",\"blue\",\"blue\",\"blue\",\"blue\",\"blue\",\"blue\",\"blue\",\"blue\",\"blue\",\"blue\",\"blue\",\"blue\",\"blue\",\"blue\",\"blue\",\"blue\",\"blue\",\"blue\",\"blue\",\"blue\",\"blue\",\"blue\",\"blue\",\"blue\",\"blue\",\"blue\",\"blue\",\"blue\",\"blue\",\"blue\",\"blue\",\"blue\",\"blue\",\"blue\",\"blue\",\"blue\",\"blue\",\"blue\",\"blue\",\"blue\",\"blue\",\"blue\",\"blue\",\"blue\",\"blue\",\"blue\",\"blue\",\"blue\",\"blue\",\"blue\",\"blue\",\"blue\",\"blue\",\"blue\",\"blue\",\"blue\",\"blue\",\"blue\",\"blue\",\"blue\",\"blue\",\"blue\",\"blue\",\"blue\",\"blue\",\"blue\",\"blue\",\"blue\",\"blue\",\"blue\",\"blue\",\"blue\",\"blue\",\"blue\",\"blue\",\"blue\",\"blue\",\"blue\",\"blue\",\"blue\",\"blue\",\"blue\",\"blue\",\"blue\",\"blue\",\"blue\",\"blue\",\"blue\",\"blue\",\"blue\",\"blue\",\"blue\",\"blue\",\"blue\",\"blue\",\"blue\",\"blue\",\"blue\",\"blue\",\"blue\",\"blue\",\"blue\",\"blue\",\"blue\",\"blue\",\"blue\",\"blue\",\"blue\",\"blue\",\"blue\",\"blue\",\"blue\",\"blue\",\"blue\",\"blue\",\"blue\",\"blue\",\"blue\",\"blue\",\"blue\",\"blue\",\"blue\",\"blue\",\"blue\",\"blue\",\"blue\",\"blue\",\"blue\",\"blue\",\"blue\",\"blue\",\"blue\",\"blue\",\"blue\",\"blue\",\"blue\",\"blue\",\"blue\",\"blue\",\"blue\",\"blue\",\"blue\",\"blue\",\"blue\",\"blue\",\"blue\",\"blue\",\"blue\",\"blue\",\"blue\",\"blue\",\"blue\",\"blue\",\"blue\",\"blue\",\"blue\",\"blue\",\"blue\",\"blue\",\"blue\",\"blue\",\"blue\",\"blue\",\"blue\",\"blue\",\"blue\",\"blue\",\"blue\",\"blue\",\"blue\",\"blue\",\"blue\",\"blue\",\"blue\",\"blue\",\"blue\",\"blue\",\"blue\",\"blue\",\"blue\",\"blue\",\"blue\",\"blue\",\"blue\",\"blue\",\"blue\",\"blue\",\"blue\",\"blue\",\"blue\",\"blue\",\"blue\",\"blue\",\"blue\",\"blue\",\"blue\",\"blue\",\"blue\",\"blue\",\"blue\",\"blue\",\"blue\",\"blue\",\"blue\",\"blue\",\"blue\",\"blue\",\"blue\",\"blue\",\"blue\",\"blue\",\"blue\",\"blue\",\"blue\",\"blue\",\"blue\",\"blue\",\"blue\",\"blue\",\"blue\",\"blue\",\"blue\",\"blue\",\"blue\",\"blue\",\"blue\",\"blue\",\"blue\",\"blue\",\"blue\",\"blue\",\"blue\",\"blue\",\"blue\",\"blue\",\"blue\",\"blue\",\"blue\",\"blue\",\"blue\",\"blue\",\"blue\",\"blue\",\"blue\",\"blue\",\"blue\",\"blue\",\"blue\",\"blue\",\"blue\",\"blue\",\"blue\",\"blue\",\"blue\",\"blue\",\"blue\",\"blue\",\"blue\",\"blue\",\"blue\",\"blue\",\"blue\",\"blue\",\"blue\",\"blue\",\"blue\",\"blue\",\"blue\",\"blue\",\"blue\",\"blue\",\"blue\",\"blue\",\"blue\",\"blue\",\"blue\",\"blue\",\"blue\",\"blue\",\"blue\",\"blue\",\"blue\",\"blue\",\"blue\",\"blue\",\"blue\",\"blue\",\"blue\",\"blue\",\"blue\",\"blue\",\"blue\",\"blue\",\"blue\",\"blue\",\"blue\",\"blue\",\"blue\",\"blue\",\"blue\",\"blue\",\"blue\",\"blue\",\"blue\",\"blue\",\"blue\",\"blue\",\"blue\",\"blue\",\"blue\",\"blue\",\"blue\",\"blue\",\"blue\",\"blue\",\"blue\",\"blue\",\"blue\",\"blue\",\"blue\",\"blue\",\"blue\",\"blue\",\"blue\",\"blue\",\"blue\",\"blue\",\"blue\",\"blue\",\"blue\",\"blue\",\"blue\",\"blue\",\"blue\",\"blue\",\"blue\",\"blue\",\"blue\",\"blue\",\"blue\",\"blue\",\"blue\",\"blue\",\"blue\",\"blue\",\"blue\",\"blue\",\"blue\",\"blue\",\"blue\",\"blue\",\"blue\",\"blue\",\"blue\",\"blue\",\"blue\",\"blue\",\"blue\",\"blue\",\"blue\",\"blue\",\"blue\",\"blue\",\"blue\",\"blue\",\"blue\",\"blue\",\"blue\",\"blue\",\"blue\",\"blue\",\"blue\",\"blue\",\"blue\",\"blue\",\"blue\",\"blue\",\"blue\",\"blue\",\"blue\",\"blue\",\"blue\",\"blue\",\"blue\",\"blue\",\"blue\",\"blue\",\"blue\",\"blue\",\"blue\",\"blue\",\"blue\",\"blue\",\"blue\",\"blue\",\"blue\",\"blue\",\"blue\",\"blue\",\"blue\",\"blue\",\"blue\",\"blue\",\"blue\",\"blue\",\"blue\",\"blue\",\"blue\",\"blue\",\"blue\",\"blue\",\"blue\",\"blue\",\"blue\",\"blue\",\"blue\",\"blue\",\"blue\",\"blue\",\"blue\",\"blue\",\"blue\",\"blue\",\"blue\",\"blue\",\"blue\",\"blue\",\"blue\",\"blue\",\"blue\",\"blue\",\"blue\",\"blue\",\"blue\",\"blue\",\"blue\",\"blue\",\"blue\",\"blue\",\"blue\",\"blue\",\"blue\",\"blue\",\"blue\",\"blue\",\"blue\",\"blue\",\"blue\",\"blue\",\"blue\",\"blue\",\"blue\",\"blue\",\"blue\",\"blue\",\"blue\",\"blue\",\"blue\",\"blue\",\"blue\",\"blue\",\"blue\",\"blue\",\"blue\",\"blue\",\"blue\",\"blue\",\"blue\",\"blue\",\"blue\",\"blue\",\"blue\",\"blue\",\"blue\",\"blue\",\"blue\",\"blue\",\"blue\",\"blue\",\"blue\",\"blue\",\"blue\",\"blue\",\"blue\",\"blue\",\"blue\",\"blue\",\"blue\",\"blue\",\"blue\",\"blue\",\"blue\",\"blue\",\"blue\",\"blue\",\"blue\",\"blue\",\"blue\",\"blue\",\"blue\",\"blue\",\"blue\",\"blue\",\"blue\",\"blue\",\"blue\",\"blue\",\"blue\",\"blue\",\"blue\",\"blue\",\"blue\",\"blue\",\"blue\",\"blue\",\"blue\",\"blue\",\"blue\",\"blue\",\"blue\",\"blue\",\"blue\",\"blue\",\"blue\",\"blue\",\"blue\",\"blue\",\"blue\",\"blue\",\"blue\",\"blue\",\"blue\",\"blue\",\"blue\",\"blue\",\"blue\",\"blue\",\"blue\",\"blue\",\"blue\",\"blue\",\"blue\",\"blue\",\"blue\",\"blue\",\"blue\",\"blue\",\"blue\",\"blue\",\"blue\",\"blue\",\"blue\",\"blue\",\"blue\",\"blue\",\"blue\",\"blue\",\"blue\",\"blue\",\"blue\",\"blue\",\"blue\",\"blue\",\"blue\",\"blue\",\"blue\",\"blue\",\"blue\",\"blue\",\"blue\",\"blue\",\"blue\",\"blue\",\"blue\",\"blue\",\"blue\",\"blue\",\"blue\",\"blue\",\"blue\",\"blue\",\"blue\",\"blue\",\"blue\",\"blue\",\"blue\",\"blue\",\"blue\",\"blue\",\"blue\",\"blue\",\"blue\",\"blue\",\"blue\",\"blue\",\"blue\",\"blue\",\"blue\",\"blue\",\"blue\",\"blue\",\"blue\",\"blue\",\"blue\",\"blue\",\"blue\",\"blue\",\"blue\",\"blue\",\"blue\",\"blue\",\"blue\",\"blue\",\"blue\",\"blue\",\"blue\",\"blue\",\"blue\",\"blue\",\"blue\",\"blue\",\"blue\",\"blue\",\"blue\",\"blue\",\"blue\",\"blue\",\"blue\",\"blue\",\"blue\",\"blue\",\"blue\",\"blue\",\"blue\",\"blue\",\"blue\",\"blue\",\"blue\",\"blue\",\"blue\",\"blue\",\"blue\",\"blue\",\"blue\",\"blue\",\"blue\",\"blue\",\"blue\",\"blue\",\"blue\",\"blue\",\"blue\",\"blue\",\"blue\",\"blue\",\"blue\",\"blue\",\"blue\",\"blue\",\"blue\",\"blue\",\"blue\",\"blue\",\"blue\",\"blue\",\"blue\",\"blue\",\"blue\",\"blue\",\"blue\",\"blue\",\"blue\",\"blue\",\"blue\",\"blue\",\"blue\",\"blue\",\"blue\",\"blue\",\"blue\",\"blue\",\"blue\",\"blue\",\"blue\",\"blue\",\"blue\",\"blue\",\"blue\",\"blue\",\"blue\",\"blue\",\"blue\",\"blue\",\"blue\",\"blue\",\"blue\",\"blue\",\"blue\",\"blue\",\"blue\",\"blue\",\"blue\",\"blue\",\"blue\",\"blue\",\"blue\",\"blue\",\"blue\",\"blue\",\"blue\",\"blue\",\"blue\",\"blue\",\"blue\",\"blue\",\"blue\",\"blue\",\"blue\",\"blue\",\"blue\",\"blue\",\"blue\",\"blue\",\"blue\",\"blue\",\"blue\",\"blue\",\"blue\",\"blue\",\"blue\",\"blue\",\"blue\",\"blue\",\"blue\",\"blue\",\"blue\",\"blue\",\"blue\",\"blue\",\"blue\",\"blue\",\"blue\",\"blue\",\"blue\",\"blue\",\"blue\",\"blue\",\"blue\",\"blue\",\"blue\",\"blue\",\"blue\",\"blue\",\"blue\",\"blue\",\"blue\",\"blue\",\"blue\",\"blue\",\"blue\",\"blue\",\"blue\",\"blue\",\"blue\",\"blue\",\"blue\",\"blue\",\"blue\",\"blue\",\"blue\",\"blue\",\"blue\",\"blue\",\"blue\",\"blue\",\"blue\",\"blue\",\"blue\",\"blue\",\"blue\",\"blue\",\"blue\",\"blue\",\"blue\",\"blue\",\"blue\",\"blue\",\"blue\",\"blue\",\"blue\",\"blue\",\"blue\",\"blue\",\"blue\",\"blue\",\"blue\",\"blue\",\"blue\",\"blue\",\"blue\",\"blue\",\"blue\",\"blue\",\"blue\",\"blue\",\"blue\",\"blue\",\"blue\",\"blue\",\"blue\",\"blue\",\"blue\",\"blue\",\"blue\",\"blue\",\"blue\",\"blue\",\"blue\",\"blue\",\"blue\",\"blue\",\"blue\",\"blue\",\"blue\",\"blue\",\"blue\",\"blue\",\"blue\",\"blue\",\"blue\",\"blue\",\"blue\",\"blue\",\"blue\",\"blue\",\"blue\",\"blue\"]],[\"token\",[\"verified\",\"2gb\",\"illinois\",\"jazz\",\"checking\",\"telescope\",\"seasons\",\"astrologer\",\"contribution\",\"homemade\",\"heroes\",\"warcraft\",\"kumar\",\"tester\",\"politically\",\"conquer\",\"columbia\",\"quiet\",\"repeat\",\"kapil\",\"involve\",\"mckinsey\",\"switched\",\"att\",\"instance\",\"innocent\",\"portuguese\",\"subscribers\",\"cabinet\",\"terror\",\"85\",\"rotation\",\"shirts\",\"drawn\",\"bi\",\"aspergers\",\"inspiration\",\"beats\",\"\\u00a3\",\"approximately\",\"asset\",\"empathy\",\"rooting\",\"ia\",\"dandruff\",\"slab\",\"operator\",\"horrible\",\"dominant\",\"ocd\",\"spacetime\",\"blow\",\"installing\",\"learnt\",\"separation\",\"institution\",\"temples\",\"hons\",\"pound\",\"removing\",\"unemployment\",\"greenlit\",\"audit\",\"supplement\",\"roller\",\"dota\",\"tiny\",\"equally\",\"braces\",\"aggressive\",\"corn\",\"camps\",\"additional\",\"consent\",\"granted\",\"welfare\",\"myths\",\"stations\",\"timeline\",\"psychologist\",\"nagpur\",\"herself\",\"cooper\",\"exgirlfriend\",\"intercourse\",\"flip\",\"hurts\",\"lpa\",\"nerve\",\"tvs\",\"halloween\",\"screenshot\",\"biomedical\",\"covered\",\"milky\",\"onsite\",\"aside\",\"meaningful\",\"stretch\",\"joker\",\"encounter\",\"tone\",\"founders\",\"talked\",\"respectively\",\"downloads\",\"cocaine\",\"toxic\",\"sword\",\"fuck\",\"trainer\",\"partition\",\"boxing\",\"grid\",\"practicing\",\"menu\",\"cms\",\"indore\",\"ate\",\"volunteer\",\"misconceptions\",\"pics\",\"flies\",\"instantly\",\"trans\",\"friday\",\"sociopaths\",\"ctc\",\"hoax\",\"detailed\",\"sizes\",\"rejection\",\"limitations\",\"bharat\",\"kissing\",\"renewable\",\"oriented\",\"countrys\",\"dumps\",\"spiders\",\"technological\",\"advertisement\",\"headache\",\"zodiac\",\"accommodation\",\"venus\",\"calcium\",\"passenger\",\"falls\",\"overnight\",\"pickup\",\"gary\",\"transportation\",\"odds\",\"jupiter\",\"purchasing\",\"fluently\",\"flu\",\"photons\",\"conductor\",\"ohio\",\"balaji\",\"mcdonalds\",\"betting\",\"irrational\",\"sachin\",\"deactivate\",\"estimate\",\"hairs\",\"fluent\",\"errors\",\"remaining\",\"marriages\",\"medieval\",\"charles\",\"spider\",\"oxford\",\"gita\",\"races\",\"liquor\",\"poland\",\"lease\",\"co2\",\"selenium\",\"attempts\",\"crystal\",\"manaphy\",\"knight\",\"collapsed\",\"wheels\",\"behaviour\",\"bitcoins\",\"parliament\",\"himher\",\"handsome\",\"thousands\",\"caring\",\"kings\",\"lucky\",\"workplace\",\"condom\",\"intuitive\",\"chronic\",\"eyesight\",\"simulation\",\"prank\",\"quickest\",\"concert\",\"popularity\",\"connections\",\"disorders\",\"scripting\",\"appearance\",\"js\",\"depth\",\"cheque\",\"longterm\",\"documentaries\",\"dioxide\",\"bright\",\"info\",\"diseases\",\"appeal\",\"snap\",\"smoked\",\"singers\",\"boil\",\"probably\",\"temperatures\",\"appearing\",\"olive\",\"ntse\",\"telecom\",\"brief\",\"discrimination\",\"ethnic\",\"cache\",\"passionate\",\"shoulder\",\"assault\",\"marshmallow\",\"momentum\",\"yr\",\"migrate\",\"retire\",\"cet\",\"canvas\",\"vietnamese\",\"institutions\",\"meter\",\"roots\",\"integer\",\"imported\",\"ants\",\"lyft\",\"piercing\",\"il\",\"poop\",\"organisms\",\"ve\",\"entropy\",\"calm\",\"saddest\",\"toward\",\"myth\",\"sight\",\"filling\",\"hdmi\",\"satisfied\",\"transactions\",\"pharmacy\",\"nursing\",\"correlation\",\"regression\",\"awake\",\"md\",\"nri\",\"recommendations\",\"bin\",\"finland\",\"multi\",\"voted\",\"discovery\",\"edward\",\"touching\",\"immigrant\",\"geometry\",\"indicate\",\"ourselves\",\"texting\",\"seek\",\"expecting\",\"dj\",\"brake\",\"helicopter\",\"blonde\",\"triple\",\"ladies\",\"vivekananda\",\"switching\",\"prostitution\",\"banana\",\"magazines\",\"shippuden\",\"lucknow\",\"2019\",\"failing\",\"elizabeth\",\"irish\",\"ebook\",\"temporary\",\"governor\",\"wasting\",\"weekends\",\"cpt\",\"wax\",\"labor\",\"instruments\",\"instrumentation\",\"hates\",\"hip\",\"arnab\",\"bubble\",\"employers\",\"aadhaar\",\"boyfriends\",\"jake\",\"explained\",\"yesterday\",\"beta\",\"extrovert\",\"andhra\",\"micromax\",\"vertical\",\"lay\",\"nonprofit\",\"dubbed\",\"typing\",\"automotive\",\"thomas\",\"procedures\",\"priority\",\"funded\",\"arabs\",\"siblings\",\"guinea\",\"missile\",\"luck\",\"strategic\",\"defend\",\"module\",\"tuition\",\"acids\",\"controller\",\"committee\",\"housing\",\"integral\",\"peaceful\",\"refugees\",\"prescription\",\"interns\",\"supported\",\"womans\",\"dentist\",\"wives\",\"village\",\"affecting\",\"lte\",\"beaches\",\"austin\",\"substance\",\"engagement\",\"trainee\",\"measures\",\"trailer\",\"purchased\",\"15000\",\"uttar\",\"glue\",\"dtu\",\"medal\",\"photon\",\"engg\",\"violin\",\"column\",\"somehow\",\"rotate\",\"3000\",\"virat\",\"forgotten\",\"fingers\",\"slim\",\"arrest\",\"covalent\",\"ncert\",\"kernel\",\"da\",\"alarm\",\"ngo\",\"4gb\",\"productivity\",\"planned\",\"district\",\"berlin\",\"lists\",\"leads\",\"slang\",\"defence\",\"aspiring\",\"56\",\"enemy\",\"farming\",\"muller\",\"pays\",\"liver\",\"membrane\",\"secretly\",\"plug\",\"gum\",\"eclipse\",\"chewing\",\"labs\",\"zombie\",\"authority\",\"males\",\"argentina\",\"tasks\",\"fell\",\"nails\",\"palestine\",\"tanks\",\"identical\",\"deck\",\"qualification\",\"leadership\",\"kohli\",\"pronunciation\",\"hello\",\"violent\",\"sabha\",\"respiration\",\"transform\",\"warranty\",\"faculty\",\"adolf\",\"expenses\",\"jersey\",\"mercury\",\"whiskey\",\"tackle\",\"tweet\",\"blame\",\"cruise\",\"mahindra\",\"discharge\",\"reduced\",\"vodka\",\"mahatma\",\"bass\",\"compete\",\"stains\",\"pill\",\"swim\",\"ali\",\"gf\",\"ford\",\"prince\",\"sweat\",\"performing\",\"limits\",\"leonardo\",\"cow\",\"resolve\",\"matters\",\"pharmaceutical\",\"ray\",\"remotely\",\"pf\",\"clinical\",\"bpo\",\"homeless\",\"husbands\",\"rising\",\"newtons\",\"outcome\",\"derivative\",\"alpha\",\"grown\",\"capitalism\",\"astronaut\",\"hybrid\",\"palm\",\"teens\",\"hits\",\"airplanes\",\"none\",\"admin\",\"applicable\",\"amcat\",\"spam\",\"neutrality\",\"pixel\",\"festival\",\"faces\",\"molar\",\"snakes\",\"sip\",\"kik\",\"farm\",\"ltd\",\"votes\",\"publishing\",\"comfort\",\"frontend\",\"spin\",\"diagnosed\",\"buildings\",\"\\u00b0\",\"cashless\",\"addictive\",\"extinct\",\"ugc\",\"coke\",\"llb\",\"phrases\",\"struggle\",\"drives\",\"fiber\",\"grocery\",\"achieved\",\"penny\",\"bath\",\"allies\",\"uninstall\",\"ny\",\"appears\",\"effort\",\"satellites\",\"confirmed\",\"loneliness\",\"illuminati\",\"uri\",\"lucid\",\"preferably\",\"neither\",\"\\u221a\",\"pacific\",\"americas\",\"bs\",\"graduated\",\"bills\",\"tube\",\"germans\",\"assume\",\"cleared\",\"mate\",\"divide\",\"versions\",\"fallen\",\"journey\",\"anthem\",\"certificates\",\"looked\",\"sponsor\",\"useless\",\"dependent\",\"invite\",\"guru\",\"keyword\",\"aipmt\",\"clone\",\"kgs\",\"chip\",\"origins\",\"wide\",\"motivational\",\"elite\",\"wanna\",\"unity\",\"cough\",\"connecting\",\"mystery\",\"kim\",\"syrian\",\"voldemort\",\"responsibilities\",\"molecules\",\"boobs\",\"holidays\",\"tutorial\",\"circumstances\",\"fiitjee\",\"islands\",\"bypass\",\"slowly\",\"mixture\",\"aluminum\",\"salesforce\",\"twin\",\"iot\",\"remedy\",\"sheets\",\"pole\",\"hated\",\"females\",\"protected\",\"irs\",\"insecure\",\"entering\",\"neuroscience\",\"offices\",\"delta\",\"suggestion\",\"snapdeal\",\"backstory\",\"periodic\",\"cancelled\",\"mans\",\"complicated\",\"bitsat\",\"pleasure\",\"loop\",\"dropbox\",\"selfish\",\"nude\",\"20000\",\"voter\",\"variables\",\"victory\",\"closest\",\"compensation\",\"extended\",\"locations\",\"cracked\",\"perks\",\"ended\",\"exit\",\"awareness\",\"pakistanis\",\"ebooks\",\"bull\",\"unblock\",\"100000\",\"entrepreneurship\",\"infrastructure\",\"scotland\",\"guest\",\"attacked\",\"hurting\",\"lion\",\"reject\",\"purposes\",\"knife\",\"thai\",\"ipl\",\"knee\",\"accepting\",\"spent\",\"punjabi\",\"tab\",\"quoras\",\"caffeine\",\"athletes\",\"ink\",\"cooked\",\"improving\",\"invaded\",\"allah\",\"thermodynamics\",\"mortgage\",\"firsttime\",\"achievements\",\"issued\",\"breath\",\"award\",\"llc\",\"legends\",\"mood\",\"influenced\",\"proteins\",\"holy\",\"performed\",\"pee\",\"blocks\",\"molecule\",\"interests\",\"imei\",\"requires\",\"cisco\",\"moves\",\"marrying\",\"mca\",\"perfectly\",\"iisc\",\"corporation\",\"shiva\",\"viruses\",\"difficulty\",\"50000\",\"volte\",\"shampoo\",\"secular\",\"transplant\",\"ghz\",\"ahead\",\"crew\",\"interact\",\"depend\",\"hawaii\",\"hiv\",\"evening\",\"vegetable\",\"revenge\",\"suppose\",\"busy\",\"label\",\"rogue\",\"rational\",\"hillstation\",\"brains\",\"urdu\",\"imagine\",\"salaries\",\"survey\",\"g4\",\"butt\",\"manufacturers\",\"saas\",\"residency\",\"recommendation\",\"purple\",\"fault\",\"aadhar\",\"aging\",\"bhopal\",\"conducted\",\"loses\",\"infection\",\"forest\",\"impacts\",\"collection\",\"fridge\",\"diamond\",\"mis\",\"recorded\",\"march\",\"conditioner\",\"signature\",\"listed\",\"branches\",\"manchester\",\"wanting\",\"perception\",\"absolutely\",\"servers\",\"soluble\",\"swami\",\"lumia\",\"directors\",\"52\",\"2008\",\"gaining\",\"stereotypes\",\"homes\",\"vegas\",\"jam\",\"behave\",\"relatively\",\"forum\",\"ib\",\"earphones\",\"facilities\",\"april\",\"finally\",\"tail\",\"capacitor\",\"tiger\",\"deaf\",\"deliver\",\"django\",\"expand\",\"skip\",\"nearly\",\"maybe\",\"task\",\"gateway\",\"strangest\",\"abstract\",\"adding\",\"suck\",\"tim\",\"printed\",\"sigma\",\"immigrate\",\"decline\",\"arrested\",\"95\",\"narcissistic\",\"freelancing\",\"patterns\",\"expired\",\"casual\",\"tablets\",\"patients\",\"lean\",\"pieces\",\"laymans\",\"whatever\",\"polish\",\"lemon\",\"abortion\",\"i3\",\"theorem\",\"h\",\"compulsory\",\"helped\",\"sons\",\"feminism\",\"compiler\",\"tested\",\"enhance\",\"adhd\",\"manhattan\",\"iii\",\"nail\",\"eee\",\"deals\",\"excellent\",\"ipo\",\"folder\",\"sand\",\"continuous\",\"capable\",\"libraries\",\"aggregate\",\"64\",\"bsnl\",\"profiles\",\"spirit\",\"pulled\",\"owns\",\"deloitte\",\"therapist\",\"acts\",\"millions\",\"authors\",\"marathi\",\"dvd\",\"coconut\",\"swiss\",\"interaction\",\"ncr\",\"kannada\",\"smallest\",\"advisable\",\"smartest\",\"sorry\",\"normally\",\"ends\",\"rome\",\"spectrum\",\"cousin\",\"75\",\"suzuki\",\"nights\",\"cap\",\"enable\",\"counselling\",\"proxy\",\"margin\",\"shops\",\"hackers\",\"tatkal\",\"opened\",\"cinema\",\"consumption\",\"coal\",\"silent\",\"choosing\",\"introduction\",\"electromagnetic\",\"hcl\",\"complaint\",\"puppies\",\"vc\",\"symbols\",\"lenses\",\"username\",\"arrow\",\"adopted\",\"affects\",\"sudden\",\"pcm\",\"gel\",\"affair\",\"pinterest\",\"statements\",\"supplements\",\"justified\",\"turns\",\"santa\",\"shoe\",\"trek\",\"headphone\",\"girlfriends\",\"verizon\",\"rocket\",\"conference\",\"ego\",\"srm\",\"afghanistan\",\"nucleus\",\"generated\",\"chinas\",\"ww1\",\"consultancy\",\"socially\",\"allen\",\"berkeley\",\"missed\",\"crying\",\"introduced\",\"ps3\",\"flour\",\"brought\",\"elder\",\"minecraft\",\"9th\",\"freelancer\",\"circles\",\"scars\",\"entertainment\",\"turbine\",\"deeply\",\"rom\",\"evolved\",\"nato\",\"strengths\",\"ide\",\"tweets\",\"scholarships\",\"mentor\",\"collect\",\"hdfc\",\"mandarin\",\"solo\",\"terrible\",\"influential\",\"professionals\",\"65\",\"recognition\",\"nvidia\",\"cia\",\"designs\",\"10k\",\"creation\",\"tom\",\"rated\",\"introverts\",\"boiling\",\"communism\",\"treaty\",\"whereas\",\"thanks\",\"cigarette\",\"bengaluru\",\"oneplus\",\"reserve\",\"advertise\",\"nits\",\"helping\",\"bruce\",\"mp3\",\"severe\",\"proposal\",\"cultures\",\"tap\",\"animated\",\"planes\",\"hall\",\"cognitive\",\"supports\",\"keys\",\"gotten\",\"feedback\",\"recording\",\"proceed\",\"membership\",\"console\",\"overseas\",\"hows\",\"william\",\"billionaires\",\"updated\",\"pre\",\"organizations\",\"messi\",\"unexpected\",\"nitrogen\",\"hungry\",\"nigeria\",\"sync\",\"arduino\",\"gross\",\"outer\",\"searching\",\"workers\",\"outlook\",\"europeans\",\"founder\",\"lectures\",\"legitimate\",\"camp\",\"ordinary\",\"investments\",\"bone\",\"raising\",\"quite\",\"ages\",\"joint\",\"johnson\",\"destination\",\"concerned\",\"belief\",\"refrigerator\",\"implications\",\"manga\",\"mandatory\",\"obamas\",\"lawyers\",\"bedroom\",\"icon\",\"qualifications\",\"qa\",\"bikes\",\"boston\",\"holding\",\"session\",\"appointment\",\"weaknesses\",\"iphones\",\"motorcycle\",\"schizophrenia\",\"5th\",\"intellectual\",\"eaten\",\"attending\",\"medals\",\"adsense\",\"nda\",\"6th\",\"kali\",\"georgia\",\"wechat\",\"earlier\",\"drone\",\"truck\",\"horse\",\"merchant\",\"torque\",\"seed\",\"backend\",\"holmes\",\"graduating\",\"400\",\"bones\",\"sufficient\",\"participate\",\"rifle\",\"shock\",\"downloaded\",\"earthquake\",\"breasts\",\"secretary\",\"insert\",\"damaged\",\"massive\",\"standing\",\"remainder\",\"programme\",\"holocaust\",\"totally\",\"belt\",\"affairs\",\"nokia\",\"mechanism\",\"pin\",\"scan\",\"fought\",\"superpower\",\"poetry\",\"signals\",\"educated\",\"scariest\",\"trains\",\"closer\",\"weapon\",\"icici\",\"serial\",\"bicycle\",\"terminal\",\"finished\",\"stolen\",\"inspiring\",\"cuisine\",\"spark\",\"sounds\",\"pricing\",\"click\",\"underwear\",\"kidney\",\"bengal\",\"invention\",\"discount\",\"chase\",\"evaluate\",\"distributed\",\"themes\",\"amd\",\"stem\",\"st\",\"genre\",\"vegetables\",\"council\",\"bihar\",\"thick\",\"mouse\",\"worry\",\"newly\",\"updates\",\"candy\",\"prepaid\",\"wet\",\"rap\",\"motors\",\"implemented\",\"theoretical\",\"fabric\",\"mexican\",\"portfolio\",\"technique\",\"icse\",\"expansion\",\"evolutionary\",\"justify\",\"trick\",\"attached\",\"lightning\",\"pitch\",\"armed\",\"einstein\",\"conversion\",\"iitjee\",\"declared\",\"admit\",\"acquisition\",\"innovation\",\"runs\",\"wwe\",\"trial\",\"memories\",\"refuse\",\"netherlands\",\"committed\",\"fraud\",\"jailbreak\",\"settle\",\"badly\",\"approved\",\"eligibility\",\"trend\",\"increases\",\"comic\",\"quorans\",\"cellular\",\"matches\",\"receiving\",\"bmw\",\"vlsi\",\"signed\",\"lakes\",\"350\",\"communications\",\"pork\",\"joined\",\"anyway\",\"differentiate\",\"actresses\",\"29\",\"ethics\",\"premier\",\"hearing\",\"vehicles\",\"drama\",\"instant\",\"lips\",\"dates\",\"july\",\"holiday\",\"coach\",\"malayalam\",\"superior\",\"soviet\",\"plate\",\"throw\",\"worship\",\"bars\",\"sharma\",\"mothers\",\"integrated\",\"clubs\",\"bug\",\"melbourne\",\"co\",\"bisexual\",\"regions\",\"lesson\",\"heads\",\"reader\",\"snake\",\"qualify\",\"paul\",\"causing\",\"disappear\",\"era\",\"lets\",\"qualified\",\"spiritual\",\"wolf\",\"requirement\",\"journalism\",\"studied\",\"lowest\",\"vader\",\"coursera\",\"stark\",\"configuration\",\"verbal\",\"undergrad\",\"dimensions\",\"transition\",\"efficiently\",\"interstellar\",\"locked\",\"summary\",\"chandigarh\",\"ghosts\",\"included\",\"operate\",\"dimension\",\"mount\",\"noticed\",\"rating\",\"somewhere\",\"martin\",\"bra\",\"bird\",\"zuckerberg\",\"sensor\",\"audience\",\"dirty\",\"starbucks\",\"permission\",\"residential\",\"wholesale\",\"assets\",\"clearly\",\"km\",\"invade\",\"ipcc\",\"fb\",\"shell\",\"shave\",\"loud\",\"tip\",\"seeds\",\"sets\",\"polar\",\"although\",\"june\",\"judaism\",\"anti\",\"instrument\",\"seven\",\"shooting\",\"j\",\"portal\",\"tower\",\"github\",\"linked\",\"admitted\",\"punishment\",\"mid\",\"micro\",\"cured\",\"lifestyle\",\"nor\",\"upset\",\"challenge\",\"soap\",\"standards\",\"integration\",\"lottery\",\"lab\",\"williams\",\"odd\",\"soil\",\"sensitive\",\"route\",\"tattoos\",\"coin\",\"declare\",\"frame\",\"differential\",\"bowl\",\"softwares\",\"notifications\",\"maintenance\",\"inner\",\"apples\",\"converted\",\"recruiter\",\"bombay\",\"command\",\"posting\",\"controlled\",\"balls\",\"personally\",\"poker\",\"extract\",\"hired\",\"bugs\",\"providers\",\"loans\",\"calculator\",\"attractions\",\"torrents\",\"keywords\",\"profession\",\"blogging\",\"transport\",\"sue\",\"anonymously\",\"compounds\",\"robot\",\"buddhism\",\"sweet\",\"defense\",\"nobody\",\"uc\",\"defined\",\"division\",\"bags\",\"epic\",\"unhealthy\",\"craziest\",\"urban\",\"combination\",\"pair\",\"laugh\",\"cv\",\"usd\",\"launched\",\"usps\",\"visited\",\"nexus\",\"regularly\",\"brothers\",\"broker\",\"concentrate\",\"agreement\",\"nervous\",\"frozen\",\"detail\",\"sir\",\"situations\",\"borderline\",\"angularjs\",\"abusive\",\"tourism\",\"relate\",\"august\",\"communist\",\"accountant\",\"dumb\",\"arab\",\"b2b\",\"du\",\"thermal\",\"asians\",\"threat\",\"karma\",\"passive\",\"homosexuality\",\"putting\",\"quantitative\",\"relativity\",\"sanskrit\",\"opinions\",\"verify\",\"bear\",\"roll\",\"expanding\",\"teenage\",\"jeans\",\"providing\",\"shared\",\"extreme\",\"mi\",\"vr\",\"progress\",\"greece\",\"cpu\",\"ips\",\"merge\",\"reputation\",\"loving\",\"salman\",\"iss\",\"warm\",\"dental\",\"extension\",\"attraction\",\"fictional\",\"journal\",\"login\",\"secondary\",\"recognize\",\"southern\",\"ph\",\"lunch\",\"wallet\",\"ronaldo\",\"larger\",\"actions\",\"fathers\",\"adopt\",\"claims\",\"bottom\",\"therapy\",\"patient\",\"described\",\"virginity\",\"functional\",\"ionic\",\"chartered\",\"discover\",\"55\",\"21st\",\"biased\",\"mad\",\"northern\",\"onto\",\"liberals\",\"premium\",\"neutral\",\"detect\",\"diagram\",\"sperm\",\"ga\",\"bleach\",\"spread\",\"contributions\",\"activate\",\"prior\",\"safest\",\"holder\",\"360\",\"aim\",\"rental\",\"families\",\"everybody\",\"shut\",\"payments\",\"150\",\"cube\",\"vegan\",\"newspaper\",\"beef\",\"houses\",\"preferred\",\"simultaneously\",\"marked\",\"reactions\",\"emergency\",\"protection\",\"cab\",\"forex\",\"norway\",\"immigrants\",\"googles\",\"ssb\",\"wing\",\"yrs\",\"ensure\",\"spy\",\"reasoning\",\"strange\",\"forgive\",\"turkish\",\"tag\",\"ranking\",\"platforms\",\"fox\",\"existed\",\"walmart\",\"lazy\",\"ears\",\"clock\",\"beam\",\"rare\",\"bush\",\"2011\",\"stops\",\"batteries\",\"certified\",\"naked\",\"worldwide\",\"staying\",\"lifetime\",\"ted\",\"lake\",\"wealthy\",\"transit\",\"stephen\",\"rural\",\"versa\",\"pets\",\"commonly\",\"adults\",\"ultimate\",\"genius\",\"vinegar\",\"allows\",\"aid\",\"retirement\",\"airtel\",\"sciences\",\"mountain\",\"drinks\",\"tour\",\"wind\",\"seattle\",\"disabled\",\"bodies\",\"lesbian\",\"governments\",\"kinetic\",\"tumblr\",\"absolute\",\"author\",\"toilet\",\"whey\",\"sleepy\",\"molecular\",\"watches\",\"inventions\",\"rain\",\"34\",\"angular\",\"o\",\"dish\",\"however\",\"agents\",\"abs\",\"switzerland\",\"transformer\",\"clearing\",\"consciousness\",\"broadband\",\"uae\",\"automatic\",\"opposed\",\"geography\",\"astronauts\",\"decisions\",\"cement\",\"induction\",\"luxury\",\"upvotes\",\"politicians\",\"posted\",\"toefl\",\"kitchen\",\"noise\",\"radius\",\"dye\",\"miles\",\"risks\",\"scientifically\",\"mnc\",\"propose\",\"prepared\",\"iiit\",\"mention\",\"equipment\",\"darth\",\"january\",\"surname\",\"raised\",\"attitude\",\"gta\",\"david\",\"hike\",\"awkward\",\"proven\",\"productive\",\"lg\",\"filled\",\"atmosphere\",\"lee\",\"irctc\",\"addicted\",\"dynamic\",\"employment\",\"weekend\",\"replacement\",\"singing\",\"owners\",\"bipolar\",\"tomorrow\",\"poems\",\"default\",\"kvpy\",\"sauce\",\"competitors\",\"russians\",\"sample\",\"crimes\",\"hang\",\"inspired\",\"furniture\",\"throughout\",\"presence\",\"efficiency\",\"leg\",\"biological\",\"pilani\",\"conversations\",\"inspirational\",\"bachelor\",\"centers\",\"withdraw\",\"fundamental\",\"comparison\",\"november\",\"fifa\",\"penalty\",\"algebra\",\"joke\",\"htc\",\"pilots\",\"collapse\",\"texts\",\"vocabulary\",\"moved\",\"sc\",\"smile\",\"october\",\"dot\",\"genetic\",\"architect\",\"url\",\"51\",\"sore\",\"uniform\",\"re\",\"rails\",\"smaller\",\"marine\",\"terrorists\",\"nazi\",\"breast\",\"politician\",\"subtitles\",\"chosen\",\"egypt\",\"thin\",\"packages\",\"editor\",\"bands\",\"mythology\",\"reasonable\",\"permit\",\"acceptable\",\"seriously\",\"iraq\",\"fever\",\"visitor\",\"honest\",\"friction\",\"offering\",\"smarter\",\"ahmedabad\",\"replaced\",\"resolution\",\"burning\",\"bridge\",\"catholic\",\"calendar\",\"resident\",\"policies\",\"forced\",\"leading\",\"arm\",\"deserve\",\"context\",\"coolest\",\"arranged\",\"arizona\",\"comics\",\"harm\",\"democrats\",\"jail\",\"breed\",\"anywhere\",\"psu\",\"christ\",\"violence\",\"agriculture\",\"objective\",\"moments\",\"infinity\",\"supporting\",\"critical\",\"trees\",\"beyond\",\"bag\",\"vitamin\",\"assembly\",\"solved\",\"array\",\"perspective\",\"pas\",\"wwii\",\"skinny\",\"contains\",\"lift\",\"cleaning\",\"peter\",\"aap\",\"pimples\",\"initial\",\"lesserknown\",\"sights\",\"principles\",\"realize\",\"millionaire\",\"faux\",\"orbit\",\"desire\",\"hi\",\"prophet\",\"suits\",\"careers\",\"thinks\",\"quantity\",\"spots\",\"wage\",\"asleep\",\"sociology\",\"guard\",\"units\",\"structural\",\"operation\",\"pants\",\"w\",\"bulk\",\"possibly\",\"drunk\",\"fired\",\"accident\",\"inch\",\"bottle\",\"aerospace\",\"narcissist\",\"ux\",\"angeles\",\"wood\",\"index\",\"safely\",\"robotics\",\"edition\",\"metals\",\"practices\",\"scheme\",\"interior\",\"diabetes\",\"nobel\",\"youth\",\"lived\",\"september\",\"chief\",\"proposed\",\"assuming\",\"sin\",\"counter\",\"disable\",\"introduce\",\"restore\",\"swimming\",\"intern\",\"answering\",\"mentioned\",\"crash\",\"laser\",\"teenagers\",\"presentation\",\"quran\",\"classified\",\"demonetisation\",\"communicate\",\"cotton\",\"autism\",\"anger\",\"environmental\",\"stable\",\"7th\",\"bread\",\"invited\",\"wisdom\",\"wrote\",\"widely\",\"minor\",\"formal\",\"dreaming\",\"managers\",\"escape\",\"pollution\",\"taiwan\",\"verification\",\"los\",\"figures\",\"26\",\"illness\",\"sides\",\"compatible\",\"pack\",\"conspiracy\",\"hedge\",\"flights\",\"dropped\",\"former\",\"suffer\",\"aware\",\"designers\",\"mahabharata\",\"evolve\",\"weigh\",\"dies\",\"fruits\",\"cc\",\"butter\",\"sharing\",\"atoms\",\"tongue\",\"transaction\",\"poverty\",\"suffering\",\"presidents\",\"resistance\",\"adam\",\"civilization\",\"mining\",\"toronto\",\"stick\",\"increased\",\"wild\",\"freelance\",\"removal\",\"aws\",\"rio\",\"principle\",\"asus\",\"cute\",\"consumer\",\"pool\",\"variable\",\"tutorials\",\"advance\",\"keeping\",\"visible\",\"cognizant\",\"equations\",\"rooms\",\"krishna\",\"printer\",\"tooth\",\"mentally\",\"realistic\",\"automobile\",\"cake\",\"tie\",\"beach\",\"ghost\",\"comfortable\",\"mysql\",\"oral\",\"closed\",\"helps\",\"maharashtra\",\"admissions\",\"i5\",\"partners\",\"axis\",\"beliefs\",\"neck\",\"clans\",\"hidden\",\"cyber\",\"voting\",\"bacteria\",\"layer\",\"chhattisgarh\",\"5000\",\"sitting\",\"murder\",\"argument\",\"f\",\"privacy\",\"syndrome\",\"2010\",\"bite\",\"vacation\",\"isro\",\"trouble\",\"records\",\"answered\",\"digit\",\"defeat\",\"childhood\",\"5s\",\"gates\",\"f1\",\"town\",\"anal\",\"copper\",\"talks\",\"affiliate\",\"sociopath\",\"installed\",\"static\",\"copyright\",\"animation\",\"donate\",\"stranger\",\"bcom\",\"destroyed\",\"gujarat\",\"foundation\",\"prize\",\"components\",\"foreigner\",\"arms\",\"unlimited\",\"needing\",\"settings\",\"item\",\"eve\",\"competition\",\"landing\",\"beard\",\"patent\",\"ending\",\"2020\",\"incident\",\"petroleum\",\"florida\",\"particularly\",\"ups\",\"generator\",\"leather\",\"heal\",\"experiment\",\"28\",\"passing\",\"talent\",\"remote\",\"300\",\"published\",\"impossible\",\"steam\",\"80\",\"washing\",\"guilty\",\"punjab\",\"70\",\"album\",\"bullet\",\"paris\",\"interface\",\"agencies\",\"mission\",\"digits\",\"modis\",\"recruitment\",\"manipal\",\"telling\",\"meal\",\"orange\",\"stone\",\"links\",\"ab\",\"upper\",\"cameras\",\"p\",\"combat\",\"passion\",\"shower\",\"thailand\",\"beings\",\"grad\",\"27\",\"finger\",\"jump\",\"lights\",\"ui\",\"bba\",\"sweden\",\"arrive\",\"4th\",\"amendment\",\"window\",\"satellite\",\"al\",\"matlab\",\"jokes\",\"muhammad\",\"expression\",\"booking\",\"dinner\",\"skype\",\"lots\",\"2018\",\"teen\",\"finish\",\"dslr\",\"mens\",\"proud\",\"entrepreneurs\",\"ukraine\",\"coins\",\"scenario\",\"transmission\",\"ignore\",\"pride\",\"contribute\",\"grand\",\"curve\",\"false\",\"operations\",\"breakup\",\"eventually\",\"acquire\",\"commission\",\"lies\",\"spoken\",\"pills\",\"masturbating\",\"jackson\",\"airbnb\",\"delivered\",\"disk\",\"radiation\",\"plays\",\"marvel\",\"particle\",\"breakfast\",\"smartphones\",\"relevant\",\"quota\",\"refund\",\"inches\",\"telugu\",\"angel\",\"eastern\",\"inflation\",\"predict\",\"annoying\",\"obc\",\"tough\",\"conduct\",\"originate\",\"notification\",\"backup\",\"harder\",\"richest\",\"pronounce\",\"sri\",\"wheel\",\"wasnt\",\"oldest\",\"sheet\",\"soda\",\"20s\",\"wipro\",\"awesome\",\"facial\",\"z\",\"noida\",\"confident\",\"fbi\",\"corrupt\",\"succeed\",\"reddit\",\"associate\",\"input\",\"guns\",\"rahul\",\"baking\",\"description\",\"musical\",\"apache\",\"nowadays\",\"fluid\",\"capacity\",\"loose\",\"freshman\",\"cfa\",\"optional\",\"theres\",\"ps4\",\"trends\",\"jon\",\"richard\",\"legit\",\"nodejs\",\"document\",\"sexually\",\"particles\",\"singer\",\"printing\",\"captain\",\"valuable\",\"several\",\"aiims\",\"boot\",\"sit\",\"zone\",\"billionaire\",\"floor\",\"gravitational\",\"export\",\"motivation\",\"golden\",\"transgender\",\"healthcare\",\"heaven\",\"81\",\"leaves\",\"listening\",\"overall\",\"press\",\"dishes\",\"railways\",\"warming\",\"enfield\",\"extent\",\"acceleration\",\"afford\",\"bonds\",\"border\",\"registration\",\"cast\",\"hope\",\"shipping\",\"karnataka\",\"specifically\",\"opportunity\",\"arabia\",\"pump\",\"pg\",\"carrier\",\"plot\",\"kingdom\",\"contract\",\"painful\",\"kindle\",\"boring\",\"essential\",\"disney\",\"charger\",\"seconds\",\"measured\",\"honda\",\"ba\",\"makeup\",\"\\u2013\",\"mini\",\"annual\",\"traits\",\"retrieve\",\"willing\",\"swift\",\"consume\",\"hindus\",\"psychopath\",\"tells\",\"solving\",\"conditions\",\"artists\",\"spotify\",\"bomb\",\"integrate\",\"stuck\",\"nikon\",\"gadgets\",\"womens\",\"judge\",\"republicans\",\"vacuum\",\"felt\",\"putin\",\"tennis\",\"concentration\",\"fans\",\"constantly\",\"matrix\",\"secrets\",\"spot\",\"soft\",\"stored\",\"neural\",\"submit\",\"scores\",\"ola\",\"wire\",\"gdp\",\"jaipur\",\"typically\",\"airline\",\"roles\",\"cheaper\",\"machines\",\"shift\",\"impress\",\"basics\",\"32\",\"conservative\",\"birds\",\"tend\",\"duty\",\"setup\",\"rude\",\"pink\",\"church\",\"mine\",\"jack\",\"sending\",\"cooking\",\"versus\",\"expert\",\"olympic\",\"biotechnology\",\"gurgaon\",\"worked\",\"codes\",\"successfully\",\"hardware\",\"faith\",\"pr\",\"television\",\"compound\",\"vit\",\"universal\",\"thank\",\"grammatically\",\"chicago\",\"ivy\",\"worried\",\"enterprise\",\"sodium\",\"railway\",\"remedies\",\"racism\",\"tracking\",\"psychological\",\"apartment\",\"magazine\",\"martial\",\"beauty\",\"waiting\",\"attacks\",\"horror\",\"fantasy\",\"ma\",\"select\",\"increasing\",\"metro\",\"opt\",\"map\",\"watched\",\"gear\",\"icloud\",\"james\",\"comedy\",\"lollipop\",\"ireland\",\"upcoming\",\"italian\",\"oven\",\"emotionally\",\"decided\",\"lakh\",\"grey\",\"kept\",\"produced\",\"mouth\",\"manual\",\"dhoni\",\"fill\",\"throat\",\"shoot\",\"liked\",\"innovative\",\"immediately\",\"lonely\",\"fighting\",\"max\",\"accidentally\",\"schedule\",\"orgasm\",\"rape\",\"ride\",\"muscles\",\"graduates\",\"taller\",\"boost\",\"lakhs\",\"microwave\",\"electrons\",\"upon\",\"attract\",\"ap\",\"abuse\",\"earths\",\"forever\",\"underrated\",\"facing\",\"terrorist\",\"alien\",\"celebrity\",\"frequently\",\"vpn\",\"wales\",\"powder\",\"superman\",\"mixed\",\"caught\",\"goods\",\"beginning\",\"starts\",\"atomic\",\"associated\",\"triangle\",\"parties\",\"banning\",\"k\",\"honey\",\"monitor\",\"graph\",\"leaders\",\"embedded\",\"juice\",\"split\",\"lady\",\"sequence\",\"911\",\"harassment\",\"nepal\",\"pop\",\"habit\",\"setting\",\"edge\",\"ww2\",\"gps\",\"federal\",\"charged\",\"lying\",\"empty\",\"whenever\",\"airplane\",\"jet\",\"destroy\",\"ies\",\"wouldnt\",\"quick\",\"decrease\",\"robert\",\"pradesh\",\"professors\",\"massage\",\"held\",\"spending\",\"markets\",\"objects\",\"chart\",\"mechanics\",\"silver\",\"usage\",\"basketball\",\"gen\",\"periods\",\"identity\",\"individuals\",\"css\",\"soul\",\"ipod\",\"chest\",\"understanding\",\"coast\",\"classic\",\"spain\",\"babies\",\"sd\",\"hostel\",\"shirt\",\"further\",\"logical\",\"franchise\",\"obtain\",\"foreigners\",\"fully\",\"region\",\"designed\",\"cheated\",\"beneficial\",\"shes\",\"accent\",\"couldnt\",\"queen\",\"sick\",\"blowing\",\"properly\",\"stronger\",\"returns\",\"condition\",\"musk\",\"ugly\",\"teams\",\"filter\",\"snow\",\"glasses\",\"employer\",\"solid\",\"followed\",\"embarrassing\",\"auto\",\"meeting\",\"belong\",\"strike\",\"internships\",\"bachelors\",\"administration\",\"temple\",\"wealth\",\"retail\",\"speakers\",\"electoral\",\"headphones\",\"streaming\",\"mirror\",\"diesel\",\"republic\",\"antivirus\",\"customers\",\"atm\",\"vagina\",\"cigarettes\",\"aptitude\",\"lewis\",\"saudi\",\"puppy\",\"recovery\",\"jimmy\",\"obsessed\",\"domestic\",\"pen\",\"batch\",\"de\",\"drawing\",\"ai\",\"medium\",\"simply\",\"photoshop\",\"sms\",\"turning\",\"nadu\",\"appropriate\",\"adobe\",\"substitute\",\"fruit\",\"recipes\",\"fighter\",\"saving\",\"greater\",\"cheat\",\"routine\",\"push\",\"sherlock\",\"arguments\",\"sony\",\"import\",\"soldiers\",\"charges\",\"emotions\",\"ibm\",\"un\",\"innovations\",\"itunes\",\"consultant\",\"iims\",\"relations\",\"psychopaths\",\"existing\",\"angle\",\"clash\",\"bus\",\"australian\",\"crazy\",\"pull\",\"theories\",\"savings\",\"suit\",\"contrast\",\"calculus\",\"pi\",\"credits\",\"bluetooth\",\"himself\",\"traveling\",\"criminal\",\"xiaomi\",\"zealand\",\"seats\",\"electron\",\"script\",\"11th\",\"lessons\",\"programmers\",\"december\",\"flag\",\"singh\",\"arabic\",\"sale\",\"nfl\",\"grammar\",\"killing\",\"virgin\",\"differently\",\"poem\",\"provided\",\"automation\",\"shy\",\"translation\",\"mathematical\",\"45\",\"celebrities\",\"spring\",\"downloading\",\"dr\",\"organization\",\"majority\",\"clients\",\"hd\",\"motivate\",\"thats\",\"thesis\",\"door\",\"weakest\",\"saw\",\"canon\",\"younger\",\"costs\",\"river\",\"rings\",\"factory\",\"decent\",\"clintons\",\"holes\",\"desert\",\"divorce\",\"sold\",\"cheese\",\"atom\",\"taught\",\"minute\",\"ocean\",\"crisis\",\"represent\",\"surgical\",\"parent\",\"brexit\",\"possibility\",\"longest\",\"edit\",\"scholarship\",\"motivated\",\"chocolate\",\"faced\",\"90\",\"parallel\",\"foot\",\"examination\",\"friendly\",\"kinds\",\"wins\",\"islamic\",\"degrees\",\"registered\",\"distribution\",\"junior\",\"gave\",\"sing\",\"articles\",\"hadoop\",\"saved\",\"hero\",\"ear\",\"asks\",\"improved\",\"teenager\",\"forms\",\"wash\",\"provides\",\"washington\",\"strikes\",\"binary\",\"syria\",\"indonesia\",\"powers\",\"highly\",\"heshe\",\"happiness\",\"director\",\"citizenship\",\"knew\",\"humanity\",\"translate\",\"nba\",\"permanently\",\"soccer\",\"todays\",\"challenges\",\"barack\",\"title\",\"latin\",\"fitness\",\"genuine\",\"investor\",\"dislike\",\"scenes\",\"hacker\",\"bangladesh\",\"ebay\",\"earning\",\"dell\",\"paytm\",\"spouse\",\"bored\",\"roman\",\"official\",\"dragon\",\"park\",\"except\",\"habits\",\"quote\",\"astrology\",\"congress\",\"automatically\",\"island\",\"religions\",\"christianity\",\"supreme\",\"owner\",\"hell\",\"wikipedia\",\"cancel\",\"industries\",\"actress\",\"client\",\"visual\",\"michael\",\"remain\",\"ability\",\"concrete\",\"conflict\",\"string\",\"linear\",\"supposed\",\"engines\",\"2012\",\"\\u2018\",\"lesser\",\"traditional\",\"episodes\",\"goals\",\"tata\",\"opening\",\"target\",\"weak\",\"anonymous\",\"bjp\",\"resource\",\"concepts\",\"ruby\",\"friendship\",\"nyc\",\"pretty\",\"implement\",\"painting\",\"ill\",\"agency\",\"reverse\",\"confused\",\"italy\",\"response\",\"yellow\",\"dance\",\"contain\",\"vice\",\"editing\",\"acting\",\"weirdest\",\"feels\",\"govt\",\"accounting\",\"rise\",\"wise\",\"leaving\",\"lens\",\"artist\",\"arvind\",\"pattern\",\"scared\",\"attention\",\"airlines\",\"sky\",\"malaysia\",\"port\",\"attempt\",\"element\",\"classical\",\"shown\",\"safety\",\"including\",\"tablet\",\"la\",\"terrorism\",\"commit\",\"maps\",\"african\",\"viewed\",\"calling\",\"6s\",\"agent\",\"output\",\"justice\",\"don\",\"addiction\",\"lock\",\"vegetarian\",\"britain\",\"percent\",\"meditation\",\"ibps\",\"monthly\",\"writers\",\"forward\",\"stuff\",\"mr\",\"ready\",\"forgot\",\"flying\",\"recommended\",\"fields\",\"blind\",\"l\",\"hinduism\",\"desktop\",\"host\",\"tattoo\",\"maintain\",\"boards\",\"helpful\",\"semester\",\"load\",\"tier\",\"agree\",\"factor\",\"elon\",\"freshers\",\"sql\",\"cases\",\"exact\",\"confidence\",\"behavior\",\"hacked\",\"quotes\",\"hydrogen\",\"pakistani\",\"masturbate\",\"divided\",\"skill\",\"fine\",\"falling\",\"chess\",\"charging\",\"pages\",\"vector\",\"supporters\",\"waste\",\"sanders\",\"affordable\",\"unlock\",\"techniques\",\"wine\",\"keyboard\",\"cm\",\"wireless\",\"lawyer\",\"egg\",\"cope\",\"mindblowing\",\"recipe\",\"corruption\",\"scored\",\"secure\",\"teaching\",\"opposite\",\"educational\",\"bernie\",\"y\",\"library\",\"models\",\"kid\",\"stack\",\"separate\",\"19\",\"extremely\",\"properties\",\"cable\",\"magic\",\"removed\",\"computing\",\"hospital\",\"beer\",\"christians\",\"twice\",\"kg\",\"consulting\",\"whose\",\"serious\",\"petrol\",\"travelling\",\"revolution\",\"custom\",\"structures\",\"guide\",\"celebrate\",\"lenovo\",\"turned\",\"ielts\",\"grades\",\"fuel\",\"relative\",\"oracle\",\"academy\",\"lack\",\"passed\",\"relation\",\"values\",\"movement\",\"strategies\",\"eu\",\"emotional\",\"legs\",\"pokemon\",\"3g\",\"iran\",\"mostly\",\"jewish\",\"offered\",\"log\",\"hasnt\",\"explanation\",\"signal\",\"stores\",\"syllabus\",\"bits\",\"yoga\",\"weapons\",\"gods\",\"10000\",\"delivery\",\"gb\",\"sum\",\"letters\",\"venture\",\"selection\",\"winning\",\"35\",\"comment\",\"consequences\",\"sport\",\"items\",\"seems\",\"ring\",\"jealous\",\"laptops\",\"criteria\",\"fresh\",\"reference\",\"bitcoin\",\"infinite\",\"perform\",\"brazil\",\"density\",\"plans\",\"hosting\",\"clothing\",\"hong\",\"dying\",\"heavy\",\"steve\",\"gone\",\"damage\",\"missing\",\"ethical\",\"republican\",\"contacts\",\"activity\",\"electronic\",\"qualities\",\"piano\",\"hisher\",\"repair\",\"posts\",\"disease\",\"winter\",\"ten\",\"publish\",\"paint\",\"physically\",\"executive\",\"deposit\",\"elements\",\"xbox\",\"ceo\",\"visitors\",\"discovered\",\"tickets\",\"literature\",\"primary\",\"naturally\",\"senior\",\"u\",\"hardest\",\"debate\",\"frequency\",\"vietnam\",\"cry\",\"assistant\",\"gifts\",\"practical\",\"funny\",\"valid\",\"liberal\",\"refer\",\"beat\",\"shape\",\"institutes\",\"msc\",\"internal\",\"located\",\"significant\",\"scientists\",\"g\",\"ship\",\"proper\",\"independence\",\"added\",\"hes\",\"catch\",\"urine\",\"effectively\",\"named\",\"responsible\",\"strength\",\"whos\",\"immigration\",\"vehicle\",\"tesla\",\"kong\",\"meth\",\"england\",\"huge\",\"pizza\",\"rejected\",\"george\",\"fan\",\"salt\",\"browser\",\"sat\",\"loved\",\"fees\",\"walking\",\"symbol\",\"equity\",\"ubuntu\",\"alternatives\",\"theme\",\"virus\",\"manufacturing\",\"cutoff\",\"pure\",\"22\",\"introvert\",\"unable\",\"greek\",\"rice\",\"gst\",\"happening\",\"centre\",\"kiss\",\"prison\",\"bigger\",\"font\",\"construction\",\"exercises\",\"keeps\",\"gmat\",\"offers\",\"cross\",\"nasa\",\"unit\",\"advertising\",\"cup\",\"fixed\",\"limited\",\"billion\",\"subjects\",\"arts\",\"worlds\",\"stupid\",\"breaking\",\"funding\",\"tank\",\"generate\",\"efficient\",\"exists\",\"atheist\",\"entrepreneur\",\"direction\",\"broken\",\"offline\",\"firms\",\"station\",\"magnetic\",\"include\",\"aliens\",\"tinder\",\"logo\",\"photography\",\"worse\",\"besides\",\"path\",\"somebody\",\"interviews\",\"persons\",\"figure\",\"placed\",\"nation\",\"knows\",\"unmarried\",\"hp\",\"profitable\",\"tricks\",\"boss\",\"reply\",\"scam\",\"circle\",\"processor\",\"debt\",\"growing\",\"royal\",\"fiction\",\"department\",\"mistake\",\"weird\",\"graphics\",\"external\",\"article\",\"volume\",\"scratch\",\"chain\",\"protect\",\"storage\",\"texas\",\"liquid\",\"circuit\",\"graphic\",\"tired\",\"weather\",\"oxygen\",\"velocity\",\"dad\",\"band\",\"teachers\",\"drugs\",\"complex\",\"studio\",\"accenture\",\"leader\",\"levels\",\"goal\",\"logic\",\"acne\",\"plastic\",\"motion\",\"button\",\"peoples\",\"vision\",\"gap\",\"dollar\",\"computers\",\"stomach\",\"sources\",\"constant\",\"draw\",\"dress\",\"calculated\",\"sort\",\"3rd\",\"club\",\"channels\",\"creating\",\"candidates\",\"kejriwal\",\"broke\",\"sentences\",\"format\",\"emails\",\"raw\",\"stanford\",\"completed\",\"documents\",\"pan\",\"showing\",\"enter\",\"unknown\",\"bought\",\"router\",\"claim\",\"six\",\"technologies\",\"\\u20b9\",\"flipkart\",\"infosys\",\"mutual\",\"angry\",\"iits\",\"affected\",\"prices\",\"shares\",\"naruto\",\"processing\",\"finding\",\"democratic\",\"evolution\",\"harmful\",\"dual\",\"virtual\",\"member\",\"wave\",\"actual\",\"extra\",\"radio\",\"citizens\",\"e\",\"hr\",\"previous\",\"stopped\",\"walk\",\"redmi\",\"speaker\",\"torrent\",\"smoke\",\"mistakes\",\"flash\",\"iron\",\"entire\",\"individual\",\"express\",\"flow\",\"mode\",\"aircraft\",\"section\",\"planets\",\"10th\",\"respond\",\"easier\",\"evil\",\"percentile\",\"seeing\",\"calories\",\"upgrade\",\"professor\",\"v\",\"launch\",\"staff\",\"till\",\"silicon\",\"entry\",\"constitution\",\"century\",\"notice\",\"ie\",\"atheists\",\"tests\",\"21\",\"became\",\"kerala\",\"truly\",\"count\",\"essay\",\"papers\",\"accurate\",\"colors\",\"respect\",\"ideal\",\"rock\",\"reliance\",\"peace\",\"masturbation\",\"audio\",\"random\",\"independent\",\"colour\",\"hotels\",\"presidency\",\"generation\",\"paypal\",\"shot\",\"central\",\"released\",\"occur\",\"display\",\"industrial\",\"particular\",\"risk\",\"eg\",\"belly\",\"pet\",\"similarities\",\"organic\",\"marijuana\",\"networks\",\"aspects\",\"flat\",\"d\",\"comments\",\"nose\",\"identify\",\"rbi\",\"improvement\",\"directly\",\"framework\",\"suggestions\",\"designing\",\"brands\",\"religious\",\"influence\",\"novels\",\"statistics\",\"historical\",\"ground\",\"commerce\",\"pregnancy\",\"romantic\",\"failure\",\"wearing\",\"john\",\"apart\",\"bay\",\"symptoms\",\"200\",\"couple\",\"60\",\"canadian\",\"lie\",\"print\",\"carry\",\"gender\",\"experienced\",\"pounds\",\"reservation\",\"either\",\"stage\",\"artificial\",\"fit\",\"blogs\",\"developing\",\"environment\",\"learned\",\"copy\",\"phase\",\"bond\",\"democracy\",\"cgpa\",\"operating\",\"surface\",\"officers\",\"h1b\",\"ip\",\"workout\",\"fee\",\"elected\",\"hands\",\"largest\",\"sad\",\"shouldnt\",\"seat\",\"sister\",\"developers\",\"despite\",\"scene\",\"po\",\"diploma\",\"request\",\"empire\",\"ratio\",\"considering\",\"academic\",\"tree\",\"register\",\"advantage\",\"eligible\",\"nit\",\"shop\",\"intel\",\"funniest\",\"alternative\",\"fail\",\"ads\",\"nature\",\"miss\",\"involved\",\"overrated\",\"attend\",\"freedom\",\"dna\",\"beginners\",\"raise\",\"dry\",\"failed\",\"legally\",\"batman\",\"upload\",\"carbon\",\"regret\",\"applied\",\"points\",\"investors\",\"pick\",\"equivalent\",\"connected\",\"christmas\",\"lyrics\",\"nations\",\"caused\",\"bsc\",\"1st\",\"action\",\"activities\",\"biology\",\"hide\",\"asia\",\"takes\",\"require\",\"alive\",\"mom\",\"cycle\",\"generally\",\"campaign\",\"fair\",\"wake\",\"bit\",\"rules\",\"olympics\",\"racist\",\"areas\",\"eggs\",\"feature\",\"sap\",\"taxes\",\"ad\",\"shall\",\"theyre\",\"species\",\"pilot\",\"firm\",\"fish\",\"define\",\"doctors\",\"piece\",\"itself\",\"bang\",\"solutions\",\"iim\",\"2013\",\"wanted\",\"length\",\"burn\",\"waves\",\"bar\",\"gives\",\"forces\",\"christian\",\"anybody\",\"relationships\",\"nice\",\"wedding\",\"various\",\"brother\",\"films\",\"cream\",\"suddenly\",\"philippines\",\"fashion\",\"truth\",\"gpa\",\"cgl\",\"tall\",\"goa\",\"hacking\",\"statement\",\"reset\",\"materials\",\"played\",\"match\",\"usb\",\"novel\",\"unusual\",\"knowing\",\"selected\",\"valley\",\"chrome\",\"couples\",\"becomes\",\"died\",\"cheating\",\"community\",\"groups\",\"category\",\"pursuing\",\"writer\",\"mexico\",\"anymore\",\"sugar\",\"climate\",\"brown\",\"players\",\"ii\",\"reviews\",\"took\",\"led\",\"connection\",\"begin\",\"html\",\"changing\",\"received\",\"plants\",\"debit\",\"record\",\"revenue\",\"mars\",\"strongest\",\"members\",\"formed\",\"union\",\"thought\",\"existence\",\"kashmir\",\"gandhi\",\"pdf\",\"banned\",\"0\",\"plane\",\"treated\",\"electricity\",\"scale\",\"basis\",\"moral\",\"images\",\"methods\",\"certification\",\"voltage\",\"style\",\"base\",\"excel\",\"amazing\",\"regarding\",\"result\",\"rates\",\"hold\",\"indias\",\"airport\",\"businesses\",\"feet\",\"built\",\"linkedin\",\"signs\",\"above\",\"networking\",\"r\",\"shopping\",\"looks\",\"went\",\"placements\",\"bed\",\"experiences\",\"daughter\",\"tourist\",\"employee\",\"caste\",\"wait\",\"direct\",\"especially\",\"feed\",\"continue\",\"expected\",\"algorithm\",\"depressed\",\"shoes\",\"soon\",\"supply\",\"stress\",\"24\",\"inr\",\"foods\",\"rent\",\"architecture\",\"ban\",\"entrance\",\"actors\",\"messenger\",\"unique\",\"kolkata\",\"funds\",\"rupee\",\"promote\",\"rupees\",\"jews\",\"23\",\"cook\",\"cultural\",\"accepted\",\"hear\",\"glass\",\"road\",\"joining\",\"measure\",\"havent\",\"metal\",\"resume\",\"afraid\",\"turkey\",\"meat\",\"goes\",\"installation\",\"netflix\",\"benefit\",\"demand\",\"release\",\"produce\",\"report\",\"cover\",\"changes\",\"double\",\"2nd\",\"reaction\",\"killed\",\"steel\",\"requirements\",\"france\",\"exchange\",\"ac\",\"quantum\",\"reliable\",\"box\",\"results\",\"lives\",\"treatment\",\"4g\",\"ece\",\"probability\",\"sleeping\",\"philosophy\",\"handle\",\"forget\",\"driver\",\"demonetization\",\"algorithms\",\"trade\",\"rule\",\"muscle\",\"calls\",\"tried\",\"mental\",\"sure\",\"quit\",\"navy\",\"achieve\",\"francisco\",\"location\",\"until\",\"sense\",\"anxiety\",\"wordpress\",\"focus\",\"fact\",\"production\",\"conversation\",\"motor\",\"five\",\"attracted\",\"hit\",\"analyst\",\"moto\",\"isis\",\"chicken\",\"sector\",\"permanent\",\"along\",\"king\",\"slow\",\"candidate\",\"minutes\",\"purchase\",\"gun\",\"selling\",\"usually\",\"\\u2026\",\"fly\",\"round\",\"panel\",\"error\",\"stocks\",\"api\",\"remember\",\"africa\",\"paying\",\"hitler\",\"3d\",\"regular\",\"losing\",\"mail\",\"yahoo\",\"cheapest\",\"older\",\"concept\",\"characters\",\"definition\",\"lines\",\"pm\",\"cloud\",\"cats\",\"russian\",\"ipad\",\"korean\",\"proof\",\"battle\",\"stars\",\"stream\",\"recent\",\"typical\",\"performance\",\"harvard\",\"restaurant\",\"origin\",\"listen\",\"smell\",\"decide\",\"serve\",\"undergraduate\",\"profit\",\"situation\",\"surgery\",\"asking\",\"plant\",\"link\",\"square\",\"completing\",\"four\",\"trust\",\"payment\",\"gym\",\"andor\",\"worklife\",\"guitar\",\"elections\",\"half\",\"investing\",\"scientist\",\"street\",\"needs\",\"native\",\"thoughts\",\"reality\",\"40\",\"medicine\",\"race\",\"choice\",\"longer\",\"came\",\"applying\",\"hiring\",\"west\",\"weed\",\"hacks\",\"step\",\"sea\",\"crime\",\"devices\",\"event\",\"citizen\",\"14\",\"17\",\"ticket\",\"fund\",\"equation\",\"suicide\",\"whom\",\"met\",\"almost\",\"designer\",\"local\",\"departments\",\"khan\",\"customer\",\"banking\",\"javascript\",\"trip\",\"issue\",\"react\",\"cannot\",\"dubai\",\"wall\",\"touch\",\"parts\",\"loves\",\"clothes\",\"straight\",\"sexual\",\"active\",\"inpatient\",\"dreams\",\"protein\",\"table\",\"exercise\",\"lord\",\"mtech\",\"creative\",\"ball\",\"speaking\",\"son\",\"receive\",\"dollars\",\"domain\",\"prospects\",\"hour\",\"graduation\",\"commercial\",\"themselves\",\"factors\",\"jesus\",\"programmer\",\"recommend\",\"replace\",\"chat\",\"placement\",\"episode\",\"fastest\",\"restaurants\",\"object\",\"drivers\",\"gaming\",\"mark\",\"taste\",\"seem\",\"perfect\",\"potential\",\"trumps\",\"appear\",\"rights\",\"equal\",\"rest\",\"package\",\"meant\",\"drop\",\"cool\",\"material\",\"potter\",\"events\",\"convince\",\"completely\",\"n\",\"zero\",\"significance\",\"lower\",\"feelings\",\"followers\",\"evidence\",\"certain\",\"later\",\"original\",\"bible\",\"disorder\",\"testing\",\"via\",\"stand\",\"actor\",\"characteristics\",\"cities\",\"reach\",\"ago\",\"mbbs\",\"speech\",\"electric\",\"approach\",\"scientific\",\"root\",\"analytics\",\"below\",\"grade\",\"mains\",\"topic\",\"fun\",\"ancient\",\"adult\",\"standard\",\"ice\",\"everyday\",\"population\",\"invented\",\"european\",\"intelligent\",\"11\",\"subject\",\"rehab\",\"background\",\"giving\",\"platform\",\"flight\",\"thrones\",\"maths\",\"dc\",\"teeth\",\"mit\",\"weeks\",\"east\",\"means\",\"programs\",\"beginner\",\"heat\",\"third\",\"tea\",\"range\",\"london\",\"maximum\",\"enjoy\",\"2000\",\"cells\",\"quickly\",\"here\",\"expensive\",\"phrase\",\"partner\",\"league\",\"anime\",\"latest\",\"specific\",\"whether\",\"functions\",\"os\",\"fire\",\"saying\",\"secret\",\"13\",\"planet\",\"hole\",\"super\",\"teacher\",\"strong\",\"accounts\",\"minister\",\"database\",\"economic\",\"channel\",\"estate\",\"ram\",\"switch\",\"asian\",\"smoking\",\"branch\",\"israel\",\"18\",\"features\",\"success\",\"lead\",\"total\",\"key\",\"master\",\"ok\",\"favourite\",\"psychology\",\"pok\\u00e9mon\",\"nothing\",\"clean\",\"25\",\"politics\",\"drinking\",\"sometimes\",\"recently\",\"korea\",\"sent\",\"poor\",\"hindu\",\"hollywood\",\"survive\",\"cure\",\"property\",\"return\",\"narendra\",\"budget\",\"sports\",\"limit\",\"arent\",\"boys\",\"driving\",\"whole\",\"cash\",\"smartphone\",\"php\",\"developed\",\"ssc\",\"hot\",\"attractive\",\"tool\",\"physical\",\"ecommerce\",\"sbi\",\"morning\",\"animal\",\"multiple\",\"loan\",\"acid\",\"fresher\",\"spanish\",\"moving\",\"decision\",\"county\",\"determined\",\"becoming\",\"seo\",\"summer\",\"manage\",\"server\",\"competitive\",\"milk\",\"importance\",\"banks\",\"cheap\",\"powerful\",\"issues\",\"penis\",\"according\",\"analysis\",\"bike\",\"position\",\"western\",\"advanced\",\"campus\",\"highest\",\"front\",\"court\",\"status\",\"gravity\",\"positions\",\"comes\",\"steps\",\"complete\",\"electronics\",\"won\",\"hurt\",\"certificate\",\"temperature\",\"player\",\"someones\",\"communication\",\"million\",\"talking\",\"preparing\",\"finance\",\"cancer\",\"9\",\"harry\",\"accept\",\"2014\",\"plus\",\"born\",\"tcs\",\"license\",\"bring\",\"teach\",\"practice\",\"trading\",\"m\",\"might\",\"opportunities\",\"global\",\"wish\",\"outside\",\"attack\",\"procedure\",\"needed\",\"update\",\"coffee\",\"provider\",\"rather\",\"16\",\"allow\",\"tamil\",\"mix\",\"connect\",\"room\",\"watching\",\"deep\",\"york\",\"image\",\"birth\",\"sign\",\"birthday\",\"playing\",\"wars\",\"grads\",\"hire\",\"phones\",\"cbse\",\"details\",\"clear\",\"cricket\",\"dangerous\",\"track\",\"corporate\",\"voice\",\"upsc\",\"content\",\"okay\",\"san\",\"heart\",\"far\",\"heard\",\"prove\",\"positive\",\"moment\",\"sales\",\"opinion\",\"engineers\",\"block\",\"diet\",\"coding\",\"core\",\"baby\",\"father\",\"little\",\"large\",\"blocked\",\"distance\",\"land\",\"simple\",\"husband\",\"told\",\"traffic\",\"prevent\",\"pictures\",\"planning\",\"fear\",\"classes\",\"towards\",\"technical\",\"building\",\"trying\",\"photo\",\"early\",\"uses\",\"sydney\",\"startups\",\"act\",\"id\",\"describe\",\"12th\",\"may\",\"formula\",\"gets\",\"present\",\"wont\",\"cut\",\"treat\",\"mathematics\",\"visiting\",\"eye\",\"policy\",\"close\",\"cse\",\"suitable\",\"version\",\"tools\",\"head\",\"minimum\",\"chennai\",\"easily\",\"method\",\"intelligence\",\"gre\",\"mother\",\"doctor\",\"macbook\",\"deleted\",\"gas\",\"suggest\",\"cards\",\"files\",\"loss\",\"art\",\"easiest\",\"late\",\"among\",\"together\",\"depression\",\"higher\",\"alone\",\"economics\",\"dead\",\"growth\",\"insurance\",\"gold\",\"necessary\",\"neet\",\"blog\",\"example\",\"memory\",\"crack\",\"consider\",\"works\",\"currency\",\"recruit\",\"pursue\",\"strategy\",\"young\",\"cs\",\"projects\",\"50\",\"manager\",\"abroad\",\"schools\",\"illegal\",\"inside\",\"stories\",\"hand\",\"t\",\"greatest\",\"personality\",\"galaxy\",\"device\",\"views\",\"user\",\"chemistry\",\"cars\",\"iq\",\"prefer\",\"picture\",\"nuclear\",\"middle\",\"applications\",\"gmail\",\"laws\",\"final\",\"capital\",\"kids\",\"society\",\"fake\",\"bill\",\"save\",\"though\",\"likely\",\"determine\",\"shows\",\"character\",\"snapchat\",\"youre\",\"eyes\",\"islam\",\"marry\",\"brand\",\"yet\",\"impact\",\"speak\",\"within\",\"rich\",\"resources\",\"net\",\"non\",\"pressure\",\"changed\",\"allowed\",\"obama\",\"cold\",\"running\",\"feeling\",\"jio\",\"football\",\"gift\",\"written\",\"buying\",\"mac\",\"spend\",\"prime\",\"blue\",\"train\",\"studies\",\"negative\",\"thinking\",\"solution\",\"sun\",\"least\",\"following\",\"install\",\"else\",\"muslims\",\"camera\",\"vote\",\"linux\",\"expect\",\"german\",\"recover\",\"starting\",\"crush\",\"coming\",\"muslim\",\"modern\",\"battery\",\"provide\",\"access\",\"presidential\",\"interest\",\"dating\",\"pro\",\"likes\",\"french\",\"singapore\",\"useful\",\"already\",\"professional\",\"percentage\",\"drink\",\"created\",\"board\",\"passport\",\"structure\",\"case\",\"height\",\"microsoft\",\"break\",\"screen\",\"names\",\"chance\",\"special\",\"30\",\"skin\",\"natural\",\"color\",\"interested\",\"amount\",\"pain\",\"healthy\",\"hack\",\"messages\",\"ias\",\"gay\",\"disadvantages\",\"pass\",\"moon\",\"systems\",\"hindi\",\"financial\",\"taken\",\"yes\",\"sim\",\"pregnant\",\"faster\",\"animals\",\"internship\",\"let\",\"photos\",\"balance\",\"sound\",\"due\",\"knowledge\",\"charge\",\"message\",\"officer\",\"solar\",\"military\",\"meet\",\"option\",\"reading\",\"across\",\"overcome\",\"everyone\",\"everything\",\"wife\",\"reduce\",\"chances\",\"samsung\",\"income\",\"bollywood\",\"season\",\"europe\",\"boy\",\"currently\",\"ex\",\"smart\",\"california\",\"engine\",\"paid\",\"army\",\"contact\",\"address\",\"wants\",\"ones\",\"gain\",\"reasons\",\"avoid\",\"please\",\"note\",\"known\",\"pune\",\"film\",\"national\",\"once\",\"users\",\"porn\",\"scope\",\"twitter\",\"drug\",\"rank\",\"japan\",\"fight\",\"transfer\",\"political\",\"green\",\"news\",\"self\",\"uber\",\"basic\",\"british\",\"religion\",\"hyderabad\",\"topics\",\"explain\",\"phd\",\"eating\",\"letter\",\"calculate\",\"ive\",\"tech\",\"personal\",\"japanese\",\"check\",\"hotel\",\"wifi\",\"beautiful\",\"difficult\",\"paper\",\"languages\",\"investment\",\"develop\",\"north\",\"electrical\",\"ios\",\"alcohol\",\"exactly\",\"profile\",\"past\",\"exams\",\"ca\",\"convert\",\"vs\",\"understand\",\"care\",\"dream\",\"try\",\"americans\",\"lost\",\"chemical\",\"source\",\"b\",\"admission\",\"easy\",\"must\",\"three\",\"effect\",\"view\",\"options\",\"page\",\"away\",\"red\",\"said\",\"line\",\"short\",\"happy\",\"security\",\"dark\",\"preparation\",\"second\",\"fat\",\"matter\",\"few\",\"since\",\"role\",\"pc\",\"office\",\"team\",\"delete\",\"cell\",\"election\",\"economy\",\"term\",\"dogs\",\"text\",\"female\",\"effective\",\"brain\",\"share\",\"digital\",\"btech\",\"russia\",\"\\u201c\",\"party\",\"numbers\",\"20\",\"store\",\"male\",\"mass\",\"turn\",\"left\",\"married\",\"rs\",\"taking\",\"those\",\"password\",\"follow\",\"advice\",\"isnt\",\"15\",\"types\",\"network\",\"\\u201d\",\"week\",\"purpose\",\"related\",\"fix\",\"started\",\"courses\",\"masters\",\"grow\",\"8\",\"fast\",\"leave\",\"100\",\"often\",\"found\",\"pros\",\"marriage\",\"cons\",\"quality\",\"words\",\"kill\",\"price\",\"near\",\"modi\",\"enough\",\"search\",\"python\",\"x\",\"blood\",\"math\",\"yourself\",\"drive\",\"size\",\"star\",\"graduate\",\"majors\",\"500\",\"model\",\"studying\",\"general\",\"oil\",\"colleges\",\"area\",\"developer\",\"germany\",\"industry\",\"full\",\"training\",\"says\",\"period\",\"videos\",\"universe\",\"fall\",\"daily\",\"information\",\"foreign\",\"credit\",\"force\",\"12\",\"youve\",\"south\",\"offer\",\"set\",\"add\",\"send\",\"australia\",\"center\",\"1000\",\"famous\",\"2015\",\"lot\",\"function\",\"tax\",\"correct\",\"solve\",\"advantages\",\"coaching\",\"institute\",\"effects\",\"guys\",\"again\",\"group\",\"hours\",\"side\",\"sentence\",\"low\",\"similar\",\"plan\",\"children\",\"answers\",\"talk\",\"marks\",\"ideas\",\"theory\",\"death\",\"compared\",\"night\",\"remove\",\"dog\",\"anything\",\"single\",\"successful\",\"gate\",\"indians\",\"put\",\"problems\",\"move\",\"writing\",\"point\",\"invest\",\"asked\",\"biggest\",\"others\",\"stock\",\"notes\",\"story\",\"machine\",\"private\",\"sell\",\"seen\",\"required\",\"field\",\"file\",\"rate\",\"humans\",\"application\",\"face\",\"sites\",\"mind\",\"facts\",\"mumbai\",\"post\",\"stay\",\"child\",\"terms\",\"products\",\"control\",\"legal\",\"police\",\"didnt\",\"level\",\"worst\",\"hate\",\"visit\",\"called\",\"amazon\",\"causes\",\"health\",\"form\",\"physics\",\"iit\",\"skills\",\"times\",\"medical\",\"based\",\"list\",\"websites\",\"die\",\"part\",\"less\",\"benefits\",\"apple\",\"instead\",\"these\",\"boyfriend\",\"sleep\",\"canada\",\"reason\",\"education\",\"cause\",\"jee\",\"value\",\"today\",\"media\",\"public\",\"happened\",\"product\",\"research\",\"main\",\"behind\",\"international\",\"project\",\"uk\",\"differ\",\"7\",\"places\",\"wear\",\"order\",\"date\",\"etc\",\"small\",\"songs\",\"apps\",\"email\",\"given\",\"wrong\",\"site\",\"normal\",\"culture\",\"also\",\"civil\",\"city\",\"available\",\"house\",\"exist\",\"startup\",\"services\",\"ms\",\"both\",\"down\",\"2017\",\"run\",\"cat\",\"well\",\"space\",\"join\",\"deal\",\"games\",\"visa\",\"rid\",\"air\",\"speed\",\"popular\",\"problem\",\"support\",\"current\",\"pakistan\",\"choose\",\"build\",\"idea\",\"america\",\"whatsapp\",\"affect\",\"law\",\"technology\",\"call\",\"6\",\"universities\",\"family\",\"marketing\",\"major\",\"actually\",\"favorite\",\"light\",\"bangalore\",\"woman\",\"because\",\"type\",\"program\",\"looking\",\"living\",\"open\",\"believe\",\"month\",\"able\",\"management\",\"travel\",\"degree\",\"show\",\"interesting\",\"score\",\"months\",\"series\",\"chinese\",\"development\",\"end\",\"code\",\"design\",\"per\",\"employees\",\"review\",\"clinton\",\"common\",\"kind\",\"internet\",\"song\",\"download\",\"course\",\"parents\",\"jobs\",\"such\",\"increase\",\"java\",\"god\",\"another\",\"united\",\"girlfriend\",\"mechanical\",\"always\",\"next\",\"never\",\"around\",\"tips\",\"mba\",\"myself\",\"hillary\",\"apply\",\"answer\",\"something\",\"considered\",\"making\",\"differences\",\"market\",\"compare\",\"great\",\"keep\",\"test\",\"s\",\"win\",\"against\",\"states\",\"earn\",\"youtube\",\"worth\",\"delhi\",\"energy\",\"laptop\",\"american\",\"lose\",\"each\",\"hard\",\"makes\",\"age\",\"ask\",\"safe\",\"body\",\"power\",\"salary\",\"4\",\"watch\",\"white\",\"windows\",\"instagram\",\"history\",\"pay\",\"every\",\"last\",\"create\",\"relationship\",\"music\",\"too\",\"meaning\",\"state\",\"average\",\"earth\",\"got\",\"process\",\"class\",\"tv\",\"eat\",\"done\",\"happens\",\"days\",\"big\",\"off\",\"improve\",\"future\",\"place\",\"man\",\"human\",\"government\",\"play\",\"countries\",\"food\",\"service\",\"students\",\"weight\",\"game\",\"engineer\",\"write\",\"very\",\"interview\",\"web\",\"tell\",\"social\",\"girls\",\"video\",\"look\",\"having\",\"guy\",\"home\",\"hair\",\"usa\",\"doesnt\",\"word\",\"bank\",\"friend\",\"true\",\"experience\",\"career\",\"president\",\"question\",\"own\",\"china\",\"come\",\"under\",\"working\",\"him\",\"doing\",\"donald\",\"friends\",\"right\",\"5\",\"cost\",\"mobile\",\"even\",\"movies\",\"then\",\"c\",\"\\u2019\",\"exam\",\"men\",\"learning\",\"card\",\"war\",\"read\",\"programming\",\"black\",\"anyone\",\"high\",\"10\",\"companies\",\"car\",\"getting\",\"give\",\"important\",\"questions\",\"cant\",\"iphone\",\"website\",\"top\",\"water\",\"prepare\",\"during\",\"real\",\"say\",\"system\",\"name\",\"through\",\"two\",\"1\",\"our\",\"study\",\"3\",\"university\",\"made\",\"back\",\"happen\",\"stop\",\"student\",\"sex\",\"bad\",\"language\",\"going\",\"same\",\"before\",\"software\",\"school\",\"live\",\"country\",\"android\",\"science\",\"help\",\"she\",\"see\",\"thing\",\"women\",\"over\",\"data\",\"examples\",\"computer\",\"had\",\"ways\",\"change\",\"while\",\"book\",\"english\",\"account\",\"still\",\"movie\",\"books\",\"2016\",\"facebook\",\"free\",\"number\",\"college\",\"app\",\"2\",\"just\",\"now\",\"no\",\"trump\",\"company\",\"only\",\"old\",\"been\",\"google\",\"phone\",\"long\",\"different\",\"girl\",\"his\",\"her\",\"years\",\"really\",\"them\",\"using\",\"business\",\"need\",\"being\",\"buy\",\"day\",\"person\",\"things\",\"possible\",\"could\",\"were\",\"its\",\"love\",\"engineering\",\"im\",\"used\",\"online\",\"go\",\"year\",\"he\",\"into\",\"feel\",\"dont\",\"first\",\"up\"]]]}}},\"view\":{\"type\":\"object\",\"name\":\"CDSView\",\"id\":\"p1047\",\"attributes\":{\"filter\":{\"type\":\"object\",\"name\":\"AllIndices\",\"id\":\"p1048\"}}},\"glyph\":{\"type\":\"object\",\"name\":\"Scatter\",\"id\":\"p1043\",\"attributes\":{\"x\":{\"type\":\"field\",\"field\":\"x\"},\"y\":{\"type\":\"field\",\"field\":\"y\"},\"size\":{\"type\":\"value\",\"value\":10},\"line_color\":{\"type\":\"field\",\"field\":\"color\"},\"line_alpha\":{\"type\":\"value\",\"value\":0.25},\"fill_color\":{\"type\":\"field\",\"field\":\"color\"},\"fill_alpha\":{\"type\":\"value\",\"value\":0.25},\"hatch_color\":{\"type\":\"field\",\"field\":\"color\"},\"hatch_alpha\":{\"type\":\"value\",\"value\":0.25}}},\"nonselection_glyph\":{\"type\":\"object\",\"name\":\"Scatter\",\"id\":\"p1044\",\"attributes\":{\"x\":{\"type\":\"field\",\"field\":\"x\"},\"y\":{\"type\":\"field\",\"field\":\"y\"},\"size\":{\"type\":\"value\",\"value\":10},\"line_color\":{\"type\":\"field\",\"field\":\"color\"},\"line_alpha\":{\"type\":\"value\",\"value\":0.1},\"fill_color\":{\"type\":\"field\",\"field\":\"color\"},\"fill_alpha\":{\"type\":\"value\",\"value\":0.1},\"hatch_color\":{\"type\":\"field\",\"field\":\"color\"},\"hatch_alpha\":{\"type\":\"value\",\"value\":0.1}}},\"muted_glyph\":{\"type\":\"object\",\"name\":\"Scatter\",\"id\":\"p1045\",\"attributes\":{\"x\":{\"type\":\"field\",\"field\":\"x\"},\"y\":{\"type\":\"field\",\"field\":\"y\"},\"size\":{\"type\":\"value\",\"value\":10},\"line_color\":{\"type\":\"field\",\"field\":\"color\"},\"line_alpha\":{\"type\":\"value\",\"value\":0.2},\"fill_color\":{\"type\":\"field\",\"field\":\"color\"},\"fill_alpha\":{\"type\":\"value\",\"value\":0.2},\"hatch_color\":{\"type\":\"field\",\"field\":\"color\"},\"hatch_alpha\":{\"type\":\"value\",\"value\":0.2}}}}}],\"toolbar\":{\"type\":\"object\",\"name\":\"Toolbar\",\"id\":\"p1014\",\"attributes\":{\"tools\":[{\"type\":\"object\",\"name\":\"PanTool\",\"id\":\"p1027\"},{\"type\":\"object\",\"name\":\"WheelZoomTool\",\"id\":\"p1028\",\"attributes\":{\"renderers\":\"auto\"}},{\"type\":\"object\",\"name\":\"BoxZoomTool\",\"id\":\"p1029\",\"attributes\":{\"dimensions\":\"both\",\"overlay\":{\"type\":\"object\",\"name\":\"BoxAnnotation\",\"id\":\"p1030\",\"attributes\":{\"syncable\":false,\"line_color\":\"black\",\"line_alpha\":1.0,\"line_width\":2,\"line_dash\":[4,4],\"fill_color\":\"lightgrey\",\"fill_alpha\":0.5,\"level\":\"overlay\",\"visible\":false,\"left\":{\"type\":\"number\",\"value\":\"nan\"},\"right\":{\"type\":\"number\",\"value\":\"nan\"},\"top\":{\"type\":\"number\",\"value\":\"nan\"},\"bottom\":{\"type\":\"number\",\"value\":\"nan\"},\"left_units\":\"canvas\",\"right_units\":\"canvas\",\"top_units\":\"canvas\",\"bottom_units\":\"canvas\",\"handles\":{\"type\":\"object\",\"name\":\"BoxInteractionHandles\",\"id\":\"p1036\",\"attributes\":{\"all\":{\"type\":\"object\",\"name\":\"AreaVisuals\",\"id\":\"p1035\",\"attributes\":{\"fill_color\":\"white\",\"hover_fill_color\":\"lightgray\"}}}}}}}},{\"type\":\"object\",\"name\":\"SaveTool\",\"id\":\"p1037\"},{\"type\":\"object\",\"name\":\"ResetTool\",\"id\":\"p1038\"},{\"type\":\"object\",\"name\":\"HelpTool\",\"id\":\"p1039\"},{\"type\":\"object\",\"name\":\"HoverTool\",\"id\":\"p1049\",\"attributes\":{\"renderers\":\"auto\",\"tooltips\":[[\"token\",\"@token\"]]}}],\"active_scroll\":{\"id\":\"p1028\"}}},\"left\":[{\"type\":\"object\",\"name\":\"LinearAxis\",\"id\":\"p1022\",\"attributes\":{\"ticker\":{\"type\":\"object\",\"name\":\"BasicTicker\",\"id\":\"p1023\",\"attributes\":{\"mantissas\":[1,2,5]}},\"formatter\":{\"type\":\"object\",\"name\":\"BasicTickFormatter\",\"id\":\"p1024\"},\"major_label_policy\":{\"type\":\"object\",\"name\":\"AllLabels\",\"id\":\"p1025\"}}}],\"below\":[{\"type\":\"object\",\"name\":\"LinearAxis\",\"id\":\"p1017\",\"attributes\":{\"ticker\":{\"type\":\"object\",\"name\":\"BasicTicker\",\"id\":\"p1018\",\"attributes\":{\"mantissas\":[1,2,5]}},\"formatter\":{\"type\":\"object\",\"name\":\"BasicTickFormatter\",\"id\":\"p1019\"},\"major_label_policy\":{\"type\":\"object\",\"name\":\"AllLabels\",\"id\":\"p1020\"}}}],\"center\":[{\"type\":\"object\",\"name\":\"Grid\",\"id\":\"p1021\",\"attributes\":{\"axis\":{\"id\":\"p1017\"}}},{\"type\":\"object\",\"name\":\"Grid\",\"id\":\"p1026\",\"attributes\":{\"dimension\":1,\"axis\":{\"id\":\"p1022\"}}}]}}]}};\n",
       "  const render_items = [{\"docid\":\"9d0938ec-910d-4f43-91c6-150bc41f1eb1\",\"roots\":{\"p1006\":\"d6d009e4-09ee-44e4-862a-d00b3b00d34a\"},\"root_ids\":[\"p1006\"]}];\n",
       "  void root.Bokeh.embed.embed_items_notebook(docs_json, render_items);\n",
       "  }\n",
       "  if (root.Bokeh !== undefined) {\n",
       "    embed_document(root);\n",
       "  } else {\n",
       "    let attempts = 0;\n",
       "    const timer = setInterval(function(root) {\n",
       "      if (root.Bokeh !== undefined) {\n",
       "        clearInterval(timer);\n",
       "        embed_document(root);\n",
       "      } else {\n",
       "        attempts++;\n",
       "        if (attempts > 100) {\n",
       "          clearInterval(timer);\n",
       "          console.log(\"Bokeh: ERROR: Unable to run BokehJS code because BokehJS library is missing\");\n",
       "        }\n",
       "      }\n",
       "    }, 10, root)\n",
       "  }\n",
       "})(window);"
      ],
      "application/vnd.bokehjs_exec.v0+json": ""
     },
     "metadata": {
      "application/vnd.bokehjs_exec.v0+json": {
       "id": "p1006"
      }
     },
     "output_type": "display_data"
    },
    {
     "data": {
      "text/html": [
       "<div style=\"display: table;\"><div style=\"display: table-row;\"><div style=\"display: table-cell;\"><b title=\"bokeh.plotting._figure.figure\">figure</b>(</div><div style=\"display: table-cell;\">id&nbsp;=&nbsp;'p1006', <span id=\"p1053\" style=\"cursor: pointer;\">&hellip;)</span></div></div><div class=\"p1052\" style=\"display: none;\"><div style=\"display: table-cell;\"></div><div style=\"display: table-cell;\">above&nbsp;=&nbsp;[],</div></div><div class=\"p1052\" style=\"display: none;\"><div style=\"display: table-cell;\"></div><div style=\"display: table-cell;\">align&nbsp;=&nbsp;'auto',</div></div><div class=\"p1052\" style=\"display: none;\"><div style=\"display: table-cell;\"></div><div style=\"display: table-cell;\">aspect_ratio&nbsp;=&nbsp;None,</div></div><div class=\"p1052\" style=\"display: none;\"><div style=\"display: table-cell;\"></div><div style=\"display: table-cell;\">aspect_scale&nbsp;=&nbsp;1,</div></div><div class=\"p1052\" style=\"display: none;\"><div style=\"display: table-cell;\"></div><div style=\"display: table-cell;\">attribution&nbsp;=&nbsp;[],</div></div><div class=\"p1052\" style=\"display: none;\"><div style=\"display: table-cell;\"></div><div style=\"display: table-cell;\">background_fill_alpha&nbsp;=&nbsp;1.0,</div></div><div class=\"p1052\" style=\"display: none;\"><div style=\"display: table-cell;\"></div><div style=\"display: table-cell;\">background_fill_color&nbsp;=&nbsp;'#ffffff',</div></div><div class=\"p1052\" style=\"display: none;\"><div style=\"display: table-cell;\"></div><div style=\"display: table-cell;\">background_hatch_alpha&nbsp;=&nbsp;1.0,</div></div><div class=\"p1052\" style=\"display: none;\"><div style=\"display: table-cell;\"></div><div style=\"display: table-cell;\">background_hatch_color&nbsp;=&nbsp;'black',</div></div><div class=\"p1052\" style=\"display: none;\"><div style=\"display: table-cell;\"></div><div style=\"display: table-cell;\">background_hatch_extra&nbsp;=&nbsp;{},</div></div><div class=\"p1052\" style=\"display: none;\"><div style=\"display: table-cell;\"></div><div style=\"display: table-cell;\">background_hatch_pattern&nbsp;=&nbsp;None,</div></div><div class=\"p1052\" style=\"display: none;\"><div style=\"display: table-cell;\"></div><div style=\"display: table-cell;\">background_hatch_scale&nbsp;=&nbsp;12.0,</div></div><div class=\"p1052\" style=\"display: none;\"><div style=\"display: table-cell;\"></div><div style=\"display: table-cell;\">background_hatch_weight&nbsp;=&nbsp;1.0,</div></div><div class=\"p1052\" style=\"display: none;\"><div style=\"display: table-cell;\"></div><div style=\"display: table-cell;\">below&nbsp;=&nbsp;[LinearAxis(id='p1017', ...)],</div></div><div class=\"p1052\" style=\"display: none;\"><div style=\"display: table-cell;\"></div><div style=\"display: table-cell;\">border_fill_alpha&nbsp;=&nbsp;1.0,</div></div><div class=\"p1052\" style=\"display: none;\"><div style=\"display: table-cell;\"></div><div style=\"display: table-cell;\">border_fill_color&nbsp;=&nbsp;'#ffffff',</div></div><div class=\"p1052\" style=\"display: none;\"><div style=\"display: table-cell;\"></div><div style=\"display: table-cell;\">border_hatch_alpha&nbsp;=&nbsp;1.0,</div></div><div class=\"p1052\" style=\"display: none;\"><div style=\"display: table-cell;\"></div><div style=\"display: table-cell;\">border_hatch_color&nbsp;=&nbsp;'black',</div></div><div class=\"p1052\" style=\"display: none;\"><div style=\"display: table-cell;\"></div><div style=\"display: table-cell;\">border_hatch_extra&nbsp;=&nbsp;{},</div></div><div class=\"p1052\" style=\"display: none;\"><div style=\"display: table-cell;\"></div><div style=\"display: table-cell;\">border_hatch_pattern&nbsp;=&nbsp;None,</div></div><div class=\"p1052\" style=\"display: none;\"><div style=\"display: table-cell;\"></div><div style=\"display: table-cell;\">border_hatch_scale&nbsp;=&nbsp;12.0,</div></div><div class=\"p1052\" style=\"display: none;\"><div style=\"display: table-cell;\"></div><div style=\"display: table-cell;\">border_hatch_weight&nbsp;=&nbsp;1.0,</div></div><div class=\"p1052\" style=\"display: none;\"><div style=\"display: table-cell;\"></div><div style=\"display: table-cell;\">center&nbsp;=&nbsp;[Grid(id='p1021', ...), Grid(id='p1026', ...)],</div></div><div class=\"p1052\" style=\"display: none;\"><div style=\"display: table-cell;\"></div><div style=\"display: table-cell;\">context_menu&nbsp;=&nbsp;'auto',</div></div><div class=\"p1052\" style=\"display: none;\"><div style=\"display: table-cell;\"></div><div style=\"display: table-cell;\">css_classes&nbsp;=&nbsp;[],</div></div><div class=\"p1052\" style=\"display: none;\"><div style=\"display: table-cell;\"></div><div style=\"display: table-cell;\">css_variables&nbsp;=&nbsp;{},</div></div><div class=\"p1052\" style=\"display: none;\"><div style=\"display: table-cell;\"></div><div style=\"display: table-cell;\">disabled&nbsp;=&nbsp;False,</div></div><div class=\"p1052\" style=\"display: none;\"><div style=\"display: table-cell;\"></div><div style=\"display: table-cell;\">elements&nbsp;=&nbsp;[],</div></div><div class=\"p1052\" style=\"display: none;\"><div style=\"display: table-cell;\"></div><div style=\"display: table-cell;\">extra_x_ranges&nbsp;=&nbsp;{},</div></div><div class=\"p1052\" style=\"display: none;\"><div style=\"display: table-cell;\"></div><div style=\"display: table-cell;\">extra_x_scales&nbsp;=&nbsp;{},</div></div><div class=\"p1052\" style=\"display: none;\"><div style=\"display: table-cell;\"></div><div style=\"display: table-cell;\">extra_y_ranges&nbsp;=&nbsp;{},</div></div><div class=\"p1052\" style=\"display: none;\"><div style=\"display: table-cell;\"></div><div style=\"display: table-cell;\">extra_y_scales&nbsp;=&nbsp;{},</div></div><div class=\"p1052\" style=\"display: none;\"><div style=\"display: table-cell;\"></div><div style=\"display: table-cell;\">flow_mode&nbsp;=&nbsp;'block',</div></div><div class=\"p1052\" style=\"display: none;\"><div style=\"display: table-cell;\"></div><div style=\"display: table-cell;\">frame_align&nbsp;=&nbsp;True,</div></div><div class=\"p1052\" style=\"display: none;\"><div style=\"display: table-cell;\"></div><div style=\"display: table-cell;\">frame_height&nbsp;=&nbsp;None,</div></div><div class=\"p1052\" style=\"display: none;\"><div style=\"display: table-cell;\"></div><div style=\"display: table-cell;\">frame_width&nbsp;=&nbsp;None,</div></div><div class=\"p1052\" style=\"display: none;\"><div style=\"display: table-cell;\"></div><div style=\"display: table-cell;\">height&nbsp;=&nbsp;400,</div></div><div class=\"p1052\" style=\"display: none;\"><div style=\"display: table-cell;\"></div><div style=\"display: table-cell;\">height_policy&nbsp;=&nbsp;'auto',</div></div><div class=\"p1052\" style=\"display: none;\"><div style=\"display: table-cell;\"></div><div style=\"display: table-cell;\">hidpi&nbsp;=&nbsp;True,</div></div><div class=\"p1052\" style=\"display: none;\"><div style=\"display: table-cell;\"></div><div style=\"display: table-cell;\">hold_render&nbsp;=&nbsp;False,</div></div><div class=\"p1052\" style=\"display: none;\"><div style=\"display: table-cell;\"></div><div style=\"display: table-cell;\">html_attributes&nbsp;=&nbsp;{},</div></div><div class=\"p1052\" style=\"display: none;\"><div style=\"display: table-cell;\"></div><div style=\"display: table-cell;\">html_id&nbsp;=&nbsp;None,</div></div><div class=\"p1052\" style=\"display: none;\"><div style=\"display: table-cell;\"></div><div style=\"display: table-cell;\">js_event_callbacks&nbsp;=&nbsp;{},</div></div><div class=\"p1052\" style=\"display: none;\"><div style=\"display: table-cell;\"></div><div style=\"display: table-cell;\">js_property_callbacks&nbsp;=&nbsp;{},</div></div><div class=\"p1052\" style=\"display: none;\"><div style=\"display: table-cell;\"></div><div style=\"display: table-cell;\">left&nbsp;=&nbsp;[LinearAxis(id='p1022', ...)],</div></div><div class=\"p1052\" style=\"display: none;\"><div style=\"display: table-cell;\"></div><div style=\"display: table-cell;\">lod_factor&nbsp;=&nbsp;10,</div></div><div class=\"p1052\" style=\"display: none;\"><div style=\"display: table-cell;\"></div><div style=\"display: table-cell;\">lod_interval&nbsp;=&nbsp;300,</div></div><div class=\"p1052\" style=\"display: none;\"><div style=\"display: table-cell;\"></div><div style=\"display: table-cell;\">lod_threshold&nbsp;=&nbsp;2000,</div></div><div class=\"p1052\" style=\"display: none;\"><div style=\"display: table-cell;\"></div><div style=\"display: table-cell;\">lod_timeout&nbsp;=&nbsp;500,</div></div><div class=\"p1052\" style=\"display: none;\"><div style=\"display: table-cell;\"></div><div style=\"display: table-cell;\">margin&nbsp;=&nbsp;None,</div></div><div class=\"p1052\" style=\"display: none;\"><div style=\"display: table-cell;\"></div><div style=\"display: table-cell;\">match_aspect&nbsp;=&nbsp;False,</div></div><div class=\"p1052\" style=\"display: none;\"><div style=\"display: table-cell;\"></div><div style=\"display: table-cell;\">max_height&nbsp;=&nbsp;None,</div></div><div class=\"p1052\" style=\"display: none;\"><div style=\"display: table-cell;\"></div><div style=\"display: table-cell;\">max_width&nbsp;=&nbsp;None,</div></div><div class=\"p1052\" style=\"display: none;\"><div style=\"display: table-cell;\"></div><div style=\"display: table-cell;\">min_border&nbsp;=&nbsp;5,</div></div><div class=\"p1052\" style=\"display: none;\"><div style=\"display: table-cell;\"></div><div style=\"display: table-cell;\">min_border_bottom&nbsp;=&nbsp;None,</div></div><div class=\"p1052\" style=\"display: none;\"><div style=\"display: table-cell;\"></div><div style=\"display: table-cell;\">min_border_left&nbsp;=&nbsp;None,</div></div><div class=\"p1052\" style=\"display: none;\"><div style=\"display: table-cell;\"></div><div style=\"display: table-cell;\">min_border_right&nbsp;=&nbsp;None,</div></div><div class=\"p1052\" style=\"display: none;\"><div style=\"display: table-cell;\"></div><div style=\"display: table-cell;\">min_border_top&nbsp;=&nbsp;None,</div></div><div class=\"p1052\" style=\"display: none;\"><div style=\"display: table-cell;\"></div><div style=\"display: table-cell;\">min_height&nbsp;=&nbsp;None,</div></div><div class=\"p1052\" style=\"display: none;\"><div style=\"display: table-cell;\"></div><div style=\"display: table-cell;\">min_width&nbsp;=&nbsp;None,</div></div><div class=\"p1052\" style=\"display: none;\"><div style=\"display: table-cell;\"></div><div style=\"display: table-cell;\">name&nbsp;=&nbsp;None,</div></div><div class=\"p1052\" style=\"display: none;\"><div style=\"display: table-cell;\"></div><div style=\"display: table-cell;\">outline_line_alpha&nbsp;=&nbsp;1.0,</div></div><div class=\"p1052\" style=\"display: none;\"><div style=\"display: table-cell;\"></div><div style=\"display: table-cell;\">outline_line_cap&nbsp;=&nbsp;'butt',</div></div><div class=\"p1052\" style=\"display: none;\"><div style=\"display: table-cell;\"></div><div style=\"display: table-cell;\">outline_line_color&nbsp;=&nbsp;'#e5e5e5',</div></div><div class=\"p1052\" style=\"display: none;\"><div style=\"display: table-cell;\"></div><div style=\"display: table-cell;\">outline_line_dash&nbsp;=&nbsp;[],</div></div><div class=\"p1052\" style=\"display: none;\"><div style=\"display: table-cell;\"></div><div style=\"display: table-cell;\">outline_line_dash_offset&nbsp;=&nbsp;0,</div></div><div class=\"p1052\" style=\"display: none;\"><div style=\"display: table-cell;\"></div><div style=\"display: table-cell;\">outline_line_join&nbsp;=&nbsp;'bevel',</div></div><div class=\"p1052\" style=\"display: none;\"><div style=\"display: table-cell;\"></div><div style=\"display: table-cell;\">outline_line_width&nbsp;=&nbsp;1,</div></div><div class=\"p1052\" style=\"display: none;\"><div style=\"display: table-cell;\"></div><div style=\"display: table-cell;\">output_backend&nbsp;=&nbsp;'canvas',</div></div><div class=\"p1052\" style=\"display: none;\"><div style=\"display: table-cell;\"></div><div style=\"display: table-cell;\">renderers&nbsp;=&nbsp;[GlyphRenderer(id='p1046', ...)],</div></div><div class=\"p1052\" style=\"display: none;\"><div style=\"display: table-cell;\"></div><div style=\"display: table-cell;\">reset_policy&nbsp;=&nbsp;'standard',</div></div><div class=\"p1052\" style=\"display: none;\"><div style=\"display: table-cell;\"></div><div style=\"display: table-cell;\">resizable&nbsp;=&nbsp;False,</div></div><div class=\"p1052\" style=\"display: none;\"><div style=\"display: table-cell;\"></div><div style=\"display: table-cell;\">right&nbsp;=&nbsp;[],</div></div><div class=\"p1052\" style=\"display: none;\"><div style=\"display: table-cell;\"></div><div style=\"display: table-cell;\">sizing_mode&nbsp;=&nbsp;None,</div></div><div class=\"p1052\" style=\"display: none;\"><div style=\"display: table-cell;\"></div><div style=\"display: table-cell;\">styles&nbsp;=&nbsp;{},</div></div><div class=\"p1052\" style=\"display: none;\"><div style=\"display: table-cell;\"></div><div style=\"display: table-cell;\">stylesheets&nbsp;=&nbsp;[],</div></div><div class=\"p1052\" style=\"display: none;\"><div style=\"display: table-cell;\"></div><div style=\"display: table-cell;\">subscribed_events&nbsp;=&nbsp;PropertyValueSet(),</div></div><div class=\"p1052\" style=\"display: none;\"><div style=\"display: table-cell;\"></div><div style=\"display: table-cell;\">syncable&nbsp;=&nbsp;True,</div></div><div class=\"p1052\" style=\"display: none;\"><div style=\"display: table-cell;\"></div><div style=\"display: table-cell;\">tags&nbsp;=&nbsp;[],</div></div><div class=\"p1052\" style=\"display: none;\"><div style=\"display: table-cell;\"></div><div style=\"display: table-cell;\">title&nbsp;=&nbsp;Title(id='p1013', ...),</div></div><div class=\"p1052\" style=\"display: none;\"><div style=\"display: table-cell;\"></div><div style=\"display: table-cell;\">title_location&nbsp;=&nbsp;'above',</div></div><div class=\"p1052\" style=\"display: none;\"><div style=\"display: table-cell;\"></div><div style=\"display: table-cell;\">toolbar&nbsp;=&nbsp;Toolbar(id='p1014', ...),</div></div><div class=\"p1052\" style=\"display: none;\"><div style=\"display: table-cell;\"></div><div style=\"display: table-cell;\">toolbar_inner&nbsp;=&nbsp;False,</div></div><div class=\"p1052\" style=\"display: none;\"><div style=\"display: table-cell;\"></div><div style=\"display: table-cell;\">toolbar_location&nbsp;=&nbsp;'right',</div></div><div class=\"p1052\" style=\"display: none;\"><div style=\"display: table-cell;\"></div><div style=\"display: table-cell;\">toolbar_sticky&nbsp;=&nbsp;True,</div></div><div class=\"p1052\" style=\"display: none;\"><div style=\"display: table-cell;\"></div><div style=\"display: table-cell;\">visible&nbsp;=&nbsp;True,</div></div><div class=\"p1052\" style=\"display: none;\"><div style=\"display: table-cell;\"></div><div style=\"display: table-cell;\">width&nbsp;=&nbsp;600,</div></div><div class=\"p1052\" style=\"display: none;\"><div style=\"display: table-cell;\"></div><div style=\"display: table-cell;\">width_policy&nbsp;=&nbsp;'auto',</div></div><div class=\"p1052\" style=\"display: none;\"><div style=\"display: table-cell;\"></div><div style=\"display: table-cell;\">window_axis&nbsp;=&nbsp;'none',</div></div><div class=\"p1052\" style=\"display: none;\"><div style=\"display: table-cell;\"></div><div style=\"display: table-cell;\">x_range&nbsp;=&nbsp;DataRange1d(id='p1007', ...),</div></div><div class=\"p1052\" style=\"display: none;\"><div style=\"display: table-cell;\"></div><div style=\"display: table-cell;\">x_scale&nbsp;=&nbsp;LinearScale(id='p1015', ...),</div></div><div class=\"p1052\" style=\"display: none;\"><div style=\"display: table-cell;\"></div><div style=\"display: table-cell;\">y_range&nbsp;=&nbsp;DataRange1d(id='p1008', ...),</div></div><div class=\"p1052\" style=\"display: none;\"><div style=\"display: table-cell;\"></div><div style=\"display: table-cell;\">y_scale&nbsp;=&nbsp;LinearScale(id='p1016', ...))</div></div></div>\n",
       "<script>\n",
       "(function() {\n",
       "  let expanded = false;\n",
       "  const ellipsis = document.getElementById(\"p1053\");\n",
       "  ellipsis.addEventListener(\"click\", function() {\n",
       "    const rows = document.getElementsByClassName(\"p1052\");\n",
       "    for (let i = 0; i < rows.length; i++) {\n",
       "      const el = rows[i];\n",
       "      el.style.display = expanded ? \"none\" : \"table-row\";\n",
       "    }\n",
       "    ellipsis.innerHTML = expanded ? \"&hellip;)\" : \"&lsaquo;&lsaquo;&lsaquo;\";\n",
       "    expanded = !expanded;\n",
       "  });\n",
       "})();\n",
       "</script>\n"
      ],
      "text/plain": [
       "figure(id='p1006', ...)"
      ]
     },
     "execution_count": 59,
     "metadata": {},
     "output_type": "execute_result"
    }
   ],
   "source": [
    "embedding = umap.UMAP(n_neighbors=5).fit_transform(word_embeddings)\n",
    "draw_vectors(embedding[:, 0], embedding[:, 1], token=top_words)"
   ]
  },
  {
   "cell_type": "code",
   "execution_count": null,
   "id": "6213c540-be00-4876-b4df-98e9755325e9",
   "metadata": {},
   "outputs": [],
   "source": [
    "# do not change the code in the block below\n",
    "# __________start of block__________\n",
    "import os\n",
    "import json\n",
    "\n",
    "assert os.path.exists(\n",
    "    \"words_subset.txt\"\n",
    "), \"Please, download `words_subset.txt` and place it in the working directory\"\n",
    "\n",
    "with open(\"words_subset.txt\") as iofile:\n",
    "    selected_words = iofile.read().split(\"\\n\")\n",
    "\n",
    "\n",
    "def get_matrix_for_selected_words(selected_words, embedding_matrix, word_to_index):\n",
    "    word_vectors = []\n",
    "    for word in selected_words:\n",
    "        index = word_to_index.get(word, None)\n",
    "        vector = [0.0] * embedding_matrix.shape[1]\n",
    "        if index is not None:\n",
    "            vector = embedding_matrix[index].numpy().tolist()\n",
    "        word_vectors.append(vector)\n",
    "    return word_vectors\n",
    "\n",
    "\n",
    "word_vectors = get_matrix_for_selected_words(\n",
    "    selected_words, embedding_matrix_context, word_to_index\n",
    ")\n",
    "\n",
    "with open(\"submission_dict.json\", \"w\") as iofile:\n",
    "    json.dump(word_vectors, iofile)\n",
    "print(\"File saved to `submission_dict.json`\")\n",
    "# __________end of block__________"
   ]
  }
 ],
 "metadata": {
  "kernelspec": {
   "display_name": "Python 3 (ipykernel)",
   "language": "python",
   "name": "python3"
  },
  "language_info": {
   "codemirror_mode": {
    "name": "ipython",
    "version": 3
   },
   "file_extension": ".py",
   "mimetype": "text/x-python",
   "name": "python",
   "nbconvert_exporter": "python",
   "pygments_lexer": "ipython3",
   "version": "3.12.4"
  }
 },
 "nbformat": 4,
 "nbformat_minor": 5
}
